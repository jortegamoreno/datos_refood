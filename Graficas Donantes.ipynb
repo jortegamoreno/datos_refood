{
 "cells": [
  {
   "cell_type": "code",
   "execution_count": 1,
   "id": "f48b15d7",
   "metadata": {},
   "outputs": [],
   "source": [
    "import pandas as pd\n",
    "import numpy as np\n",
    "import plotly.express as px"
   ]
  },
  {
   "cell_type": "code",
   "execution_count": 2,
   "id": "b7e9719a",
   "metadata": {},
   "outputs": [],
   "source": [
    "%run -i limpieza.py"
   ]
  },
  {
   "cell_type": "code",
   "execution_count": 3,
   "id": "4ae3966e",
   "metadata": {},
   "outputs": [
    {
     "name": "stdout",
     "output_type": "stream",
     "text": [
      "Fechas en el fichero por donantes:\n",
      "                                     first                last\n",
      "Nombres                                                       \n",
      "Bonjour                2020-11-04 18:39:00 2022-02-22 21:27:10\n",
      "CHIPA                  2020-11-30 22:37:13 2021-07-05 21:25:00\n",
      "CM Loyola              2021-02-18 21:47:31 2022-03-03 21:05:00\n",
      "Colegio Mayor Aquinas  2020-11-03 17:27:16 2022-03-07 21:33:00\n",
      "El Cebón               2020-11-10 21:48:13 2022-02-23 21:36:15\n",
      "Eñe + que una letra    2020-11-05 21:33:49 2022-03-08 21:08:00\n",
      "Fruteria El Moreno     2020-11-10 21:54:14 2021-05-12 21:21:02\n",
      "Fruteria Valencia      2020-11-05 21:37:00 2022-03-07 21:03:00\n",
      "Fruterias Andrés       2021-05-21 22:33:51 2022-03-01 21:35:00\n",
      "Fruterias Ignacio      2021-02-03 21:28:29 2022-02-14 21:23:58\n",
      "Frutería Las Gemelas   2020-11-03 17:28:47 2022-03-07 21:33:00\n",
      "Funway Academic Resort 2020-11-03 18:03:22 2021-05-19 20:20:32\n",
      "Hoy es Mañana          2021-11-17 22:11:55 2021-12-09 21:29:00\n",
      "Levaduramadre          2020-11-17 21:56:03 2022-03-07 21:24:00\n",
      "LomiRock               2020-11-12 21:53:50 2020-12-15 21:24:25\n",
      "Otros                  2021-01-26 21:52:29 2021-04-05 20:07:01\n",
      "Pastelería Ludavi      2021-12-16 21:29:47 2022-03-08 21:08:00\n",
      "Q Pastelitos           2020-11-04 18:39:43 2021-06-30 21:29:16\n",
      "Shurma Huerta          2021-05-11 21:33:25 2022-02-16 21:25:50\n",
      "Tercer Tiempo Bar      2020-11-23 20:28:47 2021-06-24 21:15:49\n",
      "Vedruna                2020-11-04 18:30:37 2022-03-07 21:33:00\n",
      "Zara frutas y verdura  2021-03-22 21:53:55 2022-03-01 21:54:00\n"
     ]
    },
    {
     "name": "stderr",
     "output_type": "stream",
     "text": [
      "/home/tresillo/python_workspace/refood/limpieza.py:108: SettingWithCopyWarning: \n",
      "A value is trying to be set on a copy of a slice from a DataFrame.\n",
      "Try using .loc[row_indexer,col_indexer] = value instead\n",
      "\n",
      "See the caveats in the documentation: https://pandas.pydata.org/pandas-docs/stable/user_guide/indexing.html#returning-a-view-versus-a-copy\n",
      "  data[\"Cantidad (un. o kg)\"] = pd.to_numeric(data[\"Cantidad (un. o kg)\"], downcast=\"float\")\n",
      "/home/tresillo/python_workspace/refood/limpieza.py:110: SettingWithCopyWarning: \n",
      "A value is trying to be set on a copy of a slice from a DataFrame.\n",
      "Try using .loc[row_indexer,col_indexer] = value instead\n",
      "\n",
      "See the caveats in the documentation: https://pandas.pydata.org/pandas-docs/stable/user_guide/indexing.html#returning-a-view-versus-a-copy\n",
      "  data['Kilos rescatados'] = np.where(data['Tipo de comida'].str.lower() == 'comida preparada',\n",
      "/home/tresillo/python_workspace/refood/limpieza.py:117: SettingWithCopyWarning: \n",
      "A value is trying to be set on a copy of a slice from a DataFrame.\n",
      "Try using .loc[row_indexer,col_indexer] = value instead\n",
      "\n",
      "See the caveats in the documentation: https://pandas.pydata.org/pandas-docs/stable/user_guide/indexing.html#returning-a-view-versus-a-copy\n",
      "  data['Raciones rescatadas'] = np.where(data['Tipo de comida'].str.lower() == 'comida preparada',\n",
      "/home/tresillo/python_workspace/refood/limpieza.py:127: SettingWithCopyWarning: \n",
      "A value is trying to be set on a copy of a slice from a DataFrame.\n",
      "Try using .loc[row_indexer,col_indexer] = value instead\n",
      "\n",
      "See the caveats in the documentation: https://pandas.pydata.org/pandas-docs/stable/user_guide/indexing.html#returning-a-view-versus-a-copy\n",
      "  data['Nombres'] = data['ID Donantes']\n",
      "/home/tresillo/python_workspace/refood/limpieza.py:129: SettingWithCopyWarning: \n",
      "A value is trying to be set on a copy of a slice from a DataFrame.\n",
      "Try using .loc[row_indexer,col_indexer] = value instead\n",
      "\n",
      "See the caveats in the documentation: https://pandas.pydata.org/pandas-docs/stable/user_guide/indexing.html#returning-a-view-versus-a-copy\n",
      "  data['Nombres'] = data['Nombres'].replace([donante], nombres_donantes[donante])\n"
     ]
    }
   ],
   "source": [
    "df = leer_y_limpiar()"
   ]
  },
  {
   "cell_type": "code",
   "execution_count": 4,
   "id": "16c6f534",
   "metadata": {
    "scrolled": true
   },
   "outputs": [
    {
     "data": {
      "text/html": [
       "<div>\n",
       "<style scoped>\n",
       "    .dataframe tbody tr th:only-of-type {\n",
       "        vertical-align: middle;\n",
       "    }\n",
       "\n",
       "    .dataframe tbody tr th {\n",
       "        vertical-align: top;\n",
       "    }\n",
       "\n",
       "    .dataframe thead th {\n",
       "        text-align: right;\n",
       "    }\n",
       "</style>\n",
       "<table border=\"1\" class=\"dataframe\">\n",
       "  <thead>\n",
       "    <tr style=\"text-align: right;\">\n",
       "      <th></th>\n",
       "      <th>ID Comida</th>\n",
       "      <th>ID  BF</th>\n",
       "      <th>Fecha Hora</th>\n",
       "      <th>ID Donantes</th>\n",
       "      <th>Tipo de comida</th>\n",
       "      <th>Descripción</th>\n",
       "      <th>Cantidad (un. o kg)</th>\n",
       "      <th>Kilos rescatados</th>\n",
       "      <th>Raciones rescatadas</th>\n",
       "      <th>Nombres</th>\n",
       "    </tr>\n",
       "  </thead>\n",
       "  <tbody>\n",
       "    <tr>\n",
       "      <th>1</th>\n",
       "      <td>C2508</td>\n",
       "      <td>B032</td>\n",
       "      <td>2022-03-08 21:08:00</td>\n",
       "      <td>D008</td>\n",
       "      <td>COMIDA PREPARADA</td>\n",
       "      <td>LENTEJAS CON CHORIZO</td>\n",
       "      <td>4.0</td>\n",
       "      <td>0.8</td>\n",
       "      <td>4.0</td>\n",
       "      <td>Eñe + que una letra</td>\n",
       "    </tr>\n",
       "    <tr>\n",
       "      <th>2</th>\n",
       "      <td>C2515</td>\n",
       "      <td>B029</td>\n",
       "      <td>2022-03-08 21:08:00</td>\n",
       "      <td>D026</td>\n",
       "      <td>bolleria</td>\n",
       "      <td>bolleria</td>\n",
       "      <td>4.0</td>\n",
       "      <td>0.0</td>\n",
       "      <td>0.0</td>\n",
       "      <td>Pastelería Ludavi</td>\n",
       "    </tr>\n",
       "    <tr>\n",
       "      <th>3</th>\n",
       "      <td>C2508</td>\n",
       "      <td>B029</td>\n",
       "      <td>2022-03-08 21:08:00</td>\n",
       "      <td>D008</td>\n",
       "      <td>COMIDA PREPARADA</td>\n",
       "      <td>LENTEJAS CON CHORIZO</td>\n",
       "      <td>4.0</td>\n",
       "      <td>0.8</td>\n",
       "      <td>4.0</td>\n",
       "      <td>Eñe + que una letra</td>\n",
       "    </tr>\n",
       "    <tr>\n",
       "      <th>4</th>\n",
       "      <td>C2515</td>\n",
       "      <td>B026</td>\n",
       "      <td>2022-03-08 21:08:00</td>\n",
       "      <td>D026</td>\n",
       "      <td>bolleria</td>\n",
       "      <td>bolleria</td>\n",
       "      <td>5.0</td>\n",
       "      <td>0.0</td>\n",
       "      <td>0.0</td>\n",
       "      <td>Pastelería Ludavi</td>\n",
       "    </tr>\n",
       "    <tr>\n",
       "      <th>5</th>\n",
       "      <td>C2515</td>\n",
       "      <td>B021</td>\n",
       "      <td>2022-03-08 21:07:00</td>\n",
       "      <td>D026</td>\n",
       "      <td>bolleria</td>\n",
       "      <td>bolleria</td>\n",
       "      <td>4.0</td>\n",
       "      <td>0.0</td>\n",
       "      <td>0.0</td>\n",
       "      <td>Pastelería Ludavi</td>\n",
       "    </tr>\n",
       "  </tbody>\n",
       "</table>\n",
       "</div>"
      ],
      "text/plain": [
       "  ID Comida ID  BF          Fecha Hora ID Donantes    Tipo de comida  \\\n",
       "1     C2508   B032 2022-03-08 21:08:00        D008  COMIDA PREPARADA   \n",
       "2     C2515   B029 2022-03-08 21:08:00        D026          bolleria   \n",
       "3     C2508   B029 2022-03-08 21:08:00        D008  COMIDA PREPARADA   \n",
       "4     C2515   B026 2022-03-08 21:08:00        D026          bolleria   \n",
       "5     C2515   B021 2022-03-08 21:07:00        D026          bolleria   \n",
       "\n",
       "            Descripción  Cantidad (un. o kg)  Kilos rescatados  \\\n",
       "1  LENTEJAS CON CHORIZO                  4.0               0.8   \n",
       "2              bolleria                  4.0               0.0   \n",
       "3  LENTEJAS CON CHORIZO                  4.0               0.8   \n",
       "4              bolleria                  5.0               0.0   \n",
       "5              bolleria                  4.0               0.0   \n",
       "\n",
       "   Raciones rescatadas              Nombres  \n",
       "1                  4.0  Eñe + que una letra  \n",
       "2                  0.0    Pastelería Ludavi  \n",
       "3                  4.0  Eñe + que una letra  \n",
       "4                  0.0    Pastelería Ludavi  \n",
       "5                  0.0    Pastelería Ludavi  "
      ]
     },
     "execution_count": 4,
     "metadata": {},
     "output_type": "execute_result"
    }
   ],
   "source": [
    "df.head()"
   ]
  },
  {
   "cell_type": "code",
   "execution_count": 25,
   "id": "7e53f310",
   "metadata": {},
   "outputs": [
    {
     "data": {
      "text/plain": [
       "array(['COMIDA PREPARADA', 'bolleria', 'comida preparada',\n",
       "       'alimentos frescos', 'Comida preparada', 'Pan', 'Comida Preparada',\n",
       "       'Alimentos frescos', 'Alimentos Frescos', 'PAN',\n",
       "       'ALIMENTOS FRESCOS', 'pan', 'OTRO'], dtype=object)"
      ]
     },
     "execution_count": 25,
     "metadata": {},
     "output_type": "execute_result"
    }
   ],
   "source": [
    "df['Tipo de comida'].unique()"
   ]
  },
  {
   "cell_type": "code",
   "execution_count": 5,
   "id": "fcd243ce",
   "metadata": {},
   "outputs": [
    {
     "name": "stderr",
     "output_type": "stream",
     "text": [
      "/tmp/ipykernel_34660/2079431672.py:2: SettingWithCopyWarning: \n",
      "A value is trying to be set on a copy of a slice from a DataFrame.\n",
      "Try using .loc[row_indexer,col_indexer] = value instead\n",
      "\n",
      "See the caveats in the documentation: https://pandas.pydata.org/pandas-docs/stable/user_guide/indexing.html#returning-a-view-versus-a-copy\n",
      "  df2['Dia'] = df2['Fecha Hora'].dt.floor('D')\n",
      "/tmp/ipykernel_34660/2079431672.py:3: SettingWithCopyWarning: \n",
      "A value is trying to be set on a copy of a slice from a DataFrame.\n",
      "Try using .loc[row_indexer,col_indexer] = value instead\n",
      "\n",
      "See the caveats in the documentation: https://pandas.pydata.org/pandas-docs/stable/user_guide/indexing.html#returning-a-view-versus-a-copy\n",
      "  df2['Mes'] = df2['Fecha Hora'].dt.to_period('M')\n"
     ]
    },
    {
     "data": {
      "text/html": [
       "<div>\n",
       "<style scoped>\n",
       "    .dataframe tbody tr th:only-of-type {\n",
       "        vertical-align: middle;\n",
       "    }\n",
       "\n",
       "    .dataframe tbody tr th {\n",
       "        vertical-align: top;\n",
       "    }\n",
       "\n",
       "    .dataframe thead th {\n",
       "        text-align: right;\n",
       "    }\n",
       "</style>\n",
       "<table border=\"1\" class=\"dataframe\">\n",
       "  <thead>\n",
       "    <tr style=\"text-align: right;\">\n",
       "      <th></th>\n",
       "      <th>Fecha Hora</th>\n",
       "      <th>ID Donantes</th>\n",
       "      <th>Raciones rescatadas</th>\n",
       "      <th>Kilos rescatados</th>\n",
       "      <th>Dia</th>\n",
       "      <th>Mes</th>\n",
       "    </tr>\n",
       "  </thead>\n",
       "  <tbody>\n",
       "    <tr>\n",
       "      <th>1</th>\n",
       "      <td>2022-03-08 21:08:00</td>\n",
       "      <td>D008</td>\n",
       "      <td>4.0</td>\n",
       "      <td>0.8</td>\n",
       "      <td>2022-03-08</td>\n",
       "      <td>2022-03</td>\n",
       "    </tr>\n",
       "    <tr>\n",
       "      <th>2</th>\n",
       "      <td>2022-03-08 21:08:00</td>\n",
       "      <td>D026</td>\n",
       "      <td>0.0</td>\n",
       "      <td>0.0</td>\n",
       "      <td>2022-03-08</td>\n",
       "      <td>2022-03</td>\n",
       "    </tr>\n",
       "    <tr>\n",
       "      <th>3</th>\n",
       "      <td>2022-03-08 21:08:00</td>\n",
       "      <td>D008</td>\n",
       "      <td>4.0</td>\n",
       "      <td>0.8</td>\n",
       "      <td>2022-03-08</td>\n",
       "      <td>2022-03</td>\n",
       "    </tr>\n",
       "    <tr>\n",
       "      <th>4</th>\n",
       "      <td>2022-03-08 21:08:00</td>\n",
       "      <td>D026</td>\n",
       "      <td>0.0</td>\n",
       "      <td>0.0</td>\n",
       "      <td>2022-03-08</td>\n",
       "      <td>2022-03</td>\n",
       "    </tr>\n",
       "    <tr>\n",
       "      <th>5</th>\n",
       "      <td>2022-03-08 21:07:00</td>\n",
       "      <td>D026</td>\n",
       "      <td>0.0</td>\n",
       "      <td>0.0</td>\n",
       "      <td>2022-03-08</td>\n",
       "      <td>2022-03</td>\n",
       "    </tr>\n",
       "  </tbody>\n",
       "</table>\n",
       "</div>"
      ],
      "text/plain": [
       "           Fecha Hora ID Donantes  Raciones rescatadas  Kilos rescatados  \\\n",
       "1 2022-03-08 21:08:00        D008                  4.0               0.8   \n",
       "2 2022-03-08 21:08:00        D026                  0.0               0.0   \n",
       "3 2022-03-08 21:08:00        D008                  4.0               0.8   \n",
       "4 2022-03-08 21:08:00        D026                  0.0               0.0   \n",
       "5 2022-03-08 21:07:00        D026                  0.0               0.0   \n",
       "\n",
       "         Dia      Mes  \n",
       "1 2022-03-08  2022-03  \n",
       "2 2022-03-08  2022-03  \n",
       "3 2022-03-08  2022-03  \n",
       "4 2022-03-08  2022-03  \n",
       "5 2022-03-08  2022-03  "
      ]
     },
     "execution_count": 5,
     "metadata": {},
     "output_type": "execute_result"
    }
   ],
   "source": [
    "df2 = df[['Fecha Hora','ID Donantes','Raciones rescatadas','Kilos rescatados']]\n",
    "df2['Dia'] = df2['Fecha Hora'].dt.floor('D')\n",
    "df2['Mes'] = df2['Fecha Hora'].dt.to_period('M')\n",
    "df2.head()\n"
   ]
  },
  {
   "cell_type": "code",
   "execution_count": 6,
   "id": "569b4aef",
   "metadata": {},
   "outputs": [
    {
     "name": "stderr",
     "output_type": "stream",
     "text": [
      "/tmp/ipykernel_34660/3413131377.py:27: SettingWithCopyWarning: \n",
      "A value is trying to be set on a copy of a slice from a DataFrame.\n",
      "Try using .loc[row_indexer,col_indexer] = value instead\n",
      "\n",
      "See the caveats in the documentation: https://pandas.pydata.org/pandas-docs/stable/user_guide/indexing.html#returning-a-view-versus-a-copy\n",
      "  df2['Nombres'] = df2['ID Donantes']\n",
      "/tmp/ipykernel_34660/3413131377.py:29: SettingWithCopyWarning: \n",
      "A value is trying to be set on a copy of a slice from a DataFrame.\n",
      "Try using .loc[row_indexer,col_indexer] = value instead\n",
      "\n",
      "See the caveats in the documentation: https://pandas.pydata.org/pandas-docs/stable/user_guide/indexing.html#returning-a-view-versus-a-copy\n",
      "  df2['Nombres'] = df2['Nombres'].replace([donante],nombres_donantes[donante])\n"
     ]
    }
   ],
   "source": [
    "nombres_donantes = {\n",
    "'D001':'Vedruna',\n",
    "'D002':'Colegio Mayor Aquinas',\n",
    "'D003':'Funway Academic Resort',\n",
    "'D004':'Levaduramadre',\n",
    "'D006':'Fruteria Valencia',\n",
    "'D008':'Eñe + que una letra',\n",
    "'D009':'LomiRock',\n",
    "'D011':'Q Pastelitos',\n",
    "'D012':'Frutería Las Gemelas',\n",
    "'D013':'El Cebón',\n",
    "'D014':'Fruteria El Moreno',\n",
    "'D015':'CHIPA',\n",
    "'D016':'Tercer Tiempo Bar',\n",
    "'D017':'Fruterias Ignacio',\n",
    "'D018':'Bonjour',\n",
    "'D019':'CM Loyola',\n",
    "'D021':'Zara frutas y verdura',\n",
    "'D022':'Casa Ramona',\n",
    "'D023':'Fruterias Andrés',\n",
    "'D024':'Shurma Huerta',\n",
    "'D025':'Hoy es Mañana',\n",
    "'D026':'Pastelería Ludavi',\n",
    "'OTRO':'Otros'\n",
    "}\n",
    "donantes=df['ID Donantes'].unique()\n",
    "df2['Nombres'] = df2['ID Donantes']\n",
    "for donante in donantes:\n",
    "    df2['Nombres'] = df2['Nombres'].replace([donante],nombres_donantes[donante])\n"
   ]
  },
  {
   "cell_type": "markdown",
   "id": "1a55dd60",
   "metadata": {},
   "source": [
    "# Total en Kilos"
   ]
  },
  {
   "cell_type": "code",
   "execution_count": 8,
   "id": "a88aedfb",
   "metadata": {},
   "outputs": [
    {
     "data": {
      "application/vnd.plotly.v1+json": {
       "config": {
        "plotlyServerURL": "https://plot.ly"
       },
       "data": [
        {
         "alignmentgroup": "True",
         "hovertemplate": "Nombres=%{x}<br>Kilos rescatados=%{y}<extra></extra>",
         "legendgroup": "",
         "marker": {
          "color": "#636efa",
          "pattern": {
           "shape": ""
          }
         },
         "name": "",
         "offsetgroup": "",
         "orientation": "v",
         "showlegend": false,
         "textposition": "auto",
         "type": "bar",
         "x": [
          "Eñe + que una letra",
          "Pastelería Ludavi",
          "Eñe + que una letra",
          "Pastelería Ludavi",
          "Pastelería Ludavi",
          "Pastelería Ludavi",
          "Pastelería Ludavi",
          "Pastelería Ludavi",
          "Pastelería Ludavi",
          "Eñe + que una letra",
          "Pastelería Ludavi",
          "Eñe + que una letra",
          "Eñe + que una letra",
          "Eñe + que una letra",
          "Eñe + que una letra",
          "Eñe + que una letra",
          "Eñe + que una letra",
          "Eñe + que una letra",
          "Eñe + que una letra",
          "Eñe + que una letra",
          "Eñe + que una letra",
          "Eñe + que una letra",
          "Eñe + que una letra",
          "Eñe + que una letra",
          "Eñe + que una letra",
          "Eñe + que una letra",
          "Eñe + que una letra",
          "Eñe + que una letra",
          "Eñe + que una letra",
          "Frutería Las Gemelas",
          "Frutería Las Gemelas",
          "Vedruna",
          "Colegio Mayor Aquinas",
          "Frutería Las Gemelas",
          "Levaduramadre",
          "Frutería Las Gemelas",
          "Colegio Mayor Aquinas",
          "Frutería Las Gemelas",
          "Colegio Mayor Aquinas",
          "Vedruna",
          "Levaduramadre",
          "Frutería Las Gemelas",
          "Colegio Mayor Aquinas",
          "Vedruna",
          "Vedruna",
          "Frutería Las Gemelas",
          "Vedruna",
          "Colegio Mayor Aquinas",
          "Colegio Mayor Aquinas",
          "Colegio Mayor Aquinas",
          "Frutería Las Gemelas",
          "Frutería Las Gemelas",
          "Colegio Mayor Aquinas",
          "Colegio Mayor Aquinas",
          "Frutería Las Gemelas",
          "Levaduramadre",
          "Levaduramadre",
          "Frutería Las Gemelas",
          "Colegio Mayor Aquinas",
          "Levaduramadre",
          "Fruteria Valencia",
          "Vedruna",
          "Colegio Mayor Aquinas",
          "Levaduramadre",
          "Frutería Las Gemelas",
          "Vedruna",
          "Frutería Las Gemelas",
          "Colegio Mayor Aquinas",
          "Vedruna",
          "Levaduramadre",
          "Frutería Las Gemelas",
          "Colegio Mayor Aquinas",
          "Frutería Las Gemelas",
          "Frutería Las Gemelas",
          "Frutería Las Gemelas",
          "Frutería Las Gemelas",
          "Frutería Las Gemelas",
          "Frutería Las Gemelas",
          "Frutería Las Gemelas",
          "Frutería Las Gemelas",
          "Frutería Las Gemelas",
          "Frutería Las Gemelas",
          "Frutería Las Gemelas",
          "Frutería Las Gemelas",
          "Levaduramadre",
          "Levaduramadre",
          "Levaduramadre",
          "Levaduramadre",
          "Levaduramadre",
          "Levaduramadre",
          "Levaduramadre",
          "Levaduramadre",
          "Levaduramadre",
          "Levaduramadre",
          "Levaduramadre",
          "Levaduramadre",
          "Eñe + que una letra",
          "CM Loyola",
          "CM Loyola",
          "Colegio Mayor Aquinas",
          "CM Loyola",
          "Vedruna",
          "Colegio Mayor Aquinas",
          "CM Loyola",
          "CM Loyola",
          "CM Loyola",
          "CM Loyola",
          "CM Loyola",
          "CM Loyola",
          "CM Loyola",
          "CM Loyola",
          "Colegio Mayor Aquinas",
          "CM Loyola",
          "CM Loyola",
          "CM Loyola",
          "CM Loyola",
          "Vedruna",
          "Colegio Mayor Aquinas",
          "CM Loyola",
          "Vedruna",
          "Colegio Mayor Aquinas",
          "CM Loyola",
          "CM Loyola",
          "CM Loyola",
          "CM Loyola",
          "CM Loyola",
          "CM Loyola",
          "CM Loyola",
          "CM Loyola",
          "Eñe + que una letra",
          "Frutería Las Gemelas",
          "Frutería Las Gemelas",
          "Frutería Las Gemelas",
          "Frutería Las Gemelas",
          "Frutería Las Gemelas",
          "Frutería Las Gemelas",
          "Frutería Las Gemelas",
          "Frutería Las Gemelas",
          "Frutería Las Gemelas",
          "Frutería Las Gemelas",
          "Frutería Las Gemelas",
          "Frutería Las Gemelas",
          "Frutería Las Gemelas",
          "Frutería Las Gemelas",
          "Levaduramadre",
          "Levaduramadre",
          "Levaduramadre",
          "Levaduramadre",
          "Levaduramadre",
          "Levaduramadre",
          "Levaduramadre",
          "Levaduramadre",
          "Levaduramadre",
          "Levaduramadre",
          "Levaduramadre",
          "Levaduramadre",
          "CM Loyola",
          "CM Loyola",
          "CM Loyola",
          "Colegio Mayor Aquinas",
          "CM Loyola",
          "Colegio Mayor Aquinas",
          "CM Loyola",
          "Vedruna",
          "CM Loyola",
          "CM Loyola",
          "CM Loyola",
          "CM Loyola",
          "Colegio Mayor Aquinas",
          "Colegio Mayor Aquinas",
          "CM Loyola",
          "CM Loyola",
          "Colegio Mayor Aquinas",
          "CM Loyola",
          "Colegio Mayor Aquinas",
          "CM Loyola",
          "Colegio Mayor Aquinas",
          "Colegio Mayor Aquinas",
          "CM Loyola",
          "CM Loyola",
          "CM Loyola",
          "CM Loyola",
          "CM Loyola",
          "CM Loyola",
          "CM Loyola",
          "Zara frutas y verdura",
          "Colegio Mayor Aquinas",
          "CM Loyola",
          "Zara frutas y verdura",
          "Vedruna",
          "CM Loyola",
          "Fruteria Valencia",
          "CM Loyola",
          "CM Loyola",
          "CM Loyola",
          "Fruteria Valencia",
          "CM Loyola",
          "CM Loyola",
          "CM Loyola",
          "Fruteria Valencia",
          "Levaduramadre",
          "CM Loyola",
          "CM Loyola",
          "Zara frutas y verdura",
          "Colegio Mayor Aquinas",
          "Colegio Mayor Aquinas",
          "CM Loyola",
          "Zara frutas y verdura",
          "CM Loyola",
          "Vedruna",
          "Frutería Las Gemelas",
          "Colegio Mayor Aquinas",
          "CM Loyola",
          "Fruterias Andrés",
          "Colegio Mayor Aquinas",
          "Vedruna",
          "Colegio Mayor Aquinas",
          "Fruterias Andrés",
          "Colegio Mayor Aquinas",
          "Colegio Mayor Aquinas",
          "Frutería Las Gemelas",
          "Colegio Mayor Aquinas",
          "Vedruna",
          "CM Loyola",
          "Frutería Las Gemelas",
          "CM Loyola",
          "Colegio Mayor Aquinas",
          "CM Loyola",
          "Fruteria Valencia",
          "CM Loyola",
          "Colegio Mayor Aquinas",
          "Fruteria Valencia",
          "Vedruna",
          "CM Loyola",
          "CM Loyola",
          "Fruteria Valencia",
          "CM Loyola",
          "CM Loyola",
          "Vedruna",
          "Eñe + que una letra",
          "Levaduramadre",
          "Zara frutas y verdura",
          "Levaduramadre",
          "Zara frutas y verdura",
          "Levaduramadre",
          "Zara frutas y verdura",
          "Levaduramadre",
          "Zara frutas y verdura",
          "Levaduramadre",
          "Fruterias Andrés",
          "Levaduramadre",
          "Zara frutas y verdura",
          "Levaduramadre",
          "Zara frutas y verdura",
          "Levaduramadre",
          "Zara frutas y verdura",
          "Levaduramadre",
          "Zara frutas y verdura",
          "Levaduramadre",
          "Fruterias Andrés",
          "Levaduramadre",
          "Zara frutas y verdura",
          "Levaduramadre",
          "Zara frutas y verdura",
          "Levaduramadre",
          "Fruterias Andrés",
          "Levaduramadre",
          "Frutería Las Gemelas",
          "Colegio Mayor Aquinas",
          "Colegio Mayor Aquinas",
          "Colegio Mayor Aquinas",
          "Colegio Mayor Aquinas",
          "Vedruna",
          "Colegio Mayor Aquinas",
          "Colegio Mayor Aquinas",
          "Colegio Mayor Aquinas",
          "Colegio Mayor Aquinas",
          "Colegio Mayor Aquinas",
          "Colegio Mayor Aquinas",
          "Colegio Mayor Aquinas",
          "Vedruna",
          "Colegio Mayor Aquinas",
          "Vedruna",
          "Vedruna",
          "Colegio Mayor Aquinas",
          "Colegio Mayor Aquinas",
          "Vedruna",
          "Vedruna",
          "Colegio Mayor Aquinas",
          "Colegio Mayor Aquinas",
          "Vedruna",
          "Vedruna",
          "Colegio Mayor Aquinas",
          "Colegio Mayor Aquinas",
          "Vedruna",
          "Vedruna",
          "Colegio Mayor Aquinas",
          "Colegio Mayor Aquinas",
          "Vedruna",
          "Vedruna",
          "Colegio Mayor Aquinas",
          "Colegio Mayor Aquinas",
          "Vedruna",
          "Vedruna",
          "Colegio Mayor Aquinas",
          "Colegio Mayor Aquinas",
          "Vedruna",
          "Vedruna",
          "Colegio Mayor Aquinas",
          "Colegio Mayor Aquinas",
          "Vedruna",
          "Vedruna",
          "Colegio Mayor Aquinas",
          "Frutería Las Gemelas",
          "Frutería Las Gemelas",
          "Frutería Las Gemelas",
          "Frutería Las Gemelas",
          "Frutería Las Gemelas",
          "Frutería Las Gemelas",
          "Frutería Las Gemelas",
          "Frutería Las Gemelas",
          "Frutería Las Gemelas",
          "Frutería Las Gemelas",
          "Frutería Las Gemelas",
          "Levaduramadre",
          "Levaduramadre",
          "Levaduramadre",
          "Levaduramadre",
          "Levaduramadre",
          "Levaduramadre",
          "Levaduramadre",
          "Levaduramadre",
          "Levaduramadre",
          "Levaduramadre",
          "Levaduramadre",
          "CM Loyola",
          "Colegio Mayor Aquinas",
          "Vedruna",
          "Vedruna",
          "Eñe + que una letra",
          "CM Loyola",
          "Colegio Mayor Aquinas",
          "Colegio Mayor Aquinas",
          "Colegio Mayor Aquinas",
          "CM Loyola",
          "CM Loyola",
          "CM Loyola",
          "CM Loyola",
          "CM Loyola",
          "CM Loyola",
          "CM Loyola",
          "CM Loyola",
          "Vedruna",
          "Vedruna",
          "CM Loyola",
          "Vedruna",
          "Vedruna",
          "CM Loyola",
          "CM Loyola",
          "Vedruna",
          "CM Loyola",
          "Colegio Mayor Aquinas",
          "CM Loyola",
          "Vedruna",
          "CM Loyola",
          "Eñe + que una letra",
          "CM Loyola",
          "Vedruna",
          "CM Loyola",
          "Eñe + que una letra",
          "Frutería Las Gemelas",
          "Frutería Las Gemelas",
          "Frutería Las Gemelas",
          "Frutería Las Gemelas",
          "Frutería Las Gemelas",
          "Frutería Las Gemelas",
          "Frutería Las Gemelas",
          "Frutería Las Gemelas",
          "Frutería Las Gemelas",
          "Frutería Las Gemelas",
          "Frutería Las Gemelas",
          "Frutería Las Gemelas",
          "Frutería Las Gemelas",
          "Eñe + que una letra",
          "Colegio Mayor Aquinas",
          "Colegio Mayor Aquinas",
          "Colegio Mayor Aquinas",
          "El Cebón",
          "Colegio Mayor Aquinas",
          "Eñe + que una letra",
          "Colegio Mayor Aquinas",
          "Eñe + que una letra",
          "Frutería Las Gemelas",
          "CM Loyola",
          "CM Loyola",
          "Eñe + que una letra",
          "Colegio Mayor Aquinas",
          "Colegio Mayor Aquinas",
          "Eñe + que una letra",
          "Colegio Mayor Aquinas",
          "Colegio Mayor Aquinas",
          "Eñe + que una letra",
          "Colegio Mayor Aquinas",
          "Eñe + que una letra",
          "Levaduramadre",
          "Eñe + que una letra",
          "Colegio Mayor Aquinas",
          "Frutería Las Gemelas",
          "Frutería Las Gemelas",
          "Frutería Las Gemelas",
          "Frutería Las Gemelas",
          "Frutería Las Gemelas",
          "Frutería Las Gemelas",
          "Frutería Las Gemelas",
          "Frutería Las Gemelas",
          "CM Loyola",
          "CM Loyola",
          "CM Loyola",
          "Frutería Las Gemelas",
          "Frutería Las Gemelas",
          "Frutería Las Gemelas",
          "Frutería Las Gemelas",
          "Levaduramadre",
          "Vedruna",
          "CM Loyola",
          "CM Loyola",
          "Colegio Mayor Aquinas",
          "CM Loyola",
          "Eñe + que una letra",
          "Levaduramadre",
          "CM Loyola",
          "Colegio Mayor Aquinas",
          "Levaduramadre",
          "CM Loyola",
          "CM Loyola",
          "CM Loyola",
          "CM Loyola",
          "Levaduramadre",
          "El Cebón",
          "Colegio Mayor Aquinas",
          "Vedruna",
          "Eñe + que una letra",
          "Bonjour",
          "Colegio Mayor Aquinas",
          "CM Loyola",
          "CM Loyola",
          "Vedruna",
          "Bonjour",
          "Eñe + que una letra",
          "CM Loyola",
          "Colegio Mayor Aquinas",
          "CM Loyola",
          "Bonjour",
          "Bonjour",
          "CM Loyola",
          "CM Loyola",
          "CM Loyola",
          "Colegio Mayor Aquinas",
          "Levaduramadre",
          "CM Loyola",
          "CM Loyola",
          "Colegio Mayor Aquinas",
          "Frutería Las Gemelas",
          "Levaduramadre",
          "CM Loyola",
          "Colegio Mayor Aquinas",
          "Colegio Mayor Aquinas",
          "CM Loyola",
          "Colegio Mayor Aquinas",
          "CM Loyola",
          "CM Loyola",
          "Levaduramadre",
          "Bonjour",
          "CM Loyola",
          "Colegio Mayor Aquinas",
          "CM Loyola",
          "Vedruna",
          "Bonjour",
          "CM Loyola",
          "Colegio Mayor Aquinas",
          "Colegio Mayor Aquinas",
          "Bonjour",
          "Colegio Mayor Aquinas",
          "Bonjour",
          "CM Loyola",
          "Vedruna",
          "CM Loyola",
          "Bonjour",
          "CM Loyola",
          "Colegio Mayor Aquinas",
          "CM Loyola",
          "CM Loyola",
          "Bonjour",
          "Colegio Mayor Aquinas",
          "Colegio Mayor Aquinas",
          "Frutería Las Gemelas",
          "Colegio Mayor Aquinas",
          "Frutería Las Gemelas",
          "Colegio Mayor Aquinas",
          "Colegio Mayor Aquinas",
          "Frutería Las Gemelas",
          "Colegio Mayor Aquinas",
          "Vedruna",
          "Frutería Las Gemelas",
          "Colegio Mayor Aquinas",
          "Colegio Mayor Aquinas",
          "Frutería Las Gemelas",
          "Colegio Mayor Aquinas",
          "Colegio Mayor Aquinas",
          "Frutería Las Gemelas",
          "Colegio Mayor Aquinas",
          "Colegio Mayor Aquinas",
          "Colegio Mayor Aquinas",
          "Frutería Las Gemelas",
          "Colegio Mayor Aquinas",
          "Frutería Las Gemelas",
          "Vedruna",
          "Colegio Mayor Aquinas",
          "Colegio Mayor Aquinas",
          "Colegio Mayor Aquinas",
          "Frutería Las Gemelas",
          "Frutería Las Gemelas",
          "Colegio Mayor Aquinas",
          "Frutería Las Gemelas",
          "Colegio Mayor Aquinas",
          "Colegio Mayor Aquinas",
          "Frutería Las Gemelas",
          "Colegio Mayor Aquinas",
          "Colegio Mayor Aquinas",
          "Frutería Las Gemelas",
          "Colegio Mayor Aquinas",
          "Colegio Mayor Aquinas",
          "Colegio Mayor Aquinas",
          "Frutería Las Gemelas",
          "Frutería Las Gemelas",
          "Frutería Las Gemelas",
          "Frutería Las Gemelas",
          "Frutería Las Gemelas",
          "Frutería Las Gemelas",
          "Frutería Las Gemelas",
          "Frutería Las Gemelas",
          "Frutería Las Gemelas",
          "Frutería Las Gemelas",
          "Frutería Las Gemelas",
          "Frutería Las Gemelas",
          "Frutería Las Gemelas",
          "Frutería Las Gemelas",
          "Frutería Las Gemelas",
          "Colegio Mayor Aquinas",
          "CM Loyola",
          "CM Loyola",
          "Colegio Mayor Aquinas",
          "Colegio Mayor Aquinas",
          "Colegio Mayor Aquinas",
          "Colegio Mayor Aquinas",
          "CM Loyola",
          "Colegio Mayor Aquinas",
          "Colegio Mayor Aquinas",
          "Colegio Mayor Aquinas",
          "Colegio Mayor Aquinas",
          "Colegio Mayor Aquinas",
          "Colegio Mayor Aquinas",
          "Colegio Mayor Aquinas",
          "Colegio Mayor Aquinas",
          "Colegio Mayor Aquinas",
          "Colegio Mayor Aquinas",
          "CM Loyola",
          "CM Loyola",
          "Colegio Mayor Aquinas",
          "Eñe + que una letra",
          "Bonjour",
          "Colegio Mayor Aquinas",
          "Colegio Mayor Aquinas",
          "Colegio Mayor Aquinas",
          "Colegio Mayor Aquinas",
          "Colegio Mayor Aquinas",
          "Colegio Mayor Aquinas",
          "Colegio Mayor Aquinas",
          "Bonjour",
          "Bonjour",
          "Bonjour",
          "Bonjour",
          "Bonjour",
          "Bonjour",
          "Bonjour",
          "Bonjour",
          "Bonjour",
          "Bonjour",
          "Bonjour",
          "Levaduramadre",
          "Levaduramadre",
          "Frutería Las Gemelas",
          "Frutería Las Gemelas",
          "Frutería Las Gemelas",
          "Frutería Las Gemelas",
          "Shurma Huerta",
          "Shurma Huerta",
          "Shurma Huerta",
          "Shurma Huerta",
          "Shurma Huerta",
          "Shurma Huerta",
          "Shurma Huerta",
          "Shurma Huerta",
          "Shurma Huerta",
          "Colegio Mayor Aquinas",
          "Colegio Mayor Aquinas",
          "Colegio Mayor Aquinas",
          "CM Loyola",
          "CM Loyola",
          "CM Loyola",
          "CM Loyola",
          "CM Loyola",
          "Vedruna",
          "Vedruna",
          "Vedruna",
          "Vedruna",
          "Vedruna",
          "CM Loyola",
          "CM Loyola",
          "CM Loyola",
          "CM Loyola",
          "Colegio Mayor Aquinas",
          "Colegio Mayor Aquinas",
          "Colegio Mayor Aquinas",
          "Colegio Mayor Aquinas",
          "CM Loyola",
          "CM Loyola",
          "CM Loyola",
          "CM Loyola",
          "CM Loyola",
          "CM Loyola",
          "CM Loyola",
          "CM Loyola",
          "CM Loyola",
          "CM Loyola",
          "Pastelería Ludavi",
          "Pastelería Ludavi",
          "Pastelería Ludavi",
          "Pastelería Ludavi",
          "Pastelería Ludavi",
          "Pastelería Ludavi",
          "Pastelería Ludavi",
          "Pastelería Ludavi",
          "Pastelería Ludavi",
          "Pastelería Ludavi",
          "Pastelería Ludavi",
          "Pastelería Ludavi",
          "Pastelería Ludavi",
          "Pastelería Ludavi",
          "Pastelería Ludavi",
          "Pastelería Ludavi",
          "Pastelería Ludavi",
          "Frutería Las Gemelas",
          "Frutería Las Gemelas",
          "Frutería Las Gemelas",
          "Frutería Las Gemelas",
          "Frutería Las Gemelas",
          "Frutería Las Gemelas",
          "Frutería Las Gemelas",
          "Frutería Las Gemelas",
          "Frutería Las Gemelas",
          "Frutería Las Gemelas",
          "Frutería Las Gemelas",
          "Frutería Las Gemelas",
          "Frutería Las Gemelas",
          "Frutería Las Gemelas",
          "Frutería Las Gemelas",
          "Vedruna",
          "CM Loyola",
          "CM Loyola",
          "Colegio Mayor Aquinas",
          "Colegio Mayor Aquinas",
          "CM Loyola",
          "Colegio Mayor Aquinas",
          "CM Loyola",
          "Colegio Mayor Aquinas",
          "CM Loyola",
          "CM Loyola",
          "CM Loyola",
          "CM Loyola",
          "Colegio Mayor Aquinas",
          "CM Loyola",
          "CM Loyola",
          "CM Loyola",
          "CM Loyola",
          "CM Loyola",
          "Colegio Mayor Aquinas",
          "CM Loyola",
          "Vedruna",
          "Colegio Mayor Aquinas",
          "Eñe + que una letra",
          "Vedruna",
          "CM Loyola",
          "Colegio Mayor Aquinas",
          "CM Loyola",
          "CM Loyola",
          "Colegio Mayor Aquinas",
          "CM Loyola",
          "Vedruna",
          "CM Loyola",
          "Colegio Mayor Aquinas",
          "CM Loyola",
          "Fruteria Valencia",
          "Levaduramadre",
          "Vedruna",
          "Levaduramadre",
          "Zara frutas y verdura",
          "Fruteria Valencia",
          "Levaduramadre",
          "Fruteria Valencia",
          "Fruteria Valencia",
          "Frutería Las Gemelas",
          "Frutería Las Gemelas",
          "Levaduramadre",
          "Zara frutas y verdura",
          "Levaduramadre",
          "Zara frutas y verdura",
          "Zara frutas y verdura",
          "Bonjour",
          "Levaduramadre",
          "Zara frutas y verdura",
          "Fruterias Ignacio",
          "Levaduramadre",
          "Fruterias Ignacio",
          "Levaduramadre",
          "Fruteria Valencia",
          "Levaduramadre",
          "Fruterias Ignacio",
          "Frutería Las Gemelas",
          "Levaduramadre",
          "Levaduramadre",
          "Fruterias Ignacio",
          "Levaduramadre",
          "Fruteria Valencia",
          "Zara frutas y verdura",
          "Levaduramadre",
          "Vedruna",
          "Vedruna",
          "Vedruna",
          "Vedruna",
          "Vedruna",
          "Vedruna",
          "Vedruna",
          "Vedruna",
          "Colegio Mayor Aquinas",
          "Colegio Mayor Aquinas",
          "Zara frutas y verdura",
          "Zara frutas y verdura",
          "Fruteria Valencia",
          "Fruteria Valencia",
          "Fruteria Valencia",
          "Fruteria Valencia",
          "Fruteria Valencia",
          "Fruteria Valencia",
          "Fruteria Valencia",
          "Fruteria Valencia",
          "Fruteria Valencia",
          "Fruteria Valencia",
          "Fruteria Valencia",
          "Fruteria Valencia",
          "Fruteria Valencia",
          "Fruteria Valencia",
          "Levaduramadre",
          "Levaduramadre",
          "Levaduramadre",
          "Levaduramadre",
          "Levaduramadre",
          "Levaduramadre",
          "Levaduramadre",
          "Levaduramadre",
          "Levaduramadre",
          "Levaduramadre",
          "Bonjour",
          "Bonjour",
          "Bonjour",
          "Bonjour",
          "Bonjour",
          "Eñe + que una letra",
          "Colegio Mayor Aquinas",
          "Colegio Mayor Aquinas",
          "Colegio Mayor Aquinas",
          "Colegio Mayor Aquinas",
          "Colegio Mayor Aquinas",
          "Colegio Mayor Aquinas",
          "Colegio Mayor Aquinas",
          "Colegio Mayor Aquinas",
          "Colegio Mayor Aquinas",
          "Colegio Mayor Aquinas",
          "Colegio Mayor Aquinas",
          "Colegio Mayor Aquinas",
          "Colegio Mayor Aquinas",
          "Colegio Mayor Aquinas",
          "Colegio Mayor Aquinas",
          "Vedruna",
          "Colegio Mayor Aquinas",
          "Colegio Mayor Aquinas",
          "Colegio Mayor Aquinas",
          "Colegio Mayor Aquinas",
          "Colegio Mayor Aquinas",
          "Vedruna",
          "Colegio Mayor Aquinas",
          "Colegio Mayor Aquinas",
          "Colegio Mayor Aquinas",
          "Shurma Huerta",
          "Vedruna",
          "El Cebón",
          "Eñe + que una letra",
          "El Cebón",
          "Vedruna",
          "Eñe + que una letra",
          "Eñe + que una letra",
          "Colegio Mayor Aquinas",
          "Colegio Mayor Aquinas",
          "Colegio Mayor Aquinas",
          "Levaduramadre",
          "Levaduramadre",
          "Levaduramadre",
          "Levaduramadre",
          "Levaduramadre",
          "Levaduramadre",
          "Levaduramadre",
          "Levaduramadre",
          "Levaduramadre",
          "Zara frutas y verdura",
          "Bonjour",
          "Vedruna",
          "CM Loyola",
          "Levaduramadre",
          "Colegio Mayor Aquinas",
          "Levaduramadre",
          "Colegio Mayor Aquinas",
          "Colegio Mayor Aquinas",
          "Vedruna",
          "Levaduramadre",
          "Levaduramadre",
          "Levaduramadre",
          "Colegio Mayor Aquinas",
          "Bonjour",
          "Shurma Huerta",
          "Eñe + que una letra",
          "CM Loyola",
          "CM Loyola",
          "Bonjour",
          "Bonjour",
          "Bonjour",
          "Bonjour",
          "Bonjour",
          "Bonjour",
          "Zara frutas y verdura",
          "Bonjour",
          "CM Loyola",
          "CM Loyola",
          "CM Loyola",
          "Bonjour",
          "Fruteria Valencia",
          "CM Loyola",
          "CM Loyola",
          "Frutería Las Gemelas",
          "Fruteria Valencia",
          "CM Loyola",
          "CM Loyola",
          "Bonjour",
          "Shurma Huerta",
          "CM Loyola",
          "CM Loyola",
          "Bonjour",
          "Shurma Huerta",
          "Colegio Mayor Aquinas",
          "CM Loyola",
          "Levaduramadre",
          "Frutería Las Gemelas",
          "CM Loyola",
          "CM Loyola",
          "Colegio Mayor Aquinas",
          "Shurma Huerta",
          "El Cebón",
          "Vedruna",
          "Colegio Mayor Aquinas",
          "Fruteria Valencia",
          "CM Loyola",
          "CM Loyola",
          "Shurma Huerta",
          "CM Loyola",
          "Colegio Mayor Aquinas",
          "Shurma Huerta",
          "CM Loyola",
          "CM Loyola",
          "Vedruna",
          "Frutería Las Gemelas",
          "CM Loyola",
          "Colegio Mayor Aquinas",
          "Shurma Huerta",
          "CM Loyola",
          "CM Loyola",
          "Colegio Mayor Aquinas",
          "Shurma Huerta",
          "CM Loyola",
          "CM Loyola",
          "Fruteria Valencia",
          "Fruteria Valencia",
          "Fruteria Valencia",
          "Colegio Mayor Aquinas",
          "Colegio Mayor Aquinas",
          "Frutería Las Gemelas",
          "Colegio Mayor Aquinas",
          "Colegio Mayor Aquinas",
          "Colegio Mayor Aquinas",
          "Colegio Mayor Aquinas",
          "Colegio Mayor Aquinas",
          "Colegio Mayor Aquinas",
          "Colegio Mayor Aquinas",
          "Colegio Mayor Aquinas",
          "Colegio Mayor Aquinas",
          "Colegio Mayor Aquinas",
          "Colegio Mayor Aquinas",
          "Colegio Mayor Aquinas",
          "Colegio Mayor Aquinas",
          "Colegio Mayor Aquinas",
          "Colegio Mayor Aquinas",
          "Colegio Mayor Aquinas",
          "Colegio Mayor Aquinas",
          "Colegio Mayor Aquinas",
          "Colegio Mayor Aquinas",
          "Levaduramadre",
          "Levaduramadre",
          "Levaduramadre",
          "Zara frutas y verdura",
          "Frutería Las Gemelas",
          "Frutería Las Gemelas",
          "Frutería Las Gemelas",
          "Zara frutas y verdura",
          "Zara frutas y verdura",
          "Fruterias Andrés",
          "Fruterias Andrés",
          "Fruterias Andrés",
          "Fruterias Andrés",
          "Vedruna",
          "Eñe + que una letra",
          "Eñe + que una letra",
          "Zara frutas y verdura",
          "Zara frutas y verdura",
          "Fruterias Andrés",
          "Fruterias Andrés",
          "Vedruna",
          "CM Loyola",
          "Colegio Mayor Aquinas",
          "CM Loyola",
          "Colegio Mayor Aquinas",
          "Colegio Mayor Aquinas",
          "CM Loyola",
          "Colegio Mayor Aquinas",
          "Vedruna",
          "CM Loyola",
          "Colegio Mayor Aquinas",
          "Colegio Mayor Aquinas",
          "Colegio Mayor Aquinas",
          "Colegio Mayor Aquinas",
          "Colegio Mayor Aquinas",
          "Colegio Mayor Aquinas",
          "CM Loyola",
          "Colegio Mayor Aquinas",
          "CM Loyola",
          "Colegio Mayor Aquinas",
          "Colegio Mayor Aquinas",
          "Levaduramadre",
          "Levaduramadre",
          "Levaduramadre",
          "Levaduramadre",
          "Levaduramadre",
          "Levaduramadre",
          "Levaduramadre",
          "Frutería Las Gemelas",
          "Frutería Las Gemelas",
          "Frutería Las Gemelas",
          "Frutería Las Gemelas",
          "Frutería Las Gemelas",
          "Frutería Las Gemelas",
          "Frutería Las Gemelas",
          "Frutería Las Gemelas",
          "Frutería Las Gemelas",
          "Frutería Las Gemelas",
          "Frutería Las Gemelas",
          "Fruterias Ignacio",
          "Fruterias Ignacio",
          "Fruterias Ignacio",
          "Fruterias Ignacio",
          "Fruterias Ignacio",
          "Levaduramadre",
          "Levaduramadre",
          "Levaduramadre",
          "Levaduramadre",
          "Colegio Mayor Aquinas",
          "Colegio Mayor Aquinas",
          "Vedruna",
          "Pastelería Ludavi",
          "Fruteria Valencia",
          "CM Loyola",
          "Vedruna",
          "Frutería Las Gemelas",
          "Pastelería Ludavi",
          "CM Loyola",
          "Vedruna",
          "Fruteria Valencia",
          "Pastelería Ludavi",
          "Colegio Mayor Aquinas",
          "Vedruna",
          "CM Loyola",
          "Frutería Las Gemelas",
          "Pastelería Ludavi",
          "Vedruna",
          "Colegio Mayor Aquinas",
          "Colegio Mayor Aquinas",
          "Colegio Mayor Aquinas",
          "Frutería Las Gemelas",
          "Pastelería Ludavi",
          "Colegio Mayor Aquinas",
          "Colegio Mayor Aquinas",
          "Pastelería Ludavi",
          "Frutería Las Gemelas",
          "El Cebón",
          "Colegio Mayor Aquinas",
          "Vedruna",
          "Colegio Mayor Aquinas",
          "Fruteria Valencia",
          "Fruteria Valencia",
          "Pastelería Ludavi",
          "Vedruna",
          "Vedruna",
          "Fruteria Valencia",
          "Pastelería Ludavi",
          "Colegio Mayor Aquinas",
          "Colegio Mayor Aquinas",
          "CM Loyola",
          "Pastelería Ludavi",
          "Pastelería Ludavi",
          "Vedruna",
          "Colegio Mayor Aquinas",
          "Colegio Mayor Aquinas",
          "CM Loyola",
          "Fruteria Valencia",
          "Pastelería Ludavi",
          "Colegio Mayor Aquinas",
          "Colegio Mayor Aquinas",
          "Vedruna",
          "CM Loyola",
          "Pastelería Ludavi",
          "Pastelería Ludavi",
          "Colegio Mayor Aquinas",
          "Vedruna",
          "Fruteria Valencia",
          "Pastelería Ludavi",
          "Colegio Mayor Aquinas",
          "Colegio Mayor Aquinas",
          "Vedruna",
          "Vedruna",
          "Pastelería Ludavi",
          "Pastelería Ludavi",
          "Colegio Mayor Aquinas",
          "Vedruna",
          "Colegio Mayor Aquinas",
          "Vedruna",
          "Frutería Las Gemelas",
          "Pastelería Ludavi",
          "Vedruna",
          "Vedruna",
          "Vedruna",
          "Pastelería Ludavi",
          "Fruteria Valencia",
          "Vedruna",
          "Colegio Mayor Aquinas",
          "Colegio Mayor Aquinas",
          "CM Loyola",
          "CM Loyola",
          "CM Loyola",
          "CM Loyola",
          "CM Loyola",
          "CM Loyola",
          "CM Loyola",
          "CM Loyola",
          "CM Loyola",
          "CM Loyola",
          "Levaduramadre",
          "Levaduramadre",
          "Levaduramadre",
          "Bonjour",
          "Colegio Mayor Aquinas",
          "Colegio Mayor Aquinas",
          "Bonjour",
          "Colegio Mayor Aquinas",
          "Colegio Mayor Aquinas",
          "Levaduramadre",
          "Eñe + que una letra",
          "Vedruna",
          "Levaduramadre",
          "Colegio Mayor Aquinas",
          "Vedruna",
          "Colegio Mayor Aquinas",
          "Levaduramadre",
          "Vedruna",
          "Levaduramadre",
          "Levaduramadre",
          "Colegio Mayor Aquinas",
          "CM Loyola",
          "Levaduramadre",
          "Colegio Mayor Aquinas",
          "Colegio Mayor Aquinas",
          "Bonjour",
          "CM Loyola",
          "CM Loyola",
          "Levaduramadre",
          "Colegio Mayor Aquinas",
          "Colegio Mayor Aquinas",
          "Bonjour",
          "CM Loyola",
          "Colegio Mayor Aquinas",
          "Levaduramadre",
          "CM Loyola",
          "Bonjour",
          "CM Loyola",
          "Bonjour",
          "CM Loyola",
          "Colegio Mayor Aquinas",
          "Bonjour",
          "Vedruna",
          "Colegio Mayor Aquinas",
          "Levaduramadre",
          "Vedruna",
          "CM Loyola",
          "Levaduramadre",
          "Eñe + que una letra",
          "Vedruna",
          "Colegio Mayor Aquinas",
          "CM Loyola",
          "CM Loyola",
          "Eñe + que una letra",
          "Vedruna",
          "Vedruna",
          "Vedruna",
          "Colegio Mayor Aquinas",
          "Colegio Mayor Aquinas",
          "Colegio Mayor Aquinas",
          "Colegio Mayor Aquinas",
          "Eñe + que una letra",
          "Vedruna",
          "Vedruna",
          "CM Loyola",
          "CM Loyola",
          "CM Loyola",
          "CM Loyola",
          "CM Loyola",
          "CM Loyola",
          "CM Loyola",
          "CM Loyola",
          "Colegio Mayor Aquinas",
          "Colegio Mayor Aquinas",
          "Colegio Mayor Aquinas",
          "Colegio Mayor Aquinas",
          "Colegio Mayor Aquinas",
          "Colegio Mayor Aquinas",
          "Colegio Mayor Aquinas",
          "Colegio Mayor Aquinas",
          "Colegio Mayor Aquinas",
          "Colegio Mayor Aquinas",
          "Colegio Mayor Aquinas",
          "Colegio Mayor Aquinas",
          "Colegio Mayor Aquinas",
          "Colegio Mayor Aquinas",
          "Colegio Mayor Aquinas",
          "Colegio Mayor Aquinas",
          "Colegio Mayor Aquinas",
          "Colegio Mayor Aquinas",
          "Colegio Mayor Aquinas",
          "Colegio Mayor Aquinas",
          "Colegio Mayor Aquinas",
          "Colegio Mayor Aquinas",
          "Colegio Mayor Aquinas",
          "Fruteria Valencia",
          "Colegio Mayor Aquinas",
          "Frutería Las Gemelas",
          "Colegio Mayor Aquinas",
          "Vedruna",
          "Colegio Mayor Aquinas",
          "Frutería Las Gemelas",
          "Colegio Mayor Aquinas",
          "Colegio Mayor Aquinas",
          "Fruteria Valencia",
          "Vedruna",
          "Colegio Mayor Aquinas",
          "Fruteria Valencia",
          "Colegio Mayor Aquinas",
          "Frutería Las Gemelas",
          "Colegio Mayor Aquinas",
          "Colegio Mayor Aquinas",
          "Vedruna",
          "Colegio Mayor Aquinas",
          "Fruteria Valencia",
          "Fruteria Valencia",
          "Colegio Mayor Aquinas",
          "Fruteria Valencia",
          "Colegio Mayor Aquinas",
          "CM Loyola",
          "Fruteria Valencia",
          "Colegio Mayor Aquinas",
          "Fruteria Valencia",
          "Vedruna",
          "Fruteria Valencia",
          "Colegio Mayor Aquinas",
          "Frutería Las Gemelas",
          "Colegio Mayor Aquinas",
          "Frutería Las Gemelas",
          "Colegio Mayor Aquinas",
          "Fruteria Valencia",
          "Colegio Mayor Aquinas",
          "Vedruna",
          "CM Loyola",
          "Vedruna",
          "Vedruna",
          "CM Loyola",
          "CM Loyola",
          "Colegio Mayor Aquinas",
          "Colegio Mayor Aquinas",
          "Colegio Mayor Aquinas",
          "Colegio Mayor Aquinas",
          "CM Loyola",
          "Colegio Mayor Aquinas",
          "CM Loyola",
          "CM Loyola",
          "CM Loyola",
          "Colegio Mayor Aquinas",
          "CM Loyola",
          "CM Loyola",
          "CM Loyola",
          "CM Loyola",
          "CM Loyola",
          "Colegio Mayor Aquinas",
          "CM Loyola",
          "CM Loyola",
          "CM Loyola",
          "CM Loyola",
          "Vedruna",
          "Vedruna",
          "CM Loyola",
          "CM Loyola",
          "Vedruna",
          "Eñe + que una letra",
          "Vedruna",
          "Vedruna",
          "Colegio Mayor Aquinas",
          "Vedruna",
          "Vedruna",
          "Vedruna",
          "Vedruna",
          "Vedruna",
          "Colegio Mayor Aquinas",
          "Colegio Mayor Aquinas",
          "Colegio Mayor Aquinas",
          "CM Loyola",
          "CM Loyola",
          "CM Loyola",
          "CM Loyola",
          "CM Loyola",
          "Colegio Mayor Aquinas",
          "Colegio Mayor Aquinas",
          "Colegio Mayor Aquinas",
          "Colegio Mayor Aquinas",
          "Colegio Mayor Aquinas",
          "Colegio Mayor Aquinas",
          "Colegio Mayor Aquinas",
          "Colegio Mayor Aquinas",
          "Colegio Mayor Aquinas",
          "Colegio Mayor Aquinas",
          "Colegio Mayor Aquinas",
          "CM Loyola",
          "CM Loyola",
          "CM Loyola",
          "CM Loyola",
          "CM Loyola",
          "CM Loyola",
          "CM Loyola",
          "CM Loyola",
          "CM Loyola",
          "CM Loyola",
          "CM Loyola",
          "CM Loyola",
          "CM Loyola",
          "CM Loyola",
          "CM Loyola",
          "CM Loyola",
          "CM Loyola",
          "CM Loyola",
          "CM Loyola",
          "CM Loyola",
          "CM Loyola",
          "CM Loyola",
          "CM Loyola",
          "CM Loyola",
          "CM Loyola",
          "CM Loyola",
          "CM Loyola",
          "Vedruna",
          "Vedruna",
          "Vedruna",
          "Vedruna",
          "CM Loyola",
          "Colegio Mayor Aquinas",
          "CM Loyola",
          "Colegio Mayor Aquinas",
          "CM Loyola",
          "CM Loyola",
          "CM Loyola",
          "CM Loyola",
          "CM Loyola",
          "Vedruna",
          "CM Loyola",
          "CM Loyola",
          "CM Loyola",
          "CM Loyola",
          "Vedruna",
          "CM Loyola",
          "CM Loyola",
          "CM Loyola",
          "CM Loyola",
          "Colegio Mayor Aquinas",
          "CM Loyola",
          "Colegio Mayor Aquinas",
          "CM Loyola",
          "CM Loyola",
          "CM Loyola",
          "Colegio Mayor Aquinas",
          "CM Loyola",
          "CM Loyola",
          "CM Loyola",
          "CM Loyola",
          "CM Loyola",
          "Colegio Mayor Aquinas",
          "Colegio Mayor Aquinas",
          "CM Loyola",
          "Colegio Mayor Aquinas",
          "CM Loyola",
          "Colegio Mayor Aquinas",
          "CM Loyola",
          "Colegio Mayor Aquinas",
          "Colegio Mayor Aquinas",
          "CM Loyola",
          "CM Loyola",
          "Colegio Mayor Aquinas",
          "CM Loyola",
          "CM Loyola",
          "Colegio Mayor Aquinas",
          "CM Loyola",
          "CM Loyola",
          "Fruteria Valencia",
          "Bonjour",
          "Bonjour",
          "Fruteria Valencia",
          "Fruteria Valencia",
          "Bonjour",
          "Bonjour",
          "Fruteria Valencia",
          "Fruteria Valencia",
          "Bonjour",
          "Bonjour",
          "Fruteria Valencia",
          "Fruteria Valencia",
          "Bonjour",
          "Bonjour",
          "Fruteria Valencia",
          "Fruteria Valencia",
          "Bonjour",
          "Bonjour",
          "Fruteria Valencia",
          "Fruteria Valencia",
          "Bonjour",
          "Bonjour",
          "Fruteria Valencia",
          "Fruteria Valencia",
          "Bonjour",
          "Bonjour",
          "Fruteria Valencia",
          "Fruteria Valencia",
          "Levaduramadre",
          "Colegio Mayor Aquinas",
          "Colegio Mayor Aquinas",
          "Colegio Mayor Aquinas",
          "Colegio Mayor Aquinas",
          "Colegio Mayor Aquinas",
          "Colegio Mayor Aquinas",
          "Colegio Mayor Aquinas",
          "Colegio Mayor Aquinas",
          "Colegio Mayor Aquinas",
          "Colegio Mayor Aquinas",
          "Colegio Mayor Aquinas",
          "CM Loyola",
          "CM Loyola",
          "CM Loyola",
          "CM Loyola",
          "CM Loyola",
          "CM Loyola",
          "CM Loyola",
          "CM Loyola",
          "CM Loyola",
          "CM Loyola",
          "CM Loyola",
          "CM Loyola",
          "CM Loyola",
          "CM Loyola",
          "CM Loyola",
          "CM Loyola",
          "CM Loyola",
          "CM Loyola",
          "CM Loyola",
          "CM Loyola",
          "Vedruna",
          "Vedruna",
          "Vedruna",
          "CM Loyola",
          "CM Loyola",
          "CM Loyola",
          "CM Loyola",
          "CM Loyola",
          "CM Loyola",
          "CM Loyola",
          "CM Loyola",
          "CM Loyola",
          "CM Loyola",
          "Frutería Las Gemelas",
          "Frutería Las Gemelas",
          "Frutería Las Gemelas",
          "Frutería Las Gemelas",
          "Colegio Mayor Aquinas",
          "Colegio Mayor Aquinas",
          "Colegio Mayor Aquinas",
          "Vedruna",
          "Colegio Mayor Aquinas",
          "Colegio Mayor Aquinas",
          "Colegio Mayor Aquinas",
          "Colegio Mayor Aquinas",
          "Colegio Mayor Aquinas",
          "Colegio Mayor Aquinas",
          "Vedruna",
          "Colegio Mayor Aquinas",
          "Colegio Mayor Aquinas",
          "Colegio Mayor Aquinas",
          "Colegio Mayor Aquinas",
          "Colegio Mayor Aquinas",
          "Vedruna",
          "Vedruna",
          "Colegio Mayor Aquinas",
          "Colegio Mayor Aquinas",
          "Colegio Mayor Aquinas",
          "Colegio Mayor Aquinas",
          "Vedruna",
          "CM Loyola",
          "Zara frutas y verdura",
          "Zara frutas y verdura",
          "Zara frutas y verdura",
          "Zara frutas y verdura",
          "Zara frutas y verdura",
          "Zara frutas y verdura",
          "Zara frutas y verdura",
          "Zara frutas y verdura",
          "Zara frutas y verdura",
          "Zara frutas y verdura",
          "Zara frutas y verdura",
          "Zara frutas y verdura",
          "Zara frutas y verdura",
          "Zara frutas y verdura",
          "Zara frutas y verdura",
          "Vedruna",
          "CM Loyola",
          "CM Loyola",
          "Eñe + que una letra",
          "CM Loyola",
          "Vedruna",
          "CM Loyola",
          "CM Loyola",
          "CM Loyola",
          "Vedruna",
          "CM Loyola",
          "Vedruna",
          "CM Loyola",
          "CM Loyola",
          "Vedruna",
          "CM Loyola"
         ],
         "xaxis": "x",
         "y": [
          0.800000011920929,
          0,
          0.800000011920929,
          0,
          0,
          1,
          0,
          0,
          0,
          1,
          1,
          0.800000011920929,
          0.6000000238418579,
          0.800000011920929,
          0.800000011920929,
          0.4000000059604645,
          0.4000000059604645,
          0.800000011920929,
          0.800000011920929,
          0.4000000059604645,
          0.800000011920929,
          0.4000000059604645,
          0.4000000059604645,
          0.800000011920929,
          1,
          0.4000000059604645,
          0.20000000298023224,
          0.20000000298023224,
          0.800000011920929,
          1.5,
          3,
          0.4000000059604645,
          0.4000000059604645,
          1.5,
          0.20000000298023224,
          4.5,
          0.6000000238418579,
          4.5,
          0.6000000238418579,
          0.6000000238418579,
          0.20000000298023224,
          3,
          0.6000000238418579,
          0.6000000238418579,
          0.6000000238418579,
          3,
          0.4000000059604645,
          0.4000000059604645,
          0.4000000059604645,
          0.4000000059604645,
          1.5,
          3,
          0.4000000059604645,
          0.4000000059604645,
          3,
          0.20000000298023224,
          0.20000000298023224,
          4.5,
          0.6000000238418579,
          0.20000000298023224,
          3,
          0.6000000238418579,
          0.6000000238418579,
          0.20000000298023224,
          3,
          0.4000000059604645,
          3,
          0.6000000238418579,
          0.6000000238418579,
          0.20000000298023224,
          4.5,
          0.6000000238418579,
          1.5,
          1.5,
          1.5,
          1.5,
          1.5,
          1.5,
          1.5,
          1.5,
          1.5,
          1.5,
          1.5,
          1.5,
          0.20000000298023224,
          0.20000000298023224,
          0.20000000298023224,
          0.20000000298023224,
          0.20000000298023224,
          0.20000000298023224,
          0.20000000298023224,
          0.20000000298023224,
          0.20000000298023224,
          0.20000000298023224,
          0.20000000298023224,
          0.20000000298023224,
          0.6000000238418579,
          0.6000000238418579,
          0.6000000238418579,
          0.6000000238418579,
          0.6000000238418579,
          0.6000000238418579,
          0.4000000059604645,
          0.6000000238418579,
          0.6000000238418579,
          0.6000000238418579,
          1,
          1,
          1,
          0.6000000238418579,
          0.6000000238418579,
          0.6000000238418579,
          1,
          1,
          1,
          0.800000011920929,
          0.6000000238418579,
          0.6000000238418579,
          0.800000011920929,
          0.6000000238418579,
          1,
          1,
          1,
          1,
          1,
          1,
          1,
          1,
          1,
          0.4000000059604645,
          1.5,
          1.5,
          1.5,
          1.5,
          1.5,
          1.5,
          1.5,
          1.5,
          1.5,
          1.5,
          1.5,
          1.5,
          1.5,
          1.5,
          0.20000000298023224,
          0.20000000298023224,
          0.20000000298023224,
          0.20000000298023224,
          0.20000000298023224,
          0.20000000298023224,
          0.20000000298023224,
          0.20000000298023224,
          0.20000000298023224,
          0.20000000298023224,
          0.20000000298023224,
          0.20000000298023224,
          0.800000011920929,
          0.800000011920929,
          0.20000000298023224,
          0.20000000298023224,
          0.6000000238418579,
          0.6000000238418579,
          0.6000000238418579,
          1.8000000715255737,
          1.8000000715255737,
          0.6000000238418579,
          0.6000000238418579,
          1,
          1,
          0.800000011920929,
          0.800000011920929,
          0.800000011920929,
          0.800000011920929,
          1,
          1,
          0.4000000059604645,
          0.4000000059604645,
          0.800000011920929,
          0.800000011920929,
          0.6000000238418579,
          1,
          1,
          0.6000000238418579,
          1,
          1,
          1.5,
          0.800000011920929,
          0.4000000059604645,
          1.5,
          0.4000000059604645,
          0.6000000238418579,
          1.5,
          0.20000000298023224,
          0.20000000298023224,
          0.4000000059604645,
          1.5,
          0.20000000298023224,
          0.4000000059604645,
          0.4000000059604645,
          1.5,
          0.20000000298023224,
          0.4000000059604645,
          0.4000000059604645,
          1.5,
          0.4000000059604645,
          0.4000000059604645,
          0.20000000298023224,
          1.5,
          0.4000000059604645,
          0.4000000059604645,
          1.5,
          0.20000000298023224,
          0.4000000059604645,
          1.5,
          0.20000000298023224,
          0.20000000298023224,
          0.20000000298023224,
          1.5,
          0.20000000298023224,
          0.20000000298023224,
          1.5,
          0.20000000298023224,
          0.4000000059604645,
          0.4000000059604645,
          1.5,
          0.800000011920929,
          0.6000000238418579,
          0.800000011920929,
          1.5,
          0.20000000298023224,
          0.20000000298023224,
          1.5,
          0.20000000298023224,
          0.4000000059604645,
          0.20000000298023224,
          3,
          0.4000000059604645,
          0.4000000059604645,
          0.4000000059604645,
          0.4000000059604645,
          0.800000011920929,
          6,
          0.20000000298023224,
          1.5,
          0.6000000238418579,
          4.5,
          1.399999976158142,
          10.5,
          0.6000000238418579,
          4.5,
          1.2000000476837158,
          9,
          0.800000011920929,
          6,
          0.800000011920929,
          6,
          1,
          7.5,
          0.4000000059604645,
          3,
          0.800000011920929,
          6,
          0.6000000238418579,
          4.5,
          1,
          7.5,
          1,
          7.5,
          0.800000011920929,
          0.800000011920929,
          0.20000000298023224,
          0.20000000298023224,
          0.6000000238418579,
          0.6000000238418579,
          0.6000000238418579,
          1.399999976158142,
          1.399999976158142,
          0.6000000238418579,
          0.6000000238418579,
          1.2000000476837158,
          1.2000000476837158,
          1.2000000476837158,
          0.800000011920929,
          0.800000011920929,
          0.800000011920929,
          0.800000011920929,
          0.800000011920929,
          0.800000011920929,
          0.800000011920929,
          1,
          1,
          1,
          1,
          0.4000000059604645,
          0.4000000059604645,
          0.4000000059604645,
          0.4000000059604645,
          0.800000011920929,
          0.800000011920929,
          0.800000011920929,
          0.800000011920929,
          0.6000000238418579,
          0.6000000238418579,
          0.6000000238418579,
          0.6000000238418579,
          1,
          1,
          1,
          1,
          1,
          1,
          1,
          1,
          1.5,
          1.5,
          1.5,
          1.5,
          1.5,
          1.5,
          1.5,
          1.5,
          1.5,
          1.5,
          1.5,
          0.20000000298023224,
          0.20000000298023224,
          0.20000000298023224,
          0.20000000298023224,
          0.20000000298023224,
          0.20000000298023224,
          0.20000000298023224,
          0.20000000298023224,
          0.20000000298023224,
          0.20000000298023224,
          0.20000000298023224,
          0.20000000298023224,
          1.8000000715255737,
          0.6000000238418579,
          1.2000000476837158,
          1.2000000476837158,
          0.4000000059604645,
          0.800000011920929,
          0.6000000238418579,
          1.2000000476837158,
          0.20000000298023224,
          1.8000000715255737,
          0.6000000238418579,
          1.600000023841858,
          0.800000011920929,
          1.8000000715255737,
          1.2000000476837158,
          0.800000011920929,
          0.800000011920929,
          0.800000011920929,
          0.800000011920929,
          0.800000011920929,
          0.800000011920929,
          0.800000011920929,
          0.800000011920929,
          0.800000011920929,
          0.800000011920929,
          1,
          1,
          1,
          1,
          1,
          1,
          1,
          1,
          1,
          1.5,
          1.5,
          1.5,
          1.5,
          1.5,
          1.5,
          1.5,
          1.5,
          1.5,
          1.5,
          1.5,
          1.5,
          1.5,
          0.6000000238418579,
          0.800000011920929,
          0.20000000298023224,
          0.6000000238418579,
          0.800000011920929,
          1.399999976158142,
          0.6000000238418579,
          0.6000000238418579,
          1,
          3,
          0.800000011920929,
          0.6000000238418579,
          1,
          0.800000011920929,
          1,
          0.6000000238418579,
          0.4000000059604645,
          0.800000011920929,
          0.6000000238418579,
          1,
          1.2000000476837158,
          0.4000000059604645,
          0.6000000238418579,
          1,
          6,
          1.5,
          4.5,
          10.5,
          4.5,
          6,
          6,
          6,
          1,
          0.4000000059604645,
          0.800000011920929,
          7.5,
          7.5,
          4.5,
          7.5,
          0.800000011920929,
          0.800000011920929,
          0.800000011920929,
          0.800000011920929,
          0.800000011920929,
          0.4000000059604645,
          0.20000000298023224,
          0.20000000298023224,
          0.20000000298023224,
          0.20000000298023224,
          0.20000000298023224,
          0.20000000298023224,
          0.20000000298023224,
          1.2000000476837158,
          0.6000000238418579,
          1.399999976158142,
          1.399999976158142,
          1.399999976158142,
          1.399999976158142,
          1.8000000715255737,
          0.6000000238418579,
          0.6000000238418579,
          0.6000000238418579,
          0.6000000238418579,
          0.6000000238418579,
          1.2000000476837158,
          1.2000000476837158,
          1.2000000476837158,
          1.2000000476837158,
          1.2000000476837158,
          0.800000011920929,
          0.800000011920929,
          0.800000011920929,
          0.800000011920929,
          0.800000011920929,
          0.800000011920929,
          0.800000011920929,
          0.800000011920929,
          0.800000011920929,
          0.800000011920929,
          7.5,
          1,
          1,
          1,
          1,
          0.4000000059604645,
          0.4000000059604645,
          0.4000000059604645,
          0.4000000059604645,
          0.4000000059604645,
          0.800000011920929,
          0.800000011920929,
          0.800000011920929,
          0.800000011920929,
          0.800000011920929,
          1,
          0.6000000238418579,
          0.6000000238418579,
          0.6000000238418579,
          0.6000000238418579,
          0.6000000238418579,
          0.6000000238418579,
          0.6000000238418579,
          0.6000000238418579,
          0.6000000238418579,
          1,
          1,
          1,
          1,
          1,
          0.20000000298023224,
          0.20000000298023224,
          0.20000000298023224,
          1.5,
          0.20000000298023224,
          1.5,
          0.20000000298023224,
          0.20000000298023224,
          1.5,
          0.4000000059604645,
          0.800000011920929,
          1.5,
          0.20000000298023224,
          0.6000000238418579,
          1.5,
          0.4000000059604645,
          1,
          1.5,
          0.4000000059604645,
          0.6000000238418579,
          0.6000000238418579,
          1.5,
          0.800000011920929,
          1.5,
          0.20000000298023224,
          0.6000000238418579,
          0.6000000238418579,
          0.20000000298023224,
          1.5,
          1.5,
          0.6000000238418579,
          1.5,
          0.6000000238418579,
          0.6000000238418579,
          1.5,
          0.6000000238418579,
          0.6000000238418579,
          1.5,
          0.20000000298023224,
          0.4000000059604645,
          0.20000000298023224,
          7.5,
          7.5,
          7.5,
          7.5,
          7.5,
          7.5,
          7.5,
          7.5,
          7.5,
          7.5,
          7.5,
          7.5,
          7.5,
          7.5,
          7.5,
          7.5,
          1,
          1,
          1,
          1,
          1,
          7.5,
          1,
          7.5,
          1,
          1,
          1,
          1,
          1,
          1,
          1,
          7.5,
          7.5,
          0.6000000238418579,
          0.6000000238418579,
          4.5,
          0.6000000238418579,
          0.20000000298023224,
          0.6000000238418579,
          0.6000000238418579,
          0.6000000238418579,
          0.6000000238418579,
          0.6000000238418579,
          1,
          1,
          0.6000000238418579,
          0.6000000238418579,
          0.6000000238418579,
          0.6000000238418579,
          0.6000000238418579,
          0.6000000238418579,
          0.6000000238418579,
          0.6000000238418579,
          0.6000000238418579,
          0.6000000238418579,
          0.6000000238418579,
          0.6000000238418579,
          0.6000000238418579,
          1.5,
          1.5,
          1.5,
          1.5,
          1.5,
          1.5,
          1.5,
          1.5,
          1.5,
          1.5,
          1.5,
          1.5,
          1.5,
          0.6000000238418579,
          0.6000000238418579,
          0.6000000238418579,
          0.800000011920929,
          0.800000011920929,
          0.800000011920929,
          1,
          1,
          1,
          0.800000011920929,
          1,
          0.6000000238418579,
          0.6000000238418579,
          0.6000000238418579,
          0.800000011920929,
          0.800000011920929,
          0.6000000238418579,
          0.6000000238418579,
          1,
          1,
          1,
          0.20000000298023224,
          0.800000011920929,
          0.800000011920929,
          0.6000000238418579,
          1.2000000476837158,
          1,
          0.4000000059604645,
          0.6000000238418579,
          1,
          0.4000000059604645,
          0,
          0,
          0,
          0,
          0,
          0,
          0,
          0,
          0,
          0,
          0,
          0,
          0,
          0,
          0,
          0,
          0,
          1.5,
          1.5,
          1.5,
          1.5,
          1.5,
          1.5,
          1.5,
          1.5,
          1.5,
          1.5,
          1.5,
          1.5,
          1.5,
          1.5,
          1.5,
          0.800000011920929,
          0.800000011920929,
          0.4000000059604645,
          1,
          0.20000000298023224,
          0.20000000298023224,
          0.6000000238418579,
          0.6000000238418579,
          0.800000011920929,
          0.800000011920929,
          1,
          0.6000000238418579,
          0.6000000238418579,
          1,
          1,
          0.800000011920929,
          1.2000000476837158,
          0.800000011920929,
          0.4000000059604645,
          0.800000011920929,
          0.4000000059604645,
          1,
          1,
          0.6000000238418579,
          0.6000000238418579,
          0.6000000238418579,
          0.6000000238418579,
          0.6000000238418579,
          0.6000000238418579,
          0.800000011920929,
          0.800000011920929,
          1,
          1,
          1,
          1,
          6,
          0.800000011920929,
          0.800000011920929,
          0.800000011920929,
          6,
          4.5,
          0.6000000238418579,
          4.5,
          4.5,
          4.5,
          10.5,
          0.4000000059604645,
          4.5,
          0.4000000059604645,
          6,
          3,
          0,
          0.6000000238418579,
          4.5,
          3,
          0.4000000059604645,
          6,
          1,
          7.5,
          0.4000000059604645,
          6,
          6,
          0.800000011920929,
          0.6000000238418579,
          4.5,
          1,
          7.5,
          4.5,
          0.6000000238418579,
          0.4000000059604645,
          0.4000000059604645,
          1.2000000476837158,
          0.800000011920929,
          0.6000000238418579,
          0.800000011920929,
          0.6000000238418579,
          0.800000011920929,
          1,
          1.2000000476837158,
          1.5,
          1.5,
          1.5,
          1.5,
          1.5,
          1.5,
          1.5,
          1.5,
          1.5,
          1.5,
          1.5,
          1.5,
          1.5,
          1.5,
          1.5,
          1.5,
          0.20000000298023224,
          0.20000000298023224,
          0.20000000298023224,
          0.20000000298023224,
          0.20000000298023224,
          0.20000000298023224,
          0.20000000298023224,
          0.20000000298023224,
          0.20000000298023224,
          0.20000000298023224,
          0.20000000298023224,
          0.20000000298023224,
          0.20000000298023224,
          0.20000000298023224,
          0.20000000298023224,
          1,
          1,
          1,
          1,
          0.20000000298023224,
          0.6000000238418579,
          1.399999976158142,
          0.6000000238418579,
          0.6000000238418579,
          0.800000011920929,
          1,
          0.800000011920929,
          0.4000000059604645,
          0.800000011920929,
          0.4000000059604645,
          0.4000000059604645,
          0.800000011920929,
          0.4000000059604645,
          0.4000000059604645,
          0.800000011920929,
          0.800000011920929,
          0.6000000238418579,
          0.6000000238418579,
          0.6000000238418579,
          0.6000000238418579,
          0.800000011920929,
          0.20000000298023224,
          0.800000011920929,
          0.4000000059604645,
          0.800000011920929,
          0.4000000059604645,
          0.6000000238418579,
          0.6000000238418579,
          1.399999976158142,
          0.6000000238418579,
          1.399999976158142,
          1,
          0.20000000298023224,
          0.20000000298023224,
          0.20000000298023224,
          0.20000000298023224,
          0.20000000298023224,
          0.20000000298023224,
          0.20000000298023224,
          0.20000000298023224,
          0.20000000298023224,
          0.800000011920929,
          0.20000000298023224,
          1,
          1,
          0.20000000298023224,
          0.6000000238418579,
          0.4000000059604645,
          1.2000000476837158,
          1.399999976158142,
          0.6000000238418579,
          0.4000000059604645,
          0.4000000059604645,
          0.4000000059604645,
          1,
          1,
          7.5,
          1,
          1,
          1,
          1,
          0.6000000238418579,
          1.8000000715255737,
          0.6000000238418579,
          0.20000000298023224,
          1,
          9,
          1.2000000476837158,
          1.2000000476837158,
          1.2000000476837158,
          1.2000000476837158,
          0.800000011920929,
          6,
          0.800000011920929,
          0.800000011920929,
          6,
          6,
          0.800000011920929,
          0.800000011920929,
          0.800000011920929,
          6,
          0.800000011920929,
          0.800000011920929,
          0.4000000059604645,
          3,
          0.4000000059604645,
          0.4000000059604645,
          0.800000011920929,
          6,
          0.800000011920929,
          0.800000011920929,
          0.800000011920929,
          4.5,
          0.6000000238418579,
          0.6000000238418579,
          0.6000000238418579,
          7.5,
          1,
          1,
          4.5,
          0.6000000238418579,
          0.6000000238418579,
          13.5,
          1.8000000715255737,
          1.8000000715255737,
          1.8000000715255737,
          4.5,
          0.6000000238418579,
          0.6000000238418579,
          1.5,
          0.20000000298023224,
          0.20000000298023224,
          0.20000000298023224,
          7.5,
          1,
          1,
          1.5,
          3,
          3,
          0.4000000059604645,
          0.800000011920929,
          1.5,
          0.4000000059604645,
          0.800000011920929,
          0.20000000298023224,
          0.20000000298023224,
          0.20000000298023224,
          0.20000000298023224,
          0.20000000298023224,
          0.20000000298023224,
          0.20000000298023224,
          0.20000000298023224,
          0.20000000298023224,
          0.20000000298023224,
          0.20000000298023224,
          0.20000000298023224,
          0.20000000298023224,
          0.20000000298023224,
          0.4000000059604645,
          0.4000000059604645,
          0.6000000238418579,
          1.399999976158142,
          1.399999976158142,
          1,
          10.5,
          1.5,
          4.5,
          10.5,
          4.5,
          9,
          6,
          6,
          6,
          7.5,
          3,
          1,
          1,
          6,
          6,
          6,
          6,
          1.399999976158142,
          0.4000000059604645,
          0.4000000059604645,
          1.399999976158142,
          0.800000011920929,
          0.6000000238418579,
          1,
          0.6000000238418579,
          7.5,
          0.800000011920929,
          0.6000000238418579,
          0.6000000238418579,
          1,
          0.4000000059604645,
          0.4000000059604645,
          1,
          0.6000000238418579,
          1,
          0.6000000238418579,
          1.2000000476837158,
          1.2000000476837158,
          0.20000000298023224,
          0.20000000298023224,
          0.20000000298023224,
          0.20000000298023224,
          0.20000000298023224,
          0.20000000298023224,
          0.20000000298023224,
          1.5,
          1.5,
          1.5,
          1.5,
          1.5,
          1.5,
          1.5,
          1.5,
          1.5,
          1.5,
          1.5,
          1.5,
          1.5,
          1.5,
          1.5,
          1.5,
          0.20000000298023224,
          0.20000000298023224,
          0.20000000298023224,
          0.20000000298023224,
          1,
          1,
          1,
          0.4000000059604645,
          3,
          0.4000000059604645,
          0.4000000059604645,
          1.5,
          0.20000000298023224,
          0.4000000059604645,
          0.4000000059604645,
          4.5,
          0.6000000238418579,
          0.6000000238418579,
          0.6000000238418579,
          0.6000000238418579,
          9,
          1.2000000476837158,
          0.6000000238418579,
          0.6000000238418579,
          1,
          0.6000000238418579,
          4.5,
          0.6000000238418579,
          0.6000000238418579,
          0.6000000238418579,
          1,
          7.5,
          0.4000000059604645,
          0.4000000059604645,
          0.4000000059604645,
          0.800000011920929,
          6,
          6,
          0.800000011920929,
          0.800000011920929,
          0.6000000238418579,
          4.5,
          0.6000000238418579,
          0.6000000238418579,
          0.4000000059604645,
          0.800000011920929,
          0.800000011920929,
          0.800000011920929,
          0.800000011920929,
          0.800000011920929,
          0.800000011920929,
          0.800000011920929,
          6,
          0.800000011920929,
          0.800000011920929,
          0.4000000059604645,
          0.4000000059604645,
          1,
          0.4000000059604645,
          0.4000000059604645,
          0.4000000059604645,
          0.800000011920929,
          6,
          0.800000011920929,
          0.800000011920929,
          0.800000011920929,
          0.800000011920929,
          0.800000011920929,
          1,
          1,
          0.4000000059604645,
          0.4000000059604645,
          1,
          1,
          4.5,
          0.6000000238418579,
          0.6000000238418579,
          0.6000000238418579,
          0.6000000238418579,
          1,
          7.5,
          1,
          1,
          1,
          1,
          1,
          1.2000000476837158,
          1,
          1.2000000476837158,
          1,
          1,
          1,
          1.2000000476837158,
          0.800000011920929,
          0,
          0,
          0,
          0.20000000298023224,
          0.800000011920929,
          0.4000000059604645,
          0.4000000059604645,
          1.2000000476837158,
          1.2000000476837158,
          0.20000000298023224,
          0.4000000059604645,
          0.6000000238418579,
          0.20000000298023224,
          0.6000000238418579,
          0.6000000238418579,
          0.6000000238418579,
          0.4000000059604645,
          0.800000011920929,
          0.20000000298023224,
          0.20000000298023224,
          0.6000000238418579,
          0.6000000238418579,
          0.4000000059604645,
          1,
          1,
          0.20000000298023224,
          0.4000000059604645,
          0.800000011920929,
          0.20000000298023224,
          0.800000011920929,
          0.800000011920929,
          0.20000000298023224,
          1,
          1,
          0.20000000298023224,
          0.6000000238418579,
          0.4000000059604645,
          0.800000011920929,
          0.20000000298023224,
          0.800000011920929,
          0.6000000238418579,
          0.4000000059604645,
          0.6000000238418579,
          1,
          0.20000000298023224,
          1.2000000476837158,
          0.4000000059604645,
          0.4000000059604645,
          0.4000000059604645,
          0.6000000238418579,
          1,
          1.2000000476837158,
          0.6000000238418579,
          1.399999976158142,
          0.20000000298023224,
          0.6000000238418579,
          0.6000000238418579,
          0.20000000298023224,
          1.399999976158142,
          1.2000000476837158,
          0.800000011920929,
          1,
          0.800000011920929,
          0.6000000238418579,
          0.4000000059604645,
          1,
          0.4000000059604645,
          0.800000011920929,
          0.6000000238418579,
          0.6000000238418579,
          1,
          1,
          0.6000000238418579,
          0.6000000238418579,
          1.2000000476837158,
          0.800000011920929,
          1,
          1,
          1,
          1.2000000476837158,
          1.2000000476837158,
          0.800000011920929,
          0.6000000238418579,
          0.6000000238418579,
          0.6000000238418579,
          0.4000000059604645,
          0.800000011920929,
          0.6000000238418579,
          0.800000011920929,
          0.6000000238418579,
          1,
          1,
          0.6000000238418579,
          0.6000000238418579,
          0.6000000238418579,
          7.5,
          1,
          7.5,
          1,
          0.6000000238418579,
          1,
          7.5,
          0.800000011920929,
          0.6000000238418579,
          7.5,
          0.6000000238418579,
          1,
          7.5,
          1,
          7.5,
          1,
          1,
          0.6000000238418579,
          1,
          7.5,
          7.5,
          1,
          7.5,
          0.6000000238418579,
          0.6000000238418579,
          9,
          1,
          7.5,
          0.6000000238418579,
          7.5,
          0.6000000238418579,
          7.5,
          1,
          7.5,
          1,
          7.5,
          1,
          0.6000000238418579,
          1,
          1.399999976158142,
          0.4000000059604645,
          0.4000000059604645,
          1,
          0.4000000059604645,
          1,
          1,
          1,
          0.4000000059604645,
          1,
          1,
          0.800000011920929,
          1,
          1.399999976158142,
          1.399999976158142,
          0.20000000298023224,
          0.6000000238418579,
          0.6000000238418579,
          1.2000000476837158,
          1.2000000476837158,
          0.800000011920929,
          1,
          0.4000000059604645,
          0.4000000059604645,
          0.800000011920929,
          0.6000000238418579,
          0.6000000238418579,
          1,
          1,
          1,
          1,
          1,
          1,
          1,
          1,
          1,
          1,
          1,
          0.6000000238418579,
          0.6000000238418579,
          0.6000000238418579,
          0.6000000238418579,
          1,
          0.6000000238418579,
          1,
          1,
          0.6000000238418579,
          0.6000000238418579,
          0.6000000238418579,
          1,
          0.6000000238418579,
          1,
          0.6000000238418579,
          0.6000000238418579,
          1,
          0.6000000238418579,
          1,
          0.6000000238418579,
          1,
          0.6000000238418579,
          1,
          0.6000000238418579,
          1,
          0.6000000238418579,
          0.6000000238418579,
          0.6000000238418579,
          0.4000000059604645,
          0.6000000238418579,
          0.6000000238418579,
          1,
          0.6000000238418579,
          1,
          1,
          0.4000000059604645,
          1,
          0.6000000238418579,
          0.6000000238418579,
          0.6000000238418579,
          0.6000000238418579,
          0.6000000238418579,
          1,
          0.6000000238418579,
          0.6000000238418579,
          1,
          1,
          1,
          0.6000000238418579,
          1,
          0.4000000059604645,
          0.20000000298023224,
          0.4000000059604645,
          1.2000000476837158,
          0.800000011920929,
          0.6000000238418579,
          1.2000000476837158,
          1.2000000476837158,
          1.399999976158142,
          1.399999976158142,
          0.6000000238418579,
          0.6000000238418579,
          0.4000000059604645,
          1.2000000476837158,
          0.800000011920929,
          0.800000011920929,
          0.800000011920929,
          0.800000011920929,
          0.800000011920929,
          0.800000011920929,
          0.800000011920929,
          0.6000000238418579,
          0.800000011920929,
          0.800000011920929,
          0.800000011920929,
          0.6000000238418579,
          0.800000011920929,
          1,
          0.800000011920929,
          0.800000011920929,
          0.800000011920929,
          0.800000011920929,
          0.800000011920929,
          0.4000000059604645,
          0.800000011920929,
          1,
          0.800000011920929,
          0.4000000059604645,
          0.800000011920929,
          0.800000011920929,
          0.800000011920929,
          0.800000011920929,
          0.800000011920929,
          0.800000011920929,
          1,
          0.800000011920929,
          0.6000000238418579,
          1.2000000476837158,
          1.5,
          0,
          0,
          1.5,
          1.5,
          0,
          0,
          1.5,
          1.5,
          0,
          0,
          1.5,
          1.5,
          0,
          0,
          1.5,
          1.5,
          0,
          0,
          1.5,
          1.5,
          0,
          0,
          1.5,
          1.5,
          0,
          0,
          1.5,
          1.5,
          0,
          0.20000000298023224,
          0.6000000238418579,
          0.6000000238418579,
          0.6000000238418579,
          0.6000000238418579,
          1,
          1,
          1,
          1,
          1,
          0.20000000298023224,
          1,
          1,
          1,
          1,
          1,
          1,
          1,
          1,
          1,
          0.6000000238418579,
          0.6000000238418579,
          0.6000000238418579,
          0.6000000238418579,
          0.6000000238418579,
          0.6000000238418579,
          0.6000000238418579,
          0.6000000238418579,
          0.6000000238418579,
          0.6000000238418579,
          0.6000000238418579,
          0.6000000238418579,
          0.6000000238418579,
          0.6000000238418579,
          0.4000000059604645,
          1,
          1,
          1,
          1,
          1,
          1,
          1,
          1,
          1,
          4.5,
          7.5,
          4.5,
          7.5,
          0.800000011920929,
          0.6000000238418579,
          1,
          0.800000011920929,
          0.800000011920929,
          0.800000011920929,
          0.800000011920929,
          0.800000011920929,
          1,
          0.800000011920929,
          1,
          0.800000011920929,
          0.6000000238418579,
          0.800000011920929,
          1,
          1,
          1,
          0.6000000238418579,
          0.6000000238418579,
          1,
          1,
          1,
          0.20000000298023224,
          0.4000000059604645,
          1.5,
          1.5,
          1.5,
          1.5,
          1.5,
          1.5,
          1.5,
          1.5,
          1.5,
          1.5,
          1.5,
          1.5,
          1.5,
          1.5,
          1.5,
          0.6000000238418579,
          0.20000000298023224,
          0.6000000238418579,
          0.6000000238418579,
          1.2000000476837158,
          0.6000000238418579,
          0.6000000238418579,
          0.6000000238418579,
          0.6000000238418579,
          0.4000000059604645,
          0.6000000238418579,
          0.6000000238418579,
          0.6000000238418579,
          0.6000000238418579,
          0.4000000059604645,
          0.6000000238418579
         ],
         "yaxis": "y"
        }
       ],
       "layout": {
        "barmode": "relative",
        "legend": {
         "tracegroupgap": 0
        },
        "margin": {
         "t": 60
        },
        "template": {
         "data": {
          "bar": [
           {
            "error_x": {
             "color": "#2a3f5f"
            },
            "error_y": {
             "color": "#2a3f5f"
            },
            "marker": {
             "line": {
              "color": "#E5ECF6",
              "width": 0.5
             },
             "pattern": {
              "fillmode": "overlay",
              "size": 10,
              "solidity": 0.2
             }
            },
            "type": "bar"
           }
          ],
          "barpolar": [
           {
            "marker": {
             "line": {
              "color": "#E5ECF6",
              "width": 0.5
             },
             "pattern": {
              "fillmode": "overlay",
              "size": 10,
              "solidity": 0.2
             }
            },
            "type": "barpolar"
           }
          ],
          "carpet": [
           {
            "aaxis": {
             "endlinecolor": "#2a3f5f",
             "gridcolor": "white",
             "linecolor": "white",
             "minorgridcolor": "white",
             "startlinecolor": "#2a3f5f"
            },
            "baxis": {
             "endlinecolor": "#2a3f5f",
             "gridcolor": "white",
             "linecolor": "white",
             "minorgridcolor": "white",
             "startlinecolor": "#2a3f5f"
            },
            "type": "carpet"
           }
          ],
          "choropleth": [
           {
            "colorbar": {
             "outlinewidth": 0,
             "ticks": ""
            },
            "type": "choropleth"
           }
          ],
          "contour": [
           {
            "colorbar": {
             "outlinewidth": 0,
             "ticks": ""
            },
            "colorscale": [
             [
              0,
              "#0d0887"
             ],
             [
              0.1111111111111111,
              "#46039f"
             ],
             [
              0.2222222222222222,
              "#7201a8"
             ],
             [
              0.3333333333333333,
              "#9c179e"
             ],
             [
              0.4444444444444444,
              "#bd3786"
             ],
             [
              0.5555555555555556,
              "#d8576b"
             ],
             [
              0.6666666666666666,
              "#ed7953"
             ],
             [
              0.7777777777777778,
              "#fb9f3a"
             ],
             [
              0.8888888888888888,
              "#fdca26"
             ],
             [
              1,
              "#f0f921"
             ]
            ],
            "type": "contour"
           }
          ],
          "contourcarpet": [
           {
            "colorbar": {
             "outlinewidth": 0,
             "ticks": ""
            },
            "type": "contourcarpet"
           }
          ],
          "heatmap": [
           {
            "colorbar": {
             "outlinewidth": 0,
             "ticks": ""
            },
            "colorscale": [
             [
              0,
              "#0d0887"
             ],
             [
              0.1111111111111111,
              "#46039f"
             ],
             [
              0.2222222222222222,
              "#7201a8"
             ],
             [
              0.3333333333333333,
              "#9c179e"
             ],
             [
              0.4444444444444444,
              "#bd3786"
             ],
             [
              0.5555555555555556,
              "#d8576b"
             ],
             [
              0.6666666666666666,
              "#ed7953"
             ],
             [
              0.7777777777777778,
              "#fb9f3a"
             ],
             [
              0.8888888888888888,
              "#fdca26"
             ],
             [
              1,
              "#f0f921"
             ]
            ],
            "type": "heatmap"
           }
          ],
          "heatmapgl": [
           {
            "colorbar": {
             "outlinewidth": 0,
             "ticks": ""
            },
            "colorscale": [
             [
              0,
              "#0d0887"
             ],
             [
              0.1111111111111111,
              "#46039f"
             ],
             [
              0.2222222222222222,
              "#7201a8"
             ],
             [
              0.3333333333333333,
              "#9c179e"
             ],
             [
              0.4444444444444444,
              "#bd3786"
             ],
             [
              0.5555555555555556,
              "#d8576b"
             ],
             [
              0.6666666666666666,
              "#ed7953"
             ],
             [
              0.7777777777777778,
              "#fb9f3a"
             ],
             [
              0.8888888888888888,
              "#fdca26"
             ],
             [
              1,
              "#f0f921"
             ]
            ],
            "type": "heatmapgl"
           }
          ],
          "histogram": [
           {
            "marker": {
             "pattern": {
              "fillmode": "overlay",
              "size": 10,
              "solidity": 0.2
             }
            },
            "type": "histogram"
           }
          ],
          "histogram2d": [
           {
            "colorbar": {
             "outlinewidth": 0,
             "ticks": ""
            },
            "colorscale": [
             [
              0,
              "#0d0887"
             ],
             [
              0.1111111111111111,
              "#46039f"
             ],
             [
              0.2222222222222222,
              "#7201a8"
             ],
             [
              0.3333333333333333,
              "#9c179e"
             ],
             [
              0.4444444444444444,
              "#bd3786"
             ],
             [
              0.5555555555555556,
              "#d8576b"
             ],
             [
              0.6666666666666666,
              "#ed7953"
             ],
             [
              0.7777777777777778,
              "#fb9f3a"
             ],
             [
              0.8888888888888888,
              "#fdca26"
             ],
             [
              1,
              "#f0f921"
             ]
            ],
            "type": "histogram2d"
           }
          ],
          "histogram2dcontour": [
           {
            "colorbar": {
             "outlinewidth": 0,
             "ticks": ""
            },
            "colorscale": [
             [
              0,
              "#0d0887"
             ],
             [
              0.1111111111111111,
              "#46039f"
             ],
             [
              0.2222222222222222,
              "#7201a8"
             ],
             [
              0.3333333333333333,
              "#9c179e"
             ],
             [
              0.4444444444444444,
              "#bd3786"
             ],
             [
              0.5555555555555556,
              "#d8576b"
             ],
             [
              0.6666666666666666,
              "#ed7953"
             ],
             [
              0.7777777777777778,
              "#fb9f3a"
             ],
             [
              0.8888888888888888,
              "#fdca26"
             ],
             [
              1,
              "#f0f921"
             ]
            ],
            "type": "histogram2dcontour"
           }
          ],
          "mesh3d": [
           {
            "colorbar": {
             "outlinewidth": 0,
             "ticks": ""
            },
            "type": "mesh3d"
           }
          ],
          "parcoords": [
           {
            "line": {
             "colorbar": {
              "outlinewidth": 0,
              "ticks": ""
             }
            },
            "type": "parcoords"
           }
          ],
          "pie": [
           {
            "automargin": true,
            "type": "pie"
           }
          ],
          "scatter": [
           {
            "marker": {
             "colorbar": {
              "outlinewidth": 0,
              "ticks": ""
             }
            },
            "type": "scatter"
           }
          ],
          "scatter3d": [
           {
            "line": {
             "colorbar": {
              "outlinewidth": 0,
              "ticks": ""
             }
            },
            "marker": {
             "colorbar": {
              "outlinewidth": 0,
              "ticks": ""
             }
            },
            "type": "scatter3d"
           }
          ],
          "scattercarpet": [
           {
            "marker": {
             "colorbar": {
              "outlinewidth": 0,
              "ticks": ""
             }
            },
            "type": "scattercarpet"
           }
          ],
          "scattergeo": [
           {
            "marker": {
             "colorbar": {
              "outlinewidth": 0,
              "ticks": ""
             }
            },
            "type": "scattergeo"
           }
          ],
          "scattergl": [
           {
            "marker": {
             "colorbar": {
              "outlinewidth": 0,
              "ticks": ""
             }
            },
            "type": "scattergl"
           }
          ],
          "scattermapbox": [
           {
            "marker": {
             "colorbar": {
              "outlinewidth": 0,
              "ticks": ""
             }
            },
            "type": "scattermapbox"
           }
          ],
          "scatterpolar": [
           {
            "marker": {
             "colorbar": {
              "outlinewidth": 0,
              "ticks": ""
             }
            },
            "type": "scatterpolar"
           }
          ],
          "scatterpolargl": [
           {
            "marker": {
             "colorbar": {
              "outlinewidth": 0,
              "ticks": ""
             }
            },
            "type": "scatterpolargl"
           }
          ],
          "scatterternary": [
           {
            "marker": {
             "colorbar": {
              "outlinewidth": 0,
              "ticks": ""
             }
            },
            "type": "scatterternary"
           }
          ],
          "surface": [
           {
            "colorbar": {
             "outlinewidth": 0,
             "ticks": ""
            },
            "colorscale": [
             [
              0,
              "#0d0887"
             ],
             [
              0.1111111111111111,
              "#46039f"
             ],
             [
              0.2222222222222222,
              "#7201a8"
             ],
             [
              0.3333333333333333,
              "#9c179e"
             ],
             [
              0.4444444444444444,
              "#bd3786"
             ],
             [
              0.5555555555555556,
              "#d8576b"
             ],
             [
              0.6666666666666666,
              "#ed7953"
             ],
             [
              0.7777777777777778,
              "#fb9f3a"
             ],
             [
              0.8888888888888888,
              "#fdca26"
             ],
             [
              1,
              "#f0f921"
             ]
            ],
            "type": "surface"
           }
          ],
          "table": [
           {
            "cells": {
             "fill": {
              "color": "#EBF0F8"
             },
             "line": {
              "color": "white"
             }
            },
            "header": {
             "fill": {
              "color": "#C8D4E3"
             },
             "line": {
              "color": "white"
             }
            },
            "type": "table"
           }
          ]
         },
         "layout": {
          "annotationdefaults": {
           "arrowcolor": "#2a3f5f",
           "arrowhead": 0,
           "arrowwidth": 1
          },
          "autotypenumbers": "strict",
          "coloraxis": {
           "colorbar": {
            "outlinewidth": 0,
            "ticks": ""
           }
          },
          "colorscale": {
           "diverging": [
            [
             0,
             "#8e0152"
            ],
            [
             0.1,
             "#c51b7d"
            ],
            [
             0.2,
             "#de77ae"
            ],
            [
             0.3,
             "#f1b6da"
            ],
            [
             0.4,
             "#fde0ef"
            ],
            [
             0.5,
             "#f7f7f7"
            ],
            [
             0.6,
             "#e6f5d0"
            ],
            [
             0.7,
             "#b8e186"
            ],
            [
             0.8,
             "#7fbc41"
            ],
            [
             0.9,
             "#4d9221"
            ],
            [
             1,
             "#276419"
            ]
           ],
           "sequential": [
            [
             0,
             "#0d0887"
            ],
            [
             0.1111111111111111,
             "#46039f"
            ],
            [
             0.2222222222222222,
             "#7201a8"
            ],
            [
             0.3333333333333333,
             "#9c179e"
            ],
            [
             0.4444444444444444,
             "#bd3786"
            ],
            [
             0.5555555555555556,
             "#d8576b"
            ],
            [
             0.6666666666666666,
             "#ed7953"
            ],
            [
             0.7777777777777778,
             "#fb9f3a"
            ],
            [
             0.8888888888888888,
             "#fdca26"
            ],
            [
             1,
             "#f0f921"
            ]
           ],
           "sequentialminus": [
            [
             0,
             "#0d0887"
            ],
            [
             0.1111111111111111,
             "#46039f"
            ],
            [
             0.2222222222222222,
             "#7201a8"
            ],
            [
             0.3333333333333333,
             "#9c179e"
            ],
            [
             0.4444444444444444,
             "#bd3786"
            ],
            [
             0.5555555555555556,
             "#d8576b"
            ],
            [
             0.6666666666666666,
             "#ed7953"
            ],
            [
             0.7777777777777778,
             "#fb9f3a"
            ],
            [
             0.8888888888888888,
             "#fdca26"
            ],
            [
             1,
             "#f0f921"
            ]
           ]
          },
          "colorway": [
           "#636efa",
           "#EF553B",
           "#00cc96",
           "#ab63fa",
           "#FFA15A",
           "#19d3f3",
           "#FF6692",
           "#B6E880",
           "#FF97FF",
           "#FECB52"
          ],
          "font": {
           "color": "#2a3f5f"
          },
          "geo": {
           "bgcolor": "white",
           "lakecolor": "white",
           "landcolor": "#E5ECF6",
           "showlakes": true,
           "showland": true,
           "subunitcolor": "white"
          },
          "hoverlabel": {
           "align": "left"
          },
          "hovermode": "closest",
          "mapbox": {
           "style": "light"
          },
          "paper_bgcolor": "white",
          "plot_bgcolor": "#E5ECF6",
          "polar": {
           "angularaxis": {
            "gridcolor": "white",
            "linecolor": "white",
            "ticks": ""
           },
           "bgcolor": "#E5ECF6",
           "radialaxis": {
            "gridcolor": "white",
            "linecolor": "white",
            "ticks": ""
           }
          },
          "scene": {
           "xaxis": {
            "backgroundcolor": "#E5ECF6",
            "gridcolor": "white",
            "gridwidth": 2,
            "linecolor": "white",
            "showbackground": true,
            "ticks": "",
            "zerolinecolor": "white"
           },
           "yaxis": {
            "backgroundcolor": "#E5ECF6",
            "gridcolor": "white",
            "gridwidth": 2,
            "linecolor": "white",
            "showbackground": true,
            "ticks": "",
            "zerolinecolor": "white"
           },
           "zaxis": {
            "backgroundcolor": "#E5ECF6",
            "gridcolor": "white",
            "gridwidth": 2,
            "linecolor": "white",
            "showbackground": true,
            "ticks": "",
            "zerolinecolor": "white"
           }
          },
          "shapedefaults": {
           "line": {
            "color": "#2a3f5f"
           }
          },
          "ternary": {
           "aaxis": {
            "gridcolor": "white",
            "linecolor": "white",
            "ticks": ""
           },
           "baxis": {
            "gridcolor": "white",
            "linecolor": "white",
            "ticks": ""
           },
           "bgcolor": "#E5ECF6",
           "caxis": {
            "gridcolor": "white",
            "linecolor": "white",
            "ticks": ""
           }
          },
          "title": {
           "x": 0.05
          },
          "xaxis": {
           "automargin": true,
           "gridcolor": "white",
           "linecolor": "white",
           "ticks": "",
           "title": {
            "standoff": 15
           },
           "zerolinecolor": "white",
           "zerolinewidth": 2
          },
          "yaxis": {
           "automargin": true,
           "gridcolor": "white",
           "linecolor": "white",
           "ticks": "",
           "title": {
            "standoff": 15
           },
           "zerolinecolor": "white",
           "zerolinewidth": 2
          }
         }
        },
        "xaxis": {
         "anchor": "y",
         "domain": [
          0,
          1
         ],
         "title": {
          "text": "Nombres"
         }
        },
        "yaxis": {
         "anchor": "x",
         "domain": [
          0,
          1
         ],
         "title": {
          "text": "Kilos rescatados"
         }
        }
       }
      },
      "text/html": [
       "<div>                            <div id=\"2c069159-ecb4-4605-a9ae-6814b066dc02\" class=\"plotly-graph-div\" style=\"height:525px; width:100%;\"></div>            <script type=\"text/javascript\">                require([\"plotly\"], function(Plotly) {                    window.PLOTLYENV=window.PLOTLYENV || {};                                    if (document.getElementById(\"2c069159-ecb4-4605-a9ae-6814b066dc02\")) {                    Plotly.newPlot(                        \"2c069159-ecb4-4605-a9ae-6814b066dc02\",                        [{\"alignmentgroup\":\"True\",\"hovertemplate\":\"Nombres=%{x}<br>Kilos rescatados=%{y}<extra></extra>\",\"legendgroup\":\"\",\"marker\":{\"color\":\"#636efa\",\"pattern\":{\"shape\":\"\"}},\"name\":\"\",\"offsetgroup\":\"\",\"orientation\":\"v\",\"showlegend\":false,\"textposition\":\"auto\",\"x\":[\"E\\u00f1e + que una letra\",\"Pasteler\\u00eda Ludavi\",\"E\\u00f1e + que una letra\",\"Pasteler\\u00eda Ludavi\",\"Pasteler\\u00eda Ludavi\",\"Pasteler\\u00eda Ludavi\",\"Pasteler\\u00eda Ludavi\",\"Pasteler\\u00eda Ludavi\",\"Pasteler\\u00eda Ludavi\",\"E\\u00f1e + que una letra\",\"Pasteler\\u00eda Ludavi\",\"E\\u00f1e + que una letra\",\"E\\u00f1e + que una letra\",\"E\\u00f1e + que una letra\",\"E\\u00f1e + que una letra\",\"E\\u00f1e + que una letra\",\"E\\u00f1e + que una letra\",\"E\\u00f1e + que una letra\",\"E\\u00f1e + que una letra\",\"E\\u00f1e + que una letra\",\"E\\u00f1e + que una letra\",\"E\\u00f1e + que una letra\",\"E\\u00f1e + que una letra\",\"E\\u00f1e + que una letra\",\"E\\u00f1e + que una letra\",\"E\\u00f1e + que una letra\",\"E\\u00f1e + que una letra\",\"E\\u00f1e + que una letra\",\"E\\u00f1e + que una letra\",\"Fruter\\u00eda Las Gemelas\",\"Fruter\\u00eda Las Gemelas\",\"Vedruna\",\"Colegio Mayor Aquinas\",\"Fruter\\u00eda Las Gemelas\",\"Levaduramadre\",\"Fruter\\u00eda Las Gemelas\",\"Colegio Mayor Aquinas\",\"Fruter\\u00eda Las Gemelas\",\"Colegio Mayor Aquinas\",\"Vedruna\",\"Levaduramadre\",\"Fruter\\u00eda Las Gemelas\",\"Colegio Mayor Aquinas\",\"Vedruna\",\"Vedruna\",\"Fruter\\u00eda Las Gemelas\",\"Vedruna\",\"Colegio Mayor Aquinas\",\"Colegio Mayor Aquinas\",\"Colegio Mayor Aquinas\",\"Fruter\\u00eda Las Gemelas\",\"Fruter\\u00eda Las Gemelas\",\"Colegio Mayor Aquinas\",\"Colegio Mayor Aquinas\",\"Fruter\\u00eda Las Gemelas\",\"Levaduramadre\",\"Levaduramadre\",\"Fruter\\u00eda Las Gemelas\",\"Colegio Mayor Aquinas\",\"Levaduramadre\",\"Fruteria Valencia\",\"Vedruna\",\"Colegio Mayor Aquinas\",\"Levaduramadre\",\"Fruter\\u00eda Las Gemelas\",\"Vedruna\",\"Fruter\\u00eda Las Gemelas\",\"Colegio Mayor Aquinas\",\"Vedruna\",\"Levaduramadre\",\"Fruter\\u00eda Las Gemelas\",\"Colegio Mayor Aquinas\",\"Fruter\\u00eda Las Gemelas\",\"Fruter\\u00eda Las Gemelas\",\"Fruter\\u00eda Las Gemelas\",\"Fruter\\u00eda Las Gemelas\",\"Fruter\\u00eda Las Gemelas\",\"Fruter\\u00eda Las Gemelas\",\"Fruter\\u00eda Las Gemelas\",\"Fruter\\u00eda Las Gemelas\",\"Fruter\\u00eda Las Gemelas\",\"Fruter\\u00eda Las Gemelas\",\"Fruter\\u00eda Las Gemelas\",\"Fruter\\u00eda Las Gemelas\",\"Levaduramadre\",\"Levaduramadre\",\"Levaduramadre\",\"Levaduramadre\",\"Levaduramadre\",\"Levaduramadre\",\"Levaduramadre\",\"Levaduramadre\",\"Levaduramadre\",\"Levaduramadre\",\"Levaduramadre\",\"Levaduramadre\",\"E\\u00f1e + que una letra\",\"CM Loyola\",\"CM Loyola\",\"Colegio Mayor Aquinas\",\"CM Loyola\",\"Vedruna\",\"Colegio Mayor Aquinas\",\"CM Loyola\",\"CM Loyola\",\"CM Loyola\",\"CM Loyola\",\"CM Loyola\",\"CM Loyola\",\"CM Loyola\",\"CM Loyola\",\"Colegio Mayor Aquinas\",\"CM Loyola\",\"CM Loyola\",\"CM Loyola\",\"CM Loyola\",\"Vedruna\",\"Colegio Mayor Aquinas\",\"CM Loyola\",\"Vedruna\",\"Colegio Mayor Aquinas\",\"CM Loyola\",\"CM Loyola\",\"CM Loyola\",\"CM Loyola\",\"CM Loyola\",\"CM Loyola\",\"CM Loyola\",\"CM Loyola\",\"E\\u00f1e + que una letra\",\"Fruter\\u00eda Las Gemelas\",\"Fruter\\u00eda Las Gemelas\",\"Fruter\\u00eda Las Gemelas\",\"Fruter\\u00eda Las Gemelas\",\"Fruter\\u00eda Las Gemelas\",\"Fruter\\u00eda Las Gemelas\",\"Fruter\\u00eda Las Gemelas\",\"Fruter\\u00eda Las Gemelas\",\"Fruter\\u00eda Las Gemelas\",\"Fruter\\u00eda Las Gemelas\",\"Fruter\\u00eda Las Gemelas\",\"Fruter\\u00eda Las Gemelas\",\"Fruter\\u00eda Las Gemelas\",\"Fruter\\u00eda Las Gemelas\",\"Levaduramadre\",\"Levaduramadre\",\"Levaduramadre\",\"Levaduramadre\",\"Levaduramadre\",\"Levaduramadre\",\"Levaduramadre\",\"Levaduramadre\",\"Levaduramadre\",\"Levaduramadre\",\"Levaduramadre\",\"Levaduramadre\",\"CM Loyola\",\"CM Loyola\",\"CM Loyola\",\"Colegio Mayor Aquinas\",\"CM Loyola\",\"Colegio Mayor Aquinas\",\"CM Loyola\",\"Vedruna\",\"CM Loyola\",\"CM Loyola\",\"CM Loyola\",\"CM Loyola\",\"Colegio Mayor Aquinas\",\"Colegio Mayor Aquinas\",\"CM Loyola\",\"CM Loyola\",\"Colegio Mayor Aquinas\",\"CM Loyola\",\"Colegio Mayor Aquinas\",\"CM Loyola\",\"Colegio Mayor Aquinas\",\"Colegio Mayor Aquinas\",\"CM Loyola\",\"CM Loyola\",\"CM Loyola\",\"CM Loyola\",\"CM Loyola\",\"CM Loyola\",\"CM Loyola\",\"Zara frutas y verdura\",\"Colegio Mayor Aquinas\",\"CM Loyola\",\"Zara frutas y verdura\",\"Vedruna\",\"CM Loyola\",\"Fruteria Valencia\",\"CM Loyola\",\"CM Loyola\",\"CM Loyola\",\"Fruteria Valencia\",\"CM Loyola\",\"CM Loyola\",\"CM Loyola\",\"Fruteria Valencia\",\"Levaduramadre\",\"CM Loyola\",\"CM Loyola\",\"Zara frutas y verdura\",\"Colegio Mayor Aquinas\",\"Colegio Mayor Aquinas\",\"CM Loyola\",\"Zara frutas y verdura\",\"CM Loyola\",\"Vedruna\",\"Fruter\\u00eda Las Gemelas\",\"Colegio Mayor Aquinas\",\"CM Loyola\",\"Fruterias Andr\\u00e9s\",\"Colegio Mayor Aquinas\",\"Vedruna\",\"Colegio Mayor Aquinas\",\"Fruterias Andr\\u00e9s\",\"Colegio Mayor Aquinas\",\"Colegio Mayor Aquinas\",\"Fruter\\u00eda Las Gemelas\",\"Colegio Mayor Aquinas\",\"Vedruna\",\"CM Loyola\",\"Fruter\\u00eda Las Gemelas\",\"CM Loyola\",\"Colegio Mayor Aquinas\",\"CM Loyola\",\"Fruteria Valencia\",\"CM Loyola\",\"Colegio Mayor Aquinas\",\"Fruteria Valencia\",\"Vedruna\",\"CM Loyola\",\"CM Loyola\",\"Fruteria Valencia\",\"CM Loyola\",\"CM Loyola\",\"Vedruna\",\"E\\u00f1e + que una letra\",\"Levaduramadre\",\"Zara frutas y verdura\",\"Levaduramadre\",\"Zara frutas y verdura\",\"Levaduramadre\",\"Zara frutas y verdura\",\"Levaduramadre\",\"Zara frutas y verdura\",\"Levaduramadre\",\"Fruterias Andr\\u00e9s\",\"Levaduramadre\",\"Zara frutas y verdura\",\"Levaduramadre\",\"Zara frutas y verdura\",\"Levaduramadre\",\"Zara frutas y verdura\",\"Levaduramadre\",\"Zara frutas y verdura\",\"Levaduramadre\",\"Fruterias Andr\\u00e9s\",\"Levaduramadre\",\"Zara frutas y verdura\",\"Levaduramadre\",\"Zara frutas y verdura\",\"Levaduramadre\",\"Fruterias Andr\\u00e9s\",\"Levaduramadre\",\"Fruter\\u00eda Las Gemelas\",\"Colegio Mayor Aquinas\",\"Colegio Mayor Aquinas\",\"Colegio Mayor Aquinas\",\"Colegio Mayor Aquinas\",\"Vedruna\",\"Colegio Mayor Aquinas\",\"Colegio Mayor Aquinas\",\"Colegio Mayor Aquinas\",\"Colegio Mayor Aquinas\",\"Colegio Mayor Aquinas\",\"Colegio Mayor Aquinas\",\"Colegio Mayor Aquinas\",\"Vedruna\",\"Colegio Mayor Aquinas\",\"Vedruna\",\"Vedruna\",\"Colegio Mayor Aquinas\",\"Colegio Mayor Aquinas\",\"Vedruna\",\"Vedruna\",\"Colegio Mayor Aquinas\",\"Colegio Mayor Aquinas\",\"Vedruna\",\"Vedruna\",\"Colegio Mayor Aquinas\",\"Colegio Mayor Aquinas\",\"Vedruna\",\"Vedruna\",\"Colegio Mayor Aquinas\",\"Colegio Mayor Aquinas\",\"Vedruna\",\"Vedruna\",\"Colegio Mayor Aquinas\",\"Colegio Mayor Aquinas\",\"Vedruna\",\"Vedruna\",\"Colegio Mayor Aquinas\",\"Colegio Mayor Aquinas\",\"Vedruna\",\"Vedruna\",\"Colegio Mayor Aquinas\",\"Colegio Mayor Aquinas\",\"Vedruna\",\"Vedruna\",\"Colegio Mayor Aquinas\",\"Fruter\\u00eda Las Gemelas\",\"Fruter\\u00eda Las Gemelas\",\"Fruter\\u00eda Las Gemelas\",\"Fruter\\u00eda Las Gemelas\",\"Fruter\\u00eda Las Gemelas\",\"Fruter\\u00eda Las Gemelas\",\"Fruter\\u00eda Las Gemelas\",\"Fruter\\u00eda Las Gemelas\",\"Fruter\\u00eda Las Gemelas\",\"Fruter\\u00eda Las Gemelas\",\"Fruter\\u00eda Las Gemelas\",\"Levaduramadre\",\"Levaduramadre\",\"Levaduramadre\",\"Levaduramadre\",\"Levaduramadre\",\"Levaduramadre\",\"Levaduramadre\",\"Levaduramadre\",\"Levaduramadre\",\"Levaduramadre\",\"Levaduramadre\",\"CM Loyola\",\"Colegio Mayor Aquinas\",\"Vedruna\",\"Vedruna\",\"E\\u00f1e + que una letra\",\"CM Loyola\",\"Colegio Mayor Aquinas\",\"Colegio Mayor Aquinas\",\"Colegio Mayor Aquinas\",\"CM Loyola\",\"CM Loyola\",\"CM Loyola\",\"CM Loyola\",\"CM Loyola\",\"CM Loyola\",\"CM Loyola\",\"CM Loyola\",\"Vedruna\",\"Vedruna\",\"CM Loyola\",\"Vedruna\",\"Vedruna\",\"CM Loyola\",\"CM Loyola\",\"Vedruna\",\"CM Loyola\",\"Colegio Mayor Aquinas\",\"CM Loyola\",\"Vedruna\",\"CM Loyola\",\"E\\u00f1e + que una letra\",\"CM Loyola\",\"Vedruna\",\"CM Loyola\",\"E\\u00f1e + que una letra\",\"Fruter\\u00eda Las Gemelas\",\"Fruter\\u00eda Las Gemelas\",\"Fruter\\u00eda Las Gemelas\",\"Fruter\\u00eda Las Gemelas\",\"Fruter\\u00eda Las Gemelas\",\"Fruter\\u00eda Las Gemelas\",\"Fruter\\u00eda Las Gemelas\",\"Fruter\\u00eda Las Gemelas\",\"Fruter\\u00eda Las Gemelas\",\"Fruter\\u00eda Las Gemelas\",\"Fruter\\u00eda Las Gemelas\",\"Fruter\\u00eda Las Gemelas\",\"Fruter\\u00eda Las Gemelas\",\"E\\u00f1e + que una letra\",\"Colegio Mayor Aquinas\",\"Colegio Mayor Aquinas\",\"Colegio Mayor Aquinas\",\"El Ceb\\u00f3n\",\"Colegio Mayor Aquinas\",\"E\\u00f1e + que una letra\",\"Colegio Mayor Aquinas\",\"E\\u00f1e + que una letra\",\"Fruter\\u00eda Las Gemelas\",\"CM Loyola\",\"CM Loyola\",\"E\\u00f1e + que una letra\",\"Colegio Mayor Aquinas\",\"Colegio Mayor Aquinas\",\"E\\u00f1e + que una letra\",\"Colegio Mayor Aquinas\",\"Colegio Mayor Aquinas\",\"E\\u00f1e + que una letra\",\"Colegio Mayor Aquinas\",\"E\\u00f1e + que una letra\",\"Levaduramadre\",\"E\\u00f1e + que una letra\",\"Colegio Mayor Aquinas\",\"Fruter\\u00eda Las Gemelas\",\"Fruter\\u00eda Las Gemelas\",\"Fruter\\u00eda Las Gemelas\",\"Fruter\\u00eda Las Gemelas\",\"Fruter\\u00eda Las Gemelas\",\"Fruter\\u00eda Las Gemelas\",\"Fruter\\u00eda Las Gemelas\",\"Fruter\\u00eda Las Gemelas\",\"CM Loyola\",\"CM Loyola\",\"CM Loyola\",\"Fruter\\u00eda Las Gemelas\",\"Fruter\\u00eda Las Gemelas\",\"Fruter\\u00eda Las Gemelas\",\"Fruter\\u00eda Las Gemelas\",\"Levaduramadre\",\"Vedruna\",\"CM Loyola\",\"CM Loyola\",\"Colegio Mayor Aquinas\",\"CM Loyola\",\"E\\u00f1e + que una letra\",\"Levaduramadre\",\"CM Loyola\",\"Colegio Mayor Aquinas\",\"Levaduramadre\",\"CM Loyola\",\"CM Loyola\",\"CM Loyola\",\"CM Loyola\",\"Levaduramadre\",\"El Ceb\\u00f3n\",\"Colegio Mayor Aquinas\",\"Vedruna\",\"E\\u00f1e + que una letra\",\"Bonjour\",\"Colegio Mayor Aquinas\",\"CM Loyola\",\"CM Loyola\",\"Vedruna\",\"Bonjour\",\"E\\u00f1e + que una letra\",\"CM Loyola\",\"Colegio Mayor Aquinas\",\"CM Loyola\",\"Bonjour\",\"Bonjour\",\"CM Loyola\",\"CM Loyola\",\"CM Loyola\",\"Colegio Mayor Aquinas\",\"Levaduramadre\",\"CM Loyola\",\"CM Loyola\",\"Colegio Mayor Aquinas\",\"Fruter\\u00eda Las Gemelas\",\"Levaduramadre\",\"CM Loyola\",\"Colegio Mayor Aquinas\",\"Colegio Mayor Aquinas\",\"CM Loyola\",\"Colegio Mayor Aquinas\",\"CM Loyola\",\"CM Loyola\",\"Levaduramadre\",\"Bonjour\",\"CM Loyola\",\"Colegio Mayor Aquinas\",\"CM Loyola\",\"Vedruna\",\"Bonjour\",\"CM Loyola\",\"Colegio Mayor Aquinas\",\"Colegio Mayor Aquinas\",\"Bonjour\",\"Colegio Mayor Aquinas\",\"Bonjour\",\"CM Loyola\",\"Vedruna\",\"CM Loyola\",\"Bonjour\",\"CM Loyola\",\"Colegio Mayor Aquinas\",\"CM Loyola\",\"CM Loyola\",\"Bonjour\",\"Colegio Mayor Aquinas\",\"Colegio Mayor Aquinas\",\"Fruter\\u00eda Las Gemelas\",\"Colegio Mayor Aquinas\",\"Fruter\\u00eda Las Gemelas\",\"Colegio Mayor Aquinas\",\"Colegio Mayor Aquinas\",\"Fruter\\u00eda Las Gemelas\",\"Colegio Mayor Aquinas\",\"Vedruna\",\"Fruter\\u00eda Las Gemelas\",\"Colegio Mayor Aquinas\",\"Colegio Mayor Aquinas\",\"Fruter\\u00eda Las Gemelas\",\"Colegio Mayor Aquinas\",\"Colegio Mayor Aquinas\",\"Fruter\\u00eda Las Gemelas\",\"Colegio Mayor Aquinas\",\"Colegio Mayor Aquinas\",\"Colegio Mayor Aquinas\",\"Fruter\\u00eda Las Gemelas\",\"Colegio Mayor Aquinas\",\"Fruter\\u00eda Las Gemelas\",\"Vedruna\",\"Colegio Mayor Aquinas\",\"Colegio Mayor Aquinas\",\"Colegio Mayor Aquinas\",\"Fruter\\u00eda Las Gemelas\",\"Fruter\\u00eda Las Gemelas\",\"Colegio Mayor Aquinas\",\"Fruter\\u00eda Las Gemelas\",\"Colegio Mayor Aquinas\",\"Colegio Mayor Aquinas\",\"Fruter\\u00eda Las Gemelas\",\"Colegio Mayor Aquinas\",\"Colegio Mayor Aquinas\",\"Fruter\\u00eda Las Gemelas\",\"Colegio Mayor Aquinas\",\"Colegio Mayor Aquinas\",\"Colegio Mayor Aquinas\",\"Fruter\\u00eda Las Gemelas\",\"Fruter\\u00eda Las Gemelas\",\"Fruter\\u00eda Las Gemelas\",\"Fruter\\u00eda Las Gemelas\",\"Fruter\\u00eda Las Gemelas\",\"Fruter\\u00eda Las Gemelas\",\"Fruter\\u00eda Las Gemelas\",\"Fruter\\u00eda Las Gemelas\",\"Fruter\\u00eda Las Gemelas\",\"Fruter\\u00eda Las Gemelas\",\"Fruter\\u00eda Las Gemelas\",\"Fruter\\u00eda Las Gemelas\",\"Fruter\\u00eda Las Gemelas\",\"Fruter\\u00eda Las Gemelas\",\"Fruter\\u00eda Las Gemelas\",\"Colegio Mayor Aquinas\",\"CM Loyola\",\"CM Loyola\",\"Colegio Mayor Aquinas\",\"Colegio Mayor Aquinas\",\"Colegio Mayor Aquinas\",\"Colegio Mayor Aquinas\",\"CM Loyola\",\"Colegio Mayor Aquinas\",\"Colegio Mayor Aquinas\",\"Colegio Mayor Aquinas\",\"Colegio Mayor Aquinas\",\"Colegio Mayor Aquinas\",\"Colegio Mayor Aquinas\",\"Colegio Mayor Aquinas\",\"Colegio Mayor Aquinas\",\"Colegio Mayor Aquinas\",\"Colegio Mayor Aquinas\",\"CM Loyola\",\"CM Loyola\",\"Colegio Mayor Aquinas\",\"E\\u00f1e + que una letra\",\"Bonjour\",\"Colegio Mayor Aquinas\",\"Colegio Mayor Aquinas\",\"Colegio Mayor Aquinas\",\"Colegio Mayor Aquinas\",\"Colegio Mayor Aquinas\",\"Colegio Mayor Aquinas\",\"Colegio Mayor Aquinas\",\"Bonjour\",\"Bonjour\",\"Bonjour\",\"Bonjour\",\"Bonjour\",\"Bonjour\",\"Bonjour\",\"Bonjour\",\"Bonjour\",\"Bonjour\",\"Bonjour\",\"Levaduramadre\",\"Levaduramadre\",\"Fruter\\u00eda Las Gemelas\",\"Fruter\\u00eda Las Gemelas\",\"Fruter\\u00eda Las Gemelas\",\"Fruter\\u00eda Las Gemelas\",\"Shurma Huerta\",\"Shurma Huerta\",\"Shurma Huerta\",\"Shurma Huerta\",\"Shurma Huerta\",\"Shurma Huerta\",\"Shurma Huerta\",\"Shurma Huerta\",\"Shurma Huerta\",\"Colegio Mayor Aquinas\",\"Colegio Mayor Aquinas\",\"Colegio Mayor Aquinas\",\"CM Loyola\",\"CM Loyola\",\"CM Loyola\",\"CM Loyola\",\"CM Loyola\",\"Vedruna\",\"Vedruna\",\"Vedruna\",\"Vedruna\",\"Vedruna\",\"CM Loyola\",\"CM Loyola\",\"CM Loyola\",\"CM Loyola\",\"Colegio Mayor Aquinas\",\"Colegio Mayor Aquinas\",\"Colegio Mayor Aquinas\",\"Colegio Mayor Aquinas\",\"CM Loyola\",\"CM Loyola\",\"CM Loyola\",\"CM Loyola\",\"CM Loyola\",\"CM Loyola\",\"CM Loyola\",\"CM Loyola\",\"CM Loyola\",\"CM Loyola\",\"Pasteler\\u00eda Ludavi\",\"Pasteler\\u00eda Ludavi\",\"Pasteler\\u00eda Ludavi\",\"Pasteler\\u00eda Ludavi\",\"Pasteler\\u00eda Ludavi\",\"Pasteler\\u00eda Ludavi\",\"Pasteler\\u00eda Ludavi\",\"Pasteler\\u00eda Ludavi\",\"Pasteler\\u00eda Ludavi\",\"Pasteler\\u00eda Ludavi\",\"Pasteler\\u00eda Ludavi\",\"Pasteler\\u00eda Ludavi\",\"Pasteler\\u00eda Ludavi\",\"Pasteler\\u00eda Ludavi\",\"Pasteler\\u00eda Ludavi\",\"Pasteler\\u00eda Ludavi\",\"Pasteler\\u00eda Ludavi\",\"Fruter\\u00eda Las Gemelas\",\"Fruter\\u00eda Las Gemelas\",\"Fruter\\u00eda Las Gemelas\",\"Fruter\\u00eda Las Gemelas\",\"Fruter\\u00eda Las Gemelas\",\"Fruter\\u00eda Las Gemelas\",\"Fruter\\u00eda Las Gemelas\",\"Fruter\\u00eda Las Gemelas\",\"Fruter\\u00eda Las Gemelas\",\"Fruter\\u00eda Las Gemelas\",\"Fruter\\u00eda Las Gemelas\",\"Fruter\\u00eda Las Gemelas\",\"Fruter\\u00eda Las Gemelas\",\"Fruter\\u00eda Las Gemelas\",\"Fruter\\u00eda Las Gemelas\",\"Vedruna\",\"CM Loyola\",\"CM Loyola\",\"Colegio Mayor Aquinas\",\"Colegio Mayor Aquinas\",\"CM Loyola\",\"Colegio Mayor Aquinas\",\"CM Loyola\",\"Colegio Mayor Aquinas\",\"CM Loyola\",\"CM Loyola\",\"CM Loyola\",\"CM Loyola\",\"Colegio Mayor Aquinas\",\"CM Loyola\",\"CM Loyola\",\"CM Loyola\",\"CM Loyola\",\"CM Loyola\",\"Colegio Mayor Aquinas\",\"CM Loyola\",\"Vedruna\",\"Colegio Mayor Aquinas\",\"E\\u00f1e + que una letra\",\"Vedruna\",\"CM Loyola\",\"Colegio Mayor Aquinas\",\"CM Loyola\",\"CM Loyola\",\"Colegio Mayor Aquinas\",\"CM Loyola\",\"Vedruna\",\"CM Loyola\",\"Colegio Mayor Aquinas\",\"CM Loyola\",\"Fruteria Valencia\",\"Levaduramadre\",\"Vedruna\",\"Levaduramadre\",\"Zara frutas y verdura\",\"Fruteria Valencia\",\"Levaduramadre\",\"Fruteria Valencia\",\"Fruteria Valencia\",\"Fruter\\u00eda Las Gemelas\",\"Fruter\\u00eda Las Gemelas\",\"Levaduramadre\",\"Zara frutas y verdura\",\"Levaduramadre\",\"Zara frutas y verdura\",\"Zara frutas y verdura\",\"Bonjour\",\"Levaduramadre\",\"Zara frutas y verdura\",\"Fruterias Ignacio\",\"Levaduramadre\",\"Fruterias Ignacio\",\"Levaduramadre\",\"Fruteria Valencia\",\"Levaduramadre\",\"Fruterias Ignacio\",\"Fruter\\u00eda Las Gemelas\",\"Levaduramadre\",\"Levaduramadre\",\"Fruterias Ignacio\",\"Levaduramadre\",\"Fruteria Valencia\",\"Zara frutas y verdura\",\"Levaduramadre\",\"Vedruna\",\"Vedruna\",\"Vedruna\",\"Vedruna\",\"Vedruna\",\"Vedruna\",\"Vedruna\",\"Vedruna\",\"Colegio Mayor Aquinas\",\"Colegio Mayor Aquinas\",\"Zara frutas y verdura\",\"Zara frutas y verdura\",\"Fruteria Valencia\",\"Fruteria Valencia\",\"Fruteria Valencia\",\"Fruteria Valencia\",\"Fruteria Valencia\",\"Fruteria Valencia\",\"Fruteria Valencia\",\"Fruteria Valencia\",\"Fruteria Valencia\",\"Fruteria Valencia\",\"Fruteria Valencia\",\"Fruteria Valencia\",\"Fruteria Valencia\",\"Fruteria Valencia\",\"Levaduramadre\",\"Levaduramadre\",\"Levaduramadre\",\"Levaduramadre\",\"Levaduramadre\",\"Levaduramadre\",\"Levaduramadre\",\"Levaduramadre\",\"Levaduramadre\",\"Levaduramadre\",\"Bonjour\",\"Bonjour\",\"Bonjour\",\"Bonjour\",\"Bonjour\",\"E\\u00f1e + que una letra\",\"Colegio Mayor Aquinas\",\"Colegio Mayor Aquinas\",\"Colegio Mayor Aquinas\",\"Colegio Mayor Aquinas\",\"Colegio Mayor Aquinas\",\"Colegio Mayor Aquinas\",\"Colegio Mayor Aquinas\",\"Colegio Mayor Aquinas\",\"Colegio Mayor Aquinas\",\"Colegio Mayor Aquinas\",\"Colegio Mayor Aquinas\",\"Colegio Mayor Aquinas\",\"Colegio Mayor Aquinas\",\"Colegio Mayor Aquinas\",\"Colegio Mayor Aquinas\",\"Vedruna\",\"Colegio Mayor Aquinas\",\"Colegio Mayor Aquinas\",\"Colegio Mayor Aquinas\",\"Colegio Mayor Aquinas\",\"Colegio Mayor Aquinas\",\"Vedruna\",\"Colegio Mayor Aquinas\",\"Colegio Mayor Aquinas\",\"Colegio Mayor Aquinas\",\"Shurma Huerta\",\"Vedruna\",\"El Ceb\\u00f3n\",\"E\\u00f1e + que una letra\",\"El Ceb\\u00f3n\",\"Vedruna\",\"E\\u00f1e + que una letra\",\"E\\u00f1e + que una letra\",\"Colegio Mayor Aquinas\",\"Colegio Mayor Aquinas\",\"Colegio Mayor Aquinas\",\"Levaduramadre\",\"Levaduramadre\",\"Levaduramadre\",\"Levaduramadre\",\"Levaduramadre\",\"Levaduramadre\",\"Levaduramadre\",\"Levaduramadre\",\"Levaduramadre\",\"Zara frutas y verdura\",\"Bonjour\",\"Vedruna\",\"CM Loyola\",\"Levaduramadre\",\"Colegio Mayor Aquinas\",\"Levaduramadre\",\"Colegio Mayor Aquinas\",\"Colegio Mayor Aquinas\",\"Vedruna\",\"Levaduramadre\",\"Levaduramadre\",\"Levaduramadre\",\"Colegio Mayor Aquinas\",\"Bonjour\",\"Shurma Huerta\",\"E\\u00f1e + que una letra\",\"CM Loyola\",\"CM Loyola\",\"Bonjour\",\"Bonjour\",\"Bonjour\",\"Bonjour\",\"Bonjour\",\"Bonjour\",\"Zara frutas y verdura\",\"Bonjour\",\"CM Loyola\",\"CM Loyola\",\"CM Loyola\",\"Bonjour\",\"Fruteria Valencia\",\"CM Loyola\",\"CM Loyola\",\"Fruter\\u00eda Las Gemelas\",\"Fruteria Valencia\",\"CM Loyola\",\"CM Loyola\",\"Bonjour\",\"Shurma Huerta\",\"CM Loyola\",\"CM Loyola\",\"Bonjour\",\"Shurma Huerta\",\"Colegio Mayor Aquinas\",\"CM Loyola\",\"Levaduramadre\",\"Fruter\\u00eda Las Gemelas\",\"CM Loyola\",\"CM Loyola\",\"Colegio Mayor Aquinas\",\"Shurma Huerta\",\"El Ceb\\u00f3n\",\"Vedruna\",\"Colegio Mayor Aquinas\",\"Fruteria Valencia\",\"CM Loyola\",\"CM Loyola\",\"Shurma Huerta\",\"CM Loyola\",\"Colegio Mayor Aquinas\",\"Shurma Huerta\",\"CM Loyola\",\"CM Loyola\",\"Vedruna\",\"Fruter\\u00eda Las Gemelas\",\"CM Loyola\",\"Colegio Mayor Aquinas\",\"Shurma Huerta\",\"CM Loyola\",\"CM Loyola\",\"Colegio Mayor Aquinas\",\"Shurma Huerta\",\"CM Loyola\",\"CM Loyola\",\"Fruteria Valencia\",\"Fruteria Valencia\",\"Fruteria Valencia\",\"Colegio Mayor Aquinas\",\"Colegio Mayor Aquinas\",\"Fruter\\u00eda Las Gemelas\",\"Colegio Mayor Aquinas\",\"Colegio Mayor Aquinas\",\"Colegio Mayor Aquinas\",\"Colegio Mayor Aquinas\",\"Colegio Mayor Aquinas\",\"Colegio Mayor Aquinas\",\"Colegio Mayor Aquinas\",\"Colegio Mayor Aquinas\",\"Colegio Mayor Aquinas\",\"Colegio Mayor Aquinas\",\"Colegio Mayor Aquinas\",\"Colegio Mayor Aquinas\",\"Colegio Mayor Aquinas\",\"Colegio Mayor Aquinas\",\"Colegio Mayor Aquinas\",\"Colegio Mayor Aquinas\",\"Colegio Mayor Aquinas\",\"Colegio Mayor Aquinas\",\"Colegio Mayor Aquinas\",\"Levaduramadre\",\"Levaduramadre\",\"Levaduramadre\",\"Zara frutas y verdura\",\"Fruter\\u00eda Las Gemelas\",\"Fruter\\u00eda Las Gemelas\",\"Fruter\\u00eda Las Gemelas\",\"Zara frutas y verdura\",\"Zara frutas y verdura\",\"Fruterias Andr\\u00e9s\",\"Fruterias Andr\\u00e9s\",\"Fruterias Andr\\u00e9s\",\"Fruterias Andr\\u00e9s\",\"Vedruna\",\"E\\u00f1e + que una letra\",\"E\\u00f1e + que una letra\",\"Zara frutas y verdura\",\"Zara frutas y verdura\",\"Fruterias Andr\\u00e9s\",\"Fruterias Andr\\u00e9s\",\"Vedruna\",\"CM Loyola\",\"Colegio Mayor Aquinas\",\"CM Loyola\",\"Colegio Mayor Aquinas\",\"Colegio Mayor Aquinas\",\"CM Loyola\",\"Colegio Mayor Aquinas\",\"Vedruna\",\"CM Loyola\",\"Colegio Mayor Aquinas\",\"Colegio Mayor Aquinas\",\"Colegio Mayor Aquinas\",\"Colegio Mayor Aquinas\",\"Colegio Mayor Aquinas\",\"Colegio Mayor Aquinas\",\"CM Loyola\",\"Colegio Mayor Aquinas\",\"CM Loyola\",\"Colegio Mayor Aquinas\",\"Colegio Mayor Aquinas\",\"Levaduramadre\",\"Levaduramadre\",\"Levaduramadre\",\"Levaduramadre\",\"Levaduramadre\",\"Levaduramadre\",\"Levaduramadre\",\"Fruter\\u00eda Las Gemelas\",\"Fruter\\u00eda Las Gemelas\",\"Fruter\\u00eda Las Gemelas\",\"Fruter\\u00eda Las Gemelas\",\"Fruter\\u00eda Las Gemelas\",\"Fruter\\u00eda Las Gemelas\",\"Fruter\\u00eda Las Gemelas\",\"Fruter\\u00eda Las Gemelas\",\"Fruter\\u00eda Las Gemelas\",\"Fruter\\u00eda Las Gemelas\",\"Fruter\\u00eda Las Gemelas\",\"Fruterias Ignacio\",\"Fruterias Ignacio\",\"Fruterias Ignacio\",\"Fruterias Ignacio\",\"Fruterias Ignacio\",\"Levaduramadre\",\"Levaduramadre\",\"Levaduramadre\",\"Levaduramadre\",\"Colegio Mayor Aquinas\",\"Colegio Mayor Aquinas\",\"Vedruna\",\"Pasteler\\u00eda Ludavi\",\"Fruteria Valencia\",\"CM Loyola\",\"Vedruna\",\"Fruter\\u00eda Las Gemelas\",\"Pasteler\\u00eda Ludavi\",\"CM Loyola\",\"Vedruna\",\"Fruteria Valencia\",\"Pasteler\\u00eda Ludavi\",\"Colegio Mayor Aquinas\",\"Vedruna\",\"CM Loyola\",\"Fruter\\u00eda Las Gemelas\",\"Pasteler\\u00eda Ludavi\",\"Vedruna\",\"Colegio Mayor Aquinas\",\"Colegio Mayor Aquinas\",\"Colegio Mayor Aquinas\",\"Fruter\\u00eda Las Gemelas\",\"Pasteler\\u00eda Ludavi\",\"Colegio Mayor Aquinas\",\"Colegio Mayor Aquinas\",\"Pasteler\\u00eda Ludavi\",\"Fruter\\u00eda Las Gemelas\",\"El Ceb\\u00f3n\",\"Colegio Mayor Aquinas\",\"Vedruna\",\"Colegio Mayor Aquinas\",\"Fruteria Valencia\",\"Fruteria Valencia\",\"Pasteler\\u00eda Ludavi\",\"Vedruna\",\"Vedruna\",\"Fruteria Valencia\",\"Pasteler\\u00eda Ludavi\",\"Colegio Mayor Aquinas\",\"Colegio Mayor Aquinas\",\"CM Loyola\",\"Pasteler\\u00eda Ludavi\",\"Pasteler\\u00eda Ludavi\",\"Vedruna\",\"Colegio Mayor Aquinas\",\"Colegio Mayor Aquinas\",\"CM Loyola\",\"Fruteria Valencia\",\"Pasteler\\u00eda Ludavi\",\"Colegio Mayor Aquinas\",\"Colegio Mayor Aquinas\",\"Vedruna\",\"CM Loyola\",\"Pasteler\\u00eda Ludavi\",\"Pasteler\\u00eda Ludavi\",\"Colegio Mayor Aquinas\",\"Vedruna\",\"Fruteria Valencia\",\"Pasteler\\u00eda Ludavi\",\"Colegio Mayor Aquinas\",\"Colegio Mayor Aquinas\",\"Vedruna\",\"Vedruna\",\"Pasteler\\u00eda Ludavi\",\"Pasteler\\u00eda Ludavi\",\"Colegio Mayor Aquinas\",\"Vedruna\",\"Colegio Mayor Aquinas\",\"Vedruna\",\"Fruter\\u00eda Las Gemelas\",\"Pasteler\\u00eda Ludavi\",\"Vedruna\",\"Vedruna\",\"Vedruna\",\"Pasteler\\u00eda Ludavi\",\"Fruteria Valencia\",\"Vedruna\",\"Colegio Mayor Aquinas\",\"Colegio Mayor Aquinas\",\"CM Loyola\",\"CM Loyola\",\"CM Loyola\",\"CM Loyola\",\"CM Loyola\",\"CM Loyola\",\"CM Loyola\",\"CM Loyola\",\"CM Loyola\",\"CM Loyola\",\"Levaduramadre\",\"Levaduramadre\",\"Levaduramadre\",\"Bonjour\",\"Colegio Mayor Aquinas\",\"Colegio Mayor Aquinas\",\"Bonjour\",\"Colegio Mayor Aquinas\",\"Colegio Mayor Aquinas\",\"Levaduramadre\",\"E\\u00f1e + que una letra\",\"Vedruna\",\"Levaduramadre\",\"Colegio Mayor Aquinas\",\"Vedruna\",\"Colegio Mayor Aquinas\",\"Levaduramadre\",\"Vedruna\",\"Levaduramadre\",\"Levaduramadre\",\"Colegio Mayor Aquinas\",\"CM Loyola\",\"Levaduramadre\",\"Colegio Mayor Aquinas\",\"Colegio Mayor Aquinas\",\"Bonjour\",\"CM Loyola\",\"CM Loyola\",\"Levaduramadre\",\"Colegio Mayor Aquinas\",\"Colegio Mayor Aquinas\",\"Bonjour\",\"CM Loyola\",\"Colegio Mayor Aquinas\",\"Levaduramadre\",\"CM Loyola\",\"Bonjour\",\"CM Loyola\",\"Bonjour\",\"CM Loyola\",\"Colegio Mayor Aquinas\",\"Bonjour\",\"Vedruna\",\"Colegio Mayor Aquinas\",\"Levaduramadre\",\"Vedruna\",\"CM Loyola\",\"Levaduramadre\",\"E\\u00f1e + que una letra\",\"Vedruna\",\"Colegio Mayor Aquinas\",\"CM Loyola\",\"CM Loyola\",\"E\\u00f1e + que una letra\",\"Vedruna\",\"Vedruna\",\"Vedruna\",\"Colegio Mayor Aquinas\",\"Colegio Mayor Aquinas\",\"Colegio Mayor Aquinas\",\"Colegio Mayor Aquinas\",\"E\\u00f1e + que una letra\",\"Vedruna\",\"Vedruna\",\"CM Loyola\",\"CM Loyola\",\"CM Loyola\",\"CM Loyola\",\"CM Loyola\",\"CM Loyola\",\"CM Loyola\",\"CM Loyola\",\"Colegio Mayor Aquinas\",\"Colegio Mayor Aquinas\",\"Colegio Mayor Aquinas\",\"Colegio Mayor Aquinas\",\"Colegio Mayor Aquinas\",\"Colegio Mayor Aquinas\",\"Colegio Mayor Aquinas\",\"Colegio Mayor Aquinas\",\"Colegio Mayor Aquinas\",\"Colegio Mayor Aquinas\",\"Colegio Mayor Aquinas\",\"Colegio Mayor Aquinas\",\"Colegio Mayor Aquinas\",\"Colegio Mayor Aquinas\",\"Colegio Mayor Aquinas\",\"Colegio Mayor Aquinas\",\"Colegio Mayor Aquinas\",\"Colegio Mayor Aquinas\",\"Colegio Mayor Aquinas\",\"Colegio Mayor Aquinas\",\"Colegio Mayor Aquinas\",\"Colegio Mayor Aquinas\",\"Colegio Mayor Aquinas\",\"Fruteria Valencia\",\"Colegio Mayor Aquinas\",\"Fruter\\u00eda Las Gemelas\",\"Colegio Mayor Aquinas\",\"Vedruna\",\"Colegio Mayor Aquinas\",\"Fruter\\u00eda Las Gemelas\",\"Colegio Mayor Aquinas\",\"Colegio Mayor Aquinas\",\"Fruteria Valencia\",\"Vedruna\",\"Colegio Mayor Aquinas\",\"Fruteria Valencia\",\"Colegio Mayor Aquinas\",\"Fruter\\u00eda Las Gemelas\",\"Colegio Mayor Aquinas\",\"Colegio Mayor Aquinas\",\"Vedruna\",\"Colegio Mayor Aquinas\",\"Fruteria Valencia\",\"Fruteria Valencia\",\"Colegio Mayor Aquinas\",\"Fruteria Valencia\",\"Colegio Mayor Aquinas\",\"CM Loyola\",\"Fruteria Valencia\",\"Colegio Mayor Aquinas\",\"Fruteria Valencia\",\"Vedruna\",\"Fruteria Valencia\",\"Colegio Mayor Aquinas\",\"Fruter\\u00eda Las Gemelas\",\"Colegio Mayor Aquinas\",\"Fruter\\u00eda Las Gemelas\",\"Colegio Mayor Aquinas\",\"Fruteria Valencia\",\"Colegio Mayor Aquinas\",\"Vedruna\",\"CM Loyola\",\"Vedruna\",\"Vedruna\",\"CM Loyola\",\"CM Loyola\",\"Colegio Mayor Aquinas\",\"Colegio Mayor Aquinas\",\"Colegio Mayor Aquinas\",\"Colegio Mayor Aquinas\",\"CM Loyola\",\"Colegio Mayor Aquinas\",\"CM Loyola\",\"CM Loyola\",\"CM Loyola\",\"Colegio Mayor Aquinas\",\"CM Loyola\",\"CM Loyola\",\"CM Loyola\",\"CM Loyola\",\"CM Loyola\",\"Colegio Mayor Aquinas\",\"CM Loyola\",\"CM Loyola\",\"CM Loyola\",\"CM Loyola\",\"Vedruna\",\"Vedruna\",\"CM Loyola\",\"CM Loyola\",\"Vedruna\",\"E\\u00f1e + que una letra\",\"Vedruna\",\"Vedruna\",\"Colegio Mayor Aquinas\",\"Vedruna\",\"Vedruna\",\"Vedruna\",\"Vedruna\",\"Vedruna\",\"Colegio Mayor Aquinas\",\"Colegio Mayor Aquinas\",\"Colegio Mayor Aquinas\",\"CM Loyola\",\"CM Loyola\",\"CM Loyola\",\"CM Loyola\",\"CM Loyola\",\"Colegio Mayor Aquinas\",\"Colegio Mayor Aquinas\",\"Colegio Mayor Aquinas\",\"Colegio Mayor Aquinas\",\"Colegio Mayor Aquinas\",\"Colegio Mayor Aquinas\",\"Colegio Mayor Aquinas\",\"Colegio Mayor Aquinas\",\"Colegio Mayor Aquinas\",\"Colegio Mayor Aquinas\",\"Colegio Mayor Aquinas\",\"CM Loyola\",\"CM Loyola\",\"CM Loyola\",\"CM Loyola\",\"CM Loyola\",\"CM Loyola\",\"CM Loyola\",\"CM Loyola\",\"CM Loyola\",\"CM Loyola\",\"CM Loyola\",\"CM Loyola\",\"CM Loyola\",\"CM Loyola\",\"CM Loyola\",\"CM Loyola\",\"CM Loyola\",\"CM Loyola\",\"CM Loyola\",\"CM Loyola\",\"CM Loyola\",\"CM Loyola\",\"CM Loyola\",\"CM Loyola\",\"CM Loyola\",\"CM Loyola\",\"CM Loyola\",\"Vedruna\",\"Vedruna\",\"Vedruna\",\"Vedruna\",\"CM Loyola\",\"Colegio Mayor Aquinas\",\"CM Loyola\",\"Colegio Mayor Aquinas\",\"CM Loyola\",\"CM Loyola\",\"CM Loyola\",\"CM Loyola\",\"CM Loyola\",\"Vedruna\",\"CM Loyola\",\"CM Loyola\",\"CM Loyola\",\"CM Loyola\",\"Vedruna\",\"CM Loyola\",\"CM Loyola\",\"CM Loyola\",\"CM Loyola\",\"Colegio Mayor Aquinas\",\"CM Loyola\",\"Colegio Mayor Aquinas\",\"CM Loyola\",\"CM Loyola\",\"CM Loyola\",\"Colegio Mayor Aquinas\",\"CM Loyola\",\"CM Loyola\",\"CM Loyola\",\"CM Loyola\",\"CM Loyola\",\"Colegio Mayor Aquinas\",\"Colegio Mayor Aquinas\",\"CM Loyola\",\"Colegio Mayor Aquinas\",\"CM Loyola\",\"Colegio Mayor Aquinas\",\"CM Loyola\",\"Colegio Mayor Aquinas\",\"Colegio Mayor Aquinas\",\"CM Loyola\",\"CM Loyola\",\"Colegio Mayor Aquinas\",\"CM Loyola\",\"CM Loyola\",\"Colegio Mayor Aquinas\",\"CM Loyola\",\"CM Loyola\",\"Fruteria Valencia\",\"Bonjour\",\"Bonjour\",\"Fruteria Valencia\",\"Fruteria Valencia\",\"Bonjour\",\"Bonjour\",\"Fruteria Valencia\",\"Fruteria Valencia\",\"Bonjour\",\"Bonjour\",\"Fruteria Valencia\",\"Fruteria Valencia\",\"Bonjour\",\"Bonjour\",\"Fruteria Valencia\",\"Fruteria Valencia\",\"Bonjour\",\"Bonjour\",\"Fruteria Valencia\",\"Fruteria Valencia\",\"Bonjour\",\"Bonjour\",\"Fruteria Valencia\",\"Fruteria Valencia\",\"Bonjour\",\"Bonjour\",\"Fruteria Valencia\",\"Fruteria Valencia\",\"Levaduramadre\",\"Colegio Mayor Aquinas\",\"Colegio Mayor Aquinas\",\"Colegio Mayor Aquinas\",\"Colegio Mayor Aquinas\",\"Colegio Mayor Aquinas\",\"Colegio Mayor Aquinas\",\"Colegio Mayor Aquinas\",\"Colegio Mayor Aquinas\",\"Colegio Mayor Aquinas\",\"Colegio Mayor Aquinas\",\"Colegio Mayor Aquinas\",\"CM Loyola\",\"CM Loyola\",\"CM Loyola\",\"CM Loyola\",\"CM Loyola\",\"CM Loyola\",\"CM Loyola\",\"CM Loyola\",\"CM Loyola\",\"CM Loyola\",\"CM Loyola\",\"CM Loyola\",\"CM Loyola\",\"CM Loyola\",\"CM Loyola\",\"CM Loyola\",\"CM Loyola\",\"CM Loyola\",\"CM Loyola\",\"CM Loyola\",\"Vedruna\",\"Vedruna\",\"Vedruna\",\"CM Loyola\",\"CM Loyola\",\"CM Loyola\",\"CM Loyola\",\"CM Loyola\",\"CM Loyola\",\"CM Loyola\",\"CM Loyola\",\"CM Loyola\",\"CM Loyola\",\"Fruter\\u00eda Las Gemelas\",\"Fruter\\u00eda Las Gemelas\",\"Fruter\\u00eda Las Gemelas\",\"Fruter\\u00eda Las Gemelas\",\"Colegio Mayor Aquinas\",\"Colegio Mayor Aquinas\",\"Colegio Mayor Aquinas\",\"Vedruna\",\"Colegio Mayor Aquinas\",\"Colegio Mayor Aquinas\",\"Colegio Mayor Aquinas\",\"Colegio Mayor Aquinas\",\"Colegio Mayor Aquinas\",\"Colegio Mayor Aquinas\",\"Vedruna\",\"Colegio Mayor Aquinas\",\"Colegio Mayor Aquinas\",\"Colegio Mayor Aquinas\",\"Colegio Mayor Aquinas\",\"Colegio Mayor Aquinas\",\"Vedruna\",\"Vedruna\",\"Colegio Mayor Aquinas\",\"Colegio Mayor Aquinas\",\"Colegio Mayor Aquinas\",\"Colegio Mayor Aquinas\",\"Vedruna\",\"CM Loyola\",\"Zara frutas y verdura\",\"Zara frutas y verdura\",\"Zara frutas y verdura\",\"Zara frutas y verdura\",\"Zara frutas y verdura\",\"Zara frutas y verdura\",\"Zara frutas y verdura\",\"Zara frutas y verdura\",\"Zara frutas y verdura\",\"Zara frutas y verdura\",\"Zara frutas y verdura\",\"Zara frutas y verdura\",\"Zara frutas y verdura\",\"Zara frutas y verdura\",\"Zara frutas y verdura\",\"Vedruna\",\"CM Loyola\",\"CM Loyola\",\"E\\u00f1e + que una letra\",\"CM Loyola\",\"Vedruna\",\"CM Loyola\",\"CM Loyola\",\"CM Loyola\",\"Vedruna\",\"CM Loyola\",\"Vedruna\",\"CM Loyola\",\"CM Loyola\",\"Vedruna\",\"CM Loyola\"],\"xaxis\":\"x\",\"y\":[0.800000011920929,0.0,0.800000011920929,0.0,0.0,1.0,0.0,0.0,0.0,1.0,1.0,0.800000011920929,0.6000000238418579,0.800000011920929,0.800000011920929,0.4000000059604645,0.4000000059604645,0.800000011920929,0.800000011920929,0.4000000059604645,0.800000011920929,0.4000000059604645,0.4000000059604645,0.800000011920929,1.0,0.4000000059604645,0.20000000298023224,0.20000000298023224,0.800000011920929,1.5,3.0,0.4000000059604645,0.4000000059604645,1.5,0.20000000298023224,4.5,0.6000000238418579,4.5,0.6000000238418579,0.6000000238418579,0.20000000298023224,3.0,0.6000000238418579,0.6000000238418579,0.6000000238418579,3.0,0.4000000059604645,0.4000000059604645,0.4000000059604645,0.4000000059604645,1.5,3.0,0.4000000059604645,0.4000000059604645,3.0,0.20000000298023224,0.20000000298023224,4.5,0.6000000238418579,0.20000000298023224,3.0,0.6000000238418579,0.6000000238418579,0.20000000298023224,3.0,0.4000000059604645,3.0,0.6000000238418579,0.6000000238418579,0.20000000298023224,4.5,0.6000000238418579,1.5,1.5,1.5,1.5,1.5,1.5,1.5,1.5,1.5,1.5,1.5,1.5,0.20000000298023224,0.20000000298023224,0.20000000298023224,0.20000000298023224,0.20000000298023224,0.20000000298023224,0.20000000298023224,0.20000000298023224,0.20000000298023224,0.20000000298023224,0.20000000298023224,0.20000000298023224,0.6000000238418579,0.6000000238418579,0.6000000238418579,0.6000000238418579,0.6000000238418579,0.6000000238418579,0.4000000059604645,0.6000000238418579,0.6000000238418579,0.6000000238418579,1.0,1.0,1.0,0.6000000238418579,0.6000000238418579,0.6000000238418579,1.0,1.0,1.0,0.800000011920929,0.6000000238418579,0.6000000238418579,0.800000011920929,0.6000000238418579,1.0,1.0,1.0,1.0,1.0,1.0,1.0,1.0,1.0,0.4000000059604645,1.5,1.5,1.5,1.5,1.5,1.5,1.5,1.5,1.5,1.5,1.5,1.5,1.5,1.5,0.20000000298023224,0.20000000298023224,0.20000000298023224,0.20000000298023224,0.20000000298023224,0.20000000298023224,0.20000000298023224,0.20000000298023224,0.20000000298023224,0.20000000298023224,0.20000000298023224,0.20000000298023224,0.800000011920929,0.800000011920929,0.20000000298023224,0.20000000298023224,0.6000000238418579,0.6000000238418579,0.6000000238418579,1.8000000715255737,1.8000000715255737,0.6000000238418579,0.6000000238418579,1.0,1.0,0.800000011920929,0.800000011920929,0.800000011920929,0.800000011920929,1.0,1.0,0.4000000059604645,0.4000000059604645,0.800000011920929,0.800000011920929,0.6000000238418579,1.0,1.0,0.6000000238418579,1.0,1.0,1.5,0.800000011920929,0.4000000059604645,1.5,0.4000000059604645,0.6000000238418579,1.5,0.20000000298023224,0.20000000298023224,0.4000000059604645,1.5,0.20000000298023224,0.4000000059604645,0.4000000059604645,1.5,0.20000000298023224,0.4000000059604645,0.4000000059604645,1.5,0.4000000059604645,0.4000000059604645,0.20000000298023224,1.5,0.4000000059604645,0.4000000059604645,1.5,0.20000000298023224,0.4000000059604645,1.5,0.20000000298023224,0.20000000298023224,0.20000000298023224,1.5,0.20000000298023224,0.20000000298023224,1.5,0.20000000298023224,0.4000000059604645,0.4000000059604645,1.5,0.800000011920929,0.6000000238418579,0.800000011920929,1.5,0.20000000298023224,0.20000000298023224,1.5,0.20000000298023224,0.4000000059604645,0.20000000298023224,3.0,0.4000000059604645,0.4000000059604645,0.4000000059604645,0.4000000059604645,0.800000011920929,6.0,0.20000000298023224,1.5,0.6000000238418579,4.5,1.399999976158142,10.5,0.6000000238418579,4.5,1.2000000476837158,9.0,0.800000011920929,6.0,0.800000011920929,6.0,1.0,7.5,0.4000000059604645,3.0,0.800000011920929,6.0,0.6000000238418579,4.5,1.0,7.5,1.0,7.5,0.800000011920929,0.800000011920929,0.20000000298023224,0.20000000298023224,0.6000000238418579,0.6000000238418579,0.6000000238418579,1.399999976158142,1.399999976158142,0.6000000238418579,0.6000000238418579,1.2000000476837158,1.2000000476837158,1.2000000476837158,0.800000011920929,0.800000011920929,0.800000011920929,0.800000011920929,0.800000011920929,0.800000011920929,0.800000011920929,1.0,1.0,1.0,1.0,0.4000000059604645,0.4000000059604645,0.4000000059604645,0.4000000059604645,0.800000011920929,0.800000011920929,0.800000011920929,0.800000011920929,0.6000000238418579,0.6000000238418579,0.6000000238418579,0.6000000238418579,1.0,1.0,1.0,1.0,1.0,1.0,1.0,1.0,1.5,1.5,1.5,1.5,1.5,1.5,1.5,1.5,1.5,1.5,1.5,0.20000000298023224,0.20000000298023224,0.20000000298023224,0.20000000298023224,0.20000000298023224,0.20000000298023224,0.20000000298023224,0.20000000298023224,0.20000000298023224,0.20000000298023224,0.20000000298023224,0.20000000298023224,1.8000000715255737,0.6000000238418579,1.2000000476837158,1.2000000476837158,0.4000000059604645,0.800000011920929,0.6000000238418579,1.2000000476837158,0.20000000298023224,1.8000000715255737,0.6000000238418579,1.600000023841858,0.800000011920929,1.8000000715255737,1.2000000476837158,0.800000011920929,0.800000011920929,0.800000011920929,0.800000011920929,0.800000011920929,0.800000011920929,0.800000011920929,0.800000011920929,0.800000011920929,0.800000011920929,1.0,1.0,1.0,1.0,1.0,1.0,1.0,1.0,1.0,1.5,1.5,1.5,1.5,1.5,1.5,1.5,1.5,1.5,1.5,1.5,1.5,1.5,0.6000000238418579,0.800000011920929,0.20000000298023224,0.6000000238418579,0.800000011920929,1.399999976158142,0.6000000238418579,0.6000000238418579,1.0,3.0,0.800000011920929,0.6000000238418579,1.0,0.800000011920929,1.0,0.6000000238418579,0.4000000059604645,0.800000011920929,0.6000000238418579,1.0,1.2000000476837158,0.4000000059604645,0.6000000238418579,1.0,6.0,1.5,4.5,10.5,4.5,6.0,6.0,6.0,1.0,0.4000000059604645,0.800000011920929,7.5,7.5,4.5,7.5,0.800000011920929,0.800000011920929,0.800000011920929,0.800000011920929,0.800000011920929,0.4000000059604645,0.20000000298023224,0.20000000298023224,0.20000000298023224,0.20000000298023224,0.20000000298023224,0.20000000298023224,0.20000000298023224,1.2000000476837158,0.6000000238418579,1.399999976158142,1.399999976158142,1.399999976158142,1.399999976158142,1.8000000715255737,0.6000000238418579,0.6000000238418579,0.6000000238418579,0.6000000238418579,0.6000000238418579,1.2000000476837158,1.2000000476837158,1.2000000476837158,1.2000000476837158,1.2000000476837158,0.800000011920929,0.800000011920929,0.800000011920929,0.800000011920929,0.800000011920929,0.800000011920929,0.800000011920929,0.800000011920929,0.800000011920929,0.800000011920929,7.5,1.0,1.0,1.0,1.0,0.4000000059604645,0.4000000059604645,0.4000000059604645,0.4000000059604645,0.4000000059604645,0.800000011920929,0.800000011920929,0.800000011920929,0.800000011920929,0.800000011920929,1.0,0.6000000238418579,0.6000000238418579,0.6000000238418579,0.6000000238418579,0.6000000238418579,0.6000000238418579,0.6000000238418579,0.6000000238418579,0.6000000238418579,1.0,1.0,1.0,1.0,1.0,0.20000000298023224,0.20000000298023224,0.20000000298023224,1.5,0.20000000298023224,1.5,0.20000000298023224,0.20000000298023224,1.5,0.4000000059604645,0.800000011920929,1.5,0.20000000298023224,0.6000000238418579,1.5,0.4000000059604645,1.0,1.5,0.4000000059604645,0.6000000238418579,0.6000000238418579,1.5,0.800000011920929,1.5,0.20000000298023224,0.6000000238418579,0.6000000238418579,0.20000000298023224,1.5,1.5,0.6000000238418579,1.5,0.6000000238418579,0.6000000238418579,1.5,0.6000000238418579,0.6000000238418579,1.5,0.20000000298023224,0.4000000059604645,0.20000000298023224,7.5,7.5,7.5,7.5,7.5,7.5,7.5,7.5,7.5,7.5,7.5,7.5,7.5,7.5,7.5,7.5,1.0,1.0,1.0,1.0,1.0,7.5,1.0,7.5,1.0,1.0,1.0,1.0,1.0,1.0,1.0,7.5,7.5,0.6000000238418579,0.6000000238418579,4.5,0.6000000238418579,0.20000000298023224,0.6000000238418579,0.6000000238418579,0.6000000238418579,0.6000000238418579,0.6000000238418579,1.0,1.0,0.6000000238418579,0.6000000238418579,0.6000000238418579,0.6000000238418579,0.6000000238418579,0.6000000238418579,0.6000000238418579,0.6000000238418579,0.6000000238418579,0.6000000238418579,0.6000000238418579,0.6000000238418579,0.6000000238418579,1.5,1.5,1.5,1.5,1.5,1.5,1.5,1.5,1.5,1.5,1.5,1.5,1.5,0.6000000238418579,0.6000000238418579,0.6000000238418579,0.800000011920929,0.800000011920929,0.800000011920929,1.0,1.0,1.0,0.800000011920929,1.0,0.6000000238418579,0.6000000238418579,0.6000000238418579,0.800000011920929,0.800000011920929,0.6000000238418579,0.6000000238418579,1.0,1.0,1.0,0.20000000298023224,0.800000011920929,0.800000011920929,0.6000000238418579,1.2000000476837158,1.0,0.4000000059604645,0.6000000238418579,1.0,0.4000000059604645,0.0,0.0,0.0,0.0,0.0,0.0,0.0,0.0,0.0,0.0,0.0,0.0,0.0,0.0,0.0,0.0,0.0,1.5,1.5,1.5,1.5,1.5,1.5,1.5,1.5,1.5,1.5,1.5,1.5,1.5,1.5,1.5,0.800000011920929,0.800000011920929,0.4000000059604645,1.0,0.20000000298023224,0.20000000298023224,0.6000000238418579,0.6000000238418579,0.800000011920929,0.800000011920929,1.0,0.6000000238418579,0.6000000238418579,1.0,1.0,0.800000011920929,1.2000000476837158,0.800000011920929,0.4000000059604645,0.800000011920929,0.4000000059604645,1.0,1.0,0.6000000238418579,0.6000000238418579,0.6000000238418579,0.6000000238418579,0.6000000238418579,0.6000000238418579,0.800000011920929,0.800000011920929,1.0,1.0,1.0,1.0,6.0,0.800000011920929,0.800000011920929,0.800000011920929,6.0,4.5,0.6000000238418579,4.5,4.5,4.5,10.5,0.4000000059604645,4.5,0.4000000059604645,6.0,3.0,0.0,0.6000000238418579,4.5,3.0,0.4000000059604645,6.0,1.0,7.5,0.4000000059604645,6.0,6.0,0.800000011920929,0.6000000238418579,4.5,1.0,7.5,4.5,0.6000000238418579,0.4000000059604645,0.4000000059604645,1.2000000476837158,0.800000011920929,0.6000000238418579,0.800000011920929,0.6000000238418579,0.800000011920929,1.0,1.2000000476837158,1.5,1.5,1.5,1.5,1.5,1.5,1.5,1.5,1.5,1.5,1.5,1.5,1.5,1.5,1.5,1.5,0.20000000298023224,0.20000000298023224,0.20000000298023224,0.20000000298023224,0.20000000298023224,0.20000000298023224,0.20000000298023224,0.20000000298023224,0.20000000298023224,0.20000000298023224,0.20000000298023224,0.20000000298023224,0.20000000298023224,0.20000000298023224,0.20000000298023224,1.0,1.0,1.0,1.0,0.20000000298023224,0.6000000238418579,1.399999976158142,0.6000000238418579,0.6000000238418579,0.800000011920929,1.0,0.800000011920929,0.4000000059604645,0.800000011920929,0.4000000059604645,0.4000000059604645,0.800000011920929,0.4000000059604645,0.4000000059604645,0.800000011920929,0.800000011920929,0.6000000238418579,0.6000000238418579,0.6000000238418579,0.6000000238418579,0.800000011920929,0.20000000298023224,0.800000011920929,0.4000000059604645,0.800000011920929,0.4000000059604645,0.6000000238418579,0.6000000238418579,1.399999976158142,0.6000000238418579,1.399999976158142,1.0,0.20000000298023224,0.20000000298023224,0.20000000298023224,0.20000000298023224,0.20000000298023224,0.20000000298023224,0.20000000298023224,0.20000000298023224,0.20000000298023224,0.800000011920929,0.20000000298023224,1.0,1.0,0.20000000298023224,0.6000000238418579,0.4000000059604645,1.2000000476837158,1.399999976158142,0.6000000238418579,0.4000000059604645,0.4000000059604645,0.4000000059604645,1.0,1.0,7.5,1.0,1.0,1.0,1.0,0.6000000238418579,1.8000000715255737,0.6000000238418579,0.20000000298023224,1.0,9.0,1.2000000476837158,1.2000000476837158,1.2000000476837158,1.2000000476837158,0.800000011920929,6.0,0.800000011920929,0.800000011920929,6.0,6.0,0.800000011920929,0.800000011920929,0.800000011920929,6.0,0.800000011920929,0.800000011920929,0.4000000059604645,3.0,0.4000000059604645,0.4000000059604645,0.800000011920929,6.0,0.800000011920929,0.800000011920929,0.800000011920929,4.5,0.6000000238418579,0.6000000238418579,0.6000000238418579,7.5,1.0,1.0,4.5,0.6000000238418579,0.6000000238418579,13.5,1.8000000715255737,1.8000000715255737,1.8000000715255737,4.5,0.6000000238418579,0.6000000238418579,1.5,0.20000000298023224,0.20000000298023224,0.20000000298023224,7.5,1.0,1.0,1.5,3.0,3.0,0.4000000059604645,0.800000011920929,1.5,0.4000000059604645,0.800000011920929,0.20000000298023224,0.20000000298023224,0.20000000298023224,0.20000000298023224,0.20000000298023224,0.20000000298023224,0.20000000298023224,0.20000000298023224,0.20000000298023224,0.20000000298023224,0.20000000298023224,0.20000000298023224,0.20000000298023224,0.20000000298023224,0.4000000059604645,0.4000000059604645,0.6000000238418579,1.399999976158142,1.399999976158142,1.0,10.5,1.5,4.5,10.5,4.5,9.0,6.0,6.0,6.0,7.5,3.0,1.0,1.0,6.0,6.0,6.0,6.0,1.399999976158142,0.4000000059604645,0.4000000059604645,1.399999976158142,0.800000011920929,0.6000000238418579,1.0,0.6000000238418579,7.5,0.800000011920929,0.6000000238418579,0.6000000238418579,1.0,0.4000000059604645,0.4000000059604645,1.0,0.6000000238418579,1.0,0.6000000238418579,1.2000000476837158,1.2000000476837158,0.20000000298023224,0.20000000298023224,0.20000000298023224,0.20000000298023224,0.20000000298023224,0.20000000298023224,0.20000000298023224,1.5,1.5,1.5,1.5,1.5,1.5,1.5,1.5,1.5,1.5,1.5,1.5,1.5,1.5,1.5,1.5,0.20000000298023224,0.20000000298023224,0.20000000298023224,0.20000000298023224,1.0,1.0,1.0,0.4000000059604645,3.0,0.4000000059604645,0.4000000059604645,1.5,0.20000000298023224,0.4000000059604645,0.4000000059604645,4.5,0.6000000238418579,0.6000000238418579,0.6000000238418579,0.6000000238418579,9.0,1.2000000476837158,0.6000000238418579,0.6000000238418579,1.0,0.6000000238418579,4.5,0.6000000238418579,0.6000000238418579,0.6000000238418579,1.0,7.5,0.4000000059604645,0.4000000059604645,0.4000000059604645,0.800000011920929,6.0,6.0,0.800000011920929,0.800000011920929,0.6000000238418579,4.5,0.6000000238418579,0.6000000238418579,0.4000000059604645,0.800000011920929,0.800000011920929,0.800000011920929,0.800000011920929,0.800000011920929,0.800000011920929,0.800000011920929,6.0,0.800000011920929,0.800000011920929,0.4000000059604645,0.4000000059604645,1.0,0.4000000059604645,0.4000000059604645,0.4000000059604645,0.800000011920929,6.0,0.800000011920929,0.800000011920929,0.800000011920929,0.800000011920929,0.800000011920929,1.0,1.0,0.4000000059604645,0.4000000059604645,1.0,1.0,4.5,0.6000000238418579,0.6000000238418579,0.6000000238418579,0.6000000238418579,1.0,7.5,1.0,1.0,1.0,1.0,1.0,1.2000000476837158,1.0,1.2000000476837158,1.0,1.0,1.0,1.2000000476837158,0.800000011920929,0.0,0.0,0.0,0.20000000298023224,0.800000011920929,0.4000000059604645,0.4000000059604645,1.2000000476837158,1.2000000476837158,0.20000000298023224,0.4000000059604645,0.6000000238418579,0.20000000298023224,0.6000000238418579,0.6000000238418579,0.6000000238418579,0.4000000059604645,0.800000011920929,0.20000000298023224,0.20000000298023224,0.6000000238418579,0.6000000238418579,0.4000000059604645,1.0,1.0,0.20000000298023224,0.4000000059604645,0.800000011920929,0.20000000298023224,0.800000011920929,0.800000011920929,0.20000000298023224,1.0,1.0,0.20000000298023224,0.6000000238418579,0.4000000059604645,0.800000011920929,0.20000000298023224,0.800000011920929,0.6000000238418579,0.4000000059604645,0.6000000238418579,1.0,0.20000000298023224,1.2000000476837158,0.4000000059604645,0.4000000059604645,0.4000000059604645,0.6000000238418579,1.0,1.2000000476837158,0.6000000238418579,1.399999976158142,0.20000000298023224,0.6000000238418579,0.6000000238418579,0.20000000298023224,1.399999976158142,1.2000000476837158,0.800000011920929,1.0,0.800000011920929,0.6000000238418579,0.4000000059604645,1.0,0.4000000059604645,0.800000011920929,0.6000000238418579,0.6000000238418579,1.0,1.0,0.6000000238418579,0.6000000238418579,1.2000000476837158,0.800000011920929,1.0,1.0,1.0,1.2000000476837158,1.2000000476837158,0.800000011920929,0.6000000238418579,0.6000000238418579,0.6000000238418579,0.4000000059604645,0.800000011920929,0.6000000238418579,0.800000011920929,0.6000000238418579,1.0,1.0,0.6000000238418579,0.6000000238418579,0.6000000238418579,7.5,1.0,7.5,1.0,0.6000000238418579,1.0,7.5,0.800000011920929,0.6000000238418579,7.5,0.6000000238418579,1.0,7.5,1.0,7.5,1.0,1.0,0.6000000238418579,1.0,7.5,7.5,1.0,7.5,0.6000000238418579,0.6000000238418579,9.0,1.0,7.5,0.6000000238418579,7.5,0.6000000238418579,7.5,1.0,7.5,1.0,7.5,1.0,0.6000000238418579,1.0,1.399999976158142,0.4000000059604645,0.4000000059604645,1.0,0.4000000059604645,1.0,1.0,1.0,0.4000000059604645,1.0,1.0,0.800000011920929,1.0,1.399999976158142,1.399999976158142,0.20000000298023224,0.6000000238418579,0.6000000238418579,1.2000000476837158,1.2000000476837158,0.800000011920929,1.0,0.4000000059604645,0.4000000059604645,0.800000011920929,0.6000000238418579,0.6000000238418579,1.0,1.0,1.0,1.0,1.0,1.0,1.0,1.0,1.0,1.0,1.0,0.6000000238418579,0.6000000238418579,0.6000000238418579,0.6000000238418579,1.0,0.6000000238418579,1.0,1.0,0.6000000238418579,0.6000000238418579,0.6000000238418579,1.0,0.6000000238418579,1.0,0.6000000238418579,0.6000000238418579,1.0,0.6000000238418579,1.0,0.6000000238418579,1.0,0.6000000238418579,1.0,0.6000000238418579,1.0,0.6000000238418579,0.6000000238418579,0.6000000238418579,0.4000000059604645,0.6000000238418579,0.6000000238418579,1.0,0.6000000238418579,1.0,1.0,0.4000000059604645,1.0,0.6000000238418579,0.6000000238418579,0.6000000238418579,0.6000000238418579,0.6000000238418579,1.0,0.6000000238418579,0.6000000238418579,1.0,1.0,1.0,0.6000000238418579,1.0,0.4000000059604645,0.20000000298023224,0.4000000059604645,1.2000000476837158,0.800000011920929,0.6000000238418579,1.2000000476837158,1.2000000476837158,1.399999976158142,1.399999976158142,0.6000000238418579,0.6000000238418579,0.4000000059604645,1.2000000476837158,0.800000011920929,0.800000011920929,0.800000011920929,0.800000011920929,0.800000011920929,0.800000011920929,0.800000011920929,0.6000000238418579,0.800000011920929,0.800000011920929,0.800000011920929,0.6000000238418579,0.800000011920929,1.0,0.800000011920929,0.800000011920929,0.800000011920929,0.800000011920929,0.800000011920929,0.4000000059604645,0.800000011920929,1.0,0.800000011920929,0.4000000059604645,0.800000011920929,0.800000011920929,0.800000011920929,0.800000011920929,0.800000011920929,0.800000011920929,1.0,0.800000011920929,0.6000000238418579,1.2000000476837158,1.5,0.0,0.0,1.5,1.5,0.0,0.0,1.5,1.5,0.0,0.0,1.5,1.5,0.0,0.0,1.5,1.5,0.0,0.0,1.5,1.5,0.0,0.0,1.5,1.5,0.0,0.0,1.5,1.5,0.0,0.20000000298023224,0.6000000238418579,0.6000000238418579,0.6000000238418579,0.6000000238418579,1.0,1.0,1.0,1.0,1.0,0.20000000298023224,1.0,1.0,1.0,1.0,1.0,1.0,1.0,1.0,1.0,0.6000000238418579,0.6000000238418579,0.6000000238418579,0.6000000238418579,0.6000000238418579,0.6000000238418579,0.6000000238418579,0.6000000238418579,0.6000000238418579,0.6000000238418579,0.6000000238418579,0.6000000238418579,0.6000000238418579,0.6000000238418579,0.4000000059604645,1.0,1.0,1.0,1.0,1.0,1.0,1.0,1.0,1.0,4.5,7.5,4.5,7.5,0.800000011920929,0.6000000238418579,1.0,0.800000011920929,0.800000011920929,0.800000011920929,0.800000011920929,0.800000011920929,1.0,0.800000011920929,1.0,0.800000011920929,0.6000000238418579,0.800000011920929,1.0,1.0,1.0,0.6000000238418579,0.6000000238418579,1.0,1.0,1.0,0.20000000298023224,0.4000000059604645,1.5,1.5,1.5,1.5,1.5,1.5,1.5,1.5,1.5,1.5,1.5,1.5,1.5,1.5,1.5,0.6000000238418579,0.20000000298023224,0.6000000238418579,0.6000000238418579,1.2000000476837158,0.6000000238418579,0.6000000238418579,0.6000000238418579,0.6000000238418579,0.4000000059604645,0.6000000238418579,0.6000000238418579,0.6000000238418579,0.6000000238418579,0.4000000059604645,0.6000000238418579],\"yaxis\":\"y\",\"type\":\"bar\"}],                        {\"template\":{\"data\":{\"bar\":[{\"error_x\":{\"color\":\"#2a3f5f\"},\"error_y\":{\"color\":\"#2a3f5f\"},\"marker\":{\"line\":{\"color\":\"#E5ECF6\",\"width\":0.5},\"pattern\":{\"fillmode\":\"overlay\",\"size\":10,\"solidity\":0.2}},\"type\":\"bar\"}],\"barpolar\":[{\"marker\":{\"line\":{\"color\":\"#E5ECF6\",\"width\":0.5},\"pattern\":{\"fillmode\":\"overlay\",\"size\":10,\"solidity\":0.2}},\"type\":\"barpolar\"}],\"carpet\":[{\"aaxis\":{\"endlinecolor\":\"#2a3f5f\",\"gridcolor\":\"white\",\"linecolor\":\"white\",\"minorgridcolor\":\"white\",\"startlinecolor\":\"#2a3f5f\"},\"baxis\":{\"endlinecolor\":\"#2a3f5f\",\"gridcolor\":\"white\",\"linecolor\":\"white\",\"minorgridcolor\":\"white\",\"startlinecolor\":\"#2a3f5f\"},\"type\":\"carpet\"}],\"choropleth\":[{\"colorbar\":{\"outlinewidth\":0,\"ticks\":\"\"},\"type\":\"choropleth\"}],\"contour\":[{\"colorbar\":{\"outlinewidth\":0,\"ticks\":\"\"},\"colorscale\":[[0.0,\"#0d0887\"],[0.1111111111111111,\"#46039f\"],[0.2222222222222222,\"#7201a8\"],[0.3333333333333333,\"#9c179e\"],[0.4444444444444444,\"#bd3786\"],[0.5555555555555556,\"#d8576b\"],[0.6666666666666666,\"#ed7953\"],[0.7777777777777778,\"#fb9f3a\"],[0.8888888888888888,\"#fdca26\"],[1.0,\"#f0f921\"]],\"type\":\"contour\"}],\"contourcarpet\":[{\"colorbar\":{\"outlinewidth\":0,\"ticks\":\"\"},\"type\":\"contourcarpet\"}],\"heatmap\":[{\"colorbar\":{\"outlinewidth\":0,\"ticks\":\"\"},\"colorscale\":[[0.0,\"#0d0887\"],[0.1111111111111111,\"#46039f\"],[0.2222222222222222,\"#7201a8\"],[0.3333333333333333,\"#9c179e\"],[0.4444444444444444,\"#bd3786\"],[0.5555555555555556,\"#d8576b\"],[0.6666666666666666,\"#ed7953\"],[0.7777777777777778,\"#fb9f3a\"],[0.8888888888888888,\"#fdca26\"],[1.0,\"#f0f921\"]],\"type\":\"heatmap\"}],\"heatmapgl\":[{\"colorbar\":{\"outlinewidth\":0,\"ticks\":\"\"},\"colorscale\":[[0.0,\"#0d0887\"],[0.1111111111111111,\"#46039f\"],[0.2222222222222222,\"#7201a8\"],[0.3333333333333333,\"#9c179e\"],[0.4444444444444444,\"#bd3786\"],[0.5555555555555556,\"#d8576b\"],[0.6666666666666666,\"#ed7953\"],[0.7777777777777778,\"#fb9f3a\"],[0.8888888888888888,\"#fdca26\"],[1.0,\"#f0f921\"]],\"type\":\"heatmapgl\"}],\"histogram\":[{\"marker\":{\"pattern\":{\"fillmode\":\"overlay\",\"size\":10,\"solidity\":0.2}},\"type\":\"histogram\"}],\"histogram2d\":[{\"colorbar\":{\"outlinewidth\":0,\"ticks\":\"\"},\"colorscale\":[[0.0,\"#0d0887\"],[0.1111111111111111,\"#46039f\"],[0.2222222222222222,\"#7201a8\"],[0.3333333333333333,\"#9c179e\"],[0.4444444444444444,\"#bd3786\"],[0.5555555555555556,\"#d8576b\"],[0.6666666666666666,\"#ed7953\"],[0.7777777777777778,\"#fb9f3a\"],[0.8888888888888888,\"#fdca26\"],[1.0,\"#f0f921\"]],\"type\":\"histogram2d\"}],\"histogram2dcontour\":[{\"colorbar\":{\"outlinewidth\":0,\"ticks\":\"\"},\"colorscale\":[[0.0,\"#0d0887\"],[0.1111111111111111,\"#46039f\"],[0.2222222222222222,\"#7201a8\"],[0.3333333333333333,\"#9c179e\"],[0.4444444444444444,\"#bd3786\"],[0.5555555555555556,\"#d8576b\"],[0.6666666666666666,\"#ed7953\"],[0.7777777777777778,\"#fb9f3a\"],[0.8888888888888888,\"#fdca26\"],[1.0,\"#f0f921\"]],\"type\":\"histogram2dcontour\"}],\"mesh3d\":[{\"colorbar\":{\"outlinewidth\":0,\"ticks\":\"\"},\"type\":\"mesh3d\"}],\"parcoords\":[{\"line\":{\"colorbar\":{\"outlinewidth\":0,\"ticks\":\"\"}},\"type\":\"parcoords\"}],\"pie\":[{\"automargin\":true,\"type\":\"pie\"}],\"scatter\":[{\"marker\":{\"colorbar\":{\"outlinewidth\":0,\"ticks\":\"\"}},\"type\":\"scatter\"}],\"scatter3d\":[{\"line\":{\"colorbar\":{\"outlinewidth\":0,\"ticks\":\"\"}},\"marker\":{\"colorbar\":{\"outlinewidth\":0,\"ticks\":\"\"}},\"type\":\"scatter3d\"}],\"scattercarpet\":[{\"marker\":{\"colorbar\":{\"outlinewidth\":0,\"ticks\":\"\"}},\"type\":\"scattercarpet\"}],\"scattergeo\":[{\"marker\":{\"colorbar\":{\"outlinewidth\":0,\"ticks\":\"\"}},\"type\":\"scattergeo\"}],\"scattergl\":[{\"marker\":{\"colorbar\":{\"outlinewidth\":0,\"ticks\":\"\"}},\"type\":\"scattergl\"}],\"scattermapbox\":[{\"marker\":{\"colorbar\":{\"outlinewidth\":0,\"ticks\":\"\"}},\"type\":\"scattermapbox\"}],\"scatterpolar\":[{\"marker\":{\"colorbar\":{\"outlinewidth\":0,\"ticks\":\"\"}},\"type\":\"scatterpolar\"}],\"scatterpolargl\":[{\"marker\":{\"colorbar\":{\"outlinewidth\":0,\"ticks\":\"\"}},\"type\":\"scatterpolargl\"}],\"scatterternary\":[{\"marker\":{\"colorbar\":{\"outlinewidth\":0,\"ticks\":\"\"}},\"type\":\"scatterternary\"}],\"surface\":[{\"colorbar\":{\"outlinewidth\":0,\"ticks\":\"\"},\"colorscale\":[[0.0,\"#0d0887\"],[0.1111111111111111,\"#46039f\"],[0.2222222222222222,\"#7201a8\"],[0.3333333333333333,\"#9c179e\"],[0.4444444444444444,\"#bd3786\"],[0.5555555555555556,\"#d8576b\"],[0.6666666666666666,\"#ed7953\"],[0.7777777777777778,\"#fb9f3a\"],[0.8888888888888888,\"#fdca26\"],[1.0,\"#f0f921\"]],\"type\":\"surface\"}],\"table\":[{\"cells\":{\"fill\":{\"color\":\"#EBF0F8\"},\"line\":{\"color\":\"white\"}},\"header\":{\"fill\":{\"color\":\"#C8D4E3\"},\"line\":{\"color\":\"white\"}},\"type\":\"table\"}]},\"layout\":{\"annotationdefaults\":{\"arrowcolor\":\"#2a3f5f\",\"arrowhead\":0,\"arrowwidth\":1},\"autotypenumbers\":\"strict\",\"coloraxis\":{\"colorbar\":{\"outlinewidth\":0,\"ticks\":\"\"}},\"colorscale\":{\"diverging\":[[0,\"#8e0152\"],[0.1,\"#c51b7d\"],[0.2,\"#de77ae\"],[0.3,\"#f1b6da\"],[0.4,\"#fde0ef\"],[0.5,\"#f7f7f7\"],[0.6,\"#e6f5d0\"],[0.7,\"#b8e186\"],[0.8,\"#7fbc41\"],[0.9,\"#4d9221\"],[1,\"#276419\"]],\"sequential\":[[0.0,\"#0d0887\"],[0.1111111111111111,\"#46039f\"],[0.2222222222222222,\"#7201a8\"],[0.3333333333333333,\"#9c179e\"],[0.4444444444444444,\"#bd3786\"],[0.5555555555555556,\"#d8576b\"],[0.6666666666666666,\"#ed7953\"],[0.7777777777777778,\"#fb9f3a\"],[0.8888888888888888,\"#fdca26\"],[1.0,\"#f0f921\"]],\"sequentialminus\":[[0.0,\"#0d0887\"],[0.1111111111111111,\"#46039f\"],[0.2222222222222222,\"#7201a8\"],[0.3333333333333333,\"#9c179e\"],[0.4444444444444444,\"#bd3786\"],[0.5555555555555556,\"#d8576b\"],[0.6666666666666666,\"#ed7953\"],[0.7777777777777778,\"#fb9f3a\"],[0.8888888888888888,\"#fdca26\"],[1.0,\"#f0f921\"]]},\"colorway\":[\"#636efa\",\"#EF553B\",\"#00cc96\",\"#ab63fa\",\"#FFA15A\",\"#19d3f3\",\"#FF6692\",\"#B6E880\",\"#FF97FF\",\"#FECB52\"],\"font\":{\"color\":\"#2a3f5f\"},\"geo\":{\"bgcolor\":\"white\",\"lakecolor\":\"white\",\"landcolor\":\"#E5ECF6\",\"showlakes\":true,\"showland\":true,\"subunitcolor\":\"white\"},\"hoverlabel\":{\"align\":\"left\"},\"hovermode\":\"closest\",\"mapbox\":{\"style\":\"light\"},\"paper_bgcolor\":\"white\",\"plot_bgcolor\":\"#E5ECF6\",\"polar\":{\"angularaxis\":{\"gridcolor\":\"white\",\"linecolor\":\"white\",\"ticks\":\"\"},\"bgcolor\":\"#E5ECF6\",\"radialaxis\":{\"gridcolor\":\"white\",\"linecolor\":\"white\",\"ticks\":\"\"}},\"scene\":{\"xaxis\":{\"backgroundcolor\":\"#E5ECF6\",\"gridcolor\":\"white\",\"gridwidth\":2,\"linecolor\":\"white\",\"showbackground\":true,\"ticks\":\"\",\"zerolinecolor\":\"white\"},\"yaxis\":{\"backgroundcolor\":\"#E5ECF6\",\"gridcolor\":\"white\",\"gridwidth\":2,\"linecolor\":\"white\",\"showbackground\":true,\"ticks\":\"\",\"zerolinecolor\":\"white\"},\"zaxis\":{\"backgroundcolor\":\"#E5ECF6\",\"gridcolor\":\"white\",\"gridwidth\":2,\"linecolor\":\"white\",\"showbackground\":true,\"ticks\":\"\",\"zerolinecolor\":\"white\"}},\"shapedefaults\":{\"line\":{\"color\":\"#2a3f5f\"}},\"ternary\":{\"aaxis\":{\"gridcolor\":\"white\",\"linecolor\":\"white\",\"ticks\":\"\"},\"baxis\":{\"gridcolor\":\"white\",\"linecolor\":\"white\",\"ticks\":\"\"},\"bgcolor\":\"#E5ECF6\",\"caxis\":{\"gridcolor\":\"white\",\"linecolor\":\"white\",\"ticks\":\"\"}},\"title\":{\"x\":0.05},\"xaxis\":{\"automargin\":true,\"gridcolor\":\"white\",\"linecolor\":\"white\",\"ticks\":\"\",\"title\":{\"standoff\":15},\"zerolinecolor\":\"white\",\"zerolinewidth\":2},\"yaxis\":{\"automargin\":true,\"gridcolor\":\"white\",\"linecolor\":\"white\",\"ticks\":\"\",\"title\":{\"standoff\":15},\"zerolinecolor\":\"white\",\"zerolinewidth\":2}}},\"xaxis\":{\"anchor\":\"y\",\"domain\":[0.0,1.0],\"title\":{\"text\":\"Nombres\"}},\"yaxis\":{\"anchor\":\"x\",\"domain\":[0.0,1.0],\"title\":{\"text\":\"Kilos rescatados\"}},\"legend\":{\"tracegroupgap\":0},\"margin\":{\"t\":60},\"barmode\":\"relative\"},                        {\"responsive\": true}                    ).then(function(){\n",
       "                            \n",
       "var gd = document.getElementById('2c069159-ecb4-4605-a9ae-6814b066dc02');\n",
       "var x = new MutationObserver(function (mutations, observer) {{\n",
       "        var display = window.getComputedStyle(gd).display;\n",
       "        if (!display || display === 'none') {{\n",
       "            console.log([gd, 'removed!']);\n",
       "            Plotly.purge(gd);\n",
       "            observer.disconnect();\n",
       "        }}\n",
       "}});\n",
       "\n",
       "// Listen for the removal of the full notebook cells\n",
       "var notebookContainer = gd.closest('#notebook-container');\n",
       "if (notebookContainer) {{\n",
       "    x.observe(notebookContainer, {childList: true});\n",
       "}}\n",
       "\n",
       "// Listen for the clearing of the current output cell\n",
       "var outputEl = gd.closest('.output');\n",
       "if (outputEl) {{\n",
       "    x.observe(outputEl, {childList: true});\n",
       "}}\n",
       "\n",
       "                        })                };                });            </script>        </div>"
      ]
     },
     "metadata": {},
     "output_type": "display_data"
    }
   ],
   "source": [
    "df_actualidad = df2[df2['Dia'].dt.year == 2022]\n",
    "fig = px.bar(df_actualidad, x=\"Nombres\",y='Kilos rescatados')\n",
    "fig.show()"
   ]
  },
  {
   "cell_type": "markdown",
   "id": "777685a6",
   "metadata": {},
   "source": [
    "# Lunes actualidad"
   ]
  },
  {
   "cell_type": "code",
   "execution_count": 9,
   "id": "e72f5032",
   "metadata": {},
   "outputs": [
    {
     "name": "stderr",
     "output_type": "stream",
     "text": [
      "/tmp/ipykernel_34660/2114831392.py:2: UserWarning:\n",
      "\n",
      "Boolean Series key will be reindexed to match DataFrame index.\n",
      "\n"
     ]
    },
    {
     "data": {
      "application/vnd.plotly.v1+json": {
       "config": {
        "plotlyServerURL": "https://plot.ly"
       },
       "data": [
        {
         "alignmentgroup": "True",
         "hovertemplate": "Nombres=%{x}<br>Raciones rescatadas=%{y}<extra></extra>",
         "legendgroup": "",
         "marker": {
          "color": "#636efa",
          "pattern": {
           "shape": ""
          }
         },
         "name": "",
         "offsetgroup": "",
         "orientation": "v",
         "showlegend": false,
         "textposition": "auto",
         "type": "bar",
         "x": [
          "Frutería Las Gemelas",
          "Frutería Las Gemelas",
          "Vedruna",
          "Colegio Mayor Aquinas",
          "Frutería Las Gemelas",
          "Levaduramadre",
          "Frutería Las Gemelas",
          "Colegio Mayor Aquinas",
          "Frutería Las Gemelas",
          "Colegio Mayor Aquinas",
          "Vedruna",
          "Levaduramadre",
          "Frutería Las Gemelas",
          "Colegio Mayor Aquinas",
          "Vedruna",
          "Vedruna",
          "Frutería Las Gemelas",
          "Vedruna",
          "Colegio Mayor Aquinas",
          "Colegio Mayor Aquinas",
          "Colegio Mayor Aquinas",
          "Frutería Las Gemelas",
          "Frutería Las Gemelas",
          "Colegio Mayor Aquinas",
          "Colegio Mayor Aquinas",
          "Frutería Las Gemelas",
          "Levaduramadre",
          "Levaduramadre",
          "Frutería Las Gemelas",
          "Colegio Mayor Aquinas",
          "Levaduramadre",
          "Fruteria Valencia",
          "Vedruna",
          "Colegio Mayor Aquinas",
          "Levaduramadre",
          "Frutería Las Gemelas",
          "Vedruna",
          "Frutería Las Gemelas",
          "Colegio Mayor Aquinas",
          "Vedruna",
          "Levaduramadre",
          "Frutería Las Gemelas",
          "Colegio Mayor Aquinas",
          "Levaduramadre",
          "Zara frutas y verdura",
          "Levaduramadre",
          "Zara frutas y verdura",
          "Levaduramadre",
          "Zara frutas y verdura",
          "Levaduramadre",
          "Zara frutas y verdura",
          "Levaduramadre",
          "Fruterias Andrés",
          "Levaduramadre",
          "Zara frutas y verdura",
          "Levaduramadre",
          "Zara frutas y verdura",
          "Levaduramadre",
          "Zara frutas y verdura",
          "Levaduramadre",
          "Zara frutas y verdura",
          "Levaduramadre",
          "Fruterias Andrés",
          "Levaduramadre",
          "Zara frutas y verdura",
          "Levaduramadre",
          "Zara frutas y verdura",
          "Levaduramadre",
          "Fruterias Andrés",
          "Levaduramadre",
          "Frutería Las Gemelas",
          "Colegio Mayor Aquinas",
          "Colegio Mayor Aquinas",
          "Colegio Mayor Aquinas",
          "Colegio Mayor Aquinas",
          "Vedruna",
          "Colegio Mayor Aquinas",
          "Colegio Mayor Aquinas",
          "Colegio Mayor Aquinas",
          "Colegio Mayor Aquinas",
          "Colegio Mayor Aquinas",
          "Colegio Mayor Aquinas",
          "Colegio Mayor Aquinas",
          "Vedruna",
          "Colegio Mayor Aquinas",
          "Vedruna",
          "Vedruna",
          "Colegio Mayor Aquinas",
          "Colegio Mayor Aquinas",
          "Vedruna",
          "Vedruna",
          "Colegio Mayor Aquinas",
          "Colegio Mayor Aquinas",
          "Vedruna",
          "Vedruna",
          "Colegio Mayor Aquinas",
          "Colegio Mayor Aquinas",
          "Vedruna",
          "Vedruna",
          "Colegio Mayor Aquinas",
          "Colegio Mayor Aquinas",
          "Vedruna",
          "Vedruna",
          "Colegio Mayor Aquinas",
          "Colegio Mayor Aquinas",
          "Vedruna",
          "Vedruna",
          "Colegio Mayor Aquinas",
          "Colegio Mayor Aquinas",
          "Vedruna",
          "Vedruna",
          "Colegio Mayor Aquinas",
          "Colegio Mayor Aquinas",
          "Vedruna",
          "Vedruna",
          "Colegio Mayor Aquinas",
          "Bonjour",
          "Colegio Mayor Aquinas",
          "Colegio Mayor Aquinas",
          "Frutería Las Gemelas",
          "Colegio Mayor Aquinas",
          "Frutería Las Gemelas",
          "Colegio Mayor Aquinas",
          "Colegio Mayor Aquinas",
          "Frutería Las Gemelas",
          "Colegio Mayor Aquinas",
          "Vedruna",
          "Frutería Las Gemelas",
          "Colegio Mayor Aquinas",
          "Colegio Mayor Aquinas",
          "Frutería Las Gemelas",
          "Colegio Mayor Aquinas",
          "Colegio Mayor Aquinas",
          "Frutería Las Gemelas",
          "Colegio Mayor Aquinas",
          "Colegio Mayor Aquinas",
          "Colegio Mayor Aquinas",
          "Frutería Las Gemelas",
          "Colegio Mayor Aquinas",
          "Frutería Las Gemelas",
          "Vedruna",
          "Colegio Mayor Aquinas",
          "Colegio Mayor Aquinas",
          "Colegio Mayor Aquinas",
          "Frutería Las Gemelas",
          "Frutería Las Gemelas",
          "Colegio Mayor Aquinas",
          "Frutería Las Gemelas",
          "Colegio Mayor Aquinas",
          "Colegio Mayor Aquinas",
          "Frutería Las Gemelas",
          "Colegio Mayor Aquinas",
          "Colegio Mayor Aquinas",
          "Frutería Las Gemelas",
          "Colegio Mayor Aquinas",
          "Colegio Mayor Aquinas",
          "Colegio Mayor Aquinas",
          "Fruteria Valencia",
          "Levaduramadre",
          "Vedruna",
          "Levaduramadre",
          "Zara frutas y verdura",
          "Fruteria Valencia",
          "Levaduramadre",
          "Fruteria Valencia",
          "Fruteria Valencia",
          "Frutería Las Gemelas",
          "Frutería Las Gemelas",
          "Levaduramadre",
          "Zara frutas y verdura",
          "Levaduramadre",
          "Zara frutas y verdura",
          "Zara frutas y verdura",
          "Bonjour",
          "Levaduramadre",
          "Zara frutas y verdura",
          "Fruterias Ignacio",
          "Levaduramadre",
          "Fruterias Ignacio",
          "Levaduramadre",
          "Fruteria Valencia",
          "Levaduramadre",
          "Fruterias Ignacio",
          "Frutería Las Gemelas",
          "Levaduramadre",
          "Levaduramadre",
          "Fruterias Ignacio",
          "Levaduramadre",
          "Fruteria Valencia",
          "Zara frutas y verdura",
          "Levaduramadre",
          "Vedruna",
          "Vedruna",
          "Vedruna",
          "Vedruna",
          "Vedruna",
          "Vedruna",
          "Vedruna",
          "Vedruna",
          "Colegio Mayor Aquinas",
          "Colegio Mayor Aquinas",
          "Fruteria Valencia",
          "Fruteria Valencia",
          "Fruteria Valencia",
          "Colegio Mayor Aquinas",
          "Colegio Mayor Aquinas",
          "Frutería Las Gemelas",
          "Colegio Mayor Aquinas",
          "Colegio Mayor Aquinas",
          "Colegio Mayor Aquinas",
          "Colegio Mayor Aquinas",
          "Colegio Mayor Aquinas",
          "Colegio Mayor Aquinas",
          "Colegio Mayor Aquinas",
          "Colegio Mayor Aquinas",
          "Colegio Mayor Aquinas",
          "Colegio Mayor Aquinas",
          "Colegio Mayor Aquinas",
          "Colegio Mayor Aquinas",
          "Colegio Mayor Aquinas",
          "Colegio Mayor Aquinas",
          "Colegio Mayor Aquinas",
          "Colegio Mayor Aquinas",
          "Colegio Mayor Aquinas",
          "Colegio Mayor Aquinas",
          "Colegio Mayor Aquinas"
         ],
         "xaxis": "x",
         "y": [
          3,
          6,
          2,
          2,
          3,
          0.5,
          9,
          3,
          9,
          3,
          3,
          0.5,
          6,
          3,
          3,
          3,
          6,
          2,
          2,
          2,
          2,
          3,
          6,
          2,
          2,
          6,
          0.5,
          0.5,
          9,
          3,
          0.5,
          6,
          3,
          3,
          0.5,
          6,
          2,
          6,
          3,
          3,
          0.5,
          9,
          3,
          2,
          12,
          0.5,
          3,
          1.5,
          9,
          3.5,
          21,
          1.5,
          9,
          3,
          18,
          2,
          12,
          2,
          12,
          2.5,
          15,
          1,
          6,
          2,
          12,
          1.5,
          9,
          2.5,
          15,
          2.5,
          15,
          4,
          4,
          1,
          1,
          3,
          3,
          3,
          7,
          7,
          3,
          3,
          6,
          6,
          6,
          4,
          4,
          4,
          4,
          4,
          4,
          4,
          5,
          5,
          5,
          5,
          2,
          2,
          2,
          2,
          4,
          4,
          4,
          4,
          3,
          3,
          3,
          3,
          5,
          5,
          5,
          5,
          5,
          5,
          5,
          5,
          0.5,
          1,
          1,
          3,
          1,
          3,
          1,
          1,
          3,
          2,
          4,
          3,
          1,
          3,
          3,
          2,
          5,
          3,
          2,
          3,
          3,
          3,
          4,
          3,
          1,
          3,
          3,
          1,
          3,
          3,
          3,
          3,
          3,
          3,
          3,
          3,
          3,
          3,
          1,
          2,
          1,
          12,
          2,
          4,
          2,
          12,
          9,
          1.5,
          9,
          9,
          9,
          21,
          1,
          9,
          1,
          12,
          6,
          0,
          1.5,
          9,
          6,
          1,
          12,
          2.5,
          15,
          1,
          12,
          12,
          2,
          1.5,
          9,
          2.5,
          15,
          9,
          1.5,
          2,
          2,
          6,
          4,
          3,
          4,
          3,
          4,
          5,
          6,
          3,
          6,
          6,
          2,
          4,
          3,
          2,
          4,
          1,
          1,
          1,
          1,
          1,
          1,
          1,
          1,
          1,
          1,
          1,
          1,
          1,
          1,
          2,
          2,
          3
         ],
         "yaxis": "y"
        }
       ],
       "layout": {
        "barmode": "relative",
        "legend": {
         "tracegroupgap": 0
        },
        "margin": {
         "t": 60
        },
        "template": {
         "data": {
          "bar": [
           {
            "error_x": {
             "color": "#2a3f5f"
            },
            "error_y": {
             "color": "#2a3f5f"
            },
            "marker": {
             "line": {
              "color": "#E5ECF6",
              "width": 0.5
             },
             "pattern": {
              "fillmode": "overlay",
              "size": 10,
              "solidity": 0.2
             }
            },
            "type": "bar"
           }
          ],
          "barpolar": [
           {
            "marker": {
             "line": {
              "color": "#E5ECF6",
              "width": 0.5
             },
             "pattern": {
              "fillmode": "overlay",
              "size": 10,
              "solidity": 0.2
             }
            },
            "type": "barpolar"
           }
          ],
          "carpet": [
           {
            "aaxis": {
             "endlinecolor": "#2a3f5f",
             "gridcolor": "white",
             "linecolor": "white",
             "minorgridcolor": "white",
             "startlinecolor": "#2a3f5f"
            },
            "baxis": {
             "endlinecolor": "#2a3f5f",
             "gridcolor": "white",
             "linecolor": "white",
             "minorgridcolor": "white",
             "startlinecolor": "#2a3f5f"
            },
            "type": "carpet"
           }
          ],
          "choropleth": [
           {
            "colorbar": {
             "outlinewidth": 0,
             "ticks": ""
            },
            "type": "choropleth"
           }
          ],
          "contour": [
           {
            "colorbar": {
             "outlinewidth": 0,
             "ticks": ""
            },
            "colorscale": [
             [
              0,
              "#0d0887"
             ],
             [
              0.1111111111111111,
              "#46039f"
             ],
             [
              0.2222222222222222,
              "#7201a8"
             ],
             [
              0.3333333333333333,
              "#9c179e"
             ],
             [
              0.4444444444444444,
              "#bd3786"
             ],
             [
              0.5555555555555556,
              "#d8576b"
             ],
             [
              0.6666666666666666,
              "#ed7953"
             ],
             [
              0.7777777777777778,
              "#fb9f3a"
             ],
             [
              0.8888888888888888,
              "#fdca26"
             ],
             [
              1,
              "#f0f921"
             ]
            ],
            "type": "contour"
           }
          ],
          "contourcarpet": [
           {
            "colorbar": {
             "outlinewidth": 0,
             "ticks": ""
            },
            "type": "contourcarpet"
           }
          ],
          "heatmap": [
           {
            "colorbar": {
             "outlinewidth": 0,
             "ticks": ""
            },
            "colorscale": [
             [
              0,
              "#0d0887"
             ],
             [
              0.1111111111111111,
              "#46039f"
             ],
             [
              0.2222222222222222,
              "#7201a8"
             ],
             [
              0.3333333333333333,
              "#9c179e"
             ],
             [
              0.4444444444444444,
              "#bd3786"
             ],
             [
              0.5555555555555556,
              "#d8576b"
             ],
             [
              0.6666666666666666,
              "#ed7953"
             ],
             [
              0.7777777777777778,
              "#fb9f3a"
             ],
             [
              0.8888888888888888,
              "#fdca26"
             ],
             [
              1,
              "#f0f921"
             ]
            ],
            "type": "heatmap"
           }
          ],
          "heatmapgl": [
           {
            "colorbar": {
             "outlinewidth": 0,
             "ticks": ""
            },
            "colorscale": [
             [
              0,
              "#0d0887"
             ],
             [
              0.1111111111111111,
              "#46039f"
             ],
             [
              0.2222222222222222,
              "#7201a8"
             ],
             [
              0.3333333333333333,
              "#9c179e"
             ],
             [
              0.4444444444444444,
              "#bd3786"
             ],
             [
              0.5555555555555556,
              "#d8576b"
             ],
             [
              0.6666666666666666,
              "#ed7953"
             ],
             [
              0.7777777777777778,
              "#fb9f3a"
             ],
             [
              0.8888888888888888,
              "#fdca26"
             ],
             [
              1,
              "#f0f921"
             ]
            ],
            "type": "heatmapgl"
           }
          ],
          "histogram": [
           {
            "marker": {
             "pattern": {
              "fillmode": "overlay",
              "size": 10,
              "solidity": 0.2
             }
            },
            "type": "histogram"
           }
          ],
          "histogram2d": [
           {
            "colorbar": {
             "outlinewidth": 0,
             "ticks": ""
            },
            "colorscale": [
             [
              0,
              "#0d0887"
             ],
             [
              0.1111111111111111,
              "#46039f"
             ],
             [
              0.2222222222222222,
              "#7201a8"
             ],
             [
              0.3333333333333333,
              "#9c179e"
             ],
             [
              0.4444444444444444,
              "#bd3786"
             ],
             [
              0.5555555555555556,
              "#d8576b"
             ],
             [
              0.6666666666666666,
              "#ed7953"
             ],
             [
              0.7777777777777778,
              "#fb9f3a"
             ],
             [
              0.8888888888888888,
              "#fdca26"
             ],
             [
              1,
              "#f0f921"
             ]
            ],
            "type": "histogram2d"
           }
          ],
          "histogram2dcontour": [
           {
            "colorbar": {
             "outlinewidth": 0,
             "ticks": ""
            },
            "colorscale": [
             [
              0,
              "#0d0887"
             ],
             [
              0.1111111111111111,
              "#46039f"
             ],
             [
              0.2222222222222222,
              "#7201a8"
             ],
             [
              0.3333333333333333,
              "#9c179e"
             ],
             [
              0.4444444444444444,
              "#bd3786"
             ],
             [
              0.5555555555555556,
              "#d8576b"
             ],
             [
              0.6666666666666666,
              "#ed7953"
             ],
             [
              0.7777777777777778,
              "#fb9f3a"
             ],
             [
              0.8888888888888888,
              "#fdca26"
             ],
             [
              1,
              "#f0f921"
             ]
            ],
            "type": "histogram2dcontour"
           }
          ],
          "mesh3d": [
           {
            "colorbar": {
             "outlinewidth": 0,
             "ticks": ""
            },
            "type": "mesh3d"
           }
          ],
          "parcoords": [
           {
            "line": {
             "colorbar": {
              "outlinewidth": 0,
              "ticks": ""
             }
            },
            "type": "parcoords"
           }
          ],
          "pie": [
           {
            "automargin": true,
            "type": "pie"
           }
          ],
          "scatter": [
           {
            "marker": {
             "colorbar": {
              "outlinewidth": 0,
              "ticks": ""
             }
            },
            "type": "scatter"
           }
          ],
          "scatter3d": [
           {
            "line": {
             "colorbar": {
              "outlinewidth": 0,
              "ticks": ""
             }
            },
            "marker": {
             "colorbar": {
              "outlinewidth": 0,
              "ticks": ""
             }
            },
            "type": "scatter3d"
           }
          ],
          "scattercarpet": [
           {
            "marker": {
             "colorbar": {
              "outlinewidth": 0,
              "ticks": ""
             }
            },
            "type": "scattercarpet"
           }
          ],
          "scattergeo": [
           {
            "marker": {
             "colorbar": {
              "outlinewidth": 0,
              "ticks": ""
             }
            },
            "type": "scattergeo"
           }
          ],
          "scattergl": [
           {
            "marker": {
             "colorbar": {
              "outlinewidth": 0,
              "ticks": ""
             }
            },
            "type": "scattergl"
           }
          ],
          "scattermapbox": [
           {
            "marker": {
             "colorbar": {
              "outlinewidth": 0,
              "ticks": ""
             }
            },
            "type": "scattermapbox"
           }
          ],
          "scatterpolar": [
           {
            "marker": {
             "colorbar": {
              "outlinewidth": 0,
              "ticks": ""
             }
            },
            "type": "scatterpolar"
           }
          ],
          "scatterpolargl": [
           {
            "marker": {
             "colorbar": {
              "outlinewidth": 0,
              "ticks": ""
             }
            },
            "type": "scatterpolargl"
           }
          ],
          "scatterternary": [
           {
            "marker": {
             "colorbar": {
              "outlinewidth": 0,
              "ticks": ""
             }
            },
            "type": "scatterternary"
           }
          ],
          "surface": [
           {
            "colorbar": {
             "outlinewidth": 0,
             "ticks": ""
            },
            "colorscale": [
             [
              0,
              "#0d0887"
             ],
             [
              0.1111111111111111,
              "#46039f"
             ],
             [
              0.2222222222222222,
              "#7201a8"
             ],
             [
              0.3333333333333333,
              "#9c179e"
             ],
             [
              0.4444444444444444,
              "#bd3786"
             ],
             [
              0.5555555555555556,
              "#d8576b"
             ],
             [
              0.6666666666666666,
              "#ed7953"
             ],
             [
              0.7777777777777778,
              "#fb9f3a"
             ],
             [
              0.8888888888888888,
              "#fdca26"
             ],
             [
              1,
              "#f0f921"
             ]
            ],
            "type": "surface"
           }
          ],
          "table": [
           {
            "cells": {
             "fill": {
              "color": "#EBF0F8"
             },
             "line": {
              "color": "white"
             }
            },
            "header": {
             "fill": {
              "color": "#C8D4E3"
             },
             "line": {
              "color": "white"
             }
            },
            "type": "table"
           }
          ]
         },
         "layout": {
          "annotationdefaults": {
           "arrowcolor": "#2a3f5f",
           "arrowhead": 0,
           "arrowwidth": 1
          },
          "autotypenumbers": "strict",
          "coloraxis": {
           "colorbar": {
            "outlinewidth": 0,
            "ticks": ""
           }
          },
          "colorscale": {
           "diverging": [
            [
             0,
             "#8e0152"
            ],
            [
             0.1,
             "#c51b7d"
            ],
            [
             0.2,
             "#de77ae"
            ],
            [
             0.3,
             "#f1b6da"
            ],
            [
             0.4,
             "#fde0ef"
            ],
            [
             0.5,
             "#f7f7f7"
            ],
            [
             0.6,
             "#e6f5d0"
            ],
            [
             0.7,
             "#b8e186"
            ],
            [
             0.8,
             "#7fbc41"
            ],
            [
             0.9,
             "#4d9221"
            ],
            [
             1,
             "#276419"
            ]
           ],
           "sequential": [
            [
             0,
             "#0d0887"
            ],
            [
             0.1111111111111111,
             "#46039f"
            ],
            [
             0.2222222222222222,
             "#7201a8"
            ],
            [
             0.3333333333333333,
             "#9c179e"
            ],
            [
             0.4444444444444444,
             "#bd3786"
            ],
            [
             0.5555555555555556,
             "#d8576b"
            ],
            [
             0.6666666666666666,
             "#ed7953"
            ],
            [
             0.7777777777777778,
             "#fb9f3a"
            ],
            [
             0.8888888888888888,
             "#fdca26"
            ],
            [
             1,
             "#f0f921"
            ]
           ],
           "sequentialminus": [
            [
             0,
             "#0d0887"
            ],
            [
             0.1111111111111111,
             "#46039f"
            ],
            [
             0.2222222222222222,
             "#7201a8"
            ],
            [
             0.3333333333333333,
             "#9c179e"
            ],
            [
             0.4444444444444444,
             "#bd3786"
            ],
            [
             0.5555555555555556,
             "#d8576b"
            ],
            [
             0.6666666666666666,
             "#ed7953"
            ],
            [
             0.7777777777777778,
             "#fb9f3a"
            ],
            [
             0.8888888888888888,
             "#fdca26"
            ],
            [
             1,
             "#f0f921"
            ]
           ]
          },
          "colorway": [
           "#636efa",
           "#EF553B",
           "#00cc96",
           "#ab63fa",
           "#FFA15A",
           "#19d3f3",
           "#FF6692",
           "#B6E880",
           "#FF97FF",
           "#FECB52"
          ],
          "font": {
           "color": "#2a3f5f"
          },
          "geo": {
           "bgcolor": "white",
           "lakecolor": "white",
           "landcolor": "#E5ECF6",
           "showlakes": true,
           "showland": true,
           "subunitcolor": "white"
          },
          "hoverlabel": {
           "align": "left"
          },
          "hovermode": "closest",
          "mapbox": {
           "style": "light"
          },
          "paper_bgcolor": "white",
          "plot_bgcolor": "#E5ECF6",
          "polar": {
           "angularaxis": {
            "gridcolor": "white",
            "linecolor": "white",
            "ticks": ""
           },
           "bgcolor": "#E5ECF6",
           "radialaxis": {
            "gridcolor": "white",
            "linecolor": "white",
            "ticks": ""
           }
          },
          "scene": {
           "xaxis": {
            "backgroundcolor": "#E5ECF6",
            "gridcolor": "white",
            "gridwidth": 2,
            "linecolor": "white",
            "showbackground": true,
            "ticks": "",
            "zerolinecolor": "white"
           },
           "yaxis": {
            "backgroundcolor": "#E5ECF6",
            "gridcolor": "white",
            "gridwidth": 2,
            "linecolor": "white",
            "showbackground": true,
            "ticks": "",
            "zerolinecolor": "white"
           },
           "zaxis": {
            "backgroundcolor": "#E5ECF6",
            "gridcolor": "white",
            "gridwidth": 2,
            "linecolor": "white",
            "showbackground": true,
            "ticks": "",
            "zerolinecolor": "white"
           }
          },
          "shapedefaults": {
           "line": {
            "color": "#2a3f5f"
           }
          },
          "ternary": {
           "aaxis": {
            "gridcolor": "white",
            "linecolor": "white",
            "ticks": ""
           },
           "baxis": {
            "gridcolor": "white",
            "linecolor": "white",
            "ticks": ""
           },
           "bgcolor": "#E5ECF6",
           "caxis": {
            "gridcolor": "white",
            "linecolor": "white",
            "ticks": ""
           }
          },
          "title": {
           "x": 0.05
          },
          "xaxis": {
           "automargin": true,
           "gridcolor": "white",
           "linecolor": "white",
           "ticks": "",
           "title": {
            "standoff": 15
           },
           "zerolinecolor": "white",
           "zerolinewidth": 2
          },
          "yaxis": {
           "automargin": true,
           "gridcolor": "white",
           "linecolor": "white",
           "ticks": "",
           "title": {
            "standoff": 15
           },
           "zerolinecolor": "white",
           "zerolinewidth": 2
          }
         }
        },
        "xaxis": {
         "anchor": "y",
         "domain": [
          0,
          1
         ],
         "title": {
          "text": "Nombres"
         }
        },
        "yaxis": {
         "anchor": "x",
         "domain": [
          0,
          1
         ],
         "title": {
          "text": "Raciones rescatadas"
         }
        }
       }
      },
      "text/html": [
       "<div>                            <div id=\"6f73a6d1-a2ee-4eee-9906-6a53dbdc524e\" class=\"plotly-graph-div\" style=\"height:525px; width:100%;\"></div>            <script type=\"text/javascript\">                require([\"plotly\"], function(Plotly) {                    window.PLOTLYENV=window.PLOTLYENV || {};                                    if (document.getElementById(\"6f73a6d1-a2ee-4eee-9906-6a53dbdc524e\")) {                    Plotly.newPlot(                        \"6f73a6d1-a2ee-4eee-9906-6a53dbdc524e\",                        [{\"alignmentgroup\":\"True\",\"hovertemplate\":\"Nombres=%{x}<br>Raciones rescatadas=%{y}<extra></extra>\",\"legendgroup\":\"\",\"marker\":{\"color\":\"#636efa\",\"pattern\":{\"shape\":\"\"}},\"name\":\"\",\"offsetgroup\":\"\",\"orientation\":\"v\",\"showlegend\":false,\"textposition\":\"auto\",\"x\":[\"Fruter\\u00eda Las Gemelas\",\"Fruter\\u00eda Las Gemelas\",\"Vedruna\",\"Colegio Mayor Aquinas\",\"Fruter\\u00eda Las Gemelas\",\"Levaduramadre\",\"Fruter\\u00eda Las Gemelas\",\"Colegio Mayor Aquinas\",\"Fruter\\u00eda Las Gemelas\",\"Colegio Mayor Aquinas\",\"Vedruna\",\"Levaduramadre\",\"Fruter\\u00eda Las Gemelas\",\"Colegio Mayor Aquinas\",\"Vedruna\",\"Vedruna\",\"Fruter\\u00eda Las Gemelas\",\"Vedruna\",\"Colegio Mayor Aquinas\",\"Colegio Mayor Aquinas\",\"Colegio Mayor Aquinas\",\"Fruter\\u00eda Las Gemelas\",\"Fruter\\u00eda Las Gemelas\",\"Colegio Mayor Aquinas\",\"Colegio Mayor Aquinas\",\"Fruter\\u00eda Las Gemelas\",\"Levaduramadre\",\"Levaduramadre\",\"Fruter\\u00eda Las Gemelas\",\"Colegio Mayor Aquinas\",\"Levaduramadre\",\"Fruteria Valencia\",\"Vedruna\",\"Colegio Mayor Aquinas\",\"Levaduramadre\",\"Fruter\\u00eda Las Gemelas\",\"Vedruna\",\"Fruter\\u00eda Las Gemelas\",\"Colegio Mayor Aquinas\",\"Vedruna\",\"Levaduramadre\",\"Fruter\\u00eda Las Gemelas\",\"Colegio Mayor Aquinas\",\"Levaduramadre\",\"Zara frutas y verdura\",\"Levaduramadre\",\"Zara frutas y verdura\",\"Levaduramadre\",\"Zara frutas y verdura\",\"Levaduramadre\",\"Zara frutas y verdura\",\"Levaduramadre\",\"Fruterias Andr\\u00e9s\",\"Levaduramadre\",\"Zara frutas y verdura\",\"Levaduramadre\",\"Zara frutas y verdura\",\"Levaduramadre\",\"Zara frutas y verdura\",\"Levaduramadre\",\"Zara frutas y verdura\",\"Levaduramadre\",\"Fruterias Andr\\u00e9s\",\"Levaduramadre\",\"Zara frutas y verdura\",\"Levaduramadre\",\"Zara frutas y verdura\",\"Levaduramadre\",\"Fruterias Andr\\u00e9s\",\"Levaduramadre\",\"Fruter\\u00eda Las Gemelas\",\"Colegio Mayor Aquinas\",\"Colegio Mayor Aquinas\",\"Colegio Mayor Aquinas\",\"Colegio Mayor Aquinas\",\"Vedruna\",\"Colegio Mayor Aquinas\",\"Colegio Mayor Aquinas\",\"Colegio Mayor Aquinas\",\"Colegio Mayor Aquinas\",\"Colegio Mayor Aquinas\",\"Colegio Mayor Aquinas\",\"Colegio Mayor Aquinas\",\"Vedruna\",\"Colegio Mayor Aquinas\",\"Vedruna\",\"Vedruna\",\"Colegio Mayor Aquinas\",\"Colegio Mayor Aquinas\",\"Vedruna\",\"Vedruna\",\"Colegio Mayor Aquinas\",\"Colegio Mayor Aquinas\",\"Vedruna\",\"Vedruna\",\"Colegio Mayor Aquinas\",\"Colegio Mayor Aquinas\",\"Vedruna\",\"Vedruna\",\"Colegio Mayor Aquinas\",\"Colegio Mayor Aquinas\",\"Vedruna\",\"Vedruna\",\"Colegio Mayor Aquinas\",\"Colegio Mayor Aquinas\",\"Vedruna\",\"Vedruna\",\"Colegio Mayor Aquinas\",\"Colegio Mayor Aquinas\",\"Vedruna\",\"Vedruna\",\"Colegio Mayor Aquinas\",\"Colegio Mayor Aquinas\",\"Vedruna\",\"Vedruna\",\"Colegio Mayor Aquinas\",\"Bonjour\",\"Colegio Mayor Aquinas\",\"Colegio Mayor Aquinas\",\"Fruter\\u00eda Las Gemelas\",\"Colegio Mayor Aquinas\",\"Fruter\\u00eda Las Gemelas\",\"Colegio Mayor Aquinas\",\"Colegio Mayor Aquinas\",\"Fruter\\u00eda Las Gemelas\",\"Colegio Mayor Aquinas\",\"Vedruna\",\"Fruter\\u00eda Las Gemelas\",\"Colegio Mayor Aquinas\",\"Colegio Mayor Aquinas\",\"Fruter\\u00eda Las Gemelas\",\"Colegio Mayor Aquinas\",\"Colegio Mayor Aquinas\",\"Fruter\\u00eda Las Gemelas\",\"Colegio Mayor Aquinas\",\"Colegio Mayor Aquinas\",\"Colegio Mayor Aquinas\",\"Fruter\\u00eda Las Gemelas\",\"Colegio Mayor Aquinas\",\"Fruter\\u00eda Las Gemelas\",\"Vedruna\",\"Colegio Mayor Aquinas\",\"Colegio Mayor Aquinas\",\"Colegio Mayor Aquinas\",\"Fruter\\u00eda Las Gemelas\",\"Fruter\\u00eda Las Gemelas\",\"Colegio Mayor Aquinas\",\"Fruter\\u00eda Las Gemelas\",\"Colegio Mayor Aquinas\",\"Colegio Mayor Aquinas\",\"Fruter\\u00eda Las Gemelas\",\"Colegio Mayor Aquinas\",\"Colegio Mayor Aquinas\",\"Fruter\\u00eda Las Gemelas\",\"Colegio Mayor Aquinas\",\"Colegio Mayor Aquinas\",\"Colegio Mayor Aquinas\",\"Fruteria Valencia\",\"Levaduramadre\",\"Vedruna\",\"Levaduramadre\",\"Zara frutas y verdura\",\"Fruteria Valencia\",\"Levaduramadre\",\"Fruteria Valencia\",\"Fruteria Valencia\",\"Fruter\\u00eda Las Gemelas\",\"Fruter\\u00eda Las Gemelas\",\"Levaduramadre\",\"Zara frutas y verdura\",\"Levaduramadre\",\"Zara frutas y verdura\",\"Zara frutas y verdura\",\"Bonjour\",\"Levaduramadre\",\"Zara frutas y verdura\",\"Fruterias Ignacio\",\"Levaduramadre\",\"Fruterias Ignacio\",\"Levaduramadre\",\"Fruteria Valencia\",\"Levaduramadre\",\"Fruterias Ignacio\",\"Fruter\\u00eda Las Gemelas\",\"Levaduramadre\",\"Levaduramadre\",\"Fruterias Ignacio\",\"Levaduramadre\",\"Fruteria Valencia\",\"Zara frutas y verdura\",\"Levaduramadre\",\"Vedruna\",\"Vedruna\",\"Vedruna\",\"Vedruna\",\"Vedruna\",\"Vedruna\",\"Vedruna\",\"Vedruna\",\"Colegio Mayor Aquinas\",\"Colegio Mayor Aquinas\",\"Fruteria Valencia\",\"Fruteria Valencia\",\"Fruteria Valencia\",\"Colegio Mayor Aquinas\",\"Colegio Mayor Aquinas\",\"Fruter\\u00eda Las Gemelas\",\"Colegio Mayor Aquinas\",\"Colegio Mayor Aquinas\",\"Colegio Mayor Aquinas\",\"Colegio Mayor Aquinas\",\"Colegio Mayor Aquinas\",\"Colegio Mayor Aquinas\",\"Colegio Mayor Aquinas\",\"Colegio Mayor Aquinas\",\"Colegio Mayor Aquinas\",\"Colegio Mayor Aquinas\",\"Colegio Mayor Aquinas\",\"Colegio Mayor Aquinas\",\"Colegio Mayor Aquinas\",\"Colegio Mayor Aquinas\",\"Colegio Mayor Aquinas\",\"Colegio Mayor Aquinas\",\"Colegio Mayor Aquinas\",\"Colegio Mayor Aquinas\",\"Colegio Mayor Aquinas\"],\"xaxis\":\"x\",\"y\":[3.0,6.0,2.0,2.0,3.0,0.5,9.0,3.0,9.0,3.0,3.0,0.5,6.0,3.0,3.0,3.0,6.0,2.0,2.0,2.0,2.0,3.0,6.0,2.0,2.0,6.0,0.5,0.5,9.0,3.0,0.5,6.0,3.0,3.0,0.5,6.0,2.0,6.0,3.0,3.0,0.5,9.0,3.0,2.0,12.0,0.5,3.0,1.5,9.0,3.5,21.0,1.5,9.0,3.0,18.0,2.0,12.0,2.0,12.0,2.5,15.0,1.0,6.0,2.0,12.0,1.5,9.0,2.5,15.0,2.5,15.0,4.0,4.0,1.0,1.0,3.0,3.0,3.0,7.0,7.0,3.0,3.0,6.0,6.0,6.0,4.0,4.0,4.0,4.0,4.0,4.0,4.0,5.0,5.0,5.0,5.0,2.0,2.0,2.0,2.0,4.0,4.0,4.0,4.0,3.0,3.0,3.0,3.0,5.0,5.0,5.0,5.0,5.0,5.0,5.0,5.0,0.5,1.0,1.0,3.0,1.0,3.0,1.0,1.0,3.0,2.0,4.0,3.0,1.0,3.0,3.0,2.0,5.0,3.0,2.0,3.0,3.0,3.0,4.0,3.0,1.0,3.0,3.0,1.0,3.0,3.0,3.0,3.0,3.0,3.0,3.0,3.0,3.0,3.0,1.0,2.0,1.0,12.0,2.0,4.0,2.0,12.0,9.0,1.5,9.0,9.0,9.0,21.0,1.0,9.0,1.0,12.0,6.0,0.0,1.5,9.0,6.0,1.0,12.0,2.5,15.0,1.0,12.0,12.0,2.0,1.5,9.0,2.5,15.0,9.0,1.5,2.0,2.0,6.0,4.0,3.0,4.0,3.0,4.0,5.0,6.0,3.0,6.0,6.0,2.0,4.0,3.0,2.0,4.0,1.0,1.0,1.0,1.0,1.0,1.0,1.0,1.0,1.0,1.0,1.0,1.0,1.0,1.0,2.0,2.0,3.0],\"yaxis\":\"y\",\"type\":\"bar\"}],                        {\"template\":{\"data\":{\"bar\":[{\"error_x\":{\"color\":\"#2a3f5f\"},\"error_y\":{\"color\":\"#2a3f5f\"},\"marker\":{\"line\":{\"color\":\"#E5ECF6\",\"width\":0.5},\"pattern\":{\"fillmode\":\"overlay\",\"size\":10,\"solidity\":0.2}},\"type\":\"bar\"}],\"barpolar\":[{\"marker\":{\"line\":{\"color\":\"#E5ECF6\",\"width\":0.5},\"pattern\":{\"fillmode\":\"overlay\",\"size\":10,\"solidity\":0.2}},\"type\":\"barpolar\"}],\"carpet\":[{\"aaxis\":{\"endlinecolor\":\"#2a3f5f\",\"gridcolor\":\"white\",\"linecolor\":\"white\",\"minorgridcolor\":\"white\",\"startlinecolor\":\"#2a3f5f\"},\"baxis\":{\"endlinecolor\":\"#2a3f5f\",\"gridcolor\":\"white\",\"linecolor\":\"white\",\"minorgridcolor\":\"white\",\"startlinecolor\":\"#2a3f5f\"},\"type\":\"carpet\"}],\"choropleth\":[{\"colorbar\":{\"outlinewidth\":0,\"ticks\":\"\"},\"type\":\"choropleth\"}],\"contour\":[{\"colorbar\":{\"outlinewidth\":0,\"ticks\":\"\"},\"colorscale\":[[0.0,\"#0d0887\"],[0.1111111111111111,\"#46039f\"],[0.2222222222222222,\"#7201a8\"],[0.3333333333333333,\"#9c179e\"],[0.4444444444444444,\"#bd3786\"],[0.5555555555555556,\"#d8576b\"],[0.6666666666666666,\"#ed7953\"],[0.7777777777777778,\"#fb9f3a\"],[0.8888888888888888,\"#fdca26\"],[1.0,\"#f0f921\"]],\"type\":\"contour\"}],\"contourcarpet\":[{\"colorbar\":{\"outlinewidth\":0,\"ticks\":\"\"},\"type\":\"contourcarpet\"}],\"heatmap\":[{\"colorbar\":{\"outlinewidth\":0,\"ticks\":\"\"},\"colorscale\":[[0.0,\"#0d0887\"],[0.1111111111111111,\"#46039f\"],[0.2222222222222222,\"#7201a8\"],[0.3333333333333333,\"#9c179e\"],[0.4444444444444444,\"#bd3786\"],[0.5555555555555556,\"#d8576b\"],[0.6666666666666666,\"#ed7953\"],[0.7777777777777778,\"#fb9f3a\"],[0.8888888888888888,\"#fdca26\"],[1.0,\"#f0f921\"]],\"type\":\"heatmap\"}],\"heatmapgl\":[{\"colorbar\":{\"outlinewidth\":0,\"ticks\":\"\"},\"colorscale\":[[0.0,\"#0d0887\"],[0.1111111111111111,\"#46039f\"],[0.2222222222222222,\"#7201a8\"],[0.3333333333333333,\"#9c179e\"],[0.4444444444444444,\"#bd3786\"],[0.5555555555555556,\"#d8576b\"],[0.6666666666666666,\"#ed7953\"],[0.7777777777777778,\"#fb9f3a\"],[0.8888888888888888,\"#fdca26\"],[1.0,\"#f0f921\"]],\"type\":\"heatmapgl\"}],\"histogram\":[{\"marker\":{\"pattern\":{\"fillmode\":\"overlay\",\"size\":10,\"solidity\":0.2}},\"type\":\"histogram\"}],\"histogram2d\":[{\"colorbar\":{\"outlinewidth\":0,\"ticks\":\"\"},\"colorscale\":[[0.0,\"#0d0887\"],[0.1111111111111111,\"#46039f\"],[0.2222222222222222,\"#7201a8\"],[0.3333333333333333,\"#9c179e\"],[0.4444444444444444,\"#bd3786\"],[0.5555555555555556,\"#d8576b\"],[0.6666666666666666,\"#ed7953\"],[0.7777777777777778,\"#fb9f3a\"],[0.8888888888888888,\"#fdca26\"],[1.0,\"#f0f921\"]],\"type\":\"histogram2d\"}],\"histogram2dcontour\":[{\"colorbar\":{\"outlinewidth\":0,\"ticks\":\"\"},\"colorscale\":[[0.0,\"#0d0887\"],[0.1111111111111111,\"#46039f\"],[0.2222222222222222,\"#7201a8\"],[0.3333333333333333,\"#9c179e\"],[0.4444444444444444,\"#bd3786\"],[0.5555555555555556,\"#d8576b\"],[0.6666666666666666,\"#ed7953\"],[0.7777777777777778,\"#fb9f3a\"],[0.8888888888888888,\"#fdca26\"],[1.0,\"#f0f921\"]],\"type\":\"histogram2dcontour\"}],\"mesh3d\":[{\"colorbar\":{\"outlinewidth\":0,\"ticks\":\"\"},\"type\":\"mesh3d\"}],\"parcoords\":[{\"line\":{\"colorbar\":{\"outlinewidth\":0,\"ticks\":\"\"}},\"type\":\"parcoords\"}],\"pie\":[{\"automargin\":true,\"type\":\"pie\"}],\"scatter\":[{\"marker\":{\"colorbar\":{\"outlinewidth\":0,\"ticks\":\"\"}},\"type\":\"scatter\"}],\"scatter3d\":[{\"line\":{\"colorbar\":{\"outlinewidth\":0,\"ticks\":\"\"}},\"marker\":{\"colorbar\":{\"outlinewidth\":0,\"ticks\":\"\"}},\"type\":\"scatter3d\"}],\"scattercarpet\":[{\"marker\":{\"colorbar\":{\"outlinewidth\":0,\"ticks\":\"\"}},\"type\":\"scattercarpet\"}],\"scattergeo\":[{\"marker\":{\"colorbar\":{\"outlinewidth\":0,\"ticks\":\"\"}},\"type\":\"scattergeo\"}],\"scattergl\":[{\"marker\":{\"colorbar\":{\"outlinewidth\":0,\"ticks\":\"\"}},\"type\":\"scattergl\"}],\"scattermapbox\":[{\"marker\":{\"colorbar\":{\"outlinewidth\":0,\"ticks\":\"\"}},\"type\":\"scattermapbox\"}],\"scatterpolar\":[{\"marker\":{\"colorbar\":{\"outlinewidth\":0,\"ticks\":\"\"}},\"type\":\"scatterpolar\"}],\"scatterpolargl\":[{\"marker\":{\"colorbar\":{\"outlinewidth\":0,\"ticks\":\"\"}},\"type\":\"scatterpolargl\"}],\"scatterternary\":[{\"marker\":{\"colorbar\":{\"outlinewidth\":0,\"ticks\":\"\"}},\"type\":\"scatterternary\"}],\"surface\":[{\"colorbar\":{\"outlinewidth\":0,\"ticks\":\"\"},\"colorscale\":[[0.0,\"#0d0887\"],[0.1111111111111111,\"#46039f\"],[0.2222222222222222,\"#7201a8\"],[0.3333333333333333,\"#9c179e\"],[0.4444444444444444,\"#bd3786\"],[0.5555555555555556,\"#d8576b\"],[0.6666666666666666,\"#ed7953\"],[0.7777777777777778,\"#fb9f3a\"],[0.8888888888888888,\"#fdca26\"],[1.0,\"#f0f921\"]],\"type\":\"surface\"}],\"table\":[{\"cells\":{\"fill\":{\"color\":\"#EBF0F8\"},\"line\":{\"color\":\"white\"}},\"header\":{\"fill\":{\"color\":\"#C8D4E3\"},\"line\":{\"color\":\"white\"}},\"type\":\"table\"}]},\"layout\":{\"annotationdefaults\":{\"arrowcolor\":\"#2a3f5f\",\"arrowhead\":0,\"arrowwidth\":1},\"autotypenumbers\":\"strict\",\"coloraxis\":{\"colorbar\":{\"outlinewidth\":0,\"ticks\":\"\"}},\"colorscale\":{\"diverging\":[[0,\"#8e0152\"],[0.1,\"#c51b7d\"],[0.2,\"#de77ae\"],[0.3,\"#f1b6da\"],[0.4,\"#fde0ef\"],[0.5,\"#f7f7f7\"],[0.6,\"#e6f5d0\"],[0.7,\"#b8e186\"],[0.8,\"#7fbc41\"],[0.9,\"#4d9221\"],[1,\"#276419\"]],\"sequential\":[[0.0,\"#0d0887\"],[0.1111111111111111,\"#46039f\"],[0.2222222222222222,\"#7201a8\"],[0.3333333333333333,\"#9c179e\"],[0.4444444444444444,\"#bd3786\"],[0.5555555555555556,\"#d8576b\"],[0.6666666666666666,\"#ed7953\"],[0.7777777777777778,\"#fb9f3a\"],[0.8888888888888888,\"#fdca26\"],[1.0,\"#f0f921\"]],\"sequentialminus\":[[0.0,\"#0d0887\"],[0.1111111111111111,\"#46039f\"],[0.2222222222222222,\"#7201a8\"],[0.3333333333333333,\"#9c179e\"],[0.4444444444444444,\"#bd3786\"],[0.5555555555555556,\"#d8576b\"],[0.6666666666666666,\"#ed7953\"],[0.7777777777777778,\"#fb9f3a\"],[0.8888888888888888,\"#fdca26\"],[1.0,\"#f0f921\"]]},\"colorway\":[\"#636efa\",\"#EF553B\",\"#00cc96\",\"#ab63fa\",\"#FFA15A\",\"#19d3f3\",\"#FF6692\",\"#B6E880\",\"#FF97FF\",\"#FECB52\"],\"font\":{\"color\":\"#2a3f5f\"},\"geo\":{\"bgcolor\":\"white\",\"lakecolor\":\"white\",\"landcolor\":\"#E5ECF6\",\"showlakes\":true,\"showland\":true,\"subunitcolor\":\"white\"},\"hoverlabel\":{\"align\":\"left\"},\"hovermode\":\"closest\",\"mapbox\":{\"style\":\"light\"},\"paper_bgcolor\":\"white\",\"plot_bgcolor\":\"#E5ECF6\",\"polar\":{\"angularaxis\":{\"gridcolor\":\"white\",\"linecolor\":\"white\",\"ticks\":\"\"},\"bgcolor\":\"#E5ECF6\",\"radialaxis\":{\"gridcolor\":\"white\",\"linecolor\":\"white\",\"ticks\":\"\"}},\"scene\":{\"xaxis\":{\"backgroundcolor\":\"#E5ECF6\",\"gridcolor\":\"white\",\"gridwidth\":2,\"linecolor\":\"white\",\"showbackground\":true,\"ticks\":\"\",\"zerolinecolor\":\"white\"},\"yaxis\":{\"backgroundcolor\":\"#E5ECF6\",\"gridcolor\":\"white\",\"gridwidth\":2,\"linecolor\":\"white\",\"showbackground\":true,\"ticks\":\"\",\"zerolinecolor\":\"white\"},\"zaxis\":{\"backgroundcolor\":\"#E5ECF6\",\"gridcolor\":\"white\",\"gridwidth\":2,\"linecolor\":\"white\",\"showbackground\":true,\"ticks\":\"\",\"zerolinecolor\":\"white\"}},\"shapedefaults\":{\"line\":{\"color\":\"#2a3f5f\"}},\"ternary\":{\"aaxis\":{\"gridcolor\":\"white\",\"linecolor\":\"white\",\"ticks\":\"\"},\"baxis\":{\"gridcolor\":\"white\",\"linecolor\":\"white\",\"ticks\":\"\"},\"bgcolor\":\"#E5ECF6\",\"caxis\":{\"gridcolor\":\"white\",\"linecolor\":\"white\",\"ticks\":\"\"}},\"title\":{\"x\":0.05},\"xaxis\":{\"automargin\":true,\"gridcolor\":\"white\",\"linecolor\":\"white\",\"ticks\":\"\",\"title\":{\"standoff\":15},\"zerolinecolor\":\"white\",\"zerolinewidth\":2},\"yaxis\":{\"automargin\":true,\"gridcolor\":\"white\",\"linecolor\":\"white\",\"ticks\":\"\",\"title\":{\"standoff\":15},\"zerolinecolor\":\"white\",\"zerolinewidth\":2}}},\"xaxis\":{\"anchor\":\"y\",\"domain\":[0.0,1.0],\"title\":{\"text\":\"Nombres\"}},\"yaxis\":{\"anchor\":\"x\",\"domain\":[0.0,1.0],\"title\":{\"text\":\"Raciones rescatadas\"}},\"legend\":{\"tracegroupgap\":0},\"margin\":{\"t\":60},\"barmode\":\"relative\"},                        {\"responsive\": true}                    ).then(function(){\n",
       "                            \n",
       "var gd = document.getElementById('6f73a6d1-a2ee-4eee-9906-6a53dbdc524e');\n",
       "var x = new MutationObserver(function (mutations, observer) {{\n",
       "        var display = window.getComputedStyle(gd).display;\n",
       "        if (!display || display === 'none') {{\n",
       "            console.log([gd, 'removed!']);\n",
       "            Plotly.purge(gd);\n",
       "            observer.disconnect();\n",
       "        }}\n",
       "}});\n",
       "\n",
       "// Listen for the removal of the full notebook cells\n",
       "var notebookContainer = gd.closest('#notebook-container');\n",
       "if (notebookContainer) {{\n",
       "    x.observe(notebookContainer, {childList: true});\n",
       "}}\n",
       "\n",
       "// Listen for the clearing of the current output cell\n",
       "var outputEl = gd.closest('.output');\n",
       "if (outputEl) {{\n",
       "    x.observe(outputEl, {childList: true});\n",
       "}}\n",
       "\n",
       "                        })                };                });            </script>        </div>"
      ]
     },
     "metadata": {},
     "output_type": "display_data"
    }
   ],
   "source": [
    "df_actualidad = df2[df2['Dia'].dt.dayofweek == 0]\n",
    "df_actualidad = df_actualidad[df2['Dia'].dt.year == 2022]\n",
    "fig = px.bar(df_actualidad, x=\"Nombres\",y='Raciones rescatadas')\n",
    "fig.show()"
   ]
  },
  {
   "cell_type": "markdown",
   "id": "f27e7c2b",
   "metadata": {},
   "source": [
    "# Martes actualidad"
   ]
  },
  {
   "cell_type": "code",
   "execution_count": 10,
   "id": "019be66c",
   "metadata": {},
   "outputs": [
    {
     "name": "stderr",
     "output_type": "stream",
     "text": [
      "/tmp/ipykernel_34660/3702578867.py:2: UserWarning:\n",
      "\n",
      "Boolean Series key will be reindexed to match DataFrame index.\n",
      "\n"
     ]
    },
    {
     "data": {
      "application/vnd.plotly.v1+json": {
       "config": {
        "plotlyServerURL": "https://plot.ly"
       },
       "data": [
        {
         "alignmentgroup": "True",
         "hovertemplate": "Nombres=%{x}<br>Raciones rescatadas=%{y}<extra></extra>",
         "legendgroup": "",
         "marker": {
          "color": "#636efa",
          "pattern": {
           "shape": ""
          }
         },
         "name": "",
         "offsetgroup": "",
         "orientation": "v",
         "showlegend": false,
         "textposition": "auto",
         "type": "bar",
         "x": [
          "Eñe + que una letra",
          "Pastelería Ludavi",
          "Eñe + que una letra",
          "Pastelería Ludavi",
          "Pastelería Ludavi",
          "Pastelería Ludavi",
          "Pastelería Ludavi",
          "Pastelería Ludavi",
          "Pastelería Ludavi",
          "Eñe + que una letra",
          "Pastelería Ludavi",
          "Eñe + que una letra",
          "Eñe + que una letra",
          "Eñe + que una letra",
          "Eñe + que una letra",
          "Eñe + que una letra",
          "Eñe + que una letra",
          "Eñe + que una letra",
          "Eñe + que una letra",
          "Eñe + que una letra",
          "Eñe + que una letra",
          "Eñe + que una letra",
          "Eñe + que una letra",
          "Eñe + que una letra",
          "Eñe + que una letra",
          "Eñe + que una letra",
          "Eñe + que una letra",
          "Eñe + que una letra",
          "Eñe + que una letra",
          "Zara frutas y verdura",
          "Colegio Mayor Aquinas",
          "CM Loyola",
          "Zara frutas y verdura",
          "Vedruna",
          "CM Loyola",
          "Fruteria Valencia",
          "CM Loyola",
          "CM Loyola",
          "CM Loyola",
          "Fruteria Valencia",
          "CM Loyola",
          "CM Loyola",
          "CM Loyola",
          "Fruteria Valencia",
          "Levaduramadre",
          "CM Loyola",
          "CM Loyola",
          "Zara frutas y verdura",
          "Colegio Mayor Aquinas",
          "Colegio Mayor Aquinas",
          "CM Loyola",
          "Zara frutas y verdura",
          "CM Loyola",
          "Vedruna",
          "Frutería Las Gemelas",
          "Colegio Mayor Aquinas",
          "CM Loyola",
          "Fruterias Andrés",
          "Colegio Mayor Aquinas",
          "Vedruna",
          "Colegio Mayor Aquinas",
          "Fruterias Andrés",
          "Colegio Mayor Aquinas",
          "Colegio Mayor Aquinas",
          "Frutería Las Gemelas",
          "Colegio Mayor Aquinas",
          "Vedruna",
          "CM Loyola",
          "Frutería Las Gemelas",
          "CM Loyola",
          "Colegio Mayor Aquinas",
          "CM Loyola",
          "Fruteria Valencia",
          "CM Loyola",
          "Colegio Mayor Aquinas",
          "Fruteria Valencia",
          "Vedruna",
          "CM Loyola",
          "CM Loyola",
          "Fruteria Valencia",
          "CM Loyola",
          "CM Loyola",
          "Vedruna",
          "Eñe + que una letra",
          "Frutería Las Gemelas",
          "Frutería Las Gemelas",
          "Frutería Las Gemelas",
          "Frutería Las Gemelas",
          "Frutería Las Gemelas",
          "Frutería Las Gemelas",
          "Frutería Las Gemelas",
          "Frutería Las Gemelas",
          "CM Loyola",
          "CM Loyola",
          "CM Loyola",
          "Frutería Las Gemelas",
          "Frutería Las Gemelas",
          "Frutería Las Gemelas",
          "Frutería Las Gemelas",
          "Levaduramadre",
          "Vedruna",
          "CM Loyola",
          "CM Loyola",
          "Colegio Mayor Aquinas",
          "CM Loyola",
          "Eñe + que una letra",
          "Levaduramadre",
          "CM Loyola",
          "Colegio Mayor Aquinas",
          "Levaduramadre",
          "CM Loyola",
          "CM Loyola",
          "CM Loyola",
          "CM Loyola",
          "Levaduramadre",
          "El Cebón",
          "Colegio Mayor Aquinas",
          "Vedruna",
          "Eñe + que una letra",
          "Bonjour",
          "Colegio Mayor Aquinas",
          "CM Loyola",
          "CM Loyola",
          "Vedruna",
          "Bonjour",
          "Eñe + que una letra",
          "CM Loyola",
          "Colegio Mayor Aquinas",
          "CM Loyola",
          "Bonjour",
          "Bonjour",
          "CM Loyola",
          "CM Loyola",
          "CM Loyola",
          "Colegio Mayor Aquinas",
          "Levaduramadre",
          "CM Loyola",
          "CM Loyola",
          "Colegio Mayor Aquinas",
          "Frutería Las Gemelas",
          "Levaduramadre",
          "CM Loyola",
          "Colegio Mayor Aquinas",
          "Colegio Mayor Aquinas",
          "CM Loyola",
          "Colegio Mayor Aquinas",
          "CM Loyola",
          "CM Loyola",
          "Levaduramadre",
          "Bonjour",
          "CM Loyola",
          "Colegio Mayor Aquinas",
          "CM Loyola",
          "Vedruna",
          "Bonjour",
          "CM Loyola",
          "Colegio Mayor Aquinas",
          "Colegio Mayor Aquinas",
          "Bonjour",
          "Colegio Mayor Aquinas",
          "Bonjour",
          "CM Loyola",
          "Vedruna",
          "CM Loyola",
          "Bonjour",
          "CM Loyola",
          "Colegio Mayor Aquinas",
          "CM Loyola",
          "CM Loyola",
          "Pastelería Ludavi",
          "Pastelería Ludavi",
          "Pastelería Ludavi",
          "Pastelería Ludavi",
          "Pastelería Ludavi",
          "Pastelería Ludavi",
          "Pastelería Ludavi",
          "Pastelería Ludavi",
          "Pastelería Ludavi",
          "Pastelería Ludavi",
          "Pastelería Ludavi",
          "Pastelería Ludavi",
          "Pastelería Ludavi",
          "Pastelería Ludavi",
          "Pastelería Ludavi",
          "Pastelería Ludavi",
          "Pastelería Ludavi",
          "Frutería Las Gemelas",
          "Frutería Las Gemelas",
          "Frutería Las Gemelas",
          "Frutería Las Gemelas",
          "Frutería Las Gemelas",
          "Frutería Las Gemelas",
          "Frutería Las Gemelas",
          "Frutería Las Gemelas",
          "Frutería Las Gemelas",
          "Frutería Las Gemelas",
          "Frutería Las Gemelas",
          "Frutería Las Gemelas",
          "Frutería Las Gemelas",
          "Frutería Las Gemelas",
          "Frutería Las Gemelas",
          "Vedruna",
          "CM Loyola",
          "CM Loyola",
          "Colegio Mayor Aquinas",
          "Colegio Mayor Aquinas",
          "CM Loyola",
          "Colegio Mayor Aquinas",
          "CM Loyola",
          "Colegio Mayor Aquinas",
          "CM Loyola",
          "CM Loyola",
          "CM Loyola",
          "CM Loyola",
          "Colegio Mayor Aquinas",
          "CM Loyola",
          "CM Loyola",
          "CM Loyola",
          "CM Loyola",
          "CM Loyola",
          "Colegio Mayor Aquinas",
          "CM Loyola",
          "Vedruna",
          "Colegio Mayor Aquinas",
          "Eñe + que una letra",
          "Vedruna",
          "CM Loyola",
          "Colegio Mayor Aquinas",
          "CM Loyola",
          "CM Loyola",
          "Colegio Mayor Aquinas",
          "CM Loyola",
          "Vedruna",
          "CM Loyola",
          "Colegio Mayor Aquinas",
          "CM Loyola",
          "Bonjour",
          "Shurma Huerta",
          "Eñe + que una letra",
          "CM Loyola",
          "CM Loyola",
          "Bonjour",
          "Bonjour",
          "Bonjour",
          "Bonjour",
          "Bonjour",
          "Bonjour",
          "Zara frutas y verdura",
          "Bonjour",
          "CM Loyola",
          "CM Loyola",
          "CM Loyola",
          "Bonjour",
          "Fruteria Valencia",
          "CM Loyola",
          "CM Loyola",
          "Frutería Las Gemelas",
          "Fruteria Valencia",
          "CM Loyola",
          "CM Loyola",
          "Bonjour",
          "Shurma Huerta",
          "CM Loyola",
          "CM Loyola",
          "Bonjour",
          "Shurma Huerta",
          "Colegio Mayor Aquinas",
          "CM Loyola",
          "Levaduramadre",
          "Frutería Las Gemelas",
          "CM Loyola",
          "CM Loyola",
          "Colegio Mayor Aquinas",
          "Shurma Huerta",
          "El Cebón",
          "Vedruna",
          "Colegio Mayor Aquinas",
          "Fruteria Valencia",
          "CM Loyola",
          "CM Loyola",
          "Shurma Huerta",
          "CM Loyola",
          "Colegio Mayor Aquinas",
          "Shurma Huerta",
          "CM Loyola",
          "CM Loyola",
          "Vedruna",
          "Frutería Las Gemelas",
          "CM Loyola",
          "Colegio Mayor Aquinas",
          "Shurma Huerta",
          "CM Loyola",
          "CM Loyola",
          "Colegio Mayor Aquinas",
          "Shurma Huerta",
          "CM Loyola",
          "CM Loyola",
          "Pastelería Ludavi",
          "Fruteria Valencia",
          "CM Loyola",
          "Vedruna",
          "Frutería Las Gemelas",
          "Pastelería Ludavi",
          "CM Loyola",
          "Vedruna",
          "Fruteria Valencia",
          "Pastelería Ludavi",
          "Colegio Mayor Aquinas",
          "Vedruna",
          "CM Loyola",
          "Frutería Las Gemelas",
          "Pastelería Ludavi",
          "Vedruna",
          "Colegio Mayor Aquinas",
          "Colegio Mayor Aquinas",
          "Colegio Mayor Aquinas",
          "Frutería Las Gemelas",
          "Pastelería Ludavi",
          "Colegio Mayor Aquinas",
          "Colegio Mayor Aquinas",
          "Pastelería Ludavi",
          "Frutería Las Gemelas",
          "El Cebón",
          "Colegio Mayor Aquinas",
          "Vedruna",
          "Colegio Mayor Aquinas",
          "Fruteria Valencia",
          "Fruteria Valencia",
          "Pastelería Ludavi",
          "Vedruna",
          "Vedruna",
          "Fruteria Valencia",
          "Pastelería Ludavi",
          "Colegio Mayor Aquinas",
          "Colegio Mayor Aquinas",
          "CM Loyola",
          "Pastelería Ludavi",
          "Pastelería Ludavi",
          "Vedruna",
          "Colegio Mayor Aquinas",
          "Colegio Mayor Aquinas",
          "CM Loyola",
          "Fruteria Valencia",
          "Pastelería Ludavi",
          "Colegio Mayor Aquinas",
          "Colegio Mayor Aquinas",
          "Vedruna",
          "CM Loyola",
          "Pastelería Ludavi",
          "Pastelería Ludavi",
          "Colegio Mayor Aquinas",
          "Vedruna",
          "Fruteria Valencia",
          "Pastelería Ludavi",
          "Colegio Mayor Aquinas",
          "Colegio Mayor Aquinas",
          "Vedruna",
          "Vedruna",
          "Pastelería Ludavi",
          "Pastelería Ludavi",
          "Colegio Mayor Aquinas",
          "Vedruna",
          "Colegio Mayor Aquinas",
          "Vedruna",
          "Frutería Las Gemelas",
          "Pastelería Ludavi",
          "Vedruna",
          "Vedruna",
          "Vedruna",
          "Pastelería Ludavi",
          "Fruteria Valencia",
          "Vedruna",
          "Colegio Mayor Aquinas",
          "Colegio Mayor Aquinas",
          "CM Loyola",
          "Colegio Mayor Aquinas",
          "CM Loyola",
          "Colegio Mayor Aquinas",
          "CM Loyola",
          "CM Loyola",
          "CM Loyola",
          "CM Loyola",
          "CM Loyola",
          "Vedruna",
          "CM Loyola",
          "CM Loyola",
          "CM Loyola",
          "CM Loyola",
          "Vedruna",
          "CM Loyola",
          "CM Loyola",
          "CM Loyola",
          "CM Loyola",
          "Colegio Mayor Aquinas",
          "CM Loyola",
          "Colegio Mayor Aquinas",
          "CM Loyola",
          "CM Loyola",
          "CM Loyola",
          "Colegio Mayor Aquinas",
          "CM Loyola",
          "CM Loyola",
          "CM Loyola",
          "CM Loyola",
          "CM Loyola",
          "Colegio Mayor Aquinas",
          "Colegio Mayor Aquinas",
          "CM Loyola",
          "Colegio Mayor Aquinas",
          "CM Loyola",
          "Colegio Mayor Aquinas",
          "CM Loyola",
          "Colegio Mayor Aquinas",
          "Colegio Mayor Aquinas",
          "CM Loyola",
          "CM Loyola",
          "Colegio Mayor Aquinas",
          "CM Loyola",
          "CM Loyola",
          "Colegio Mayor Aquinas",
          "CM Loyola",
          "CM Loyola",
          "Vedruna",
          "CM Loyola",
          "Zara frutas y verdura",
          "Zara frutas y verdura",
          "Zara frutas y verdura",
          "Zara frutas y verdura",
          "Zara frutas y verdura",
          "Zara frutas y verdura",
          "Zara frutas y verdura",
          "Zara frutas y verdura",
          "Zara frutas y verdura",
          "Zara frutas y verdura",
          "Zara frutas y verdura",
          "Zara frutas y verdura",
          "Zara frutas y verdura",
          "Zara frutas y verdura",
          "Zara frutas y verdura",
          "Vedruna",
          "CM Loyola",
          "CM Loyola",
          "Eñe + que una letra",
          "CM Loyola",
          "Vedruna",
          "CM Loyola",
          "CM Loyola",
          "CM Loyola",
          "Vedruna",
          "CM Loyola",
          "Vedruna",
          "CM Loyola",
          "CM Loyola",
          "Vedruna",
          "CM Loyola"
         ],
         "xaxis": "x",
         "y": [
          4,
          0,
          4,
          0,
          0,
          5,
          0,
          0,
          0,
          5,
          5,
          4,
          3,
          4,
          4,
          2,
          2,
          4,
          4,
          2,
          4,
          2,
          2,
          4,
          5,
          2,
          1,
          1,
          4,
          3,
          4,
          2,
          3,
          2,
          3,
          3,
          1,
          1,
          2,
          3,
          1,
          2,
          2,
          3,
          0.5,
          2,
          2,
          3,
          2,
          2,
          1,
          3,
          2,
          2,
          3,
          1,
          2,
          3,
          1,
          1,
          1,
          3,
          1,
          1,
          3,
          1,
          2,
          2,
          3,
          4,
          3,
          4,
          3,
          1,
          1,
          3,
          1,
          2,
          1,
          6,
          2,
          2,
          2,
          2,
          12,
          3,
          9,
          21,
          9,
          12,
          12,
          12,
          5,
          2,
          4,
          15,
          15,
          9,
          15,
          2,
          4,
          4,
          4,
          4,
          2,
          1,
          0.5,
          1,
          1,
          0.5,
          1,
          1,
          6,
          3,
          3.5,
          7,
          7,
          7,
          9,
          1.5,
          3,
          3,
          3,
          3,
          3,
          6,
          6,
          6,
          6,
          2,
          2,
          4,
          4,
          4,
          4,
          2,
          4,
          4,
          4,
          15,
          2.5,
          5,
          5,
          5,
          2,
          2,
          2,
          2,
          1,
          2,
          4,
          4,
          4,
          4,
          2.5,
          3,
          3,
          3,
          1.5,
          3,
          1.5,
          3,
          3,
          3,
          2.5,
          5,
          5,
          5,
          5,
          0,
          0,
          0,
          0,
          0,
          0,
          0,
          0,
          0,
          0,
          0,
          0,
          0,
          0,
          0,
          0,
          0,
          3,
          3,
          3,
          3,
          3,
          3,
          3,
          3,
          3,
          3,
          3,
          3,
          3,
          3,
          3,
          4,
          4,
          2,
          5,
          1,
          1,
          3,
          3,
          4,
          4,
          5,
          3,
          3,
          5,
          5,
          4,
          6,
          4,
          2,
          4,
          2,
          5,
          5,
          3,
          3,
          3,
          3,
          3,
          3,
          4,
          4,
          5,
          5,
          5,
          5,
          2.5,
          15,
          5,
          5,
          5,
          2.5,
          1.5,
          4.5,
          1.5,
          0.5,
          2.5,
          18,
          3,
          6,
          6,
          6,
          2,
          12,
          4,
          4,
          12,
          12,
          4,
          4,
          2,
          12,
          4,
          4,
          1,
          6,
          2,
          2,
          2,
          12,
          4,
          4,
          4,
          9,
          3,
          3,
          3,
          15,
          5,
          5,
          9,
          3,
          3,
          27,
          9,
          9,
          9,
          9,
          3,
          3,
          3,
          1,
          1,
          1,
          15,
          5,
          5,
          1,
          6,
          2,
          2,
          3,
          0.5,
          2,
          2,
          9,
          1.5,
          3,
          3,
          3,
          18,
          3,
          3,
          3,
          5,
          3,
          9,
          1.5,
          3,
          3,
          2.5,
          15,
          2,
          2,
          2,
          4,
          12,
          12,
          2,
          4,
          3,
          9,
          1.5,
          3,
          2,
          4,
          2,
          2,
          4,
          4,
          4,
          4,
          12,
          2,
          4,
          2,
          2,
          5,
          1,
          1,
          2,
          4,
          12,
          2,
          4,
          4,
          4,
          4,
          2.5,
          2.5,
          2,
          2,
          5,
          5,
          9,
          1.5,
          3,
          3,
          3,
          2.5,
          15,
          5,
          5,
          5,
          2,
          1,
          2,
          6,
          4,
          3,
          6,
          6,
          7,
          7,
          3,
          3,
          2,
          6,
          4,
          4,
          4,
          4,
          4,
          4,
          4,
          3,
          4,
          4,
          4,
          3,
          4,
          5,
          4,
          4,
          4,
          4,
          4,
          2,
          4,
          5,
          4,
          2,
          4,
          4,
          4,
          4,
          4,
          4,
          5,
          4,
          3,
          6,
          1,
          2,
          3,
          3,
          3,
          3,
          3,
          3,
          3,
          3,
          3,
          3,
          3,
          3,
          3,
          3,
          3,
          3,
          1,
          3,
          3,
          6,
          3,
          3,
          3,
          3,
          2,
          3,
          3,
          3,
          3,
          2,
          3
         ],
         "yaxis": "y"
        }
       ],
       "layout": {
        "barmode": "relative",
        "legend": {
         "tracegroupgap": 0
        },
        "margin": {
         "t": 60
        },
        "template": {
         "data": {
          "bar": [
           {
            "error_x": {
             "color": "#2a3f5f"
            },
            "error_y": {
             "color": "#2a3f5f"
            },
            "marker": {
             "line": {
              "color": "#E5ECF6",
              "width": 0.5
             },
             "pattern": {
              "fillmode": "overlay",
              "size": 10,
              "solidity": 0.2
             }
            },
            "type": "bar"
           }
          ],
          "barpolar": [
           {
            "marker": {
             "line": {
              "color": "#E5ECF6",
              "width": 0.5
             },
             "pattern": {
              "fillmode": "overlay",
              "size": 10,
              "solidity": 0.2
             }
            },
            "type": "barpolar"
           }
          ],
          "carpet": [
           {
            "aaxis": {
             "endlinecolor": "#2a3f5f",
             "gridcolor": "white",
             "linecolor": "white",
             "minorgridcolor": "white",
             "startlinecolor": "#2a3f5f"
            },
            "baxis": {
             "endlinecolor": "#2a3f5f",
             "gridcolor": "white",
             "linecolor": "white",
             "minorgridcolor": "white",
             "startlinecolor": "#2a3f5f"
            },
            "type": "carpet"
           }
          ],
          "choropleth": [
           {
            "colorbar": {
             "outlinewidth": 0,
             "ticks": ""
            },
            "type": "choropleth"
           }
          ],
          "contour": [
           {
            "colorbar": {
             "outlinewidth": 0,
             "ticks": ""
            },
            "colorscale": [
             [
              0,
              "#0d0887"
             ],
             [
              0.1111111111111111,
              "#46039f"
             ],
             [
              0.2222222222222222,
              "#7201a8"
             ],
             [
              0.3333333333333333,
              "#9c179e"
             ],
             [
              0.4444444444444444,
              "#bd3786"
             ],
             [
              0.5555555555555556,
              "#d8576b"
             ],
             [
              0.6666666666666666,
              "#ed7953"
             ],
             [
              0.7777777777777778,
              "#fb9f3a"
             ],
             [
              0.8888888888888888,
              "#fdca26"
             ],
             [
              1,
              "#f0f921"
             ]
            ],
            "type": "contour"
           }
          ],
          "contourcarpet": [
           {
            "colorbar": {
             "outlinewidth": 0,
             "ticks": ""
            },
            "type": "contourcarpet"
           }
          ],
          "heatmap": [
           {
            "colorbar": {
             "outlinewidth": 0,
             "ticks": ""
            },
            "colorscale": [
             [
              0,
              "#0d0887"
             ],
             [
              0.1111111111111111,
              "#46039f"
             ],
             [
              0.2222222222222222,
              "#7201a8"
             ],
             [
              0.3333333333333333,
              "#9c179e"
             ],
             [
              0.4444444444444444,
              "#bd3786"
             ],
             [
              0.5555555555555556,
              "#d8576b"
             ],
             [
              0.6666666666666666,
              "#ed7953"
             ],
             [
              0.7777777777777778,
              "#fb9f3a"
             ],
             [
              0.8888888888888888,
              "#fdca26"
             ],
             [
              1,
              "#f0f921"
             ]
            ],
            "type": "heatmap"
           }
          ],
          "heatmapgl": [
           {
            "colorbar": {
             "outlinewidth": 0,
             "ticks": ""
            },
            "colorscale": [
             [
              0,
              "#0d0887"
             ],
             [
              0.1111111111111111,
              "#46039f"
             ],
             [
              0.2222222222222222,
              "#7201a8"
             ],
             [
              0.3333333333333333,
              "#9c179e"
             ],
             [
              0.4444444444444444,
              "#bd3786"
             ],
             [
              0.5555555555555556,
              "#d8576b"
             ],
             [
              0.6666666666666666,
              "#ed7953"
             ],
             [
              0.7777777777777778,
              "#fb9f3a"
             ],
             [
              0.8888888888888888,
              "#fdca26"
             ],
             [
              1,
              "#f0f921"
             ]
            ],
            "type": "heatmapgl"
           }
          ],
          "histogram": [
           {
            "marker": {
             "pattern": {
              "fillmode": "overlay",
              "size": 10,
              "solidity": 0.2
             }
            },
            "type": "histogram"
           }
          ],
          "histogram2d": [
           {
            "colorbar": {
             "outlinewidth": 0,
             "ticks": ""
            },
            "colorscale": [
             [
              0,
              "#0d0887"
             ],
             [
              0.1111111111111111,
              "#46039f"
             ],
             [
              0.2222222222222222,
              "#7201a8"
             ],
             [
              0.3333333333333333,
              "#9c179e"
             ],
             [
              0.4444444444444444,
              "#bd3786"
             ],
             [
              0.5555555555555556,
              "#d8576b"
             ],
             [
              0.6666666666666666,
              "#ed7953"
             ],
             [
              0.7777777777777778,
              "#fb9f3a"
             ],
             [
              0.8888888888888888,
              "#fdca26"
             ],
             [
              1,
              "#f0f921"
             ]
            ],
            "type": "histogram2d"
           }
          ],
          "histogram2dcontour": [
           {
            "colorbar": {
             "outlinewidth": 0,
             "ticks": ""
            },
            "colorscale": [
             [
              0,
              "#0d0887"
             ],
             [
              0.1111111111111111,
              "#46039f"
             ],
             [
              0.2222222222222222,
              "#7201a8"
             ],
             [
              0.3333333333333333,
              "#9c179e"
             ],
             [
              0.4444444444444444,
              "#bd3786"
             ],
             [
              0.5555555555555556,
              "#d8576b"
             ],
             [
              0.6666666666666666,
              "#ed7953"
             ],
             [
              0.7777777777777778,
              "#fb9f3a"
             ],
             [
              0.8888888888888888,
              "#fdca26"
             ],
             [
              1,
              "#f0f921"
             ]
            ],
            "type": "histogram2dcontour"
           }
          ],
          "mesh3d": [
           {
            "colorbar": {
             "outlinewidth": 0,
             "ticks": ""
            },
            "type": "mesh3d"
           }
          ],
          "parcoords": [
           {
            "line": {
             "colorbar": {
              "outlinewidth": 0,
              "ticks": ""
             }
            },
            "type": "parcoords"
           }
          ],
          "pie": [
           {
            "automargin": true,
            "type": "pie"
           }
          ],
          "scatter": [
           {
            "marker": {
             "colorbar": {
              "outlinewidth": 0,
              "ticks": ""
             }
            },
            "type": "scatter"
           }
          ],
          "scatter3d": [
           {
            "line": {
             "colorbar": {
              "outlinewidth": 0,
              "ticks": ""
             }
            },
            "marker": {
             "colorbar": {
              "outlinewidth": 0,
              "ticks": ""
             }
            },
            "type": "scatter3d"
           }
          ],
          "scattercarpet": [
           {
            "marker": {
             "colorbar": {
              "outlinewidth": 0,
              "ticks": ""
             }
            },
            "type": "scattercarpet"
           }
          ],
          "scattergeo": [
           {
            "marker": {
             "colorbar": {
              "outlinewidth": 0,
              "ticks": ""
             }
            },
            "type": "scattergeo"
           }
          ],
          "scattergl": [
           {
            "marker": {
             "colorbar": {
              "outlinewidth": 0,
              "ticks": ""
             }
            },
            "type": "scattergl"
           }
          ],
          "scattermapbox": [
           {
            "marker": {
             "colorbar": {
              "outlinewidth": 0,
              "ticks": ""
             }
            },
            "type": "scattermapbox"
           }
          ],
          "scatterpolar": [
           {
            "marker": {
             "colorbar": {
              "outlinewidth": 0,
              "ticks": ""
             }
            },
            "type": "scatterpolar"
           }
          ],
          "scatterpolargl": [
           {
            "marker": {
             "colorbar": {
              "outlinewidth": 0,
              "ticks": ""
             }
            },
            "type": "scatterpolargl"
           }
          ],
          "scatterternary": [
           {
            "marker": {
             "colorbar": {
              "outlinewidth": 0,
              "ticks": ""
             }
            },
            "type": "scatterternary"
           }
          ],
          "surface": [
           {
            "colorbar": {
             "outlinewidth": 0,
             "ticks": ""
            },
            "colorscale": [
             [
              0,
              "#0d0887"
             ],
             [
              0.1111111111111111,
              "#46039f"
             ],
             [
              0.2222222222222222,
              "#7201a8"
             ],
             [
              0.3333333333333333,
              "#9c179e"
             ],
             [
              0.4444444444444444,
              "#bd3786"
             ],
             [
              0.5555555555555556,
              "#d8576b"
             ],
             [
              0.6666666666666666,
              "#ed7953"
             ],
             [
              0.7777777777777778,
              "#fb9f3a"
             ],
             [
              0.8888888888888888,
              "#fdca26"
             ],
             [
              1,
              "#f0f921"
             ]
            ],
            "type": "surface"
           }
          ],
          "table": [
           {
            "cells": {
             "fill": {
              "color": "#EBF0F8"
             },
             "line": {
              "color": "white"
             }
            },
            "header": {
             "fill": {
              "color": "#C8D4E3"
             },
             "line": {
              "color": "white"
             }
            },
            "type": "table"
           }
          ]
         },
         "layout": {
          "annotationdefaults": {
           "arrowcolor": "#2a3f5f",
           "arrowhead": 0,
           "arrowwidth": 1
          },
          "autotypenumbers": "strict",
          "coloraxis": {
           "colorbar": {
            "outlinewidth": 0,
            "ticks": ""
           }
          },
          "colorscale": {
           "diverging": [
            [
             0,
             "#8e0152"
            ],
            [
             0.1,
             "#c51b7d"
            ],
            [
             0.2,
             "#de77ae"
            ],
            [
             0.3,
             "#f1b6da"
            ],
            [
             0.4,
             "#fde0ef"
            ],
            [
             0.5,
             "#f7f7f7"
            ],
            [
             0.6,
             "#e6f5d0"
            ],
            [
             0.7,
             "#b8e186"
            ],
            [
             0.8,
             "#7fbc41"
            ],
            [
             0.9,
             "#4d9221"
            ],
            [
             1,
             "#276419"
            ]
           ],
           "sequential": [
            [
             0,
             "#0d0887"
            ],
            [
             0.1111111111111111,
             "#46039f"
            ],
            [
             0.2222222222222222,
             "#7201a8"
            ],
            [
             0.3333333333333333,
             "#9c179e"
            ],
            [
             0.4444444444444444,
             "#bd3786"
            ],
            [
             0.5555555555555556,
             "#d8576b"
            ],
            [
             0.6666666666666666,
             "#ed7953"
            ],
            [
             0.7777777777777778,
             "#fb9f3a"
            ],
            [
             0.8888888888888888,
             "#fdca26"
            ],
            [
             1,
             "#f0f921"
            ]
           ],
           "sequentialminus": [
            [
             0,
             "#0d0887"
            ],
            [
             0.1111111111111111,
             "#46039f"
            ],
            [
             0.2222222222222222,
             "#7201a8"
            ],
            [
             0.3333333333333333,
             "#9c179e"
            ],
            [
             0.4444444444444444,
             "#bd3786"
            ],
            [
             0.5555555555555556,
             "#d8576b"
            ],
            [
             0.6666666666666666,
             "#ed7953"
            ],
            [
             0.7777777777777778,
             "#fb9f3a"
            ],
            [
             0.8888888888888888,
             "#fdca26"
            ],
            [
             1,
             "#f0f921"
            ]
           ]
          },
          "colorway": [
           "#636efa",
           "#EF553B",
           "#00cc96",
           "#ab63fa",
           "#FFA15A",
           "#19d3f3",
           "#FF6692",
           "#B6E880",
           "#FF97FF",
           "#FECB52"
          ],
          "font": {
           "color": "#2a3f5f"
          },
          "geo": {
           "bgcolor": "white",
           "lakecolor": "white",
           "landcolor": "#E5ECF6",
           "showlakes": true,
           "showland": true,
           "subunitcolor": "white"
          },
          "hoverlabel": {
           "align": "left"
          },
          "hovermode": "closest",
          "mapbox": {
           "style": "light"
          },
          "paper_bgcolor": "white",
          "plot_bgcolor": "#E5ECF6",
          "polar": {
           "angularaxis": {
            "gridcolor": "white",
            "linecolor": "white",
            "ticks": ""
           },
           "bgcolor": "#E5ECF6",
           "radialaxis": {
            "gridcolor": "white",
            "linecolor": "white",
            "ticks": ""
           }
          },
          "scene": {
           "xaxis": {
            "backgroundcolor": "#E5ECF6",
            "gridcolor": "white",
            "gridwidth": 2,
            "linecolor": "white",
            "showbackground": true,
            "ticks": "",
            "zerolinecolor": "white"
           },
           "yaxis": {
            "backgroundcolor": "#E5ECF6",
            "gridcolor": "white",
            "gridwidth": 2,
            "linecolor": "white",
            "showbackground": true,
            "ticks": "",
            "zerolinecolor": "white"
           },
           "zaxis": {
            "backgroundcolor": "#E5ECF6",
            "gridcolor": "white",
            "gridwidth": 2,
            "linecolor": "white",
            "showbackground": true,
            "ticks": "",
            "zerolinecolor": "white"
           }
          },
          "shapedefaults": {
           "line": {
            "color": "#2a3f5f"
           }
          },
          "ternary": {
           "aaxis": {
            "gridcolor": "white",
            "linecolor": "white",
            "ticks": ""
           },
           "baxis": {
            "gridcolor": "white",
            "linecolor": "white",
            "ticks": ""
           },
           "bgcolor": "#E5ECF6",
           "caxis": {
            "gridcolor": "white",
            "linecolor": "white",
            "ticks": ""
           }
          },
          "title": {
           "x": 0.05
          },
          "xaxis": {
           "automargin": true,
           "gridcolor": "white",
           "linecolor": "white",
           "ticks": "",
           "title": {
            "standoff": 15
           },
           "zerolinecolor": "white",
           "zerolinewidth": 2
          },
          "yaxis": {
           "automargin": true,
           "gridcolor": "white",
           "linecolor": "white",
           "ticks": "",
           "title": {
            "standoff": 15
           },
           "zerolinecolor": "white",
           "zerolinewidth": 2
          }
         }
        },
        "xaxis": {
         "anchor": "y",
         "domain": [
          0,
          1
         ],
         "title": {
          "text": "Nombres"
         }
        },
        "yaxis": {
         "anchor": "x",
         "domain": [
          0,
          1
         ],
         "title": {
          "text": "Raciones rescatadas"
         }
        }
       }
      },
      "text/html": [
       "<div>                            <div id=\"fb1198a7-5e57-44f6-ad91-044ecf98e6fc\" class=\"plotly-graph-div\" style=\"height:525px; width:100%;\"></div>            <script type=\"text/javascript\">                require([\"plotly\"], function(Plotly) {                    window.PLOTLYENV=window.PLOTLYENV || {};                                    if (document.getElementById(\"fb1198a7-5e57-44f6-ad91-044ecf98e6fc\")) {                    Plotly.newPlot(                        \"fb1198a7-5e57-44f6-ad91-044ecf98e6fc\",                        [{\"alignmentgroup\":\"True\",\"hovertemplate\":\"Nombres=%{x}<br>Raciones rescatadas=%{y}<extra></extra>\",\"legendgroup\":\"\",\"marker\":{\"color\":\"#636efa\",\"pattern\":{\"shape\":\"\"}},\"name\":\"\",\"offsetgroup\":\"\",\"orientation\":\"v\",\"showlegend\":false,\"textposition\":\"auto\",\"x\":[\"E\\u00f1e + que una letra\",\"Pasteler\\u00eda Ludavi\",\"E\\u00f1e + que una letra\",\"Pasteler\\u00eda Ludavi\",\"Pasteler\\u00eda Ludavi\",\"Pasteler\\u00eda Ludavi\",\"Pasteler\\u00eda Ludavi\",\"Pasteler\\u00eda Ludavi\",\"Pasteler\\u00eda Ludavi\",\"E\\u00f1e + que una letra\",\"Pasteler\\u00eda Ludavi\",\"E\\u00f1e + que una letra\",\"E\\u00f1e + que una letra\",\"E\\u00f1e + que una letra\",\"E\\u00f1e + que una letra\",\"E\\u00f1e + que una letra\",\"E\\u00f1e + que una letra\",\"E\\u00f1e + que una letra\",\"E\\u00f1e + que una letra\",\"E\\u00f1e + que una letra\",\"E\\u00f1e + que una letra\",\"E\\u00f1e + que una letra\",\"E\\u00f1e + que una letra\",\"E\\u00f1e + que una letra\",\"E\\u00f1e + que una letra\",\"E\\u00f1e + que una letra\",\"E\\u00f1e + que una letra\",\"E\\u00f1e + que una letra\",\"E\\u00f1e + que una letra\",\"Zara frutas y verdura\",\"Colegio Mayor Aquinas\",\"CM Loyola\",\"Zara frutas y verdura\",\"Vedruna\",\"CM Loyola\",\"Fruteria Valencia\",\"CM Loyola\",\"CM Loyola\",\"CM Loyola\",\"Fruteria Valencia\",\"CM Loyola\",\"CM Loyola\",\"CM Loyola\",\"Fruteria Valencia\",\"Levaduramadre\",\"CM Loyola\",\"CM Loyola\",\"Zara frutas y verdura\",\"Colegio Mayor Aquinas\",\"Colegio Mayor Aquinas\",\"CM Loyola\",\"Zara frutas y verdura\",\"CM Loyola\",\"Vedruna\",\"Fruter\\u00eda Las Gemelas\",\"Colegio Mayor Aquinas\",\"CM Loyola\",\"Fruterias Andr\\u00e9s\",\"Colegio Mayor Aquinas\",\"Vedruna\",\"Colegio Mayor Aquinas\",\"Fruterias Andr\\u00e9s\",\"Colegio Mayor Aquinas\",\"Colegio Mayor Aquinas\",\"Fruter\\u00eda Las Gemelas\",\"Colegio Mayor Aquinas\",\"Vedruna\",\"CM Loyola\",\"Fruter\\u00eda Las Gemelas\",\"CM Loyola\",\"Colegio Mayor Aquinas\",\"CM Loyola\",\"Fruteria Valencia\",\"CM Loyola\",\"Colegio Mayor Aquinas\",\"Fruteria Valencia\",\"Vedruna\",\"CM Loyola\",\"CM Loyola\",\"Fruteria Valencia\",\"CM Loyola\",\"CM Loyola\",\"Vedruna\",\"E\\u00f1e + que una letra\",\"Fruter\\u00eda Las Gemelas\",\"Fruter\\u00eda Las Gemelas\",\"Fruter\\u00eda Las Gemelas\",\"Fruter\\u00eda Las Gemelas\",\"Fruter\\u00eda Las Gemelas\",\"Fruter\\u00eda Las Gemelas\",\"Fruter\\u00eda Las Gemelas\",\"Fruter\\u00eda Las Gemelas\",\"CM Loyola\",\"CM Loyola\",\"CM Loyola\",\"Fruter\\u00eda Las Gemelas\",\"Fruter\\u00eda Las Gemelas\",\"Fruter\\u00eda Las Gemelas\",\"Fruter\\u00eda Las Gemelas\",\"Levaduramadre\",\"Vedruna\",\"CM Loyola\",\"CM Loyola\",\"Colegio Mayor Aquinas\",\"CM Loyola\",\"E\\u00f1e + que una letra\",\"Levaduramadre\",\"CM Loyola\",\"Colegio Mayor Aquinas\",\"Levaduramadre\",\"CM Loyola\",\"CM Loyola\",\"CM Loyola\",\"CM Loyola\",\"Levaduramadre\",\"El Ceb\\u00f3n\",\"Colegio Mayor Aquinas\",\"Vedruna\",\"E\\u00f1e + que una letra\",\"Bonjour\",\"Colegio Mayor Aquinas\",\"CM Loyola\",\"CM Loyola\",\"Vedruna\",\"Bonjour\",\"E\\u00f1e + que una letra\",\"CM Loyola\",\"Colegio Mayor Aquinas\",\"CM Loyola\",\"Bonjour\",\"Bonjour\",\"CM Loyola\",\"CM Loyola\",\"CM Loyola\",\"Colegio Mayor Aquinas\",\"Levaduramadre\",\"CM Loyola\",\"CM Loyola\",\"Colegio Mayor Aquinas\",\"Fruter\\u00eda Las Gemelas\",\"Levaduramadre\",\"CM Loyola\",\"Colegio Mayor Aquinas\",\"Colegio Mayor Aquinas\",\"CM Loyola\",\"Colegio Mayor Aquinas\",\"CM Loyola\",\"CM Loyola\",\"Levaduramadre\",\"Bonjour\",\"CM Loyola\",\"Colegio Mayor Aquinas\",\"CM Loyola\",\"Vedruna\",\"Bonjour\",\"CM Loyola\",\"Colegio Mayor Aquinas\",\"Colegio Mayor Aquinas\",\"Bonjour\",\"Colegio Mayor Aquinas\",\"Bonjour\",\"CM Loyola\",\"Vedruna\",\"CM Loyola\",\"Bonjour\",\"CM Loyola\",\"Colegio Mayor Aquinas\",\"CM Loyola\",\"CM Loyola\",\"Pasteler\\u00eda Ludavi\",\"Pasteler\\u00eda Ludavi\",\"Pasteler\\u00eda Ludavi\",\"Pasteler\\u00eda Ludavi\",\"Pasteler\\u00eda Ludavi\",\"Pasteler\\u00eda Ludavi\",\"Pasteler\\u00eda Ludavi\",\"Pasteler\\u00eda Ludavi\",\"Pasteler\\u00eda Ludavi\",\"Pasteler\\u00eda Ludavi\",\"Pasteler\\u00eda Ludavi\",\"Pasteler\\u00eda Ludavi\",\"Pasteler\\u00eda Ludavi\",\"Pasteler\\u00eda Ludavi\",\"Pasteler\\u00eda Ludavi\",\"Pasteler\\u00eda Ludavi\",\"Pasteler\\u00eda Ludavi\",\"Fruter\\u00eda Las Gemelas\",\"Fruter\\u00eda Las Gemelas\",\"Fruter\\u00eda Las Gemelas\",\"Fruter\\u00eda Las Gemelas\",\"Fruter\\u00eda Las Gemelas\",\"Fruter\\u00eda Las Gemelas\",\"Fruter\\u00eda Las Gemelas\",\"Fruter\\u00eda Las Gemelas\",\"Fruter\\u00eda Las Gemelas\",\"Fruter\\u00eda Las Gemelas\",\"Fruter\\u00eda Las Gemelas\",\"Fruter\\u00eda Las Gemelas\",\"Fruter\\u00eda Las Gemelas\",\"Fruter\\u00eda Las Gemelas\",\"Fruter\\u00eda Las Gemelas\",\"Vedruna\",\"CM Loyola\",\"CM Loyola\",\"Colegio Mayor Aquinas\",\"Colegio Mayor Aquinas\",\"CM Loyola\",\"Colegio Mayor Aquinas\",\"CM Loyola\",\"Colegio Mayor Aquinas\",\"CM Loyola\",\"CM Loyola\",\"CM Loyola\",\"CM Loyola\",\"Colegio Mayor Aquinas\",\"CM Loyola\",\"CM Loyola\",\"CM Loyola\",\"CM Loyola\",\"CM Loyola\",\"Colegio Mayor Aquinas\",\"CM Loyola\",\"Vedruna\",\"Colegio Mayor Aquinas\",\"E\\u00f1e + que una letra\",\"Vedruna\",\"CM Loyola\",\"Colegio Mayor Aquinas\",\"CM Loyola\",\"CM Loyola\",\"Colegio Mayor Aquinas\",\"CM Loyola\",\"Vedruna\",\"CM Loyola\",\"Colegio Mayor Aquinas\",\"CM Loyola\",\"Bonjour\",\"Shurma Huerta\",\"E\\u00f1e + que una letra\",\"CM Loyola\",\"CM Loyola\",\"Bonjour\",\"Bonjour\",\"Bonjour\",\"Bonjour\",\"Bonjour\",\"Bonjour\",\"Zara frutas y verdura\",\"Bonjour\",\"CM Loyola\",\"CM Loyola\",\"CM Loyola\",\"Bonjour\",\"Fruteria Valencia\",\"CM Loyola\",\"CM Loyola\",\"Fruter\\u00eda Las Gemelas\",\"Fruteria Valencia\",\"CM Loyola\",\"CM Loyola\",\"Bonjour\",\"Shurma Huerta\",\"CM Loyola\",\"CM Loyola\",\"Bonjour\",\"Shurma Huerta\",\"Colegio Mayor Aquinas\",\"CM Loyola\",\"Levaduramadre\",\"Fruter\\u00eda Las Gemelas\",\"CM Loyola\",\"CM Loyola\",\"Colegio Mayor Aquinas\",\"Shurma Huerta\",\"El Ceb\\u00f3n\",\"Vedruna\",\"Colegio Mayor Aquinas\",\"Fruteria Valencia\",\"CM Loyola\",\"CM Loyola\",\"Shurma Huerta\",\"CM Loyola\",\"Colegio Mayor Aquinas\",\"Shurma Huerta\",\"CM Loyola\",\"CM Loyola\",\"Vedruna\",\"Fruter\\u00eda Las Gemelas\",\"CM Loyola\",\"Colegio Mayor Aquinas\",\"Shurma Huerta\",\"CM Loyola\",\"CM Loyola\",\"Colegio Mayor Aquinas\",\"Shurma Huerta\",\"CM Loyola\",\"CM Loyola\",\"Pasteler\\u00eda Ludavi\",\"Fruteria Valencia\",\"CM Loyola\",\"Vedruna\",\"Fruter\\u00eda Las Gemelas\",\"Pasteler\\u00eda Ludavi\",\"CM Loyola\",\"Vedruna\",\"Fruteria Valencia\",\"Pasteler\\u00eda Ludavi\",\"Colegio Mayor Aquinas\",\"Vedruna\",\"CM Loyola\",\"Fruter\\u00eda Las Gemelas\",\"Pasteler\\u00eda Ludavi\",\"Vedruna\",\"Colegio Mayor Aquinas\",\"Colegio Mayor Aquinas\",\"Colegio Mayor Aquinas\",\"Fruter\\u00eda Las Gemelas\",\"Pasteler\\u00eda Ludavi\",\"Colegio Mayor Aquinas\",\"Colegio Mayor Aquinas\",\"Pasteler\\u00eda Ludavi\",\"Fruter\\u00eda Las Gemelas\",\"El Ceb\\u00f3n\",\"Colegio Mayor Aquinas\",\"Vedruna\",\"Colegio Mayor Aquinas\",\"Fruteria Valencia\",\"Fruteria Valencia\",\"Pasteler\\u00eda Ludavi\",\"Vedruna\",\"Vedruna\",\"Fruteria Valencia\",\"Pasteler\\u00eda Ludavi\",\"Colegio Mayor Aquinas\",\"Colegio Mayor Aquinas\",\"CM Loyola\",\"Pasteler\\u00eda Ludavi\",\"Pasteler\\u00eda Ludavi\",\"Vedruna\",\"Colegio Mayor Aquinas\",\"Colegio Mayor Aquinas\",\"CM Loyola\",\"Fruteria Valencia\",\"Pasteler\\u00eda Ludavi\",\"Colegio Mayor Aquinas\",\"Colegio Mayor Aquinas\",\"Vedruna\",\"CM Loyola\",\"Pasteler\\u00eda Ludavi\",\"Pasteler\\u00eda Ludavi\",\"Colegio Mayor Aquinas\",\"Vedruna\",\"Fruteria Valencia\",\"Pasteler\\u00eda Ludavi\",\"Colegio Mayor Aquinas\",\"Colegio Mayor Aquinas\",\"Vedruna\",\"Vedruna\",\"Pasteler\\u00eda Ludavi\",\"Pasteler\\u00eda Ludavi\",\"Colegio Mayor Aquinas\",\"Vedruna\",\"Colegio Mayor Aquinas\",\"Vedruna\",\"Fruter\\u00eda Las Gemelas\",\"Pasteler\\u00eda Ludavi\",\"Vedruna\",\"Vedruna\",\"Vedruna\",\"Pasteler\\u00eda Ludavi\",\"Fruteria Valencia\",\"Vedruna\",\"Colegio Mayor Aquinas\",\"Colegio Mayor Aquinas\",\"CM Loyola\",\"Colegio Mayor Aquinas\",\"CM Loyola\",\"Colegio Mayor Aquinas\",\"CM Loyola\",\"CM Loyola\",\"CM Loyola\",\"CM Loyola\",\"CM Loyola\",\"Vedruna\",\"CM Loyola\",\"CM Loyola\",\"CM Loyola\",\"CM Loyola\",\"Vedruna\",\"CM Loyola\",\"CM Loyola\",\"CM Loyola\",\"CM Loyola\",\"Colegio Mayor Aquinas\",\"CM Loyola\",\"Colegio Mayor Aquinas\",\"CM Loyola\",\"CM Loyola\",\"CM Loyola\",\"Colegio Mayor Aquinas\",\"CM Loyola\",\"CM Loyola\",\"CM Loyola\",\"CM Loyola\",\"CM Loyola\",\"Colegio Mayor Aquinas\",\"Colegio Mayor Aquinas\",\"CM Loyola\",\"Colegio Mayor Aquinas\",\"CM Loyola\",\"Colegio Mayor Aquinas\",\"CM Loyola\",\"Colegio Mayor Aquinas\",\"Colegio Mayor Aquinas\",\"CM Loyola\",\"CM Loyola\",\"Colegio Mayor Aquinas\",\"CM Loyola\",\"CM Loyola\",\"Colegio Mayor Aquinas\",\"CM Loyola\",\"CM Loyola\",\"Vedruna\",\"CM Loyola\",\"Zara frutas y verdura\",\"Zara frutas y verdura\",\"Zara frutas y verdura\",\"Zara frutas y verdura\",\"Zara frutas y verdura\",\"Zara frutas y verdura\",\"Zara frutas y verdura\",\"Zara frutas y verdura\",\"Zara frutas y verdura\",\"Zara frutas y verdura\",\"Zara frutas y verdura\",\"Zara frutas y verdura\",\"Zara frutas y verdura\",\"Zara frutas y verdura\",\"Zara frutas y verdura\",\"Vedruna\",\"CM Loyola\",\"CM Loyola\",\"E\\u00f1e + que una letra\",\"CM Loyola\",\"Vedruna\",\"CM Loyola\",\"CM Loyola\",\"CM Loyola\",\"Vedruna\",\"CM Loyola\",\"Vedruna\",\"CM Loyola\",\"CM Loyola\",\"Vedruna\",\"CM Loyola\"],\"xaxis\":\"x\",\"y\":[4.0,0.0,4.0,0.0,0.0,5.0,0.0,0.0,0.0,5.0,5.0,4.0,3.0,4.0,4.0,2.0,2.0,4.0,4.0,2.0,4.0,2.0,2.0,4.0,5.0,2.0,1.0,1.0,4.0,3.0,4.0,2.0,3.0,2.0,3.0,3.0,1.0,1.0,2.0,3.0,1.0,2.0,2.0,3.0,0.5,2.0,2.0,3.0,2.0,2.0,1.0,3.0,2.0,2.0,3.0,1.0,2.0,3.0,1.0,1.0,1.0,3.0,1.0,1.0,3.0,1.0,2.0,2.0,3.0,4.0,3.0,4.0,3.0,1.0,1.0,3.0,1.0,2.0,1.0,6.0,2.0,2.0,2.0,2.0,12.0,3.0,9.0,21.0,9.0,12.0,12.0,12.0,5.0,2.0,4.0,15.0,15.0,9.0,15.0,2.0,4.0,4.0,4.0,4.0,2.0,1.0,0.5,1.0,1.0,0.5,1.0,1.0,6.0,3.0,3.5,7.0,7.0,7.0,9.0,1.5,3.0,3.0,3.0,3.0,3.0,6.0,6.0,6.0,6.0,2.0,2.0,4.0,4.0,4.0,4.0,2.0,4.0,4.0,4.0,15.0,2.5,5.0,5.0,5.0,2.0,2.0,2.0,2.0,1.0,2.0,4.0,4.0,4.0,4.0,2.5,3.0,3.0,3.0,1.5,3.0,1.5,3.0,3.0,3.0,2.5,5.0,5.0,5.0,5.0,0.0,0.0,0.0,0.0,0.0,0.0,0.0,0.0,0.0,0.0,0.0,0.0,0.0,0.0,0.0,0.0,0.0,3.0,3.0,3.0,3.0,3.0,3.0,3.0,3.0,3.0,3.0,3.0,3.0,3.0,3.0,3.0,4.0,4.0,2.0,5.0,1.0,1.0,3.0,3.0,4.0,4.0,5.0,3.0,3.0,5.0,5.0,4.0,6.0,4.0,2.0,4.0,2.0,5.0,5.0,3.0,3.0,3.0,3.0,3.0,3.0,4.0,4.0,5.0,5.0,5.0,5.0,2.5,15.0,5.0,5.0,5.0,2.5,1.5,4.5,1.5,0.5,2.5,18.0,3.0,6.0,6.0,6.0,2.0,12.0,4.0,4.0,12.0,12.0,4.0,4.0,2.0,12.0,4.0,4.0,1.0,6.0,2.0,2.0,2.0,12.0,4.0,4.0,4.0,9.0,3.0,3.0,3.0,15.0,5.0,5.0,9.0,3.0,3.0,27.0,9.0,9.0,9.0,9.0,3.0,3.0,3.0,1.0,1.0,1.0,15.0,5.0,5.0,1.0,6.0,2.0,2.0,3.0,0.5,2.0,2.0,9.0,1.5,3.0,3.0,3.0,18.0,3.0,3.0,3.0,5.0,3.0,9.0,1.5,3.0,3.0,2.5,15.0,2.0,2.0,2.0,4.0,12.0,12.0,2.0,4.0,3.0,9.0,1.5,3.0,2.0,4.0,2.0,2.0,4.0,4.0,4.0,4.0,12.0,2.0,4.0,2.0,2.0,5.0,1.0,1.0,2.0,4.0,12.0,2.0,4.0,4.0,4.0,4.0,2.5,2.5,2.0,2.0,5.0,5.0,9.0,1.5,3.0,3.0,3.0,2.5,15.0,5.0,5.0,5.0,2.0,1.0,2.0,6.0,4.0,3.0,6.0,6.0,7.0,7.0,3.0,3.0,2.0,6.0,4.0,4.0,4.0,4.0,4.0,4.0,4.0,3.0,4.0,4.0,4.0,3.0,4.0,5.0,4.0,4.0,4.0,4.0,4.0,2.0,4.0,5.0,4.0,2.0,4.0,4.0,4.0,4.0,4.0,4.0,5.0,4.0,3.0,6.0,1.0,2.0,3.0,3.0,3.0,3.0,3.0,3.0,3.0,3.0,3.0,3.0,3.0,3.0,3.0,3.0,3.0,3.0,1.0,3.0,3.0,6.0,3.0,3.0,3.0,3.0,2.0,3.0,3.0,3.0,3.0,2.0,3.0],\"yaxis\":\"y\",\"type\":\"bar\"}],                        {\"template\":{\"data\":{\"bar\":[{\"error_x\":{\"color\":\"#2a3f5f\"},\"error_y\":{\"color\":\"#2a3f5f\"},\"marker\":{\"line\":{\"color\":\"#E5ECF6\",\"width\":0.5},\"pattern\":{\"fillmode\":\"overlay\",\"size\":10,\"solidity\":0.2}},\"type\":\"bar\"}],\"barpolar\":[{\"marker\":{\"line\":{\"color\":\"#E5ECF6\",\"width\":0.5},\"pattern\":{\"fillmode\":\"overlay\",\"size\":10,\"solidity\":0.2}},\"type\":\"barpolar\"}],\"carpet\":[{\"aaxis\":{\"endlinecolor\":\"#2a3f5f\",\"gridcolor\":\"white\",\"linecolor\":\"white\",\"minorgridcolor\":\"white\",\"startlinecolor\":\"#2a3f5f\"},\"baxis\":{\"endlinecolor\":\"#2a3f5f\",\"gridcolor\":\"white\",\"linecolor\":\"white\",\"minorgridcolor\":\"white\",\"startlinecolor\":\"#2a3f5f\"},\"type\":\"carpet\"}],\"choropleth\":[{\"colorbar\":{\"outlinewidth\":0,\"ticks\":\"\"},\"type\":\"choropleth\"}],\"contour\":[{\"colorbar\":{\"outlinewidth\":0,\"ticks\":\"\"},\"colorscale\":[[0.0,\"#0d0887\"],[0.1111111111111111,\"#46039f\"],[0.2222222222222222,\"#7201a8\"],[0.3333333333333333,\"#9c179e\"],[0.4444444444444444,\"#bd3786\"],[0.5555555555555556,\"#d8576b\"],[0.6666666666666666,\"#ed7953\"],[0.7777777777777778,\"#fb9f3a\"],[0.8888888888888888,\"#fdca26\"],[1.0,\"#f0f921\"]],\"type\":\"contour\"}],\"contourcarpet\":[{\"colorbar\":{\"outlinewidth\":0,\"ticks\":\"\"},\"type\":\"contourcarpet\"}],\"heatmap\":[{\"colorbar\":{\"outlinewidth\":0,\"ticks\":\"\"},\"colorscale\":[[0.0,\"#0d0887\"],[0.1111111111111111,\"#46039f\"],[0.2222222222222222,\"#7201a8\"],[0.3333333333333333,\"#9c179e\"],[0.4444444444444444,\"#bd3786\"],[0.5555555555555556,\"#d8576b\"],[0.6666666666666666,\"#ed7953\"],[0.7777777777777778,\"#fb9f3a\"],[0.8888888888888888,\"#fdca26\"],[1.0,\"#f0f921\"]],\"type\":\"heatmap\"}],\"heatmapgl\":[{\"colorbar\":{\"outlinewidth\":0,\"ticks\":\"\"},\"colorscale\":[[0.0,\"#0d0887\"],[0.1111111111111111,\"#46039f\"],[0.2222222222222222,\"#7201a8\"],[0.3333333333333333,\"#9c179e\"],[0.4444444444444444,\"#bd3786\"],[0.5555555555555556,\"#d8576b\"],[0.6666666666666666,\"#ed7953\"],[0.7777777777777778,\"#fb9f3a\"],[0.8888888888888888,\"#fdca26\"],[1.0,\"#f0f921\"]],\"type\":\"heatmapgl\"}],\"histogram\":[{\"marker\":{\"pattern\":{\"fillmode\":\"overlay\",\"size\":10,\"solidity\":0.2}},\"type\":\"histogram\"}],\"histogram2d\":[{\"colorbar\":{\"outlinewidth\":0,\"ticks\":\"\"},\"colorscale\":[[0.0,\"#0d0887\"],[0.1111111111111111,\"#46039f\"],[0.2222222222222222,\"#7201a8\"],[0.3333333333333333,\"#9c179e\"],[0.4444444444444444,\"#bd3786\"],[0.5555555555555556,\"#d8576b\"],[0.6666666666666666,\"#ed7953\"],[0.7777777777777778,\"#fb9f3a\"],[0.8888888888888888,\"#fdca26\"],[1.0,\"#f0f921\"]],\"type\":\"histogram2d\"}],\"histogram2dcontour\":[{\"colorbar\":{\"outlinewidth\":0,\"ticks\":\"\"},\"colorscale\":[[0.0,\"#0d0887\"],[0.1111111111111111,\"#46039f\"],[0.2222222222222222,\"#7201a8\"],[0.3333333333333333,\"#9c179e\"],[0.4444444444444444,\"#bd3786\"],[0.5555555555555556,\"#d8576b\"],[0.6666666666666666,\"#ed7953\"],[0.7777777777777778,\"#fb9f3a\"],[0.8888888888888888,\"#fdca26\"],[1.0,\"#f0f921\"]],\"type\":\"histogram2dcontour\"}],\"mesh3d\":[{\"colorbar\":{\"outlinewidth\":0,\"ticks\":\"\"},\"type\":\"mesh3d\"}],\"parcoords\":[{\"line\":{\"colorbar\":{\"outlinewidth\":0,\"ticks\":\"\"}},\"type\":\"parcoords\"}],\"pie\":[{\"automargin\":true,\"type\":\"pie\"}],\"scatter\":[{\"marker\":{\"colorbar\":{\"outlinewidth\":0,\"ticks\":\"\"}},\"type\":\"scatter\"}],\"scatter3d\":[{\"line\":{\"colorbar\":{\"outlinewidth\":0,\"ticks\":\"\"}},\"marker\":{\"colorbar\":{\"outlinewidth\":0,\"ticks\":\"\"}},\"type\":\"scatter3d\"}],\"scattercarpet\":[{\"marker\":{\"colorbar\":{\"outlinewidth\":0,\"ticks\":\"\"}},\"type\":\"scattercarpet\"}],\"scattergeo\":[{\"marker\":{\"colorbar\":{\"outlinewidth\":0,\"ticks\":\"\"}},\"type\":\"scattergeo\"}],\"scattergl\":[{\"marker\":{\"colorbar\":{\"outlinewidth\":0,\"ticks\":\"\"}},\"type\":\"scattergl\"}],\"scattermapbox\":[{\"marker\":{\"colorbar\":{\"outlinewidth\":0,\"ticks\":\"\"}},\"type\":\"scattermapbox\"}],\"scatterpolar\":[{\"marker\":{\"colorbar\":{\"outlinewidth\":0,\"ticks\":\"\"}},\"type\":\"scatterpolar\"}],\"scatterpolargl\":[{\"marker\":{\"colorbar\":{\"outlinewidth\":0,\"ticks\":\"\"}},\"type\":\"scatterpolargl\"}],\"scatterternary\":[{\"marker\":{\"colorbar\":{\"outlinewidth\":0,\"ticks\":\"\"}},\"type\":\"scatterternary\"}],\"surface\":[{\"colorbar\":{\"outlinewidth\":0,\"ticks\":\"\"},\"colorscale\":[[0.0,\"#0d0887\"],[0.1111111111111111,\"#46039f\"],[0.2222222222222222,\"#7201a8\"],[0.3333333333333333,\"#9c179e\"],[0.4444444444444444,\"#bd3786\"],[0.5555555555555556,\"#d8576b\"],[0.6666666666666666,\"#ed7953\"],[0.7777777777777778,\"#fb9f3a\"],[0.8888888888888888,\"#fdca26\"],[1.0,\"#f0f921\"]],\"type\":\"surface\"}],\"table\":[{\"cells\":{\"fill\":{\"color\":\"#EBF0F8\"},\"line\":{\"color\":\"white\"}},\"header\":{\"fill\":{\"color\":\"#C8D4E3\"},\"line\":{\"color\":\"white\"}},\"type\":\"table\"}]},\"layout\":{\"annotationdefaults\":{\"arrowcolor\":\"#2a3f5f\",\"arrowhead\":0,\"arrowwidth\":1},\"autotypenumbers\":\"strict\",\"coloraxis\":{\"colorbar\":{\"outlinewidth\":0,\"ticks\":\"\"}},\"colorscale\":{\"diverging\":[[0,\"#8e0152\"],[0.1,\"#c51b7d\"],[0.2,\"#de77ae\"],[0.3,\"#f1b6da\"],[0.4,\"#fde0ef\"],[0.5,\"#f7f7f7\"],[0.6,\"#e6f5d0\"],[0.7,\"#b8e186\"],[0.8,\"#7fbc41\"],[0.9,\"#4d9221\"],[1,\"#276419\"]],\"sequential\":[[0.0,\"#0d0887\"],[0.1111111111111111,\"#46039f\"],[0.2222222222222222,\"#7201a8\"],[0.3333333333333333,\"#9c179e\"],[0.4444444444444444,\"#bd3786\"],[0.5555555555555556,\"#d8576b\"],[0.6666666666666666,\"#ed7953\"],[0.7777777777777778,\"#fb9f3a\"],[0.8888888888888888,\"#fdca26\"],[1.0,\"#f0f921\"]],\"sequentialminus\":[[0.0,\"#0d0887\"],[0.1111111111111111,\"#46039f\"],[0.2222222222222222,\"#7201a8\"],[0.3333333333333333,\"#9c179e\"],[0.4444444444444444,\"#bd3786\"],[0.5555555555555556,\"#d8576b\"],[0.6666666666666666,\"#ed7953\"],[0.7777777777777778,\"#fb9f3a\"],[0.8888888888888888,\"#fdca26\"],[1.0,\"#f0f921\"]]},\"colorway\":[\"#636efa\",\"#EF553B\",\"#00cc96\",\"#ab63fa\",\"#FFA15A\",\"#19d3f3\",\"#FF6692\",\"#B6E880\",\"#FF97FF\",\"#FECB52\"],\"font\":{\"color\":\"#2a3f5f\"},\"geo\":{\"bgcolor\":\"white\",\"lakecolor\":\"white\",\"landcolor\":\"#E5ECF6\",\"showlakes\":true,\"showland\":true,\"subunitcolor\":\"white\"},\"hoverlabel\":{\"align\":\"left\"},\"hovermode\":\"closest\",\"mapbox\":{\"style\":\"light\"},\"paper_bgcolor\":\"white\",\"plot_bgcolor\":\"#E5ECF6\",\"polar\":{\"angularaxis\":{\"gridcolor\":\"white\",\"linecolor\":\"white\",\"ticks\":\"\"},\"bgcolor\":\"#E5ECF6\",\"radialaxis\":{\"gridcolor\":\"white\",\"linecolor\":\"white\",\"ticks\":\"\"}},\"scene\":{\"xaxis\":{\"backgroundcolor\":\"#E5ECF6\",\"gridcolor\":\"white\",\"gridwidth\":2,\"linecolor\":\"white\",\"showbackground\":true,\"ticks\":\"\",\"zerolinecolor\":\"white\"},\"yaxis\":{\"backgroundcolor\":\"#E5ECF6\",\"gridcolor\":\"white\",\"gridwidth\":2,\"linecolor\":\"white\",\"showbackground\":true,\"ticks\":\"\",\"zerolinecolor\":\"white\"},\"zaxis\":{\"backgroundcolor\":\"#E5ECF6\",\"gridcolor\":\"white\",\"gridwidth\":2,\"linecolor\":\"white\",\"showbackground\":true,\"ticks\":\"\",\"zerolinecolor\":\"white\"}},\"shapedefaults\":{\"line\":{\"color\":\"#2a3f5f\"}},\"ternary\":{\"aaxis\":{\"gridcolor\":\"white\",\"linecolor\":\"white\",\"ticks\":\"\"},\"baxis\":{\"gridcolor\":\"white\",\"linecolor\":\"white\",\"ticks\":\"\"},\"bgcolor\":\"#E5ECF6\",\"caxis\":{\"gridcolor\":\"white\",\"linecolor\":\"white\",\"ticks\":\"\"}},\"title\":{\"x\":0.05},\"xaxis\":{\"automargin\":true,\"gridcolor\":\"white\",\"linecolor\":\"white\",\"ticks\":\"\",\"title\":{\"standoff\":15},\"zerolinecolor\":\"white\",\"zerolinewidth\":2},\"yaxis\":{\"automargin\":true,\"gridcolor\":\"white\",\"linecolor\":\"white\",\"ticks\":\"\",\"title\":{\"standoff\":15},\"zerolinecolor\":\"white\",\"zerolinewidth\":2}}},\"xaxis\":{\"anchor\":\"y\",\"domain\":[0.0,1.0],\"title\":{\"text\":\"Nombres\"}},\"yaxis\":{\"anchor\":\"x\",\"domain\":[0.0,1.0],\"title\":{\"text\":\"Raciones rescatadas\"}},\"legend\":{\"tracegroupgap\":0},\"margin\":{\"t\":60},\"barmode\":\"relative\"},                        {\"responsive\": true}                    ).then(function(){\n",
       "                            \n",
       "var gd = document.getElementById('fb1198a7-5e57-44f6-ad91-044ecf98e6fc');\n",
       "var x = new MutationObserver(function (mutations, observer) {{\n",
       "        var display = window.getComputedStyle(gd).display;\n",
       "        if (!display || display === 'none') {{\n",
       "            console.log([gd, 'removed!']);\n",
       "            Plotly.purge(gd);\n",
       "            observer.disconnect();\n",
       "        }}\n",
       "}});\n",
       "\n",
       "// Listen for the removal of the full notebook cells\n",
       "var notebookContainer = gd.closest('#notebook-container');\n",
       "if (notebookContainer) {{\n",
       "    x.observe(notebookContainer, {childList: true});\n",
       "}}\n",
       "\n",
       "// Listen for the clearing of the current output cell\n",
       "var outputEl = gd.closest('.output');\n",
       "if (outputEl) {{\n",
       "    x.observe(outputEl, {childList: true});\n",
       "}}\n",
       "\n",
       "                        })                };                });            </script>        </div>"
      ]
     },
     "metadata": {},
     "output_type": "display_data"
    }
   ],
   "source": [
    "df_actualidad = df2[df2['Dia'].dt.dayofweek == 1]\n",
    "df_actualidad = df_actualidad[df2['Dia'].dt.year == 2022]\n",
    "fig = px.bar(df_actualidad, x=\"Nombres\",y='Raciones rescatadas')\n",
    "fig.show()\n"
   ]
  },
  {
   "cell_type": "markdown",
   "id": "539a571c",
   "metadata": {},
   "source": [
    "# Miercoles actualidad"
   ]
  },
  {
   "cell_type": "code",
   "execution_count": 11,
   "id": "2fd26ebb",
   "metadata": {},
   "outputs": [
    {
     "name": "stderr",
     "output_type": "stream",
     "text": [
      "/tmp/ipykernel_34660/3407034674.py:2: UserWarning:\n",
      "\n",
      "Boolean Series key will be reindexed to match DataFrame index.\n",
      "\n"
     ]
    },
    {
     "data": {
      "application/vnd.plotly.v1+json": {
       "config": {
        "plotlyServerURL": "https://plot.ly"
       },
       "data": [
        {
         "alignmentgroup": "True",
         "hovertemplate": "Nombres=%{x}<br>Raciones rescatadas=%{y}<extra></extra>",
         "legendgroup": "",
         "marker": {
          "color": "#636efa",
          "pattern": {
           "shape": ""
          }
         },
         "name": "",
         "offsetgroup": "",
         "orientation": "v",
         "showlegend": false,
         "textposition": "auto",
         "type": "bar",
         "x": [
          "Eñe + que una letra",
          "Frutería Las Gemelas",
          "Frutería Las Gemelas",
          "Frutería Las Gemelas",
          "Frutería Las Gemelas",
          "Frutería Las Gemelas",
          "Frutería Las Gemelas",
          "Frutería Las Gemelas",
          "Frutería Las Gemelas",
          "Frutería Las Gemelas",
          "Frutería Las Gemelas",
          "Frutería Las Gemelas",
          "Frutería Las Gemelas",
          "Frutería Las Gemelas",
          "Frutería Las Gemelas",
          "Levaduramadre",
          "Levaduramadre",
          "Levaduramadre",
          "Levaduramadre",
          "Levaduramadre",
          "Levaduramadre",
          "Levaduramadre",
          "Levaduramadre",
          "Levaduramadre",
          "Levaduramadre",
          "Levaduramadre",
          "Levaduramadre",
          "CM Loyola",
          "CM Loyola",
          "CM Loyola",
          "Colegio Mayor Aquinas",
          "CM Loyola",
          "Colegio Mayor Aquinas",
          "CM Loyola",
          "Vedruna",
          "CM Loyola",
          "CM Loyola",
          "CM Loyola",
          "CM Loyola",
          "Colegio Mayor Aquinas",
          "Colegio Mayor Aquinas",
          "CM Loyola",
          "CM Loyola",
          "Colegio Mayor Aquinas",
          "CM Loyola",
          "Colegio Mayor Aquinas",
          "CM Loyola",
          "Colegio Mayor Aquinas",
          "Colegio Mayor Aquinas",
          "CM Loyola",
          "CM Loyola",
          "CM Loyola",
          "CM Loyola",
          "CM Loyola",
          "CM Loyola",
          "CM Loyola",
          "Eñe + que una letra",
          "Frutería Las Gemelas",
          "Frutería Las Gemelas",
          "Frutería Las Gemelas",
          "Frutería Las Gemelas",
          "Frutería Las Gemelas",
          "Frutería Las Gemelas",
          "Frutería Las Gemelas",
          "Frutería Las Gemelas",
          "Frutería Las Gemelas",
          "Frutería Las Gemelas",
          "Frutería Las Gemelas",
          "Frutería Las Gemelas",
          "Frutería Las Gemelas",
          "Eñe + que una letra",
          "Colegio Mayor Aquinas",
          "Colegio Mayor Aquinas",
          "Colegio Mayor Aquinas",
          "El Cebón",
          "Colegio Mayor Aquinas",
          "Eñe + que una letra",
          "Colegio Mayor Aquinas",
          "Eñe + que una letra",
          "Frutería Las Gemelas",
          "CM Loyola",
          "CM Loyola",
          "Eñe + que una letra",
          "Colegio Mayor Aquinas",
          "Colegio Mayor Aquinas",
          "Eñe + que una letra",
          "Colegio Mayor Aquinas",
          "Colegio Mayor Aquinas",
          "Eñe + que una letra",
          "Colegio Mayor Aquinas",
          "Eñe + que una letra",
          "Levaduramadre",
          "Eñe + que una letra",
          "Colegio Mayor Aquinas",
          "Bonjour",
          "Bonjour",
          "Bonjour",
          "Bonjour",
          "Bonjour",
          "Bonjour",
          "Bonjour",
          "Bonjour",
          "Bonjour",
          "Bonjour",
          "Bonjour",
          "Levaduramadre",
          "Levaduramadre",
          "Frutería Las Gemelas",
          "Frutería Las Gemelas",
          "Frutería Las Gemelas",
          "Frutería Las Gemelas",
          "Shurma Huerta",
          "Shurma Huerta",
          "Shurma Huerta",
          "Shurma Huerta",
          "Shurma Huerta",
          "Shurma Huerta",
          "Shurma Huerta",
          "Shurma Huerta",
          "Shurma Huerta",
          "Colegio Mayor Aquinas",
          "Colegio Mayor Aquinas",
          "Colegio Mayor Aquinas",
          "CM Loyola",
          "CM Loyola",
          "CM Loyola",
          "CM Loyola",
          "CM Loyola",
          "Vedruna",
          "Vedruna",
          "Vedruna",
          "Vedruna",
          "Vedruna",
          "CM Loyola",
          "CM Loyola",
          "CM Loyola",
          "CM Loyola",
          "Colegio Mayor Aquinas",
          "Colegio Mayor Aquinas",
          "Colegio Mayor Aquinas",
          "Colegio Mayor Aquinas",
          "CM Loyola",
          "CM Loyola",
          "CM Loyola",
          "CM Loyola",
          "CM Loyola",
          "CM Loyola",
          "CM Loyola",
          "CM Loyola",
          "CM Loyola",
          "CM Loyola",
          "Shurma Huerta",
          "Vedruna",
          "El Cebón",
          "Eñe + que una letra",
          "El Cebón",
          "Vedruna",
          "Eñe + que una letra",
          "Eñe + que una letra",
          "Colegio Mayor Aquinas",
          "Colegio Mayor Aquinas",
          "Colegio Mayor Aquinas",
          "Levaduramadre",
          "Levaduramadre",
          "Levaduramadre",
          "Levaduramadre",
          "Levaduramadre",
          "Levaduramadre",
          "Levaduramadre",
          "Levaduramadre",
          "Levaduramadre",
          "Zara frutas y verdura",
          "Bonjour",
          "Vedruna",
          "CM Loyola",
          "Levaduramadre",
          "Colegio Mayor Aquinas",
          "Levaduramadre",
          "Colegio Mayor Aquinas",
          "Colegio Mayor Aquinas",
          "Vedruna",
          "Levaduramadre",
          "Levaduramadre",
          "Levaduramadre",
          "Colegio Mayor Aquinas",
          "Levaduramadre",
          "Levaduramadre",
          "Levaduramadre",
          "Levaduramadre",
          "Levaduramadre",
          "Levaduramadre",
          "Levaduramadre",
          "Frutería Las Gemelas",
          "Frutería Las Gemelas",
          "Frutería Las Gemelas",
          "Frutería Las Gemelas",
          "Frutería Las Gemelas",
          "Frutería Las Gemelas",
          "Frutería Las Gemelas",
          "Frutería Las Gemelas",
          "Frutería Las Gemelas",
          "Frutería Las Gemelas",
          "Frutería Las Gemelas",
          "Fruterias Ignacio",
          "Fruterias Ignacio",
          "Fruterias Ignacio",
          "Fruterias Ignacio",
          "Fruterias Ignacio",
          "Levaduramadre",
          "Levaduramadre",
          "Levaduramadre",
          "Levaduramadre",
          "Colegio Mayor Aquinas",
          "Colegio Mayor Aquinas",
          "Vedruna",
          "CM Loyola",
          "CM Loyola",
          "Eñe + que una letra",
          "Vedruna",
          "Vedruna",
          "Vedruna",
          "Colegio Mayor Aquinas",
          "Colegio Mayor Aquinas",
          "Colegio Mayor Aquinas",
          "Colegio Mayor Aquinas",
          "Eñe + que una letra",
          "Vedruna",
          "Vedruna",
          "CM Loyola",
          "CM Loyola",
          "CM Loyola",
          "CM Loyola",
          "CM Loyola",
          "CM Loyola",
          "CM Loyola",
          "CM Loyola",
          "Colegio Mayor Aquinas",
          "Colegio Mayor Aquinas",
          "Colegio Mayor Aquinas",
          "Colegio Mayor Aquinas",
          "Colegio Mayor Aquinas",
          "Colegio Mayor Aquinas",
          "Colegio Mayor Aquinas",
          "Colegio Mayor Aquinas",
          "Colegio Mayor Aquinas",
          "Colegio Mayor Aquinas",
          "Colegio Mayor Aquinas",
          "Colegio Mayor Aquinas",
          "Colegio Mayor Aquinas",
          "Colegio Mayor Aquinas",
          "Colegio Mayor Aquinas",
          "Colegio Mayor Aquinas",
          "Colegio Mayor Aquinas",
          "Colegio Mayor Aquinas",
          "Colegio Mayor Aquinas",
          "Colegio Mayor Aquinas",
          "Colegio Mayor Aquinas",
          "Colegio Mayor Aquinas",
          "Colegio Mayor Aquinas",
          "Colegio Mayor Aquinas",
          "CM Loyola",
          "CM Loyola",
          "CM Loyola",
          "CM Loyola",
          "CM Loyola",
          "Colegio Mayor Aquinas",
          "CM Loyola",
          "CM Loyola",
          "CM Loyola",
          "CM Loyola",
          "Vedruna",
          "Vedruna",
          "CM Loyola",
          "CM Loyola",
          "Vedruna",
          "Eñe + que una letra",
          "Vedruna",
          "Vedruna",
          "Colegio Mayor Aquinas",
          "Vedruna",
          "Vedruna",
          "Vedruna",
          "Vedruna",
          "Vedruna",
          "Colegio Mayor Aquinas",
          "Colegio Mayor Aquinas",
          "Colegio Mayor Aquinas",
          "CM Loyola",
          "CM Loyola",
          "CM Loyola",
          "CM Loyola",
          "CM Loyola",
          "Colegio Mayor Aquinas",
          "Colegio Mayor Aquinas",
          "Colegio Mayor Aquinas",
          "Colegio Mayor Aquinas",
          "Colegio Mayor Aquinas",
          "Colegio Mayor Aquinas",
          "Colegio Mayor Aquinas",
          "Colegio Mayor Aquinas",
          "Colegio Mayor Aquinas",
          "Colegio Mayor Aquinas",
          "Colegio Mayor Aquinas",
          "CM Loyola",
          "CM Loyola",
          "CM Loyola",
          "CM Loyola",
          "CM Loyola",
          "CM Loyola",
          "CM Loyola",
          "CM Loyola",
          "CM Loyola",
          "CM Loyola",
          "CM Loyola",
          "CM Loyola",
          "CM Loyola",
          "CM Loyola",
          "CM Loyola",
          "CM Loyola",
          "CM Loyola",
          "CM Loyola",
          "CM Loyola",
          "CM Loyola",
          "CM Loyola",
          "CM Loyola",
          "CM Loyola",
          "CM Loyola",
          "CM Loyola",
          "CM Loyola",
          "CM Loyola",
          "Vedruna",
          "Vedruna",
          "Vedruna",
          "Vedruna",
          "Frutería Las Gemelas",
          "Frutería Las Gemelas",
          "Frutería Las Gemelas",
          "Frutería Las Gemelas",
          "Colegio Mayor Aquinas",
          "Colegio Mayor Aquinas",
          "Colegio Mayor Aquinas",
          "Vedruna",
          "Colegio Mayor Aquinas",
          "Colegio Mayor Aquinas",
          "Colegio Mayor Aquinas",
          "Colegio Mayor Aquinas",
          "Colegio Mayor Aquinas",
          "Colegio Mayor Aquinas",
          "Vedruna",
          "Colegio Mayor Aquinas",
          "Colegio Mayor Aquinas",
          "Colegio Mayor Aquinas",
          "Colegio Mayor Aquinas",
          "Colegio Mayor Aquinas",
          "Vedruna",
          "Vedruna",
          "Colegio Mayor Aquinas",
          "Colegio Mayor Aquinas",
          "Colegio Mayor Aquinas",
          "Colegio Mayor Aquinas"
         ],
         "xaxis": "x",
         "y": [
          2,
          3,
          3,
          3,
          3,
          3,
          3,
          3,
          3,
          3,
          3,
          3,
          3,
          3,
          3,
          0.5,
          0.5,
          0.5,
          0.5,
          0.5,
          0.5,
          0.5,
          0.5,
          0.5,
          0.5,
          0.5,
          0.5,
          4,
          4,
          1,
          1,
          3,
          3,
          3,
          9,
          9,
          3,
          3,
          5,
          5,
          4,
          4,
          4,
          4,
          5,
          5,
          2,
          2,
          4,
          4,
          3,
          5,
          5,
          3,
          5,
          5,
          5,
          3,
          3,
          3,
          3,
          3,
          3,
          3,
          3,
          3,
          3,
          3,
          3,
          3,
          3,
          4,
          1,
          3,
          4,
          7,
          3,
          3,
          5,
          6,
          4,
          3,
          5,
          4,
          5,
          3,
          2,
          4,
          3,
          5,
          6,
          1,
          3,
          5,
          1.5,
          1.5,
          1.5,
          1.5,
          1.5,
          1.5,
          1.5,
          1.5,
          1.5,
          1.5,
          1.5,
          1.5,
          1.5,
          3,
          3,
          3,
          3,
          3,
          3,
          3,
          3,
          3,
          3,
          3,
          3,
          3,
          3,
          3,
          3,
          4,
          4,
          4,
          5,
          5,
          5,
          4,
          5,
          3,
          3,
          3,
          4,
          4,
          3,
          3,
          5,
          5,
          5,
          1,
          4,
          4,
          3,
          6,
          5,
          2,
          3,
          5,
          2,
          0.5,
          4,
          2,
          4,
          2,
          3,
          3,
          7,
          3,
          7,
          5,
          0.5,
          0.5,
          0.5,
          0.5,
          0.5,
          0.5,
          0.5,
          0.5,
          0.5,
          4,
          0.5,
          5,
          5,
          0.5,
          3,
          1,
          6,
          7,
          3,
          1,
          1,
          1,
          5,
          0.5,
          0.5,
          0.5,
          0.5,
          0.5,
          0.5,
          0.5,
          3,
          3,
          3,
          3,
          3,
          3,
          3,
          3,
          3,
          3,
          3,
          3,
          3,
          3,
          3,
          3,
          0.5,
          0.5,
          0.5,
          0.5,
          5,
          5,
          5,
          6,
          3,
          7,
          1,
          3,
          3,
          1,
          7,
          6,
          4,
          5,
          4,
          3,
          2,
          5,
          2,
          4,
          3,
          3,
          5,
          5,
          3,
          3,
          6,
          4,
          5,
          5,
          5,
          6,
          6,
          4,
          3,
          3,
          3,
          2,
          4,
          3,
          4,
          3,
          5,
          5,
          3,
          3,
          3,
          7,
          7,
          1,
          3,
          3,
          6,
          6,
          4,
          5,
          2,
          2,
          4,
          3,
          3,
          5,
          5,
          5,
          5,
          5,
          5,
          5,
          5,
          5,
          5,
          5,
          3,
          3,
          3,
          3,
          5,
          3,
          5,
          5,
          3,
          3,
          3,
          5,
          3,
          5,
          3,
          3,
          5,
          3,
          5,
          3,
          5,
          3,
          5,
          3,
          5,
          3,
          3,
          3,
          2,
          3,
          3,
          5,
          3,
          5,
          5,
          2,
          5,
          3,
          3,
          3,
          3,
          3,
          5,
          3,
          3,
          5,
          5,
          5,
          3,
          5,
          9,
          15,
          9,
          15,
          4,
          3,
          5,
          4,
          4,
          4,
          4,
          4,
          5,
          4,
          5,
          4,
          3,
          4,
          5,
          5,
          5,
          3,
          3,
          5,
          5,
          5
         ],
         "yaxis": "y"
        }
       ],
       "layout": {
        "barmode": "relative",
        "legend": {
         "tracegroupgap": 0
        },
        "margin": {
         "t": 60
        },
        "template": {
         "data": {
          "bar": [
           {
            "error_x": {
             "color": "#2a3f5f"
            },
            "error_y": {
             "color": "#2a3f5f"
            },
            "marker": {
             "line": {
              "color": "#E5ECF6",
              "width": 0.5
             },
             "pattern": {
              "fillmode": "overlay",
              "size": 10,
              "solidity": 0.2
             }
            },
            "type": "bar"
           }
          ],
          "barpolar": [
           {
            "marker": {
             "line": {
              "color": "#E5ECF6",
              "width": 0.5
             },
             "pattern": {
              "fillmode": "overlay",
              "size": 10,
              "solidity": 0.2
             }
            },
            "type": "barpolar"
           }
          ],
          "carpet": [
           {
            "aaxis": {
             "endlinecolor": "#2a3f5f",
             "gridcolor": "white",
             "linecolor": "white",
             "minorgridcolor": "white",
             "startlinecolor": "#2a3f5f"
            },
            "baxis": {
             "endlinecolor": "#2a3f5f",
             "gridcolor": "white",
             "linecolor": "white",
             "minorgridcolor": "white",
             "startlinecolor": "#2a3f5f"
            },
            "type": "carpet"
           }
          ],
          "choropleth": [
           {
            "colorbar": {
             "outlinewidth": 0,
             "ticks": ""
            },
            "type": "choropleth"
           }
          ],
          "contour": [
           {
            "colorbar": {
             "outlinewidth": 0,
             "ticks": ""
            },
            "colorscale": [
             [
              0,
              "#0d0887"
             ],
             [
              0.1111111111111111,
              "#46039f"
             ],
             [
              0.2222222222222222,
              "#7201a8"
             ],
             [
              0.3333333333333333,
              "#9c179e"
             ],
             [
              0.4444444444444444,
              "#bd3786"
             ],
             [
              0.5555555555555556,
              "#d8576b"
             ],
             [
              0.6666666666666666,
              "#ed7953"
             ],
             [
              0.7777777777777778,
              "#fb9f3a"
             ],
             [
              0.8888888888888888,
              "#fdca26"
             ],
             [
              1,
              "#f0f921"
             ]
            ],
            "type": "contour"
           }
          ],
          "contourcarpet": [
           {
            "colorbar": {
             "outlinewidth": 0,
             "ticks": ""
            },
            "type": "contourcarpet"
           }
          ],
          "heatmap": [
           {
            "colorbar": {
             "outlinewidth": 0,
             "ticks": ""
            },
            "colorscale": [
             [
              0,
              "#0d0887"
             ],
             [
              0.1111111111111111,
              "#46039f"
             ],
             [
              0.2222222222222222,
              "#7201a8"
             ],
             [
              0.3333333333333333,
              "#9c179e"
             ],
             [
              0.4444444444444444,
              "#bd3786"
             ],
             [
              0.5555555555555556,
              "#d8576b"
             ],
             [
              0.6666666666666666,
              "#ed7953"
             ],
             [
              0.7777777777777778,
              "#fb9f3a"
             ],
             [
              0.8888888888888888,
              "#fdca26"
             ],
             [
              1,
              "#f0f921"
             ]
            ],
            "type": "heatmap"
           }
          ],
          "heatmapgl": [
           {
            "colorbar": {
             "outlinewidth": 0,
             "ticks": ""
            },
            "colorscale": [
             [
              0,
              "#0d0887"
             ],
             [
              0.1111111111111111,
              "#46039f"
             ],
             [
              0.2222222222222222,
              "#7201a8"
             ],
             [
              0.3333333333333333,
              "#9c179e"
             ],
             [
              0.4444444444444444,
              "#bd3786"
             ],
             [
              0.5555555555555556,
              "#d8576b"
             ],
             [
              0.6666666666666666,
              "#ed7953"
             ],
             [
              0.7777777777777778,
              "#fb9f3a"
             ],
             [
              0.8888888888888888,
              "#fdca26"
             ],
             [
              1,
              "#f0f921"
             ]
            ],
            "type": "heatmapgl"
           }
          ],
          "histogram": [
           {
            "marker": {
             "pattern": {
              "fillmode": "overlay",
              "size": 10,
              "solidity": 0.2
             }
            },
            "type": "histogram"
           }
          ],
          "histogram2d": [
           {
            "colorbar": {
             "outlinewidth": 0,
             "ticks": ""
            },
            "colorscale": [
             [
              0,
              "#0d0887"
             ],
             [
              0.1111111111111111,
              "#46039f"
             ],
             [
              0.2222222222222222,
              "#7201a8"
             ],
             [
              0.3333333333333333,
              "#9c179e"
             ],
             [
              0.4444444444444444,
              "#bd3786"
             ],
             [
              0.5555555555555556,
              "#d8576b"
             ],
             [
              0.6666666666666666,
              "#ed7953"
             ],
             [
              0.7777777777777778,
              "#fb9f3a"
             ],
             [
              0.8888888888888888,
              "#fdca26"
             ],
             [
              1,
              "#f0f921"
             ]
            ],
            "type": "histogram2d"
           }
          ],
          "histogram2dcontour": [
           {
            "colorbar": {
             "outlinewidth": 0,
             "ticks": ""
            },
            "colorscale": [
             [
              0,
              "#0d0887"
             ],
             [
              0.1111111111111111,
              "#46039f"
             ],
             [
              0.2222222222222222,
              "#7201a8"
             ],
             [
              0.3333333333333333,
              "#9c179e"
             ],
             [
              0.4444444444444444,
              "#bd3786"
             ],
             [
              0.5555555555555556,
              "#d8576b"
             ],
             [
              0.6666666666666666,
              "#ed7953"
             ],
             [
              0.7777777777777778,
              "#fb9f3a"
             ],
             [
              0.8888888888888888,
              "#fdca26"
             ],
             [
              1,
              "#f0f921"
             ]
            ],
            "type": "histogram2dcontour"
           }
          ],
          "mesh3d": [
           {
            "colorbar": {
             "outlinewidth": 0,
             "ticks": ""
            },
            "type": "mesh3d"
           }
          ],
          "parcoords": [
           {
            "line": {
             "colorbar": {
              "outlinewidth": 0,
              "ticks": ""
             }
            },
            "type": "parcoords"
           }
          ],
          "pie": [
           {
            "automargin": true,
            "type": "pie"
           }
          ],
          "scatter": [
           {
            "marker": {
             "colorbar": {
              "outlinewidth": 0,
              "ticks": ""
             }
            },
            "type": "scatter"
           }
          ],
          "scatter3d": [
           {
            "line": {
             "colorbar": {
              "outlinewidth": 0,
              "ticks": ""
             }
            },
            "marker": {
             "colorbar": {
              "outlinewidth": 0,
              "ticks": ""
             }
            },
            "type": "scatter3d"
           }
          ],
          "scattercarpet": [
           {
            "marker": {
             "colorbar": {
              "outlinewidth": 0,
              "ticks": ""
             }
            },
            "type": "scattercarpet"
           }
          ],
          "scattergeo": [
           {
            "marker": {
             "colorbar": {
              "outlinewidth": 0,
              "ticks": ""
             }
            },
            "type": "scattergeo"
           }
          ],
          "scattergl": [
           {
            "marker": {
             "colorbar": {
              "outlinewidth": 0,
              "ticks": ""
             }
            },
            "type": "scattergl"
           }
          ],
          "scattermapbox": [
           {
            "marker": {
             "colorbar": {
              "outlinewidth": 0,
              "ticks": ""
             }
            },
            "type": "scattermapbox"
           }
          ],
          "scatterpolar": [
           {
            "marker": {
             "colorbar": {
              "outlinewidth": 0,
              "ticks": ""
             }
            },
            "type": "scatterpolar"
           }
          ],
          "scatterpolargl": [
           {
            "marker": {
             "colorbar": {
              "outlinewidth": 0,
              "ticks": ""
             }
            },
            "type": "scatterpolargl"
           }
          ],
          "scatterternary": [
           {
            "marker": {
             "colorbar": {
              "outlinewidth": 0,
              "ticks": ""
             }
            },
            "type": "scatterternary"
           }
          ],
          "surface": [
           {
            "colorbar": {
             "outlinewidth": 0,
             "ticks": ""
            },
            "colorscale": [
             [
              0,
              "#0d0887"
             ],
             [
              0.1111111111111111,
              "#46039f"
             ],
             [
              0.2222222222222222,
              "#7201a8"
             ],
             [
              0.3333333333333333,
              "#9c179e"
             ],
             [
              0.4444444444444444,
              "#bd3786"
             ],
             [
              0.5555555555555556,
              "#d8576b"
             ],
             [
              0.6666666666666666,
              "#ed7953"
             ],
             [
              0.7777777777777778,
              "#fb9f3a"
             ],
             [
              0.8888888888888888,
              "#fdca26"
             ],
             [
              1,
              "#f0f921"
             ]
            ],
            "type": "surface"
           }
          ],
          "table": [
           {
            "cells": {
             "fill": {
              "color": "#EBF0F8"
             },
             "line": {
              "color": "white"
             }
            },
            "header": {
             "fill": {
              "color": "#C8D4E3"
             },
             "line": {
              "color": "white"
             }
            },
            "type": "table"
           }
          ]
         },
         "layout": {
          "annotationdefaults": {
           "arrowcolor": "#2a3f5f",
           "arrowhead": 0,
           "arrowwidth": 1
          },
          "autotypenumbers": "strict",
          "coloraxis": {
           "colorbar": {
            "outlinewidth": 0,
            "ticks": ""
           }
          },
          "colorscale": {
           "diverging": [
            [
             0,
             "#8e0152"
            ],
            [
             0.1,
             "#c51b7d"
            ],
            [
             0.2,
             "#de77ae"
            ],
            [
             0.3,
             "#f1b6da"
            ],
            [
             0.4,
             "#fde0ef"
            ],
            [
             0.5,
             "#f7f7f7"
            ],
            [
             0.6,
             "#e6f5d0"
            ],
            [
             0.7,
             "#b8e186"
            ],
            [
             0.8,
             "#7fbc41"
            ],
            [
             0.9,
             "#4d9221"
            ],
            [
             1,
             "#276419"
            ]
           ],
           "sequential": [
            [
             0,
             "#0d0887"
            ],
            [
             0.1111111111111111,
             "#46039f"
            ],
            [
             0.2222222222222222,
             "#7201a8"
            ],
            [
             0.3333333333333333,
             "#9c179e"
            ],
            [
             0.4444444444444444,
             "#bd3786"
            ],
            [
             0.5555555555555556,
             "#d8576b"
            ],
            [
             0.6666666666666666,
             "#ed7953"
            ],
            [
             0.7777777777777778,
             "#fb9f3a"
            ],
            [
             0.8888888888888888,
             "#fdca26"
            ],
            [
             1,
             "#f0f921"
            ]
           ],
           "sequentialminus": [
            [
             0,
             "#0d0887"
            ],
            [
             0.1111111111111111,
             "#46039f"
            ],
            [
             0.2222222222222222,
             "#7201a8"
            ],
            [
             0.3333333333333333,
             "#9c179e"
            ],
            [
             0.4444444444444444,
             "#bd3786"
            ],
            [
             0.5555555555555556,
             "#d8576b"
            ],
            [
             0.6666666666666666,
             "#ed7953"
            ],
            [
             0.7777777777777778,
             "#fb9f3a"
            ],
            [
             0.8888888888888888,
             "#fdca26"
            ],
            [
             1,
             "#f0f921"
            ]
           ]
          },
          "colorway": [
           "#636efa",
           "#EF553B",
           "#00cc96",
           "#ab63fa",
           "#FFA15A",
           "#19d3f3",
           "#FF6692",
           "#B6E880",
           "#FF97FF",
           "#FECB52"
          ],
          "font": {
           "color": "#2a3f5f"
          },
          "geo": {
           "bgcolor": "white",
           "lakecolor": "white",
           "landcolor": "#E5ECF6",
           "showlakes": true,
           "showland": true,
           "subunitcolor": "white"
          },
          "hoverlabel": {
           "align": "left"
          },
          "hovermode": "closest",
          "mapbox": {
           "style": "light"
          },
          "paper_bgcolor": "white",
          "plot_bgcolor": "#E5ECF6",
          "polar": {
           "angularaxis": {
            "gridcolor": "white",
            "linecolor": "white",
            "ticks": ""
           },
           "bgcolor": "#E5ECF6",
           "radialaxis": {
            "gridcolor": "white",
            "linecolor": "white",
            "ticks": ""
           }
          },
          "scene": {
           "xaxis": {
            "backgroundcolor": "#E5ECF6",
            "gridcolor": "white",
            "gridwidth": 2,
            "linecolor": "white",
            "showbackground": true,
            "ticks": "",
            "zerolinecolor": "white"
           },
           "yaxis": {
            "backgroundcolor": "#E5ECF6",
            "gridcolor": "white",
            "gridwidth": 2,
            "linecolor": "white",
            "showbackground": true,
            "ticks": "",
            "zerolinecolor": "white"
           },
           "zaxis": {
            "backgroundcolor": "#E5ECF6",
            "gridcolor": "white",
            "gridwidth": 2,
            "linecolor": "white",
            "showbackground": true,
            "ticks": "",
            "zerolinecolor": "white"
           }
          },
          "shapedefaults": {
           "line": {
            "color": "#2a3f5f"
           }
          },
          "ternary": {
           "aaxis": {
            "gridcolor": "white",
            "linecolor": "white",
            "ticks": ""
           },
           "baxis": {
            "gridcolor": "white",
            "linecolor": "white",
            "ticks": ""
           },
           "bgcolor": "#E5ECF6",
           "caxis": {
            "gridcolor": "white",
            "linecolor": "white",
            "ticks": ""
           }
          },
          "title": {
           "x": 0.05
          },
          "xaxis": {
           "automargin": true,
           "gridcolor": "white",
           "linecolor": "white",
           "ticks": "",
           "title": {
            "standoff": 15
           },
           "zerolinecolor": "white",
           "zerolinewidth": 2
          },
          "yaxis": {
           "automargin": true,
           "gridcolor": "white",
           "linecolor": "white",
           "ticks": "",
           "title": {
            "standoff": 15
           },
           "zerolinecolor": "white",
           "zerolinewidth": 2
          }
         }
        },
        "xaxis": {
         "anchor": "y",
         "domain": [
          0,
          1
         ],
         "title": {
          "text": "Nombres"
         }
        },
        "yaxis": {
         "anchor": "x",
         "domain": [
          0,
          1
         ],
         "title": {
          "text": "Raciones rescatadas"
         }
        }
       }
      },
      "text/html": [
       "<div>                            <div id=\"a1b8c729-9113-43db-967b-ea3c14ea8a92\" class=\"plotly-graph-div\" style=\"height:525px; width:100%;\"></div>            <script type=\"text/javascript\">                require([\"plotly\"], function(Plotly) {                    window.PLOTLYENV=window.PLOTLYENV || {};                                    if (document.getElementById(\"a1b8c729-9113-43db-967b-ea3c14ea8a92\")) {                    Plotly.newPlot(                        \"a1b8c729-9113-43db-967b-ea3c14ea8a92\",                        [{\"alignmentgroup\":\"True\",\"hovertemplate\":\"Nombres=%{x}<br>Raciones rescatadas=%{y}<extra></extra>\",\"legendgroup\":\"\",\"marker\":{\"color\":\"#636efa\",\"pattern\":{\"shape\":\"\"}},\"name\":\"\",\"offsetgroup\":\"\",\"orientation\":\"v\",\"showlegend\":false,\"textposition\":\"auto\",\"x\":[\"E\\u00f1e + que una letra\",\"Fruter\\u00eda Las Gemelas\",\"Fruter\\u00eda Las Gemelas\",\"Fruter\\u00eda Las Gemelas\",\"Fruter\\u00eda Las Gemelas\",\"Fruter\\u00eda Las Gemelas\",\"Fruter\\u00eda Las Gemelas\",\"Fruter\\u00eda Las Gemelas\",\"Fruter\\u00eda Las Gemelas\",\"Fruter\\u00eda Las Gemelas\",\"Fruter\\u00eda Las Gemelas\",\"Fruter\\u00eda Las Gemelas\",\"Fruter\\u00eda Las Gemelas\",\"Fruter\\u00eda Las Gemelas\",\"Fruter\\u00eda Las Gemelas\",\"Levaduramadre\",\"Levaduramadre\",\"Levaduramadre\",\"Levaduramadre\",\"Levaduramadre\",\"Levaduramadre\",\"Levaduramadre\",\"Levaduramadre\",\"Levaduramadre\",\"Levaduramadre\",\"Levaduramadre\",\"Levaduramadre\",\"CM Loyola\",\"CM Loyola\",\"CM Loyola\",\"Colegio Mayor Aquinas\",\"CM Loyola\",\"Colegio Mayor Aquinas\",\"CM Loyola\",\"Vedruna\",\"CM Loyola\",\"CM Loyola\",\"CM Loyola\",\"CM Loyola\",\"Colegio Mayor Aquinas\",\"Colegio Mayor Aquinas\",\"CM Loyola\",\"CM Loyola\",\"Colegio Mayor Aquinas\",\"CM Loyola\",\"Colegio Mayor Aquinas\",\"CM Loyola\",\"Colegio Mayor Aquinas\",\"Colegio Mayor Aquinas\",\"CM Loyola\",\"CM Loyola\",\"CM Loyola\",\"CM Loyola\",\"CM Loyola\",\"CM Loyola\",\"CM Loyola\",\"E\\u00f1e + que una letra\",\"Fruter\\u00eda Las Gemelas\",\"Fruter\\u00eda Las Gemelas\",\"Fruter\\u00eda Las Gemelas\",\"Fruter\\u00eda Las Gemelas\",\"Fruter\\u00eda Las Gemelas\",\"Fruter\\u00eda Las Gemelas\",\"Fruter\\u00eda Las Gemelas\",\"Fruter\\u00eda Las Gemelas\",\"Fruter\\u00eda Las Gemelas\",\"Fruter\\u00eda Las Gemelas\",\"Fruter\\u00eda Las Gemelas\",\"Fruter\\u00eda Las Gemelas\",\"Fruter\\u00eda Las Gemelas\",\"E\\u00f1e + que una letra\",\"Colegio Mayor Aquinas\",\"Colegio Mayor Aquinas\",\"Colegio Mayor Aquinas\",\"El Ceb\\u00f3n\",\"Colegio Mayor Aquinas\",\"E\\u00f1e + que una letra\",\"Colegio Mayor Aquinas\",\"E\\u00f1e + que una letra\",\"Fruter\\u00eda Las Gemelas\",\"CM Loyola\",\"CM Loyola\",\"E\\u00f1e + que una letra\",\"Colegio Mayor Aquinas\",\"Colegio Mayor Aquinas\",\"E\\u00f1e + que una letra\",\"Colegio Mayor Aquinas\",\"Colegio Mayor Aquinas\",\"E\\u00f1e + que una letra\",\"Colegio Mayor Aquinas\",\"E\\u00f1e + que una letra\",\"Levaduramadre\",\"E\\u00f1e + que una letra\",\"Colegio Mayor Aquinas\",\"Bonjour\",\"Bonjour\",\"Bonjour\",\"Bonjour\",\"Bonjour\",\"Bonjour\",\"Bonjour\",\"Bonjour\",\"Bonjour\",\"Bonjour\",\"Bonjour\",\"Levaduramadre\",\"Levaduramadre\",\"Fruter\\u00eda Las Gemelas\",\"Fruter\\u00eda Las Gemelas\",\"Fruter\\u00eda Las Gemelas\",\"Fruter\\u00eda Las Gemelas\",\"Shurma Huerta\",\"Shurma Huerta\",\"Shurma Huerta\",\"Shurma Huerta\",\"Shurma Huerta\",\"Shurma Huerta\",\"Shurma Huerta\",\"Shurma Huerta\",\"Shurma Huerta\",\"Colegio Mayor Aquinas\",\"Colegio Mayor Aquinas\",\"Colegio Mayor Aquinas\",\"CM Loyola\",\"CM Loyola\",\"CM Loyola\",\"CM Loyola\",\"CM Loyola\",\"Vedruna\",\"Vedruna\",\"Vedruna\",\"Vedruna\",\"Vedruna\",\"CM Loyola\",\"CM Loyola\",\"CM Loyola\",\"CM Loyola\",\"Colegio Mayor Aquinas\",\"Colegio Mayor Aquinas\",\"Colegio Mayor Aquinas\",\"Colegio Mayor Aquinas\",\"CM Loyola\",\"CM Loyola\",\"CM Loyola\",\"CM Loyola\",\"CM Loyola\",\"CM Loyola\",\"CM Loyola\",\"CM Loyola\",\"CM Loyola\",\"CM Loyola\",\"Shurma Huerta\",\"Vedruna\",\"El Ceb\\u00f3n\",\"E\\u00f1e + que una letra\",\"El Ceb\\u00f3n\",\"Vedruna\",\"E\\u00f1e + que una letra\",\"E\\u00f1e + que una letra\",\"Colegio Mayor Aquinas\",\"Colegio Mayor Aquinas\",\"Colegio Mayor Aquinas\",\"Levaduramadre\",\"Levaduramadre\",\"Levaduramadre\",\"Levaduramadre\",\"Levaduramadre\",\"Levaduramadre\",\"Levaduramadre\",\"Levaduramadre\",\"Levaduramadre\",\"Zara frutas y verdura\",\"Bonjour\",\"Vedruna\",\"CM Loyola\",\"Levaduramadre\",\"Colegio Mayor Aquinas\",\"Levaduramadre\",\"Colegio Mayor Aquinas\",\"Colegio Mayor Aquinas\",\"Vedruna\",\"Levaduramadre\",\"Levaduramadre\",\"Levaduramadre\",\"Colegio Mayor Aquinas\",\"Levaduramadre\",\"Levaduramadre\",\"Levaduramadre\",\"Levaduramadre\",\"Levaduramadre\",\"Levaduramadre\",\"Levaduramadre\",\"Fruter\\u00eda Las Gemelas\",\"Fruter\\u00eda Las Gemelas\",\"Fruter\\u00eda Las Gemelas\",\"Fruter\\u00eda Las Gemelas\",\"Fruter\\u00eda Las Gemelas\",\"Fruter\\u00eda Las Gemelas\",\"Fruter\\u00eda Las Gemelas\",\"Fruter\\u00eda Las Gemelas\",\"Fruter\\u00eda Las Gemelas\",\"Fruter\\u00eda Las Gemelas\",\"Fruter\\u00eda Las Gemelas\",\"Fruterias Ignacio\",\"Fruterias Ignacio\",\"Fruterias Ignacio\",\"Fruterias Ignacio\",\"Fruterias Ignacio\",\"Levaduramadre\",\"Levaduramadre\",\"Levaduramadre\",\"Levaduramadre\",\"Colegio Mayor Aquinas\",\"Colegio Mayor Aquinas\",\"Vedruna\",\"CM Loyola\",\"CM Loyola\",\"E\\u00f1e + que una letra\",\"Vedruna\",\"Vedruna\",\"Vedruna\",\"Colegio Mayor Aquinas\",\"Colegio Mayor Aquinas\",\"Colegio Mayor Aquinas\",\"Colegio Mayor Aquinas\",\"E\\u00f1e + que una letra\",\"Vedruna\",\"Vedruna\",\"CM Loyola\",\"CM Loyola\",\"CM Loyola\",\"CM Loyola\",\"CM Loyola\",\"CM Loyola\",\"CM Loyola\",\"CM Loyola\",\"Colegio Mayor Aquinas\",\"Colegio Mayor Aquinas\",\"Colegio Mayor Aquinas\",\"Colegio Mayor Aquinas\",\"Colegio Mayor Aquinas\",\"Colegio Mayor Aquinas\",\"Colegio Mayor Aquinas\",\"Colegio Mayor Aquinas\",\"Colegio Mayor Aquinas\",\"Colegio Mayor Aquinas\",\"Colegio Mayor Aquinas\",\"Colegio Mayor Aquinas\",\"Colegio Mayor Aquinas\",\"Colegio Mayor Aquinas\",\"Colegio Mayor Aquinas\",\"Colegio Mayor Aquinas\",\"Colegio Mayor Aquinas\",\"Colegio Mayor Aquinas\",\"Colegio Mayor Aquinas\",\"Colegio Mayor Aquinas\",\"Colegio Mayor Aquinas\",\"Colegio Mayor Aquinas\",\"Colegio Mayor Aquinas\",\"Colegio Mayor Aquinas\",\"CM Loyola\",\"CM Loyola\",\"CM Loyola\",\"CM Loyola\",\"CM Loyola\",\"Colegio Mayor Aquinas\",\"CM Loyola\",\"CM Loyola\",\"CM Loyola\",\"CM Loyola\",\"Vedruna\",\"Vedruna\",\"CM Loyola\",\"CM Loyola\",\"Vedruna\",\"E\\u00f1e + que una letra\",\"Vedruna\",\"Vedruna\",\"Colegio Mayor Aquinas\",\"Vedruna\",\"Vedruna\",\"Vedruna\",\"Vedruna\",\"Vedruna\",\"Colegio Mayor Aquinas\",\"Colegio Mayor Aquinas\",\"Colegio Mayor Aquinas\",\"CM Loyola\",\"CM Loyola\",\"CM Loyola\",\"CM Loyola\",\"CM Loyola\",\"Colegio Mayor Aquinas\",\"Colegio Mayor Aquinas\",\"Colegio Mayor Aquinas\",\"Colegio Mayor Aquinas\",\"Colegio Mayor Aquinas\",\"Colegio Mayor Aquinas\",\"Colegio Mayor Aquinas\",\"Colegio Mayor Aquinas\",\"Colegio Mayor Aquinas\",\"Colegio Mayor Aquinas\",\"Colegio Mayor Aquinas\",\"CM Loyola\",\"CM Loyola\",\"CM Loyola\",\"CM Loyola\",\"CM Loyola\",\"CM Loyola\",\"CM Loyola\",\"CM Loyola\",\"CM Loyola\",\"CM Loyola\",\"CM Loyola\",\"CM Loyola\",\"CM Loyola\",\"CM Loyola\",\"CM Loyola\",\"CM Loyola\",\"CM Loyola\",\"CM Loyola\",\"CM Loyola\",\"CM Loyola\",\"CM Loyola\",\"CM Loyola\",\"CM Loyola\",\"CM Loyola\",\"CM Loyola\",\"CM Loyola\",\"CM Loyola\",\"Vedruna\",\"Vedruna\",\"Vedruna\",\"Vedruna\",\"Fruter\\u00eda Las Gemelas\",\"Fruter\\u00eda Las Gemelas\",\"Fruter\\u00eda Las Gemelas\",\"Fruter\\u00eda Las Gemelas\",\"Colegio Mayor Aquinas\",\"Colegio Mayor Aquinas\",\"Colegio Mayor Aquinas\",\"Vedruna\",\"Colegio Mayor Aquinas\",\"Colegio Mayor Aquinas\",\"Colegio Mayor Aquinas\",\"Colegio Mayor Aquinas\",\"Colegio Mayor Aquinas\",\"Colegio Mayor Aquinas\",\"Vedruna\",\"Colegio Mayor Aquinas\",\"Colegio Mayor Aquinas\",\"Colegio Mayor Aquinas\",\"Colegio Mayor Aquinas\",\"Colegio Mayor Aquinas\",\"Vedruna\",\"Vedruna\",\"Colegio Mayor Aquinas\",\"Colegio Mayor Aquinas\",\"Colegio Mayor Aquinas\",\"Colegio Mayor Aquinas\"],\"xaxis\":\"x\",\"y\":[2.0,3.0,3.0,3.0,3.0,3.0,3.0,3.0,3.0,3.0,3.0,3.0,3.0,3.0,3.0,0.5,0.5,0.5,0.5,0.5,0.5,0.5,0.5,0.5,0.5,0.5,0.5,4.0,4.0,1.0,1.0,3.0,3.0,3.0,9.0,9.0,3.0,3.0,5.0,5.0,4.0,4.0,4.0,4.0,5.0,5.0,2.0,2.0,4.0,4.0,3.0,5.0,5.0,3.0,5.0,5.0,5.0,3.0,3.0,3.0,3.0,3.0,3.0,3.0,3.0,3.0,3.0,3.0,3.0,3.0,3.0,4.0,1.0,3.0,4.0,7.0,3.0,3.0,5.0,6.0,4.0,3.0,5.0,4.0,5.0,3.0,2.0,4.0,3.0,5.0,6.0,1.0,3.0,5.0,1.5,1.5,1.5,1.5,1.5,1.5,1.5,1.5,1.5,1.5,1.5,1.5,1.5,3.0,3.0,3.0,3.0,3.0,3.0,3.0,3.0,3.0,3.0,3.0,3.0,3.0,3.0,3.0,3.0,4.0,4.0,4.0,5.0,5.0,5.0,4.0,5.0,3.0,3.0,3.0,4.0,4.0,3.0,3.0,5.0,5.0,5.0,1.0,4.0,4.0,3.0,6.0,5.0,2.0,3.0,5.0,2.0,0.5,4.0,2.0,4.0,2.0,3.0,3.0,7.0,3.0,7.0,5.0,0.5,0.5,0.5,0.5,0.5,0.5,0.5,0.5,0.5,4.0,0.5,5.0,5.0,0.5,3.0,1.0,6.0,7.0,3.0,1.0,1.0,1.0,5.0,0.5,0.5,0.5,0.5,0.5,0.5,0.5,3.0,3.0,3.0,3.0,3.0,3.0,3.0,3.0,3.0,3.0,3.0,3.0,3.0,3.0,3.0,3.0,0.5,0.5,0.5,0.5,5.0,5.0,5.0,6.0,3.0,7.0,1.0,3.0,3.0,1.0,7.0,6.0,4.0,5.0,4.0,3.0,2.0,5.0,2.0,4.0,3.0,3.0,5.0,5.0,3.0,3.0,6.0,4.0,5.0,5.0,5.0,6.0,6.0,4.0,3.0,3.0,3.0,2.0,4.0,3.0,4.0,3.0,5.0,5.0,3.0,3.0,3.0,7.0,7.0,1.0,3.0,3.0,6.0,6.0,4.0,5.0,2.0,2.0,4.0,3.0,3.0,5.0,5.0,5.0,5.0,5.0,5.0,5.0,5.0,5.0,5.0,5.0,3.0,3.0,3.0,3.0,5.0,3.0,5.0,5.0,3.0,3.0,3.0,5.0,3.0,5.0,3.0,3.0,5.0,3.0,5.0,3.0,5.0,3.0,5.0,3.0,5.0,3.0,3.0,3.0,2.0,3.0,3.0,5.0,3.0,5.0,5.0,2.0,5.0,3.0,3.0,3.0,3.0,3.0,5.0,3.0,3.0,5.0,5.0,5.0,3.0,5.0,9.0,15.0,9.0,15.0,4.0,3.0,5.0,4.0,4.0,4.0,4.0,4.0,5.0,4.0,5.0,4.0,3.0,4.0,5.0,5.0,5.0,3.0,3.0,5.0,5.0,5.0],\"yaxis\":\"y\",\"type\":\"bar\"}],                        {\"template\":{\"data\":{\"bar\":[{\"error_x\":{\"color\":\"#2a3f5f\"},\"error_y\":{\"color\":\"#2a3f5f\"},\"marker\":{\"line\":{\"color\":\"#E5ECF6\",\"width\":0.5},\"pattern\":{\"fillmode\":\"overlay\",\"size\":10,\"solidity\":0.2}},\"type\":\"bar\"}],\"barpolar\":[{\"marker\":{\"line\":{\"color\":\"#E5ECF6\",\"width\":0.5},\"pattern\":{\"fillmode\":\"overlay\",\"size\":10,\"solidity\":0.2}},\"type\":\"barpolar\"}],\"carpet\":[{\"aaxis\":{\"endlinecolor\":\"#2a3f5f\",\"gridcolor\":\"white\",\"linecolor\":\"white\",\"minorgridcolor\":\"white\",\"startlinecolor\":\"#2a3f5f\"},\"baxis\":{\"endlinecolor\":\"#2a3f5f\",\"gridcolor\":\"white\",\"linecolor\":\"white\",\"minorgridcolor\":\"white\",\"startlinecolor\":\"#2a3f5f\"},\"type\":\"carpet\"}],\"choropleth\":[{\"colorbar\":{\"outlinewidth\":0,\"ticks\":\"\"},\"type\":\"choropleth\"}],\"contour\":[{\"colorbar\":{\"outlinewidth\":0,\"ticks\":\"\"},\"colorscale\":[[0.0,\"#0d0887\"],[0.1111111111111111,\"#46039f\"],[0.2222222222222222,\"#7201a8\"],[0.3333333333333333,\"#9c179e\"],[0.4444444444444444,\"#bd3786\"],[0.5555555555555556,\"#d8576b\"],[0.6666666666666666,\"#ed7953\"],[0.7777777777777778,\"#fb9f3a\"],[0.8888888888888888,\"#fdca26\"],[1.0,\"#f0f921\"]],\"type\":\"contour\"}],\"contourcarpet\":[{\"colorbar\":{\"outlinewidth\":0,\"ticks\":\"\"},\"type\":\"contourcarpet\"}],\"heatmap\":[{\"colorbar\":{\"outlinewidth\":0,\"ticks\":\"\"},\"colorscale\":[[0.0,\"#0d0887\"],[0.1111111111111111,\"#46039f\"],[0.2222222222222222,\"#7201a8\"],[0.3333333333333333,\"#9c179e\"],[0.4444444444444444,\"#bd3786\"],[0.5555555555555556,\"#d8576b\"],[0.6666666666666666,\"#ed7953\"],[0.7777777777777778,\"#fb9f3a\"],[0.8888888888888888,\"#fdca26\"],[1.0,\"#f0f921\"]],\"type\":\"heatmap\"}],\"heatmapgl\":[{\"colorbar\":{\"outlinewidth\":0,\"ticks\":\"\"},\"colorscale\":[[0.0,\"#0d0887\"],[0.1111111111111111,\"#46039f\"],[0.2222222222222222,\"#7201a8\"],[0.3333333333333333,\"#9c179e\"],[0.4444444444444444,\"#bd3786\"],[0.5555555555555556,\"#d8576b\"],[0.6666666666666666,\"#ed7953\"],[0.7777777777777778,\"#fb9f3a\"],[0.8888888888888888,\"#fdca26\"],[1.0,\"#f0f921\"]],\"type\":\"heatmapgl\"}],\"histogram\":[{\"marker\":{\"pattern\":{\"fillmode\":\"overlay\",\"size\":10,\"solidity\":0.2}},\"type\":\"histogram\"}],\"histogram2d\":[{\"colorbar\":{\"outlinewidth\":0,\"ticks\":\"\"},\"colorscale\":[[0.0,\"#0d0887\"],[0.1111111111111111,\"#46039f\"],[0.2222222222222222,\"#7201a8\"],[0.3333333333333333,\"#9c179e\"],[0.4444444444444444,\"#bd3786\"],[0.5555555555555556,\"#d8576b\"],[0.6666666666666666,\"#ed7953\"],[0.7777777777777778,\"#fb9f3a\"],[0.8888888888888888,\"#fdca26\"],[1.0,\"#f0f921\"]],\"type\":\"histogram2d\"}],\"histogram2dcontour\":[{\"colorbar\":{\"outlinewidth\":0,\"ticks\":\"\"},\"colorscale\":[[0.0,\"#0d0887\"],[0.1111111111111111,\"#46039f\"],[0.2222222222222222,\"#7201a8\"],[0.3333333333333333,\"#9c179e\"],[0.4444444444444444,\"#bd3786\"],[0.5555555555555556,\"#d8576b\"],[0.6666666666666666,\"#ed7953\"],[0.7777777777777778,\"#fb9f3a\"],[0.8888888888888888,\"#fdca26\"],[1.0,\"#f0f921\"]],\"type\":\"histogram2dcontour\"}],\"mesh3d\":[{\"colorbar\":{\"outlinewidth\":0,\"ticks\":\"\"},\"type\":\"mesh3d\"}],\"parcoords\":[{\"line\":{\"colorbar\":{\"outlinewidth\":0,\"ticks\":\"\"}},\"type\":\"parcoords\"}],\"pie\":[{\"automargin\":true,\"type\":\"pie\"}],\"scatter\":[{\"marker\":{\"colorbar\":{\"outlinewidth\":0,\"ticks\":\"\"}},\"type\":\"scatter\"}],\"scatter3d\":[{\"line\":{\"colorbar\":{\"outlinewidth\":0,\"ticks\":\"\"}},\"marker\":{\"colorbar\":{\"outlinewidth\":0,\"ticks\":\"\"}},\"type\":\"scatter3d\"}],\"scattercarpet\":[{\"marker\":{\"colorbar\":{\"outlinewidth\":0,\"ticks\":\"\"}},\"type\":\"scattercarpet\"}],\"scattergeo\":[{\"marker\":{\"colorbar\":{\"outlinewidth\":0,\"ticks\":\"\"}},\"type\":\"scattergeo\"}],\"scattergl\":[{\"marker\":{\"colorbar\":{\"outlinewidth\":0,\"ticks\":\"\"}},\"type\":\"scattergl\"}],\"scattermapbox\":[{\"marker\":{\"colorbar\":{\"outlinewidth\":0,\"ticks\":\"\"}},\"type\":\"scattermapbox\"}],\"scatterpolar\":[{\"marker\":{\"colorbar\":{\"outlinewidth\":0,\"ticks\":\"\"}},\"type\":\"scatterpolar\"}],\"scatterpolargl\":[{\"marker\":{\"colorbar\":{\"outlinewidth\":0,\"ticks\":\"\"}},\"type\":\"scatterpolargl\"}],\"scatterternary\":[{\"marker\":{\"colorbar\":{\"outlinewidth\":0,\"ticks\":\"\"}},\"type\":\"scatterternary\"}],\"surface\":[{\"colorbar\":{\"outlinewidth\":0,\"ticks\":\"\"},\"colorscale\":[[0.0,\"#0d0887\"],[0.1111111111111111,\"#46039f\"],[0.2222222222222222,\"#7201a8\"],[0.3333333333333333,\"#9c179e\"],[0.4444444444444444,\"#bd3786\"],[0.5555555555555556,\"#d8576b\"],[0.6666666666666666,\"#ed7953\"],[0.7777777777777778,\"#fb9f3a\"],[0.8888888888888888,\"#fdca26\"],[1.0,\"#f0f921\"]],\"type\":\"surface\"}],\"table\":[{\"cells\":{\"fill\":{\"color\":\"#EBF0F8\"},\"line\":{\"color\":\"white\"}},\"header\":{\"fill\":{\"color\":\"#C8D4E3\"},\"line\":{\"color\":\"white\"}},\"type\":\"table\"}]},\"layout\":{\"annotationdefaults\":{\"arrowcolor\":\"#2a3f5f\",\"arrowhead\":0,\"arrowwidth\":1},\"autotypenumbers\":\"strict\",\"coloraxis\":{\"colorbar\":{\"outlinewidth\":0,\"ticks\":\"\"}},\"colorscale\":{\"diverging\":[[0,\"#8e0152\"],[0.1,\"#c51b7d\"],[0.2,\"#de77ae\"],[0.3,\"#f1b6da\"],[0.4,\"#fde0ef\"],[0.5,\"#f7f7f7\"],[0.6,\"#e6f5d0\"],[0.7,\"#b8e186\"],[0.8,\"#7fbc41\"],[0.9,\"#4d9221\"],[1,\"#276419\"]],\"sequential\":[[0.0,\"#0d0887\"],[0.1111111111111111,\"#46039f\"],[0.2222222222222222,\"#7201a8\"],[0.3333333333333333,\"#9c179e\"],[0.4444444444444444,\"#bd3786\"],[0.5555555555555556,\"#d8576b\"],[0.6666666666666666,\"#ed7953\"],[0.7777777777777778,\"#fb9f3a\"],[0.8888888888888888,\"#fdca26\"],[1.0,\"#f0f921\"]],\"sequentialminus\":[[0.0,\"#0d0887\"],[0.1111111111111111,\"#46039f\"],[0.2222222222222222,\"#7201a8\"],[0.3333333333333333,\"#9c179e\"],[0.4444444444444444,\"#bd3786\"],[0.5555555555555556,\"#d8576b\"],[0.6666666666666666,\"#ed7953\"],[0.7777777777777778,\"#fb9f3a\"],[0.8888888888888888,\"#fdca26\"],[1.0,\"#f0f921\"]]},\"colorway\":[\"#636efa\",\"#EF553B\",\"#00cc96\",\"#ab63fa\",\"#FFA15A\",\"#19d3f3\",\"#FF6692\",\"#B6E880\",\"#FF97FF\",\"#FECB52\"],\"font\":{\"color\":\"#2a3f5f\"},\"geo\":{\"bgcolor\":\"white\",\"lakecolor\":\"white\",\"landcolor\":\"#E5ECF6\",\"showlakes\":true,\"showland\":true,\"subunitcolor\":\"white\"},\"hoverlabel\":{\"align\":\"left\"},\"hovermode\":\"closest\",\"mapbox\":{\"style\":\"light\"},\"paper_bgcolor\":\"white\",\"plot_bgcolor\":\"#E5ECF6\",\"polar\":{\"angularaxis\":{\"gridcolor\":\"white\",\"linecolor\":\"white\",\"ticks\":\"\"},\"bgcolor\":\"#E5ECF6\",\"radialaxis\":{\"gridcolor\":\"white\",\"linecolor\":\"white\",\"ticks\":\"\"}},\"scene\":{\"xaxis\":{\"backgroundcolor\":\"#E5ECF6\",\"gridcolor\":\"white\",\"gridwidth\":2,\"linecolor\":\"white\",\"showbackground\":true,\"ticks\":\"\",\"zerolinecolor\":\"white\"},\"yaxis\":{\"backgroundcolor\":\"#E5ECF6\",\"gridcolor\":\"white\",\"gridwidth\":2,\"linecolor\":\"white\",\"showbackground\":true,\"ticks\":\"\",\"zerolinecolor\":\"white\"},\"zaxis\":{\"backgroundcolor\":\"#E5ECF6\",\"gridcolor\":\"white\",\"gridwidth\":2,\"linecolor\":\"white\",\"showbackground\":true,\"ticks\":\"\",\"zerolinecolor\":\"white\"}},\"shapedefaults\":{\"line\":{\"color\":\"#2a3f5f\"}},\"ternary\":{\"aaxis\":{\"gridcolor\":\"white\",\"linecolor\":\"white\",\"ticks\":\"\"},\"baxis\":{\"gridcolor\":\"white\",\"linecolor\":\"white\",\"ticks\":\"\"},\"bgcolor\":\"#E5ECF6\",\"caxis\":{\"gridcolor\":\"white\",\"linecolor\":\"white\",\"ticks\":\"\"}},\"title\":{\"x\":0.05},\"xaxis\":{\"automargin\":true,\"gridcolor\":\"white\",\"linecolor\":\"white\",\"ticks\":\"\",\"title\":{\"standoff\":15},\"zerolinecolor\":\"white\",\"zerolinewidth\":2},\"yaxis\":{\"automargin\":true,\"gridcolor\":\"white\",\"linecolor\":\"white\",\"ticks\":\"\",\"title\":{\"standoff\":15},\"zerolinecolor\":\"white\",\"zerolinewidth\":2}}},\"xaxis\":{\"anchor\":\"y\",\"domain\":[0.0,1.0],\"title\":{\"text\":\"Nombres\"}},\"yaxis\":{\"anchor\":\"x\",\"domain\":[0.0,1.0],\"title\":{\"text\":\"Raciones rescatadas\"}},\"legend\":{\"tracegroupgap\":0},\"margin\":{\"t\":60},\"barmode\":\"relative\"},                        {\"responsive\": true}                    ).then(function(){\n",
       "                            \n",
       "var gd = document.getElementById('a1b8c729-9113-43db-967b-ea3c14ea8a92');\n",
       "var x = new MutationObserver(function (mutations, observer) {{\n",
       "        var display = window.getComputedStyle(gd).display;\n",
       "        if (!display || display === 'none') {{\n",
       "            console.log([gd, 'removed!']);\n",
       "            Plotly.purge(gd);\n",
       "            observer.disconnect();\n",
       "        }}\n",
       "}});\n",
       "\n",
       "// Listen for the removal of the full notebook cells\n",
       "var notebookContainer = gd.closest('#notebook-container');\n",
       "if (notebookContainer) {{\n",
       "    x.observe(notebookContainer, {childList: true});\n",
       "}}\n",
       "\n",
       "// Listen for the clearing of the current output cell\n",
       "var outputEl = gd.closest('.output');\n",
       "if (outputEl) {{\n",
       "    x.observe(outputEl, {childList: true});\n",
       "}}\n",
       "\n",
       "                        })                };                });            </script>        </div>"
      ]
     },
     "metadata": {},
     "output_type": "display_data"
    }
   ],
   "source": [
    "df_actualidad = df2[df2['Dia'].dt.dayofweek == 2]\n",
    "df_actualidad = df_actualidad[df2['Dia'].dt.year == 2022]\n",
    "fig = px.bar(df_actualidad, x=\"Nombres\",y='Raciones rescatadas')\n",
    "fig.show()\n"
   ]
  },
  {
   "cell_type": "markdown",
   "id": "27dc3b01",
   "metadata": {},
   "source": [
    "# Jueves actualidad"
   ]
  },
  {
   "cell_type": "code",
   "execution_count": 12,
   "id": "9f922775",
   "metadata": {},
   "outputs": [
    {
     "name": "stderr",
     "output_type": "stream",
     "text": [
      "/tmp/ipykernel_34660/692281590.py:2: UserWarning:\n",
      "\n",
      "Boolean Series key will be reindexed to match DataFrame index.\n",
      "\n"
     ]
    },
    {
     "data": {
      "application/vnd.plotly.v1+json": {
       "config": {
        "plotlyServerURL": "https://plot.ly"
       },
       "data": [
        {
         "alignmentgroup": "True",
         "hovertemplate": "Nombres=%{x}<br>Raciones rescatadas=%{y}<extra></extra>",
         "legendgroup": "",
         "marker": {
          "color": "#636efa",
          "pattern": {
           "shape": ""
          }
         },
         "name": "",
         "offsetgroup": "",
         "orientation": "v",
         "showlegend": false,
         "textposition": "auto",
         "type": "bar",
         "x": [
          "Frutería Las Gemelas",
          "Frutería Las Gemelas",
          "Frutería Las Gemelas",
          "Frutería Las Gemelas",
          "Frutería Las Gemelas",
          "Frutería Las Gemelas",
          "Frutería Las Gemelas",
          "Frutería Las Gemelas",
          "Frutería Las Gemelas",
          "Frutería Las Gemelas",
          "Frutería Las Gemelas",
          "Frutería Las Gemelas",
          "Levaduramadre",
          "Levaduramadre",
          "Levaduramadre",
          "Levaduramadre",
          "Levaduramadre",
          "Levaduramadre",
          "Levaduramadre",
          "Levaduramadre",
          "Levaduramadre",
          "Levaduramadre",
          "Levaduramadre",
          "Levaduramadre",
          "Eñe + que una letra",
          "CM Loyola",
          "CM Loyola",
          "Colegio Mayor Aquinas",
          "CM Loyola",
          "Vedruna",
          "Colegio Mayor Aquinas",
          "CM Loyola",
          "CM Loyola",
          "CM Loyola",
          "CM Loyola",
          "CM Loyola",
          "CM Loyola",
          "CM Loyola",
          "CM Loyola",
          "Colegio Mayor Aquinas",
          "CM Loyola",
          "CM Loyola",
          "CM Loyola",
          "CM Loyola",
          "Vedruna",
          "Colegio Mayor Aquinas",
          "CM Loyola",
          "Vedruna",
          "Colegio Mayor Aquinas",
          "CM Loyola",
          "CM Loyola",
          "CM Loyola",
          "CM Loyola",
          "CM Loyola",
          "CM Loyola",
          "CM Loyola",
          "CM Loyola",
          "Frutería Las Gemelas",
          "Frutería Las Gemelas",
          "Frutería Las Gemelas",
          "Frutería Las Gemelas",
          "Frutería Las Gemelas",
          "Frutería Las Gemelas",
          "Frutería Las Gemelas",
          "Frutería Las Gemelas",
          "Frutería Las Gemelas",
          "Frutería Las Gemelas",
          "Frutería Las Gemelas",
          "Levaduramadre",
          "Levaduramadre",
          "Levaduramadre",
          "Levaduramadre",
          "Levaduramadre",
          "Levaduramadre",
          "Levaduramadre",
          "Levaduramadre",
          "Levaduramadre",
          "Levaduramadre",
          "Levaduramadre",
          "CM Loyola",
          "Colegio Mayor Aquinas",
          "Vedruna",
          "Vedruna",
          "Eñe + que una letra",
          "CM Loyola",
          "Colegio Mayor Aquinas",
          "Colegio Mayor Aquinas",
          "Colegio Mayor Aquinas",
          "CM Loyola",
          "CM Loyola",
          "CM Loyola",
          "CM Loyola",
          "CM Loyola",
          "CM Loyola",
          "CM Loyola",
          "CM Loyola",
          "Vedruna",
          "Vedruna",
          "CM Loyola",
          "Vedruna",
          "Vedruna",
          "CM Loyola",
          "CM Loyola",
          "Vedruna",
          "CM Loyola",
          "Colegio Mayor Aquinas",
          "CM Loyola",
          "Vedruna",
          "CM Loyola",
          "Eñe + que una letra",
          "CM Loyola",
          "Vedruna",
          "CM Loyola",
          "Frutería Las Gemelas",
          "Frutería Las Gemelas",
          "Frutería Las Gemelas",
          "Frutería Las Gemelas",
          "Frutería Las Gemelas",
          "Frutería Las Gemelas",
          "Frutería Las Gemelas",
          "Frutería Las Gemelas",
          "Frutería Las Gemelas",
          "Frutería Las Gemelas",
          "Frutería Las Gemelas",
          "Frutería Las Gemelas",
          "Frutería Las Gemelas",
          "Frutería Las Gemelas",
          "Frutería Las Gemelas",
          "Colegio Mayor Aquinas",
          "CM Loyola",
          "CM Loyola",
          "Colegio Mayor Aquinas",
          "Colegio Mayor Aquinas",
          "Colegio Mayor Aquinas",
          "Colegio Mayor Aquinas",
          "CM Loyola",
          "Colegio Mayor Aquinas",
          "Colegio Mayor Aquinas",
          "Colegio Mayor Aquinas",
          "Colegio Mayor Aquinas",
          "Colegio Mayor Aquinas",
          "Colegio Mayor Aquinas",
          "Colegio Mayor Aquinas",
          "Colegio Mayor Aquinas",
          "Colegio Mayor Aquinas",
          "Colegio Mayor Aquinas",
          "CM Loyola",
          "CM Loyola",
          "Colegio Mayor Aquinas",
          "Eñe + que una letra",
          "Bonjour",
          "Colegio Mayor Aquinas",
          "Colegio Mayor Aquinas",
          "Colegio Mayor Aquinas",
          "Colegio Mayor Aquinas",
          "Colegio Mayor Aquinas",
          "Colegio Mayor Aquinas",
          "Colegio Mayor Aquinas",
          "Zara frutas y verdura",
          "Zara frutas y verdura",
          "Fruteria Valencia",
          "Fruteria Valencia",
          "Fruteria Valencia",
          "Fruteria Valencia",
          "Fruteria Valencia",
          "Fruteria Valencia",
          "Fruteria Valencia",
          "Fruteria Valencia",
          "Fruteria Valencia",
          "Fruteria Valencia",
          "Fruteria Valencia",
          "Fruteria Valencia",
          "Fruteria Valencia",
          "Fruteria Valencia",
          "Levaduramadre",
          "Levaduramadre",
          "Levaduramadre",
          "Levaduramadre",
          "Levaduramadre",
          "Levaduramadre",
          "Levaduramadre",
          "Levaduramadre",
          "Levaduramadre",
          "Levaduramadre",
          "Bonjour",
          "Bonjour",
          "Bonjour",
          "Bonjour",
          "Bonjour",
          "Eñe + que una letra",
          "Colegio Mayor Aquinas",
          "Colegio Mayor Aquinas",
          "Colegio Mayor Aquinas",
          "Colegio Mayor Aquinas",
          "Colegio Mayor Aquinas",
          "Colegio Mayor Aquinas",
          "Colegio Mayor Aquinas",
          "Colegio Mayor Aquinas",
          "Colegio Mayor Aquinas",
          "Colegio Mayor Aquinas",
          "Colegio Mayor Aquinas",
          "Colegio Mayor Aquinas",
          "Colegio Mayor Aquinas",
          "Colegio Mayor Aquinas",
          "Colegio Mayor Aquinas",
          "Vedruna",
          "Colegio Mayor Aquinas",
          "Colegio Mayor Aquinas",
          "Colegio Mayor Aquinas",
          "Colegio Mayor Aquinas",
          "Colegio Mayor Aquinas",
          "Vedruna",
          "Colegio Mayor Aquinas",
          "Colegio Mayor Aquinas",
          "Colegio Mayor Aquinas",
          "Levaduramadre",
          "Levaduramadre",
          "Levaduramadre",
          "Zara frutas y verdura",
          "Frutería Las Gemelas",
          "Frutería Las Gemelas",
          "Frutería Las Gemelas",
          "Zara frutas y verdura",
          "Zara frutas y verdura",
          "Fruterias Andrés",
          "Fruterias Andrés",
          "Fruterias Andrés",
          "Fruterias Andrés",
          "Vedruna",
          "Eñe + que una letra",
          "Eñe + que una letra",
          "Zara frutas y verdura",
          "Zara frutas y verdura",
          "Fruterias Andrés",
          "Fruterias Andrés",
          "Vedruna",
          "CM Loyola",
          "Colegio Mayor Aquinas",
          "CM Loyola",
          "Colegio Mayor Aquinas",
          "Colegio Mayor Aquinas",
          "CM Loyola",
          "Colegio Mayor Aquinas",
          "Vedruna",
          "CM Loyola",
          "Colegio Mayor Aquinas",
          "Colegio Mayor Aquinas",
          "Colegio Mayor Aquinas",
          "Colegio Mayor Aquinas",
          "Colegio Mayor Aquinas",
          "Colegio Mayor Aquinas",
          "CM Loyola",
          "Colegio Mayor Aquinas",
          "CM Loyola",
          "Colegio Mayor Aquinas",
          "Colegio Mayor Aquinas",
          "CM Loyola",
          "CM Loyola",
          "CM Loyola",
          "CM Loyola",
          "CM Loyola",
          "CM Loyola",
          "CM Loyola",
          "CM Loyola",
          "CM Loyola",
          "CM Loyola",
          "Levaduramadre",
          "Levaduramadre",
          "Levaduramadre",
          "Bonjour",
          "Colegio Mayor Aquinas",
          "Colegio Mayor Aquinas",
          "Bonjour",
          "Colegio Mayor Aquinas",
          "Colegio Mayor Aquinas",
          "Levaduramadre",
          "Eñe + que una letra",
          "Vedruna",
          "Levaduramadre",
          "Colegio Mayor Aquinas",
          "Vedruna",
          "Colegio Mayor Aquinas",
          "Levaduramadre",
          "Vedruna",
          "Levaduramadre",
          "Levaduramadre",
          "Colegio Mayor Aquinas",
          "CM Loyola",
          "Levaduramadre",
          "Colegio Mayor Aquinas",
          "Colegio Mayor Aquinas",
          "Bonjour",
          "CM Loyola",
          "CM Loyola",
          "Levaduramadre",
          "Colegio Mayor Aquinas",
          "Colegio Mayor Aquinas",
          "Bonjour",
          "CM Loyola",
          "Colegio Mayor Aquinas",
          "Levaduramadre",
          "CM Loyola",
          "Bonjour",
          "CM Loyola",
          "Bonjour",
          "CM Loyola",
          "Colegio Mayor Aquinas",
          "Bonjour",
          "Vedruna",
          "Colegio Mayor Aquinas",
          "Levaduramadre",
          "Vedruna",
          "CM Loyola",
          "Levaduramadre",
          "Eñe + que una letra",
          "Vedruna",
          "Colegio Mayor Aquinas",
          "Fruteria Valencia",
          "Colegio Mayor Aquinas",
          "Frutería Las Gemelas",
          "Colegio Mayor Aquinas",
          "Vedruna",
          "Colegio Mayor Aquinas",
          "Frutería Las Gemelas",
          "Colegio Mayor Aquinas",
          "Colegio Mayor Aquinas",
          "Fruteria Valencia",
          "Vedruna",
          "Colegio Mayor Aquinas",
          "Fruteria Valencia",
          "Colegio Mayor Aquinas",
          "Frutería Las Gemelas",
          "Colegio Mayor Aquinas",
          "Colegio Mayor Aquinas",
          "Vedruna",
          "Colegio Mayor Aquinas",
          "Fruteria Valencia",
          "Fruteria Valencia",
          "Colegio Mayor Aquinas",
          "Fruteria Valencia",
          "Colegio Mayor Aquinas",
          "CM Loyola",
          "Fruteria Valencia",
          "Colegio Mayor Aquinas",
          "Fruteria Valencia",
          "Vedruna",
          "Fruteria Valencia",
          "Colegio Mayor Aquinas",
          "Frutería Las Gemelas",
          "Colegio Mayor Aquinas",
          "Frutería Las Gemelas",
          "Colegio Mayor Aquinas",
          "Fruteria Valencia",
          "Colegio Mayor Aquinas",
          "Vedruna",
          "CM Loyola",
          "Vedruna",
          "Vedruna",
          "CM Loyola",
          "CM Loyola",
          "Colegio Mayor Aquinas",
          "Colegio Mayor Aquinas",
          "Colegio Mayor Aquinas",
          "Colegio Mayor Aquinas",
          "CM Loyola",
          "Colegio Mayor Aquinas",
          "CM Loyola",
          "CM Loyola",
          "CM Loyola",
          "Fruteria Valencia",
          "Bonjour",
          "Bonjour",
          "Fruteria Valencia",
          "Fruteria Valencia",
          "Bonjour",
          "Bonjour",
          "Fruteria Valencia",
          "Fruteria Valencia",
          "Bonjour",
          "Bonjour",
          "Fruteria Valencia",
          "Fruteria Valencia",
          "Bonjour",
          "Bonjour",
          "Fruteria Valencia",
          "Fruteria Valencia",
          "Bonjour",
          "Bonjour",
          "Fruteria Valencia",
          "Fruteria Valencia",
          "Bonjour",
          "Bonjour",
          "Fruteria Valencia",
          "Fruteria Valencia",
          "Bonjour",
          "Bonjour",
          "Fruteria Valencia",
          "Fruteria Valencia",
          "Levaduramadre",
          "Colegio Mayor Aquinas",
          "Colegio Mayor Aquinas",
          "Colegio Mayor Aquinas",
          "Colegio Mayor Aquinas",
          "Colegio Mayor Aquinas",
          "Colegio Mayor Aquinas",
          "Colegio Mayor Aquinas",
          "Colegio Mayor Aquinas",
          "Colegio Mayor Aquinas",
          "Colegio Mayor Aquinas",
          "Colegio Mayor Aquinas",
          "CM Loyola",
          "CM Loyola",
          "CM Loyola",
          "CM Loyola",
          "CM Loyola",
          "CM Loyola",
          "CM Loyola",
          "CM Loyola",
          "CM Loyola",
          "CM Loyola",
          "CM Loyola",
          "CM Loyola",
          "CM Loyola",
          "CM Loyola",
          "CM Loyola",
          "CM Loyola",
          "CM Loyola",
          "CM Loyola",
          "CM Loyola",
          "CM Loyola",
          "Vedruna",
          "Vedruna",
          "Vedruna",
          "CM Loyola",
          "CM Loyola",
          "CM Loyola",
          "CM Loyola",
          "CM Loyola",
          "CM Loyola",
          "CM Loyola",
          "CM Loyola",
          "CM Loyola",
          "CM Loyola"
         ],
         "xaxis": "x",
         "y": [
          3,
          3,
          3,
          3,
          3,
          3,
          3,
          3,
          3,
          3,
          3,
          3,
          0.5,
          0.5,
          0.5,
          0.5,
          0.5,
          0.5,
          0.5,
          0.5,
          0.5,
          0.5,
          0.5,
          0.5,
          3,
          3,
          3,
          3,
          3,
          3,
          2,
          3,
          3,
          3,
          5,
          5,
          5,
          3,
          3,
          3,
          5,
          5,
          5,
          4,
          3,
          3,
          4,
          3,
          5,
          5,
          5,
          5,
          5,
          5,
          5,
          5,
          5,
          3,
          3,
          3,
          3,
          3,
          3,
          3,
          3,
          3,
          3,
          3,
          0.5,
          0.5,
          0.5,
          0.5,
          0.5,
          0.5,
          0.5,
          0.5,
          0.5,
          0.5,
          0.5,
          1,
          9,
          3,
          6,
          6,
          2,
          4,
          3,
          6,
          1,
          9,
          3,
          8,
          4,
          9,
          6,
          4,
          4,
          4,
          4,
          4,
          4,
          4,
          4,
          4,
          4,
          5,
          5,
          5,
          5,
          5,
          5,
          5,
          5,
          15,
          15,
          15,
          15,
          15,
          15,
          15,
          15,
          15,
          15,
          15,
          15,
          15,
          15,
          15,
          15,
          5,
          5,
          5,
          5,
          5,
          15,
          5,
          15,
          5,
          5,
          5,
          5,
          5,
          5,
          5,
          15,
          15,
          3,
          3,
          9,
          3,
          0.5,
          3,
          3,
          3,
          3,
          3,
          5,
          5,
          3,
          3,
          3,
          3,
          3,
          3,
          3,
          3,
          3,
          3,
          3,
          3,
          3,
          3,
          3,
          3,
          0.5,
          0.5,
          0.5,
          0.5,
          0.5,
          0.5,
          0.5,
          0.5,
          0.5,
          0.5,
          0.5,
          0.5,
          0.5,
          0.5,
          0.5,
          5,
          5,
          5,
          5,
          1,
          3,
          7,
          3,
          3,
          4,
          5,
          4,
          2,
          4,
          2,
          2,
          4,
          2,
          2,
          4,
          4,
          3,
          3,
          3,
          3,
          4,
          3.5,
          3.5,
          2.5,
          21,
          3,
          9,
          21,
          9,
          18,
          12,
          12,
          12,
          15,
          6,
          5,
          5,
          12,
          12,
          12,
          12,
          7,
          2,
          2,
          7,
          4,
          3,
          5,
          3,
          15,
          4,
          3,
          3,
          5,
          2,
          2,
          5,
          3,
          5,
          3,
          6,
          6,
          5,
          5,
          6,
          5,
          6,
          5,
          5,
          5,
          6,
          4,
          0,
          0,
          0,
          0.5,
          4,
          2,
          1,
          6,
          6,
          0.5,
          2,
          3,
          0.5,
          3,
          3,
          3,
          1,
          4,
          0.5,
          0.5,
          3,
          3,
          1,
          5,
          5,
          0.5,
          2,
          4,
          0.5,
          4,
          4,
          0.5,
          5,
          5,
          0.5,
          3,
          1,
          4,
          0.5,
          4,
          3,
          1,
          3,
          5,
          0.5,
          6,
          2,
          1,
          2,
          3,
          5,
          15,
          5,
          15,
          5,
          3,
          5,
          15,
          4,
          3,
          15,
          3,
          5,
          15,
          5,
          15,
          5,
          5,
          3,
          5,
          15,
          15,
          5,
          15,
          3,
          3,
          18,
          5,
          15,
          3,
          15,
          3,
          15,
          5,
          15,
          5,
          15,
          5,
          3,
          5,
          7,
          2,
          2,
          5,
          2,
          5,
          5,
          5,
          2,
          5,
          5,
          4,
          5,
          3,
          0,
          0,
          3,
          3,
          0,
          0,
          3,
          3,
          0,
          0,
          3,
          3,
          0,
          0,
          3,
          3,
          0,
          0,
          3,
          3,
          0,
          0,
          3,
          3,
          0,
          0,
          3,
          3,
          0,
          1,
          3,
          3,
          3,
          3,
          5,
          5,
          5,
          5,
          5,
          1,
          5,
          5,
          5,
          5,
          5,
          5,
          5,
          5,
          5,
          3,
          3,
          3,
          3,
          3,
          3,
          3,
          3,
          3,
          3,
          3,
          3,
          3,
          3,
          2,
          5,
          5,
          5,
          5,
          5,
          5,
          5,
          5,
          5
         ],
         "yaxis": "y"
        }
       ],
       "layout": {
        "barmode": "relative",
        "legend": {
         "tracegroupgap": 0
        },
        "margin": {
         "t": 60
        },
        "template": {
         "data": {
          "bar": [
           {
            "error_x": {
             "color": "#2a3f5f"
            },
            "error_y": {
             "color": "#2a3f5f"
            },
            "marker": {
             "line": {
              "color": "#E5ECF6",
              "width": 0.5
             },
             "pattern": {
              "fillmode": "overlay",
              "size": 10,
              "solidity": 0.2
             }
            },
            "type": "bar"
           }
          ],
          "barpolar": [
           {
            "marker": {
             "line": {
              "color": "#E5ECF6",
              "width": 0.5
             },
             "pattern": {
              "fillmode": "overlay",
              "size": 10,
              "solidity": 0.2
             }
            },
            "type": "barpolar"
           }
          ],
          "carpet": [
           {
            "aaxis": {
             "endlinecolor": "#2a3f5f",
             "gridcolor": "white",
             "linecolor": "white",
             "minorgridcolor": "white",
             "startlinecolor": "#2a3f5f"
            },
            "baxis": {
             "endlinecolor": "#2a3f5f",
             "gridcolor": "white",
             "linecolor": "white",
             "minorgridcolor": "white",
             "startlinecolor": "#2a3f5f"
            },
            "type": "carpet"
           }
          ],
          "choropleth": [
           {
            "colorbar": {
             "outlinewidth": 0,
             "ticks": ""
            },
            "type": "choropleth"
           }
          ],
          "contour": [
           {
            "colorbar": {
             "outlinewidth": 0,
             "ticks": ""
            },
            "colorscale": [
             [
              0,
              "#0d0887"
             ],
             [
              0.1111111111111111,
              "#46039f"
             ],
             [
              0.2222222222222222,
              "#7201a8"
             ],
             [
              0.3333333333333333,
              "#9c179e"
             ],
             [
              0.4444444444444444,
              "#bd3786"
             ],
             [
              0.5555555555555556,
              "#d8576b"
             ],
             [
              0.6666666666666666,
              "#ed7953"
             ],
             [
              0.7777777777777778,
              "#fb9f3a"
             ],
             [
              0.8888888888888888,
              "#fdca26"
             ],
             [
              1,
              "#f0f921"
             ]
            ],
            "type": "contour"
           }
          ],
          "contourcarpet": [
           {
            "colorbar": {
             "outlinewidth": 0,
             "ticks": ""
            },
            "type": "contourcarpet"
           }
          ],
          "heatmap": [
           {
            "colorbar": {
             "outlinewidth": 0,
             "ticks": ""
            },
            "colorscale": [
             [
              0,
              "#0d0887"
             ],
             [
              0.1111111111111111,
              "#46039f"
             ],
             [
              0.2222222222222222,
              "#7201a8"
             ],
             [
              0.3333333333333333,
              "#9c179e"
             ],
             [
              0.4444444444444444,
              "#bd3786"
             ],
             [
              0.5555555555555556,
              "#d8576b"
             ],
             [
              0.6666666666666666,
              "#ed7953"
             ],
             [
              0.7777777777777778,
              "#fb9f3a"
             ],
             [
              0.8888888888888888,
              "#fdca26"
             ],
             [
              1,
              "#f0f921"
             ]
            ],
            "type": "heatmap"
           }
          ],
          "heatmapgl": [
           {
            "colorbar": {
             "outlinewidth": 0,
             "ticks": ""
            },
            "colorscale": [
             [
              0,
              "#0d0887"
             ],
             [
              0.1111111111111111,
              "#46039f"
             ],
             [
              0.2222222222222222,
              "#7201a8"
             ],
             [
              0.3333333333333333,
              "#9c179e"
             ],
             [
              0.4444444444444444,
              "#bd3786"
             ],
             [
              0.5555555555555556,
              "#d8576b"
             ],
             [
              0.6666666666666666,
              "#ed7953"
             ],
             [
              0.7777777777777778,
              "#fb9f3a"
             ],
             [
              0.8888888888888888,
              "#fdca26"
             ],
             [
              1,
              "#f0f921"
             ]
            ],
            "type": "heatmapgl"
           }
          ],
          "histogram": [
           {
            "marker": {
             "pattern": {
              "fillmode": "overlay",
              "size": 10,
              "solidity": 0.2
             }
            },
            "type": "histogram"
           }
          ],
          "histogram2d": [
           {
            "colorbar": {
             "outlinewidth": 0,
             "ticks": ""
            },
            "colorscale": [
             [
              0,
              "#0d0887"
             ],
             [
              0.1111111111111111,
              "#46039f"
             ],
             [
              0.2222222222222222,
              "#7201a8"
             ],
             [
              0.3333333333333333,
              "#9c179e"
             ],
             [
              0.4444444444444444,
              "#bd3786"
             ],
             [
              0.5555555555555556,
              "#d8576b"
             ],
             [
              0.6666666666666666,
              "#ed7953"
             ],
             [
              0.7777777777777778,
              "#fb9f3a"
             ],
             [
              0.8888888888888888,
              "#fdca26"
             ],
             [
              1,
              "#f0f921"
             ]
            ],
            "type": "histogram2d"
           }
          ],
          "histogram2dcontour": [
           {
            "colorbar": {
             "outlinewidth": 0,
             "ticks": ""
            },
            "colorscale": [
             [
              0,
              "#0d0887"
             ],
             [
              0.1111111111111111,
              "#46039f"
             ],
             [
              0.2222222222222222,
              "#7201a8"
             ],
             [
              0.3333333333333333,
              "#9c179e"
             ],
             [
              0.4444444444444444,
              "#bd3786"
             ],
             [
              0.5555555555555556,
              "#d8576b"
             ],
             [
              0.6666666666666666,
              "#ed7953"
             ],
             [
              0.7777777777777778,
              "#fb9f3a"
             ],
             [
              0.8888888888888888,
              "#fdca26"
             ],
             [
              1,
              "#f0f921"
             ]
            ],
            "type": "histogram2dcontour"
           }
          ],
          "mesh3d": [
           {
            "colorbar": {
             "outlinewidth": 0,
             "ticks": ""
            },
            "type": "mesh3d"
           }
          ],
          "parcoords": [
           {
            "line": {
             "colorbar": {
              "outlinewidth": 0,
              "ticks": ""
             }
            },
            "type": "parcoords"
           }
          ],
          "pie": [
           {
            "automargin": true,
            "type": "pie"
           }
          ],
          "scatter": [
           {
            "marker": {
             "colorbar": {
              "outlinewidth": 0,
              "ticks": ""
             }
            },
            "type": "scatter"
           }
          ],
          "scatter3d": [
           {
            "line": {
             "colorbar": {
              "outlinewidth": 0,
              "ticks": ""
             }
            },
            "marker": {
             "colorbar": {
              "outlinewidth": 0,
              "ticks": ""
             }
            },
            "type": "scatter3d"
           }
          ],
          "scattercarpet": [
           {
            "marker": {
             "colorbar": {
              "outlinewidth": 0,
              "ticks": ""
             }
            },
            "type": "scattercarpet"
           }
          ],
          "scattergeo": [
           {
            "marker": {
             "colorbar": {
              "outlinewidth": 0,
              "ticks": ""
             }
            },
            "type": "scattergeo"
           }
          ],
          "scattergl": [
           {
            "marker": {
             "colorbar": {
              "outlinewidth": 0,
              "ticks": ""
             }
            },
            "type": "scattergl"
           }
          ],
          "scattermapbox": [
           {
            "marker": {
             "colorbar": {
              "outlinewidth": 0,
              "ticks": ""
             }
            },
            "type": "scattermapbox"
           }
          ],
          "scatterpolar": [
           {
            "marker": {
             "colorbar": {
              "outlinewidth": 0,
              "ticks": ""
             }
            },
            "type": "scatterpolar"
           }
          ],
          "scatterpolargl": [
           {
            "marker": {
             "colorbar": {
              "outlinewidth": 0,
              "ticks": ""
             }
            },
            "type": "scatterpolargl"
           }
          ],
          "scatterternary": [
           {
            "marker": {
             "colorbar": {
              "outlinewidth": 0,
              "ticks": ""
             }
            },
            "type": "scatterternary"
           }
          ],
          "surface": [
           {
            "colorbar": {
             "outlinewidth": 0,
             "ticks": ""
            },
            "colorscale": [
             [
              0,
              "#0d0887"
             ],
             [
              0.1111111111111111,
              "#46039f"
             ],
             [
              0.2222222222222222,
              "#7201a8"
             ],
             [
              0.3333333333333333,
              "#9c179e"
             ],
             [
              0.4444444444444444,
              "#bd3786"
             ],
             [
              0.5555555555555556,
              "#d8576b"
             ],
             [
              0.6666666666666666,
              "#ed7953"
             ],
             [
              0.7777777777777778,
              "#fb9f3a"
             ],
             [
              0.8888888888888888,
              "#fdca26"
             ],
             [
              1,
              "#f0f921"
             ]
            ],
            "type": "surface"
           }
          ],
          "table": [
           {
            "cells": {
             "fill": {
              "color": "#EBF0F8"
             },
             "line": {
              "color": "white"
             }
            },
            "header": {
             "fill": {
              "color": "#C8D4E3"
             },
             "line": {
              "color": "white"
             }
            },
            "type": "table"
           }
          ]
         },
         "layout": {
          "annotationdefaults": {
           "arrowcolor": "#2a3f5f",
           "arrowhead": 0,
           "arrowwidth": 1
          },
          "autotypenumbers": "strict",
          "coloraxis": {
           "colorbar": {
            "outlinewidth": 0,
            "ticks": ""
           }
          },
          "colorscale": {
           "diverging": [
            [
             0,
             "#8e0152"
            ],
            [
             0.1,
             "#c51b7d"
            ],
            [
             0.2,
             "#de77ae"
            ],
            [
             0.3,
             "#f1b6da"
            ],
            [
             0.4,
             "#fde0ef"
            ],
            [
             0.5,
             "#f7f7f7"
            ],
            [
             0.6,
             "#e6f5d0"
            ],
            [
             0.7,
             "#b8e186"
            ],
            [
             0.8,
             "#7fbc41"
            ],
            [
             0.9,
             "#4d9221"
            ],
            [
             1,
             "#276419"
            ]
           ],
           "sequential": [
            [
             0,
             "#0d0887"
            ],
            [
             0.1111111111111111,
             "#46039f"
            ],
            [
             0.2222222222222222,
             "#7201a8"
            ],
            [
             0.3333333333333333,
             "#9c179e"
            ],
            [
             0.4444444444444444,
             "#bd3786"
            ],
            [
             0.5555555555555556,
             "#d8576b"
            ],
            [
             0.6666666666666666,
             "#ed7953"
            ],
            [
             0.7777777777777778,
             "#fb9f3a"
            ],
            [
             0.8888888888888888,
             "#fdca26"
            ],
            [
             1,
             "#f0f921"
            ]
           ],
           "sequentialminus": [
            [
             0,
             "#0d0887"
            ],
            [
             0.1111111111111111,
             "#46039f"
            ],
            [
             0.2222222222222222,
             "#7201a8"
            ],
            [
             0.3333333333333333,
             "#9c179e"
            ],
            [
             0.4444444444444444,
             "#bd3786"
            ],
            [
             0.5555555555555556,
             "#d8576b"
            ],
            [
             0.6666666666666666,
             "#ed7953"
            ],
            [
             0.7777777777777778,
             "#fb9f3a"
            ],
            [
             0.8888888888888888,
             "#fdca26"
            ],
            [
             1,
             "#f0f921"
            ]
           ]
          },
          "colorway": [
           "#636efa",
           "#EF553B",
           "#00cc96",
           "#ab63fa",
           "#FFA15A",
           "#19d3f3",
           "#FF6692",
           "#B6E880",
           "#FF97FF",
           "#FECB52"
          ],
          "font": {
           "color": "#2a3f5f"
          },
          "geo": {
           "bgcolor": "white",
           "lakecolor": "white",
           "landcolor": "#E5ECF6",
           "showlakes": true,
           "showland": true,
           "subunitcolor": "white"
          },
          "hoverlabel": {
           "align": "left"
          },
          "hovermode": "closest",
          "mapbox": {
           "style": "light"
          },
          "paper_bgcolor": "white",
          "plot_bgcolor": "#E5ECF6",
          "polar": {
           "angularaxis": {
            "gridcolor": "white",
            "linecolor": "white",
            "ticks": ""
           },
           "bgcolor": "#E5ECF6",
           "radialaxis": {
            "gridcolor": "white",
            "linecolor": "white",
            "ticks": ""
           }
          },
          "scene": {
           "xaxis": {
            "backgroundcolor": "#E5ECF6",
            "gridcolor": "white",
            "gridwidth": 2,
            "linecolor": "white",
            "showbackground": true,
            "ticks": "",
            "zerolinecolor": "white"
           },
           "yaxis": {
            "backgroundcolor": "#E5ECF6",
            "gridcolor": "white",
            "gridwidth": 2,
            "linecolor": "white",
            "showbackground": true,
            "ticks": "",
            "zerolinecolor": "white"
           },
           "zaxis": {
            "backgroundcolor": "#E5ECF6",
            "gridcolor": "white",
            "gridwidth": 2,
            "linecolor": "white",
            "showbackground": true,
            "ticks": "",
            "zerolinecolor": "white"
           }
          },
          "shapedefaults": {
           "line": {
            "color": "#2a3f5f"
           }
          },
          "ternary": {
           "aaxis": {
            "gridcolor": "white",
            "linecolor": "white",
            "ticks": ""
           },
           "baxis": {
            "gridcolor": "white",
            "linecolor": "white",
            "ticks": ""
           },
           "bgcolor": "#E5ECF6",
           "caxis": {
            "gridcolor": "white",
            "linecolor": "white",
            "ticks": ""
           }
          },
          "title": {
           "x": 0.05
          },
          "xaxis": {
           "automargin": true,
           "gridcolor": "white",
           "linecolor": "white",
           "ticks": "",
           "title": {
            "standoff": 15
           },
           "zerolinecolor": "white",
           "zerolinewidth": 2
          },
          "yaxis": {
           "automargin": true,
           "gridcolor": "white",
           "linecolor": "white",
           "ticks": "",
           "title": {
            "standoff": 15
           },
           "zerolinecolor": "white",
           "zerolinewidth": 2
          }
         }
        },
        "xaxis": {
         "anchor": "y",
         "domain": [
          0,
          1
         ],
         "title": {
          "text": "Nombres"
         }
        },
        "yaxis": {
         "anchor": "x",
         "domain": [
          0,
          1
         ],
         "title": {
          "text": "Raciones rescatadas"
         }
        }
       }
      },
      "text/html": [
       "<div>                            <div id=\"3ab7488d-d5a8-41c3-83e6-0fee96a3ca99\" class=\"plotly-graph-div\" style=\"height:525px; width:100%;\"></div>            <script type=\"text/javascript\">                require([\"plotly\"], function(Plotly) {                    window.PLOTLYENV=window.PLOTLYENV || {};                                    if (document.getElementById(\"3ab7488d-d5a8-41c3-83e6-0fee96a3ca99\")) {                    Plotly.newPlot(                        \"3ab7488d-d5a8-41c3-83e6-0fee96a3ca99\",                        [{\"alignmentgroup\":\"True\",\"hovertemplate\":\"Nombres=%{x}<br>Raciones rescatadas=%{y}<extra></extra>\",\"legendgroup\":\"\",\"marker\":{\"color\":\"#636efa\",\"pattern\":{\"shape\":\"\"}},\"name\":\"\",\"offsetgroup\":\"\",\"orientation\":\"v\",\"showlegend\":false,\"textposition\":\"auto\",\"x\":[\"Fruter\\u00eda Las Gemelas\",\"Fruter\\u00eda Las Gemelas\",\"Fruter\\u00eda Las Gemelas\",\"Fruter\\u00eda Las Gemelas\",\"Fruter\\u00eda Las Gemelas\",\"Fruter\\u00eda Las Gemelas\",\"Fruter\\u00eda Las Gemelas\",\"Fruter\\u00eda Las Gemelas\",\"Fruter\\u00eda Las Gemelas\",\"Fruter\\u00eda Las Gemelas\",\"Fruter\\u00eda Las Gemelas\",\"Fruter\\u00eda Las Gemelas\",\"Levaduramadre\",\"Levaduramadre\",\"Levaduramadre\",\"Levaduramadre\",\"Levaduramadre\",\"Levaduramadre\",\"Levaduramadre\",\"Levaduramadre\",\"Levaduramadre\",\"Levaduramadre\",\"Levaduramadre\",\"Levaduramadre\",\"E\\u00f1e + que una letra\",\"CM Loyola\",\"CM Loyola\",\"Colegio Mayor Aquinas\",\"CM Loyola\",\"Vedruna\",\"Colegio Mayor Aquinas\",\"CM Loyola\",\"CM Loyola\",\"CM Loyola\",\"CM Loyola\",\"CM Loyola\",\"CM Loyola\",\"CM Loyola\",\"CM Loyola\",\"Colegio Mayor Aquinas\",\"CM Loyola\",\"CM Loyola\",\"CM Loyola\",\"CM Loyola\",\"Vedruna\",\"Colegio Mayor Aquinas\",\"CM Loyola\",\"Vedruna\",\"Colegio Mayor Aquinas\",\"CM Loyola\",\"CM Loyola\",\"CM Loyola\",\"CM Loyola\",\"CM Loyola\",\"CM Loyola\",\"CM Loyola\",\"CM Loyola\",\"Fruter\\u00eda Las Gemelas\",\"Fruter\\u00eda Las Gemelas\",\"Fruter\\u00eda Las Gemelas\",\"Fruter\\u00eda Las Gemelas\",\"Fruter\\u00eda Las Gemelas\",\"Fruter\\u00eda Las Gemelas\",\"Fruter\\u00eda Las Gemelas\",\"Fruter\\u00eda Las Gemelas\",\"Fruter\\u00eda Las Gemelas\",\"Fruter\\u00eda Las Gemelas\",\"Fruter\\u00eda Las Gemelas\",\"Levaduramadre\",\"Levaduramadre\",\"Levaduramadre\",\"Levaduramadre\",\"Levaduramadre\",\"Levaduramadre\",\"Levaduramadre\",\"Levaduramadre\",\"Levaduramadre\",\"Levaduramadre\",\"Levaduramadre\",\"CM Loyola\",\"Colegio Mayor Aquinas\",\"Vedruna\",\"Vedruna\",\"E\\u00f1e + que una letra\",\"CM Loyola\",\"Colegio Mayor Aquinas\",\"Colegio Mayor Aquinas\",\"Colegio Mayor Aquinas\",\"CM Loyola\",\"CM Loyola\",\"CM Loyola\",\"CM Loyola\",\"CM Loyola\",\"CM Loyola\",\"CM Loyola\",\"CM Loyola\",\"Vedruna\",\"Vedruna\",\"CM Loyola\",\"Vedruna\",\"Vedruna\",\"CM Loyola\",\"CM Loyola\",\"Vedruna\",\"CM Loyola\",\"Colegio Mayor Aquinas\",\"CM Loyola\",\"Vedruna\",\"CM Loyola\",\"E\\u00f1e + que una letra\",\"CM Loyola\",\"Vedruna\",\"CM Loyola\",\"Fruter\\u00eda Las Gemelas\",\"Fruter\\u00eda Las Gemelas\",\"Fruter\\u00eda Las Gemelas\",\"Fruter\\u00eda Las Gemelas\",\"Fruter\\u00eda Las Gemelas\",\"Fruter\\u00eda Las Gemelas\",\"Fruter\\u00eda Las Gemelas\",\"Fruter\\u00eda Las Gemelas\",\"Fruter\\u00eda Las Gemelas\",\"Fruter\\u00eda Las Gemelas\",\"Fruter\\u00eda Las Gemelas\",\"Fruter\\u00eda Las Gemelas\",\"Fruter\\u00eda Las Gemelas\",\"Fruter\\u00eda Las Gemelas\",\"Fruter\\u00eda Las Gemelas\",\"Colegio Mayor Aquinas\",\"CM Loyola\",\"CM Loyola\",\"Colegio Mayor Aquinas\",\"Colegio Mayor Aquinas\",\"Colegio Mayor Aquinas\",\"Colegio Mayor Aquinas\",\"CM Loyola\",\"Colegio Mayor Aquinas\",\"Colegio Mayor Aquinas\",\"Colegio Mayor Aquinas\",\"Colegio Mayor Aquinas\",\"Colegio Mayor Aquinas\",\"Colegio Mayor Aquinas\",\"Colegio Mayor Aquinas\",\"Colegio Mayor Aquinas\",\"Colegio Mayor Aquinas\",\"Colegio Mayor Aquinas\",\"CM Loyola\",\"CM Loyola\",\"Colegio Mayor Aquinas\",\"E\\u00f1e + que una letra\",\"Bonjour\",\"Colegio Mayor Aquinas\",\"Colegio Mayor Aquinas\",\"Colegio Mayor Aquinas\",\"Colegio Mayor Aquinas\",\"Colegio Mayor Aquinas\",\"Colegio Mayor Aquinas\",\"Colegio Mayor Aquinas\",\"Zara frutas y verdura\",\"Zara frutas y verdura\",\"Fruteria Valencia\",\"Fruteria Valencia\",\"Fruteria Valencia\",\"Fruteria Valencia\",\"Fruteria Valencia\",\"Fruteria Valencia\",\"Fruteria Valencia\",\"Fruteria Valencia\",\"Fruteria Valencia\",\"Fruteria Valencia\",\"Fruteria Valencia\",\"Fruteria Valencia\",\"Fruteria Valencia\",\"Fruteria Valencia\",\"Levaduramadre\",\"Levaduramadre\",\"Levaduramadre\",\"Levaduramadre\",\"Levaduramadre\",\"Levaduramadre\",\"Levaduramadre\",\"Levaduramadre\",\"Levaduramadre\",\"Levaduramadre\",\"Bonjour\",\"Bonjour\",\"Bonjour\",\"Bonjour\",\"Bonjour\",\"E\\u00f1e + que una letra\",\"Colegio Mayor Aquinas\",\"Colegio Mayor Aquinas\",\"Colegio Mayor Aquinas\",\"Colegio Mayor Aquinas\",\"Colegio Mayor Aquinas\",\"Colegio Mayor Aquinas\",\"Colegio Mayor Aquinas\",\"Colegio Mayor Aquinas\",\"Colegio Mayor Aquinas\",\"Colegio Mayor Aquinas\",\"Colegio Mayor Aquinas\",\"Colegio Mayor Aquinas\",\"Colegio Mayor Aquinas\",\"Colegio Mayor Aquinas\",\"Colegio Mayor Aquinas\",\"Vedruna\",\"Colegio Mayor Aquinas\",\"Colegio Mayor Aquinas\",\"Colegio Mayor Aquinas\",\"Colegio Mayor Aquinas\",\"Colegio Mayor Aquinas\",\"Vedruna\",\"Colegio Mayor Aquinas\",\"Colegio Mayor Aquinas\",\"Colegio Mayor Aquinas\",\"Levaduramadre\",\"Levaduramadre\",\"Levaduramadre\",\"Zara frutas y verdura\",\"Fruter\\u00eda Las Gemelas\",\"Fruter\\u00eda Las Gemelas\",\"Fruter\\u00eda Las Gemelas\",\"Zara frutas y verdura\",\"Zara frutas y verdura\",\"Fruterias Andr\\u00e9s\",\"Fruterias Andr\\u00e9s\",\"Fruterias Andr\\u00e9s\",\"Fruterias Andr\\u00e9s\",\"Vedruna\",\"E\\u00f1e + que una letra\",\"E\\u00f1e + que una letra\",\"Zara frutas y verdura\",\"Zara frutas y verdura\",\"Fruterias Andr\\u00e9s\",\"Fruterias Andr\\u00e9s\",\"Vedruna\",\"CM Loyola\",\"Colegio Mayor Aquinas\",\"CM Loyola\",\"Colegio Mayor Aquinas\",\"Colegio Mayor Aquinas\",\"CM Loyola\",\"Colegio Mayor Aquinas\",\"Vedruna\",\"CM Loyola\",\"Colegio Mayor Aquinas\",\"Colegio Mayor Aquinas\",\"Colegio Mayor Aquinas\",\"Colegio Mayor Aquinas\",\"Colegio Mayor Aquinas\",\"Colegio Mayor Aquinas\",\"CM Loyola\",\"Colegio Mayor Aquinas\",\"CM Loyola\",\"Colegio Mayor Aquinas\",\"Colegio Mayor Aquinas\",\"CM Loyola\",\"CM Loyola\",\"CM Loyola\",\"CM Loyola\",\"CM Loyola\",\"CM Loyola\",\"CM Loyola\",\"CM Loyola\",\"CM Loyola\",\"CM Loyola\",\"Levaduramadre\",\"Levaduramadre\",\"Levaduramadre\",\"Bonjour\",\"Colegio Mayor Aquinas\",\"Colegio Mayor Aquinas\",\"Bonjour\",\"Colegio Mayor Aquinas\",\"Colegio Mayor Aquinas\",\"Levaduramadre\",\"E\\u00f1e + que una letra\",\"Vedruna\",\"Levaduramadre\",\"Colegio Mayor Aquinas\",\"Vedruna\",\"Colegio Mayor Aquinas\",\"Levaduramadre\",\"Vedruna\",\"Levaduramadre\",\"Levaduramadre\",\"Colegio Mayor Aquinas\",\"CM Loyola\",\"Levaduramadre\",\"Colegio Mayor Aquinas\",\"Colegio Mayor Aquinas\",\"Bonjour\",\"CM Loyola\",\"CM Loyola\",\"Levaduramadre\",\"Colegio Mayor Aquinas\",\"Colegio Mayor Aquinas\",\"Bonjour\",\"CM Loyola\",\"Colegio Mayor Aquinas\",\"Levaduramadre\",\"CM Loyola\",\"Bonjour\",\"CM Loyola\",\"Bonjour\",\"CM Loyola\",\"Colegio Mayor Aquinas\",\"Bonjour\",\"Vedruna\",\"Colegio Mayor Aquinas\",\"Levaduramadre\",\"Vedruna\",\"CM Loyola\",\"Levaduramadre\",\"E\\u00f1e + que una letra\",\"Vedruna\",\"Colegio Mayor Aquinas\",\"Fruteria Valencia\",\"Colegio Mayor Aquinas\",\"Fruter\\u00eda Las Gemelas\",\"Colegio Mayor Aquinas\",\"Vedruna\",\"Colegio Mayor Aquinas\",\"Fruter\\u00eda Las Gemelas\",\"Colegio Mayor Aquinas\",\"Colegio Mayor Aquinas\",\"Fruteria Valencia\",\"Vedruna\",\"Colegio Mayor Aquinas\",\"Fruteria Valencia\",\"Colegio Mayor Aquinas\",\"Fruter\\u00eda Las Gemelas\",\"Colegio Mayor Aquinas\",\"Colegio Mayor Aquinas\",\"Vedruna\",\"Colegio Mayor Aquinas\",\"Fruteria Valencia\",\"Fruteria Valencia\",\"Colegio Mayor Aquinas\",\"Fruteria Valencia\",\"Colegio Mayor Aquinas\",\"CM Loyola\",\"Fruteria Valencia\",\"Colegio Mayor Aquinas\",\"Fruteria Valencia\",\"Vedruna\",\"Fruteria Valencia\",\"Colegio Mayor Aquinas\",\"Fruter\\u00eda Las Gemelas\",\"Colegio Mayor Aquinas\",\"Fruter\\u00eda Las Gemelas\",\"Colegio Mayor Aquinas\",\"Fruteria Valencia\",\"Colegio Mayor Aquinas\",\"Vedruna\",\"CM Loyola\",\"Vedruna\",\"Vedruna\",\"CM Loyola\",\"CM Loyola\",\"Colegio Mayor Aquinas\",\"Colegio Mayor Aquinas\",\"Colegio Mayor Aquinas\",\"Colegio Mayor Aquinas\",\"CM Loyola\",\"Colegio Mayor Aquinas\",\"CM Loyola\",\"CM Loyola\",\"CM Loyola\",\"Fruteria Valencia\",\"Bonjour\",\"Bonjour\",\"Fruteria Valencia\",\"Fruteria Valencia\",\"Bonjour\",\"Bonjour\",\"Fruteria Valencia\",\"Fruteria Valencia\",\"Bonjour\",\"Bonjour\",\"Fruteria Valencia\",\"Fruteria Valencia\",\"Bonjour\",\"Bonjour\",\"Fruteria Valencia\",\"Fruteria Valencia\",\"Bonjour\",\"Bonjour\",\"Fruteria Valencia\",\"Fruteria Valencia\",\"Bonjour\",\"Bonjour\",\"Fruteria Valencia\",\"Fruteria Valencia\",\"Bonjour\",\"Bonjour\",\"Fruteria Valencia\",\"Fruteria Valencia\",\"Levaduramadre\",\"Colegio Mayor Aquinas\",\"Colegio Mayor Aquinas\",\"Colegio Mayor Aquinas\",\"Colegio Mayor Aquinas\",\"Colegio Mayor Aquinas\",\"Colegio Mayor Aquinas\",\"Colegio Mayor Aquinas\",\"Colegio Mayor Aquinas\",\"Colegio Mayor Aquinas\",\"Colegio Mayor Aquinas\",\"Colegio Mayor Aquinas\",\"CM Loyola\",\"CM Loyola\",\"CM Loyola\",\"CM Loyola\",\"CM Loyola\",\"CM Loyola\",\"CM Loyola\",\"CM Loyola\",\"CM Loyola\",\"CM Loyola\",\"CM Loyola\",\"CM Loyola\",\"CM Loyola\",\"CM Loyola\",\"CM Loyola\",\"CM Loyola\",\"CM Loyola\",\"CM Loyola\",\"CM Loyola\",\"CM Loyola\",\"Vedruna\",\"Vedruna\",\"Vedruna\",\"CM Loyola\",\"CM Loyola\",\"CM Loyola\",\"CM Loyola\",\"CM Loyola\",\"CM Loyola\",\"CM Loyola\",\"CM Loyola\",\"CM Loyola\",\"CM Loyola\"],\"xaxis\":\"x\",\"y\":[3.0,3.0,3.0,3.0,3.0,3.0,3.0,3.0,3.0,3.0,3.0,3.0,0.5,0.5,0.5,0.5,0.5,0.5,0.5,0.5,0.5,0.5,0.5,0.5,3.0,3.0,3.0,3.0,3.0,3.0,2.0,3.0,3.0,3.0,5.0,5.0,5.0,3.0,3.0,3.0,5.0,5.0,5.0,4.0,3.0,3.0,4.0,3.0,5.0,5.0,5.0,5.0,5.0,5.0,5.0,5.0,5.0,3.0,3.0,3.0,3.0,3.0,3.0,3.0,3.0,3.0,3.0,3.0,0.5,0.5,0.5,0.5,0.5,0.5,0.5,0.5,0.5,0.5,0.5,1.0,9.0,3.0,6.0,6.0,2.0,4.0,3.0,6.0,1.0,9.0,3.0,8.0,4.0,9.0,6.0,4.0,4.0,4.0,4.0,4.0,4.0,4.0,4.0,4.0,4.0,5.0,5.0,5.0,5.0,5.0,5.0,5.0,5.0,15.0,15.0,15.0,15.0,15.0,15.0,15.0,15.0,15.0,15.0,15.0,15.0,15.0,15.0,15.0,15.0,5.0,5.0,5.0,5.0,5.0,15.0,5.0,15.0,5.0,5.0,5.0,5.0,5.0,5.0,5.0,15.0,15.0,3.0,3.0,9.0,3.0,0.5,3.0,3.0,3.0,3.0,3.0,5.0,5.0,3.0,3.0,3.0,3.0,3.0,3.0,3.0,3.0,3.0,3.0,3.0,3.0,3.0,3.0,3.0,3.0,0.5,0.5,0.5,0.5,0.5,0.5,0.5,0.5,0.5,0.5,0.5,0.5,0.5,0.5,0.5,5.0,5.0,5.0,5.0,1.0,3.0,7.0,3.0,3.0,4.0,5.0,4.0,2.0,4.0,2.0,2.0,4.0,2.0,2.0,4.0,4.0,3.0,3.0,3.0,3.0,4.0,3.5,3.5,2.5,21.0,3.0,9.0,21.0,9.0,18.0,12.0,12.0,12.0,15.0,6.0,5.0,5.0,12.0,12.0,12.0,12.0,7.0,2.0,2.0,7.0,4.0,3.0,5.0,3.0,15.0,4.0,3.0,3.0,5.0,2.0,2.0,5.0,3.0,5.0,3.0,6.0,6.0,5.0,5.0,6.0,5.0,6.0,5.0,5.0,5.0,6.0,4.0,0.0,0.0,0.0,0.5,4.0,2.0,1.0,6.0,6.0,0.5,2.0,3.0,0.5,3.0,3.0,3.0,1.0,4.0,0.5,0.5,3.0,3.0,1.0,5.0,5.0,0.5,2.0,4.0,0.5,4.0,4.0,0.5,5.0,5.0,0.5,3.0,1.0,4.0,0.5,4.0,3.0,1.0,3.0,5.0,0.5,6.0,2.0,1.0,2.0,3.0,5.0,15.0,5.0,15.0,5.0,3.0,5.0,15.0,4.0,3.0,15.0,3.0,5.0,15.0,5.0,15.0,5.0,5.0,3.0,5.0,15.0,15.0,5.0,15.0,3.0,3.0,18.0,5.0,15.0,3.0,15.0,3.0,15.0,5.0,15.0,5.0,15.0,5.0,3.0,5.0,7.0,2.0,2.0,5.0,2.0,5.0,5.0,5.0,2.0,5.0,5.0,4.0,5.0,3.0,0.0,0.0,3.0,3.0,0.0,0.0,3.0,3.0,0.0,0.0,3.0,3.0,0.0,0.0,3.0,3.0,0.0,0.0,3.0,3.0,0.0,0.0,3.0,3.0,0.0,0.0,3.0,3.0,0.0,1.0,3.0,3.0,3.0,3.0,5.0,5.0,5.0,5.0,5.0,1.0,5.0,5.0,5.0,5.0,5.0,5.0,5.0,5.0,5.0,3.0,3.0,3.0,3.0,3.0,3.0,3.0,3.0,3.0,3.0,3.0,3.0,3.0,3.0,2.0,5.0,5.0,5.0,5.0,5.0,5.0,5.0,5.0,5.0],\"yaxis\":\"y\",\"type\":\"bar\"}],                        {\"template\":{\"data\":{\"bar\":[{\"error_x\":{\"color\":\"#2a3f5f\"},\"error_y\":{\"color\":\"#2a3f5f\"},\"marker\":{\"line\":{\"color\":\"#E5ECF6\",\"width\":0.5},\"pattern\":{\"fillmode\":\"overlay\",\"size\":10,\"solidity\":0.2}},\"type\":\"bar\"}],\"barpolar\":[{\"marker\":{\"line\":{\"color\":\"#E5ECF6\",\"width\":0.5},\"pattern\":{\"fillmode\":\"overlay\",\"size\":10,\"solidity\":0.2}},\"type\":\"barpolar\"}],\"carpet\":[{\"aaxis\":{\"endlinecolor\":\"#2a3f5f\",\"gridcolor\":\"white\",\"linecolor\":\"white\",\"minorgridcolor\":\"white\",\"startlinecolor\":\"#2a3f5f\"},\"baxis\":{\"endlinecolor\":\"#2a3f5f\",\"gridcolor\":\"white\",\"linecolor\":\"white\",\"minorgridcolor\":\"white\",\"startlinecolor\":\"#2a3f5f\"},\"type\":\"carpet\"}],\"choropleth\":[{\"colorbar\":{\"outlinewidth\":0,\"ticks\":\"\"},\"type\":\"choropleth\"}],\"contour\":[{\"colorbar\":{\"outlinewidth\":0,\"ticks\":\"\"},\"colorscale\":[[0.0,\"#0d0887\"],[0.1111111111111111,\"#46039f\"],[0.2222222222222222,\"#7201a8\"],[0.3333333333333333,\"#9c179e\"],[0.4444444444444444,\"#bd3786\"],[0.5555555555555556,\"#d8576b\"],[0.6666666666666666,\"#ed7953\"],[0.7777777777777778,\"#fb9f3a\"],[0.8888888888888888,\"#fdca26\"],[1.0,\"#f0f921\"]],\"type\":\"contour\"}],\"contourcarpet\":[{\"colorbar\":{\"outlinewidth\":0,\"ticks\":\"\"},\"type\":\"contourcarpet\"}],\"heatmap\":[{\"colorbar\":{\"outlinewidth\":0,\"ticks\":\"\"},\"colorscale\":[[0.0,\"#0d0887\"],[0.1111111111111111,\"#46039f\"],[0.2222222222222222,\"#7201a8\"],[0.3333333333333333,\"#9c179e\"],[0.4444444444444444,\"#bd3786\"],[0.5555555555555556,\"#d8576b\"],[0.6666666666666666,\"#ed7953\"],[0.7777777777777778,\"#fb9f3a\"],[0.8888888888888888,\"#fdca26\"],[1.0,\"#f0f921\"]],\"type\":\"heatmap\"}],\"heatmapgl\":[{\"colorbar\":{\"outlinewidth\":0,\"ticks\":\"\"},\"colorscale\":[[0.0,\"#0d0887\"],[0.1111111111111111,\"#46039f\"],[0.2222222222222222,\"#7201a8\"],[0.3333333333333333,\"#9c179e\"],[0.4444444444444444,\"#bd3786\"],[0.5555555555555556,\"#d8576b\"],[0.6666666666666666,\"#ed7953\"],[0.7777777777777778,\"#fb9f3a\"],[0.8888888888888888,\"#fdca26\"],[1.0,\"#f0f921\"]],\"type\":\"heatmapgl\"}],\"histogram\":[{\"marker\":{\"pattern\":{\"fillmode\":\"overlay\",\"size\":10,\"solidity\":0.2}},\"type\":\"histogram\"}],\"histogram2d\":[{\"colorbar\":{\"outlinewidth\":0,\"ticks\":\"\"},\"colorscale\":[[0.0,\"#0d0887\"],[0.1111111111111111,\"#46039f\"],[0.2222222222222222,\"#7201a8\"],[0.3333333333333333,\"#9c179e\"],[0.4444444444444444,\"#bd3786\"],[0.5555555555555556,\"#d8576b\"],[0.6666666666666666,\"#ed7953\"],[0.7777777777777778,\"#fb9f3a\"],[0.8888888888888888,\"#fdca26\"],[1.0,\"#f0f921\"]],\"type\":\"histogram2d\"}],\"histogram2dcontour\":[{\"colorbar\":{\"outlinewidth\":0,\"ticks\":\"\"},\"colorscale\":[[0.0,\"#0d0887\"],[0.1111111111111111,\"#46039f\"],[0.2222222222222222,\"#7201a8\"],[0.3333333333333333,\"#9c179e\"],[0.4444444444444444,\"#bd3786\"],[0.5555555555555556,\"#d8576b\"],[0.6666666666666666,\"#ed7953\"],[0.7777777777777778,\"#fb9f3a\"],[0.8888888888888888,\"#fdca26\"],[1.0,\"#f0f921\"]],\"type\":\"histogram2dcontour\"}],\"mesh3d\":[{\"colorbar\":{\"outlinewidth\":0,\"ticks\":\"\"},\"type\":\"mesh3d\"}],\"parcoords\":[{\"line\":{\"colorbar\":{\"outlinewidth\":0,\"ticks\":\"\"}},\"type\":\"parcoords\"}],\"pie\":[{\"automargin\":true,\"type\":\"pie\"}],\"scatter\":[{\"marker\":{\"colorbar\":{\"outlinewidth\":0,\"ticks\":\"\"}},\"type\":\"scatter\"}],\"scatter3d\":[{\"line\":{\"colorbar\":{\"outlinewidth\":0,\"ticks\":\"\"}},\"marker\":{\"colorbar\":{\"outlinewidth\":0,\"ticks\":\"\"}},\"type\":\"scatter3d\"}],\"scattercarpet\":[{\"marker\":{\"colorbar\":{\"outlinewidth\":0,\"ticks\":\"\"}},\"type\":\"scattercarpet\"}],\"scattergeo\":[{\"marker\":{\"colorbar\":{\"outlinewidth\":0,\"ticks\":\"\"}},\"type\":\"scattergeo\"}],\"scattergl\":[{\"marker\":{\"colorbar\":{\"outlinewidth\":0,\"ticks\":\"\"}},\"type\":\"scattergl\"}],\"scattermapbox\":[{\"marker\":{\"colorbar\":{\"outlinewidth\":0,\"ticks\":\"\"}},\"type\":\"scattermapbox\"}],\"scatterpolar\":[{\"marker\":{\"colorbar\":{\"outlinewidth\":0,\"ticks\":\"\"}},\"type\":\"scatterpolar\"}],\"scatterpolargl\":[{\"marker\":{\"colorbar\":{\"outlinewidth\":0,\"ticks\":\"\"}},\"type\":\"scatterpolargl\"}],\"scatterternary\":[{\"marker\":{\"colorbar\":{\"outlinewidth\":0,\"ticks\":\"\"}},\"type\":\"scatterternary\"}],\"surface\":[{\"colorbar\":{\"outlinewidth\":0,\"ticks\":\"\"},\"colorscale\":[[0.0,\"#0d0887\"],[0.1111111111111111,\"#46039f\"],[0.2222222222222222,\"#7201a8\"],[0.3333333333333333,\"#9c179e\"],[0.4444444444444444,\"#bd3786\"],[0.5555555555555556,\"#d8576b\"],[0.6666666666666666,\"#ed7953\"],[0.7777777777777778,\"#fb9f3a\"],[0.8888888888888888,\"#fdca26\"],[1.0,\"#f0f921\"]],\"type\":\"surface\"}],\"table\":[{\"cells\":{\"fill\":{\"color\":\"#EBF0F8\"},\"line\":{\"color\":\"white\"}},\"header\":{\"fill\":{\"color\":\"#C8D4E3\"},\"line\":{\"color\":\"white\"}},\"type\":\"table\"}]},\"layout\":{\"annotationdefaults\":{\"arrowcolor\":\"#2a3f5f\",\"arrowhead\":0,\"arrowwidth\":1},\"autotypenumbers\":\"strict\",\"coloraxis\":{\"colorbar\":{\"outlinewidth\":0,\"ticks\":\"\"}},\"colorscale\":{\"diverging\":[[0,\"#8e0152\"],[0.1,\"#c51b7d\"],[0.2,\"#de77ae\"],[0.3,\"#f1b6da\"],[0.4,\"#fde0ef\"],[0.5,\"#f7f7f7\"],[0.6,\"#e6f5d0\"],[0.7,\"#b8e186\"],[0.8,\"#7fbc41\"],[0.9,\"#4d9221\"],[1,\"#276419\"]],\"sequential\":[[0.0,\"#0d0887\"],[0.1111111111111111,\"#46039f\"],[0.2222222222222222,\"#7201a8\"],[0.3333333333333333,\"#9c179e\"],[0.4444444444444444,\"#bd3786\"],[0.5555555555555556,\"#d8576b\"],[0.6666666666666666,\"#ed7953\"],[0.7777777777777778,\"#fb9f3a\"],[0.8888888888888888,\"#fdca26\"],[1.0,\"#f0f921\"]],\"sequentialminus\":[[0.0,\"#0d0887\"],[0.1111111111111111,\"#46039f\"],[0.2222222222222222,\"#7201a8\"],[0.3333333333333333,\"#9c179e\"],[0.4444444444444444,\"#bd3786\"],[0.5555555555555556,\"#d8576b\"],[0.6666666666666666,\"#ed7953\"],[0.7777777777777778,\"#fb9f3a\"],[0.8888888888888888,\"#fdca26\"],[1.0,\"#f0f921\"]]},\"colorway\":[\"#636efa\",\"#EF553B\",\"#00cc96\",\"#ab63fa\",\"#FFA15A\",\"#19d3f3\",\"#FF6692\",\"#B6E880\",\"#FF97FF\",\"#FECB52\"],\"font\":{\"color\":\"#2a3f5f\"},\"geo\":{\"bgcolor\":\"white\",\"lakecolor\":\"white\",\"landcolor\":\"#E5ECF6\",\"showlakes\":true,\"showland\":true,\"subunitcolor\":\"white\"},\"hoverlabel\":{\"align\":\"left\"},\"hovermode\":\"closest\",\"mapbox\":{\"style\":\"light\"},\"paper_bgcolor\":\"white\",\"plot_bgcolor\":\"#E5ECF6\",\"polar\":{\"angularaxis\":{\"gridcolor\":\"white\",\"linecolor\":\"white\",\"ticks\":\"\"},\"bgcolor\":\"#E5ECF6\",\"radialaxis\":{\"gridcolor\":\"white\",\"linecolor\":\"white\",\"ticks\":\"\"}},\"scene\":{\"xaxis\":{\"backgroundcolor\":\"#E5ECF6\",\"gridcolor\":\"white\",\"gridwidth\":2,\"linecolor\":\"white\",\"showbackground\":true,\"ticks\":\"\",\"zerolinecolor\":\"white\"},\"yaxis\":{\"backgroundcolor\":\"#E5ECF6\",\"gridcolor\":\"white\",\"gridwidth\":2,\"linecolor\":\"white\",\"showbackground\":true,\"ticks\":\"\",\"zerolinecolor\":\"white\"},\"zaxis\":{\"backgroundcolor\":\"#E5ECF6\",\"gridcolor\":\"white\",\"gridwidth\":2,\"linecolor\":\"white\",\"showbackground\":true,\"ticks\":\"\",\"zerolinecolor\":\"white\"}},\"shapedefaults\":{\"line\":{\"color\":\"#2a3f5f\"}},\"ternary\":{\"aaxis\":{\"gridcolor\":\"white\",\"linecolor\":\"white\",\"ticks\":\"\"},\"baxis\":{\"gridcolor\":\"white\",\"linecolor\":\"white\",\"ticks\":\"\"},\"bgcolor\":\"#E5ECF6\",\"caxis\":{\"gridcolor\":\"white\",\"linecolor\":\"white\",\"ticks\":\"\"}},\"title\":{\"x\":0.05},\"xaxis\":{\"automargin\":true,\"gridcolor\":\"white\",\"linecolor\":\"white\",\"ticks\":\"\",\"title\":{\"standoff\":15},\"zerolinecolor\":\"white\",\"zerolinewidth\":2},\"yaxis\":{\"automargin\":true,\"gridcolor\":\"white\",\"linecolor\":\"white\",\"ticks\":\"\",\"title\":{\"standoff\":15},\"zerolinecolor\":\"white\",\"zerolinewidth\":2}}},\"xaxis\":{\"anchor\":\"y\",\"domain\":[0.0,1.0],\"title\":{\"text\":\"Nombres\"}},\"yaxis\":{\"anchor\":\"x\",\"domain\":[0.0,1.0],\"title\":{\"text\":\"Raciones rescatadas\"}},\"legend\":{\"tracegroupgap\":0},\"margin\":{\"t\":60},\"barmode\":\"relative\"},                        {\"responsive\": true}                    ).then(function(){\n",
       "                            \n",
       "var gd = document.getElementById('3ab7488d-d5a8-41c3-83e6-0fee96a3ca99');\n",
       "var x = new MutationObserver(function (mutations, observer) {{\n",
       "        var display = window.getComputedStyle(gd).display;\n",
       "        if (!display || display === 'none') {{\n",
       "            console.log([gd, 'removed!']);\n",
       "            Plotly.purge(gd);\n",
       "            observer.disconnect();\n",
       "        }}\n",
       "}});\n",
       "\n",
       "// Listen for the removal of the full notebook cells\n",
       "var notebookContainer = gd.closest('#notebook-container');\n",
       "if (notebookContainer) {{\n",
       "    x.observe(notebookContainer, {childList: true});\n",
       "}}\n",
       "\n",
       "// Listen for the clearing of the current output cell\n",
       "var outputEl = gd.closest('.output');\n",
       "if (outputEl) {{\n",
       "    x.observe(outputEl, {childList: true});\n",
       "}}\n",
       "\n",
       "                        })                };                });            </script>        </div>"
      ]
     },
     "metadata": {},
     "output_type": "display_data"
    }
   ],
   "source": [
    "df_actualidad = df2[df2['Dia'].dt.dayofweek == 3]\n",
    "df_actualidad = df_actualidad[df2['Dia'].dt.year == 2022]\n",
    "fig = px.bar(df_actualidad, x=\"Nombres\",y='Raciones rescatadas')\n",
    "fig.show()"
   ]
  },
  {
   "cell_type": "markdown",
   "id": "fa13121a",
   "metadata": {},
   "source": [
    "# Viernes actualidad"
   ]
  },
  {
   "cell_type": "code",
   "execution_count": 13,
   "id": "c63a8bbf",
   "metadata": {},
   "outputs": [
    {
     "name": "stderr",
     "output_type": "stream",
     "text": [
      "/tmp/ipykernel_34660/1045762676.py:2: UserWarning:\n",
      "\n",
      "Boolean Series key will be reindexed to match DataFrame index.\n",
      "\n"
     ]
    },
    {
     "data": {
      "application/vnd.plotly.v1+json": {
       "config": {
        "plotlyServerURL": "https://plot.ly"
       },
       "data": [],
       "layout": {
        "barmode": "relative",
        "legend": {
         "tracegroupgap": 0
        },
        "margin": {
         "t": 60
        },
        "template": {
         "data": {
          "bar": [
           {
            "error_x": {
             "color": "#2a3f5f"
            },
            "error_y": {
             "color": "#2a3f5f"
            },
            "marker": {
             "line": {
              "color": "#E5ECF6",
              "width": 0.5
             },
             "pattern": {
              "fillmode": "overlay",
              "size": 10,
              "solidity": 0.2
             }
            },
            "type": "bar"
           }
          ],
          "barpolar": [
           {
            "marker": {
             "line": {
              "color": "#E5ECF6",
              "width": 0.5
             },
             "pattern": {
              "fillmode": "overlay",
              "size": 10,
              "solidity": 0.2
             }
            },
            "type": "barpolar"
           }
          ],
          "carpet": [
           {
            "aaxis": {
             "endlinecolor": "#2a3f5f",
             "gridcolor": "white",
             "linecolor": "white",
             "minorgridcolor": "white",
             "startlinecolor": "#2a3f5f"
            },
            "baxis": {
             "endlinecolor": "#2a3f5f",
             "gridcolor": "white",
             "linecolor": "white",
             "minorgridcolor": "white",
             "startlinecolor": "#2a3f5f"
            },
            "type": "carpet"
           }
          ],
          "choropleth": [
           {
            "colorbar": {
             "outlinewidth": 0,
             "ticks": ""
            },
            "type": "choropleth"
           }
          ],
          "contour": [
           {
            "colorbar": {
             "outlinewidth": 0,
             "ticks": ""
            },
            "colorscale": [
             [
              0,
              "#0d0887"
             ],
             [
              0.1111111111111111,
              "#46039f"
             ],
             [
              0.2222222222222222,
              "#7201a8"
             ],
             [
              0.3333333333333333,
              "#9c179e"
             ],
             [
              0.4444444444444444,
              "#bd3786"
             ],
             [
              0.5555555555555556,
              "#d8576b"
             ],
             [
              0.6666666666666666,
              "#ed7953"
             ],
             [
              0.7777777777777778,
              "#fb9f3a"
             ],
             [
              0.8888888888888888,
              "#fdca26"
             ],
             [
              1,
              "#f0f921"
             ]
            ],
            "type": "contour"
           }
          ],
          "contourcarpet": [
           {
            "colorbar": {
             "outlinewidth": 0,
             "ticks": ""
            },
            "type": "contourcarpet"
           }
          ],
          "heatmap": [
           {
            "colorbar": {
             "outlinewidth": 0,
             "ticks": ""
            },
            "colorscale": [
             [
              0,
              "#0d0887"
             ],
             [
              0.1111111111111111,
              "#46039f"
             ],
             [
              0.2222222222222222,
              "#7201a8"
             ],
             [
              0.3333333333333333,
              "#9c179e"
             ],
             [
              0.4444444444444444,
              "#bd3786"
             ],
             [
              0.5555555555555556,
              "#d8576b"
             ],
             [
              0.6666666666666666,
              "#ed7953"
             ],
             [
              0.7777777777777778,
              "#fb9f3a"
             ],
             [
              0.8888888888888888,
              "#fdca26"
             ],
             [
              1,
              "#f0f921"
             ]
            ],
            "type": "heatmap"
           }
          ],
          "heatmapgl": [
           {
            "colorbar": {
             "outlinewidth": 0,
             "ticks": ""
            },
            "colorscale": [
             [
              0,
              "#0d0887"
             ],
             [
              0.1111111111111111,
              "#46039f"
             ],
             [
              0.2222222222222222,
              "#7201a8"
             ],
             [
              0.3333333333333333,
              "#9c179e"
             ],
             [
              0.4444444444444444,
              "#bd3786"
             ],
             [
              0.5555555555555556,
              "#d8576b"
             ],
             [
              0.6666666666666666,
              "#ed7953"
             ],
             [
              0.7777777777777778,
              "#fb9f3a"
             ],
             [
              0.8888888888888888,
              "#fdca26"
             ],
             [
              1,
              "#f0f921"
             ]
            ],
            "type": "heatmapgl"
           }
          ],
          "histogram": [
           {
            "marker": {
             "pattern": {
              "fillmode": "overlay",
              "size": 10,
              "solidity": 0.2
             }
            },
            "type": "histogram"
           }
          ],
          "histogram2d": [
           {
            "colorbar": {
             "outlinewidth": 0,
             "ticks": ""
            },
            "colorscale": [
             [
              0,
              "#0d0887"
             ],
             [
              0.1111111111111111,
              "#46039f"
             ],
             [
              0.2222222222222222,
              "#7201a8"
             ],
             [
              0.3333333333333333,
              "#9c179e"
             ],
             [
              0.4444444444444444,
              "#bd3786"
             ],
             [
              0.5555555555555556,
              "#d8576b"
             ],
             [
              0.6666666666666666,
              "#ed7953"
             ],
             [
              0.7777777777777778,
              "#fb9f3a"
             ],
             [
              0.8888888888888888,
              "#fdca26"
             ],
             [
              1,
              "#f0f921"
             ]
            ],
            "type": "histogram2d"
           }
          ],
          "histogram2dcontour": [
           {
            "colorbar": {
             "outlinewidth": 0,
             "ticks": ""
            },
            "colorscale": [
             [
              0,
              "#0d0887"
             ],
             [
              0.1111111111111111,
              "#46039f"
             ],
             [
              0.2222222222222222,
              "#7201a8"
             ],
             [
              0.3333333333333333,
              "#9c179e"
             ],
             [
              0.4444444444444444,
              "#bd3786"
             ],
             [
              0.5555555555555556,
              "#d8576b"
             ],
             [
              0.6666666666666666,
              "#ed7953"
             ],
             [
              0.7777777777777778,
              "#fb9f3a"
             ],
             [
              0.8888888888888888,
              "#fdca26"
             ],
             [
              1,
              "#f0f921"
             ]
            ],
            "type": "histogram2dcontour"
           }
          ],
          "mesh3d": [
           {
            "colorbar": {
             "outlinewidth": 0,
             "ticks": ""
            },
            "type": "mesh3d"
           }
          ],
          "parcoords": [
           {
            "line": {
             "colorbar": {
              "outlinewidth": 0,
              "ticks": ""
             }
            },
            "type": "parcoords"
           }
          ],
          "pie": [
           {
            "automargin": true,
            "type": "pie"
           }
          ],
          "scatter": [
           {
            "marker": {
             "colorbar": {
              "outlinewidth": 0,
              "ticks": ""
             }
            },
            "type": "scatter"
           }
          ],
          "scatter3d": [
           {
            "line": {
             "colorbar": {
              "outlinewidth": 0,
              "ticks": ""
             }
            },
            "marker": {
             "colorbar": {
              "outlinewidth": 0,
              "ticks": ""
             }
            },
            "type": "scatter3d"
           }
          ],
          "scattercarpet": [
           {
            "marker": {
             "colorbar": {
              "outlinewidth": 0,
              "ticks": ""
             }
            },
            "type": "scattercarpet"
           }
          ],
          "scattergeo": [
           {
            "marker": {
             "colorbar": {
              "outlinewidth": 0,
              "ticks": ""
             }
            },
            "type": "scattergeo"
           }
          ],
          "scattergl": [
           {
            "marker": {
             "colorbar": {
              "outlinewidth": 0,
              "ticks": ""
             }
            },
            "type": "scattergl"
           }
          ],
          "scattermapbox": [
           {
            "marker": {
             "colorbar": {
              "outlinewidth": 0,
              "ticks": ""
             }
            },
            "type": "scattermapbox"
           }
          ],
          "scatterpolar": [
           {
            "marker": {
             "colorbar": {
              "outlinewidth": 0,
              "ticks": ""
             }
            },
            "type": "scatterpolar"
           }
          ],
          "scatterpolargl": [
           {
            "marker": {
             "colorbar": {
              "outlinewidth": 0,
              "ticks": ""
             }
            },
            "type": "scatterpolargl"
           }
          ],
          "scatterternary": [
           {
            "marker": {
             "colorbar": {
              "outlinewidth": 0,
              "ticks": ""
             }
            },
            "type": "scatterternary"
           }
          ],
          "surface": [
           {
            "colorbar": {
             "outlinewidth": 0,
             "ticks": ""
            },
            "colorscale": [
             [
              0,
              "#0d0887"
             ],
             [
              0.1111111111111111,
              "#46039f"
             ],
             [
              0.2222222222222222,
              "#7201a8"
             ],
             [
              0.3333333333333333,
              "#9c179e"
             ],
             [
              0.4444444444444444,
              "#bd3786"
             ],
             [
              0.5555555555555556,
              "#d8576b"
             ],
             [
              0.6666666666666666,
              "#ed7953"
             ],
             [
              0.7777777777777778,
              "#fb9f3a"
             ],
             [
              0.8888888888888888,
              "#fdca26"
             ],
             [
              1,
              "#f0f921"
             ]
            ],
            "type": "surface"
           }
          ],
          "table": [
           {
            "cells": {
             "fill": {
              "color": "#EBF0F8"
             },
             "line": {
              "color": "white"
             }
            },
            "header": {
             "fill": {
              "color": "#C8D4E3"
             },
             "line": {
              "color": "white"
             }
            },
            "type": "table"
           }
          ]
         },
         "layout": {
          "annotationdefaults": {
           "arrowcolor": "#2a3f5f",
           "arrowhead": 0,
           "arrowwidth": 1
          },
          "autotypenumbers": "strict",
          "coloraxis": {
           "colorbar": {
            "outlinewidth": 0,
            "ticks": ""
           }
          },
          "colorscale": {
           "diverging": [
            [
             0,
             "#8e0152"
            ],
            [
             0.1,
             "#c51b7d"
            ],
            [
             0.2,
             "#de77ae"
            ],
            [
             0.3,
             "#f1b6da"
            ],
            [
             0.4,
             "#fde0ef"
            ],
            [
             0.5,
             "#f7f7f7"
            ],
            [
             0.6,
             "#e6f5d0"
            ],
            [
             0.7,
             "#b8e186"
            ],
            [
             0.8,
             "#7fbc41"
            ],
            [
             0.9,
             "#4d9221"
            ],
            [
             1,
             "#276419"
            ]
           ],
           "sequential": [
            [
             0,
             "#0d0887"
            ],
            [
             0.1111111111111111,
             "#46039f"
            ],
            [
             0.2222222222222222,
             "#7201a8"
            ],
            [
             0.3333333333333333,
             "#9c179e"
            ],
            [
             0.4444444444444444,
             "#bd3786"
            ],
            [
             0.5555555555555556,
             "#d8576b"
            ],
            [
             0.6666666666666666,
             "#ed7953"
            ],
            [
             0.7777777777777778,
             "#fb9f3a"
            ],
            [
             0.8888888888888888,
             "#fdca26"
            ],
            [
             1,
             "#f0f921"
            ]
           ],
           "sequentialminus": [
            [
             0,
             "#0d0887"
            ],
            [
             0.1111111111111111,
             "#46039f"
            ],
            [
             0.2222222222222222,
             "#7201a8"
            ],
            [
             0.3333333333333333,
             "#9c179e"
            ],
            [
             0.4444444444444444,
             "#bd3786"
            ],
            [
             0.5555555555555556,
             "#d8576b"
            ],
            [
             0.6666666666666666,
             "#ed7953"
            ],
            [
             0.7777777777777778,
             "#fb9f3a"
            ],
            [
             0.8888888888888888,
             "#fdca26"
            ],
            [
             1,
             "#f0f921"
            ]
           ]
          },
          "colorway": [
           "#636efa",
           "#EF553B",
           "#00cc96",
           "#ab63fa",
           "#FFA15A",
           "#19d3f3",
           "#FF6692",
           "#B6E880",
           "#FF97FF",
           "#FECB52"
          ],
          "font": {
           "color": "#2a3f5f"
          },
          "geo": {
           "bgcolor": "white",
           "lakecolor": "white",
           "landcolor": "#E5ECF6",
           "showlakes": true,
           "showland": true,
           "subunitcolor": "white"
          },
          "hoverlabel": {
           "align": "left"
          },
          "hovermode": "closest",
          "mapbox": {
           "style": "light"
          },
          "paper_bgcolor": "white",
          "plot_bgcolor": "#E5ECF6",
          "polar": {
           "angularaxis": {
            "gridcolor": "white",
            "linecolor": "white",
            "ticks": ""
           },
           "bgcolor": "#E5ECF6",
           "radialaxis": {
            "gridcolor": "white",
            "linecolor": "white",
            "ticks": ""
           }
          },
          "scene": {
           "xaxis": {
            "backgroundcolor": "#E5ECF6",
            "gridcolor": "white",
            "gridwidth": 2,
            "linecolor": "white",
            "showbackground": true,
            "ticks": "",
            "zerolinecolor": "white"
           },
           "yaxis": {
            "backgroundcolor": "#E5ECF6",
            "gridcolor": "white",
            "gridwidth": 2,
            "linecolor": "white",
            "showbackground": true,
            "ticks": "",
            "zerolinecolor": "white"
           },
           "zaxis": {
            "backgroundcolor": "#E5ECF6",
            "gridcolor": "white",
            "gridwidth": 2,
            "linecolor": "white",
            "showbackground": true,
            "ticks": "",
            "zerolinecolor": "white"
           }
          },
          "shapedefaults": {
           "line": {
            "color": "#2a3f5f"
           }
          },
          "ternary": {
           "aaxis": {
            "gridcolor": "white",
            "linecolor": "white",
            "ticks": ""
           },
           "baxis": {
            "gridcolor": "white",
            "linecolor": "white",
            "ticks": ""
           },
           "bgcolor": "#E5ECF6",
           "caxis": {
            "gridcolor": "white",
            "linecolor": "white",
            "ticks": ""
           }
          },
          "title": {
           "x": 0.05
          },
          "xaxis": {
           "automargin": true,
           "gridcolor": "white",
           "linecolor": "white",
           "ticks": "",
           "title": {
            "standoff": 15
           },
           "zerolinecolor": "white",
           "zerolinewidth": 2
          },
          "yaxis": {
           "automargin": true,
           "gridcolor": "white",
           "linecolor": "white",
           "ticks": "",
           "title": {
            "standoff": 15
           },
           "zerolinecolor": "white",
           "zerolinewidth": 2
          }
         }
        },
        "xaxis": {
         "anchor": "y",
         "domain": [
          0,
          1
         ],
         "title": {
          "text": "Nombres"
         }
        },
        "yaxis": {
         "anchor": "x",
         "domain": [
          0,
          1
         ],
         "title": {
          "text": "Raciones rescatadas"
         }
        }
       }
      },
      "text/html": [
       "<div>                            <div id=\"e324a2a2-5f05-45e2-bb24-66915dd0108f\" class=\"plotly-graph-div\" style=\"height:525px; width:100%;\"></div>            <script type=\"text/javascript\">                require([\"plotly\"], function(Plotly) {                    window.PLOTLYENV=window.PLOTLYENV || {};                                    if (document.getElementById(\"e324a2a2-5f05-45e2-bb24-66915dd0108f\")) {                    Plotly.newPlot(                        \"e324a2a2-5f05-45e2-bb24-66915dd0108f\",                        [],                        {\"template\":{\"data\":{\"bar\":[{\"error_x\":{\"color\":\"#2a3f5f\"},\"error_y\":{\"color\":\"#2a3f5f\"},\"marker\":{\"line\":{\"color\":\"#E5ECF6\",\"width\":0.5},\"pattern\":{\"fillmode\":\"overlay\",\"size\":10,\"solidity\":0.2}},\"type\":\"bar\"}],\"barpolar\":[{\"marker\":{\"line\":{\"color\":\"#E5ECF6\",\"width\":0.5},\"pattern\":{\"fillmode\":\"overlay\",\"size\":10,\"solidity\":0.2}},\"type\":\"barpolar\"}],\"carpet\":[{\"aaxis\":{\"endlinecolor\":\"#2a3f5f\",\"gridcolor\":\"white\",\"linecolor\":\"white\",\"minorgridcolor\":\"white\",\"startlinecolor\":\"#2a3f5f\"},\"baxis\":{\"endlinecolor\":\"#2a3f5f\",\"gridcolor\":\"white\",\"linecolor\":\"white\",\"minorgridcolor\":\"white\",\"startlinecolor\":\"#2a3f5f\"},\"type\":\"carpet\"}],\"choropleth\":[{\"colorbar\":{\"outlinewidth\":0,\"ticks\":\"\"},\"type\":\"choropleth\"}],\"contour\":[{\"colorbar\":{\"outlinewidth\":0,\"ticks\":\"\"},\"colorscale\":[[0.0,\"#0d0887\"],[0.1111111111111111,\"#46039f\"],[0.2222222222222222,\"#7201a8\"],[0.3333333333333333,\"#9c179e\"],[0.4444444444444444,\"#bd3786\"],[0.5555555555555556,\"#d8576b\"],[0.6666666666666666,\"#ed7953\"],[0.7777777777777778,\"#fb9f3a\"],[0.8888888888888888,\"#fdca26\"],[1.0,\"#f0f921\"]],\"type\":\"contour\"}],\"contourcarpet\":[{\"colorbar\":{\"outlinewidth\":0,\"ticks\":\"\"},\"type\":\"contourcarpet\"}],\"heatmap\":[{\"colorbar\":{\"outlinewidth\":0,\"ticks\":\"\"},\"colorscale\":[[0.0,\"#0d0887\"],[0.1111111111111111,\"#46039f\"],[0.2222222222222222,\"#7201a8\"],[0.3333333333333333,\"#9c179e\"],[0.4444444444444444,\"#bd3786\"],[0.5555555555555556,\"#d8576b\"],[0.6666666666666666,\"#ed7953\"],[0.7777777777777778,\"#fb9f3a\"],[0.8888888888888888,\"#fdca26\"],[1.0,\"#f0f921\"]],\"type\":\"heatmap\"}],\"heatmapgl\":[{\"colorbar\":{\"outlinewidth\":0,\"ticks\":\"\"},\"colorscale\":[[0.0,\"#0d0887\"],[0.1111111111111111,\"#46039f\"],[0.2222222222222222,\"#7201a8\"],[0.3333333333333333,\"#9c179e\"],[0.4444444444444444,\"#bd3786\"],[0.5555555555555556,\"#d8576b\"],[0.6666666666666666,\"#ed7953\"],[0.7777777777777778,\"#fb9f3a\"],[0.8888888888888888,\"#fdca26\"],[1.0,\"#f0f921\"]],\"type\":\"heatmapgl\"}],\"histogram\":[{\"marker\":{\"pattern\":{\"fillmode\":\"overlay\",\"size\":10,\"solidity\":0.2}},\"type\":\"histogram\"}],\"histogram2d\":[{\"colorbar\":{\"outlinewidth\":0,\"ticks\":\"\"},\"colorscale\":[[0.0,\"#0d0887\"],[0.1111111111111111,\"#46039f\"],[0.2222222222222222,\"#7201a8\"],[0.3333333333333333,\"#9c179e\"],[0.4444444444444444,\"#bd3786\"],[0.5555555555555556,\"#d8576b\"],[0.6666666666666666,\"#ed7953\"],[0.7777777777777778,\"#fb9f3a\"],[0.8888888888888888,\"#fdca26\"],[1.0,\"#f0f921\"]],\"type\":\"histogram2d\"}],\"histogram2dcontour\":[{\"colorbar\":{\"outlinewidth\":0,\"ticks\":\"\"},\"colorscale\":[[0.0,\"#0d0887\"],[0.1111111111111111,\"#46039f\"],[0.2222222222222222,\"#7201a8\"],[0.3333333333333333,\"#9c179e\"],[0.4444444444444444,\"#bd3786\"],[0.5555555555555556,\"#d8576b\"],[0.6666666666666666,\"#ed7953\"],[0.7777777777777778,\"#fb9f3a\"],[0.8888888888888888,\"#fdca26\"],[1.0,\"#f0f921\"]],\"type\":\"histogram2dcontour\"}],\"mesh3d\":[{\"colorbar\":{\"outlinewidth\":0,\"ticks\":\"\"},\"type\":\"mesh3d\"}],\"parcoords\":[{\"line\":{\"colorbar\":{\"outlinewidth\":0,\"ticks\":\"\"}},\"type\":\"parcoords\"}],\"pie\":[{\"automargin\":true,\"type\":\"pie\"}],\"scatter\":[{\"marker\":{\"colorbar\":{\"outlinewidth\":0,\"ticks\":\"\"}},\"type\":\"scatter\"}],\"scatter3d\":[{\"line\":{\"colorbar\":{\"outlinewidth\":0,\"ticks\":\"\"}},\"marker\":{\"colorbar\":{\"outlinewidth\":0,\"ticks\":\"\"}},\"type\":\"scatter3d\"}],\"scattercarpet\":[{\"marker\":{\"colorbar\":{\"outlinewidth\":0,\"ticks\":\"\"}},\"type\":\"scattercarpet\"}],\"scattergeo\":[{\"marker\":{\"colorbar\":{\"outlinewidth\":0,\"ticks\":\"\"}},\"type\":\"scattergeo\"}],\"scattergl\":[{\"marker\":{\"colorbar\":{\"outlinewidth\":0,\"ticks\":\"\"}},\"type\":\"scattergl\"}],\"scattermapbox\":[{\"marker\":{\"colorbar\":{\"outlinewidth\":0,\"ticks\":\"\"}},\"type\":\"scattermapbox\"}],\"scatterpolar\":[{\"marker\":{\"colorbar\":{\"outlinewidth\":0,\"ticks\":\"\"}},\"type\":\"scatterpolar\"}],\"scatterpolargl\":[{\"marker\":{\"colorbar\":{\"outlinewidth\":0,\"ticks\":\"\"}},\"type\":\"scatterpolargl\"}],\"scatterternary\":[{\"marker\":{\"colorbar\":{\"outlinewidth\":0,\"ticks\":\"\"}},\"type\":\"scatterternary\"}],\"surface\":[{\"colorbar\":{\"outlinewidth\":0,\"ticks\":\"\"},\"colorscale\":[[0.0,\"#0d0887\"],[0.1111111111111111,\"#46039f\"],[0.2222222222222222,\"#7201a8\"],[0.3333333333333333,\"#9c179e\"],[0.4444444444444444,\"#bd3786\"],[0.5555555555555556,\"#d8576b\"],[0.6666666666666666,\"#ed7953\"],[0.7777777777777778,\"#fb9f3a\"],[0.8888888888888888,\"#fdca26\"],[1.0,\"#f0f921\"]],\"type\":\"surface\"}],\"table\":[{\"cells\":{\"fill\":{\"color\":\"#EBF0F8\"},\"line\":{\"color\":\"white\"}},\"header\":{\"fill\":{\"color\":\"#C8D4E3\"},\"line\":{\"color\":\"white\"}},\"type\":\"table\"}]},\"layout\":{\"annotationdefaults\":{\"arrowcolor\":\"#2a3f5f\",\"arrowhead\":0,\"arrowwidth\":1},\"autotypenumbers\":\"strict\",\"coloraxis\":{\"colorbar\":{\"outlinewidth\":0,\"ticks\":\"\"}},\"colorscale\":{\"diverging\":[[0,\"#8e0152\"],[0.1,\"#c51b7d\"],[0.2,\"#de77ae\"],[0.3,\"#f1b6da\"],[0.4,\"#fde0ef\"],[0.5,\"#f7f7f7\"],[0.6,\"#e6f5d0\"],[0.7,\"#b8e186\"],[0.8,\"#7fbc41\"],[0.9,\"#4d9221\"],[1,\"#276419\"]],\"sequential\":[[0.0,\"#0d0887\"],[0.1111111111111111,\"#46039f\"],[0.2222222222222222,\"#7201a8\"],[0.3333333333333333,\"#9c179e\"],[0.4444444444444444,\"#bd3786\"],[0.5555555555555556,\"#d8576b\"],[0.6666666666666666,\"#ed7953\"],[0.7777777777777778,\"#fb9f3a\"],[0.8888888888888888,\"#fdca26\"],[1.0,\"#f0f921\"]],\"sequentialminus\":[[0.0,\"#0d0887\"],[0.1111111111111111,\"#46039f\"],[0.2222222222222222,\"#7201a8\"],[0.3333333333333333,\"#9c179e\"],[0.4444444444444444,\"#bd3786\"],[0.5555555555555556,\"#d8576b\"],[0.6666666666666666,\"#ed7953\"],[0.7777777777777778,\"#fb9f3a\"],[0.8888888888888888,\"#fdca26\"],[1.0,\"#f0f921\"]]},\"colorway\":[\"#636efa\",\"#EF553B\",\"#00cc96\",\"#ab63fa\",\"#FFA15A\",\"#19d3f3\",\"#FF6692\",\"#B6E880\",\"#FF97FF\",\"#FECB52\"],\"font\":{\"color\":\"#2a3f5f\"},\"geo\":{\"bgcolor\":\"white\",\"lakecolor\":\"white\",\"landcolor\":\"#E5ECF6\",\"showlakes\":true,\"showland\":true,\"subunitcolor\":\"white\"},\"hoverlabel\":{\"align\":\"left\"},\"hovermode\":\"closest\",\"mapbox\":{\"style\":\"light\"},\"paper_bgcolor\":\"white\",\"plot_bgcolor\":\"#E5ECF6\",\"polar\":{\"angularaxis\":{\"gridcolor\":\"white\",\"linecolor\":\"white\",\"ticks\":\"\"},\"bgcolor\":\"#E5ECF6\",\"radialaxis\":{\"gridcolor\":\"white\",\"linecolor\":\"white\",\"ticks\":\"\"}},\"scene\":{\"xaxis\":{\"backgroundcolor\":\"#E5ECF6\",\"gridcolor\":\"white\",\"gridwidth\":2,\"linecolor\":\"white\",\"showbackground\":true,\"ticks\":\"\",\"zerolinecolor\":\"white\"},\"yaxis\":{\"backgroundcolor\":\"#E5ECF6\",\"gridcolor\":\"white\",\"gridwidth\":2,\"linecolor\":\"white\",\"showbackground\":true,\"ticks\":\"\",\"zerolinecolor\":\"white\"},\"zaxis\":{\"backgroundcolor\":\"#E5ECF6\",\"gridcolor\":\"white\",\"gridwidth\":2,\"linecolor\":\"white\",\"showbackground\":true,\"ticks\":\"\",\"zerolinecolor\":\"white\"}},\"shapedefaults\":{\"line\":{\"color\":\"#2a3f5f\"}},\"ternary\":{\"aaxis\":{\"gridcolor\":\"white\",\"linecolor\":\"white\",\"ticks\":\"\"},\"baxis\":{\"gridcolor\":\"white\",\"linecolor\":\"white\",\"ticks\":\"\"},\"bgcolor\":\"#E5ECF6\",\"caxis\":{\"gridcolor\":\"white\",\"linecolor\":\"white\",\"ticks\":\"\"}},\"title\":{\"x\":0.05},\"xaxis\":{\"automargin\":true,\"gridcolor\":\"white\",\"linecolor\":\"white\",\"ticks\":\"\",\"title\":{\"standoff\":15},\"zerolinecolor\":\"white\",\"zerolinewidth\":2},\"yaxis\":{\"automargin\":true,\"gridcolor\":\"white\",\"linecolor\":\"white\",\"ticks\":\"\",\"title\":{\"standoff\":15},\"zerolinecolor\":\"white\",\"zerolinewidth\":2}}},\"xaxis\":{\"anchor\":\"y\",\"domain\":[0.0,1.0],\"title\":{\"text\":\"Nombres\"}},\"yaxis\":{\"anchor\":\"x\",\"domain\":[0.0,1.0],\"title\":{\"text\":\"Raciones rescatadas\"}},\"legend\":{\"tracegroupgap\":0},\"margin\":{\"t\":60},\"barmode\":\"relative\"},                        {\"responsive\": true}                    ).then(function(){\n",
       "                            \n",
       "var gd = document.getElementById('e324a2a2-5f05-45e2-bb24-66915dd0108f');\n",
       "var x = new MutationObserver(function (mutations, observer) {{\n",
       "        var display = window.getComputedStyle(gd).display;\n",
       "        if (!display || display === 'none') {{\n",
       "            console.log([gd, 'removed!']);\n",
       "            Plotly.purge(gd);\n",
       "            observer.disconnect();\n",
       "        }}\n",
       "}});\n",
       "\n",
       "// Listen for the removal of the full notebook cells\n",
       "var notebookContainer = gd.closest('#notebook-container');\n",
       "if (notebookContainer) {{\n",
       "    x.observe(notebookContainer, {childList: true});\n",
       "}}\n",
       "\n",
       "// Listen for the clearing of the current output cell\n",
       "var outputEl = gd.closest('.output');\n",
       "if (outputEl) {{\n",
       "    x.observe(outputEl, {childList: true});\n",
       "}}\n",
       "\n",
       "                        })                };                });            </script>        </div>"
      ]
     },
     "metadata": {},
     "output_type": "display_data"
    }
   ],
   "source": [
    "df_actualidad = df2[df2['Dia'].dt.dayofweek == 4]\n",
    "df_actualidad = df_actualidad[df2['Dia'].dt.year == 2022]\n",
    "fig = px.bar(df_actualidad, x=\"Nombres\",y='Raciones rescatadas')\n",
    "fig.show()"
   ]
  },
  {
   "cell_type": "code",
   "execution_count": 14,
   "id": "48c54e3d",
   "metadata": {},
   "outputs": [
    {
     "name": "stdout",
     "output_type": "stream",
     "text": [
      "Raciones diarias rescatadas: \n",
      "171.46130952380952\n",
      "\n",
      "\n",
      "Kilos diarios evitado\n",
      "57.875\n",
      "\n",
      "\n"
     ]
    }
   ],
   "source": [
    "kg_total = df2['Kilos rescatados'].sum()\n",
    "\n",
    "rac_total = df2['Raciones rescatadas'].sum()\n",
    "\n",
    "num_dias = len(df2['Dia'].unique())\n",
    "num_dias\n",
    "\n",
    "#Raciones diarias de media\n",
    "rac_diarias = rac_total/num_dias\n",
    "#Kilos diarios de media\n",
    "kg_diarios = kg_total/num_dias\n",
    "\n",
    "print('Raciones diarias rescatadas: ')\n",
    "print(rac_diarias)\n",
    "print('\\n')\n",
    "print('Kilos diarios evitado')\n",
    "print(kg_diarios)\n",
    "print('\\n')\n"
   ]
  },
  {
   "cell_type": "code",
   "execution_count": 15,
   "id": "acb0ef81",
   "metadata": {},
   "outputs": [
    {
     "name": "stdout",
     "output_type": "stream",
     "text": [
      "Primera y ultima fecha de cada donantes\n"
     ]
    },
    {
     "data": {
      "text/html": [
       "<div>\n",
       "<style scoped>\n",
       "    .dataframe tbody tr th:only-of-type {\n",
       "        vertical-align: middle;\n",
       "    }\n",
       "\n",
       "    .dataframe tbody tr th {\n",
       "        vertical-align: top;\n",
       "    }\n",
       "\n",
       "    .dataframe thead th {\n",
       "        text-align: right;\n",
       "    }\n",
       "</style>\n",
       "<table border=\"1\" class=\"dataframe\">\n",
       "  <thead>\n",
       "    <tr style=\"text-align: right;\">\n",
       "      <th></th>\n",
       "      <th>first</th>\n",
       "      <th>last</th>\n",
       "    </tr>\n",
       "    <tr>\n",
       "      <th>Nombres</th>\n",
       "      <th></th>\n",
       "      <th></th>\n",
       "    </tr>\n",
       "  </thead>\n",
       "  <tbody>\n",
       "    <tr>\n",
       "      <th>Bonjour</th>\n",
       "      <td>2020-11-04 18:39:00</td>\n",
       "      <td>2022-02-22 21:27:10</td>\n",
       "    </tr>\n",
       "    <tr>\n",
       "      <th>CHIPA</th>\n",
       "      <td>2020-11-30 22:37:13</td>\n",
       "      <td>2021-07-05 21:25:00</td>\n",
       "    </tr>\n",
       "    <tr>\n",
       "      <th>CM Loyola</th>\n",
       "      <td>2021-02-18 21:47:31</td>\n",
       "      <td>2022-03-03 21:05:00</td>\n",
       "    </tr>\n",
       "    <tr>\n",
       "      <th>Colegio Mayor Aquinas</th>\n",
       "      <td>2020-11-03 17:27:16</td>\n",
       "      <td>2022-03-07 21:33:00</td>\n",
       "    </tr>\n",
       "    <tr>\n",
       "      <th>El Cebón</th>\n",
       "      <td>2020-11-10 21:48:13</td>\n",
       "      <td>2022-02-23 21:36:15</td>\n",
       "    </tr>\n",
       "    <tr>\n",
       "      <th>Eñe + que una letra</th>\n",
       "      <td>2020-11-05 21:33:49</td>\n",
       "      <td>2022-03-08 21:08:00</td>\n",
       "    </tr>\n",
       "    <tr>\n",
       "      <th>Fruteria El Moreno</th>\n",
       "      <td>2020-11-10 21:54:14</td>\n",
       "      <td>2021-05-12 21:21:02</td>\n",
       "    </tr>\n",
       "    <tr>\n",
       "      <th>Fruteria Valencia</th>\n",
       "      <td>2020-11-05 21:37:00</td>\n",
       "      <td>2022-03-07 21:03:00</td>\n",
       "    </tr>\n",
       "    <tr>\n",
       "      <th>Fruterias Andrés</th>\n",
       "      <td>2021-05-21 22:33:51</td>\n",
       "      <td>2022-03-01 21:35:00</td>\n",
       "    </tr>\n",
       "    <tr>\n",
       "      <th>Fruterias Ignacio</th>\n",
       "      <td>2021-02-03 21:28:29</td>\n",
       "      <td>2022-02-14 21:23:58</td>\n",
       "    </tr>\n",
       "    <tr>\n",
       "      <th>Frutería Las Gemelas</th>\n",
       "      <td>2020-11-03 17:28:47</td>\n",
       "      <td>2022-03-07 21:33:00</td>\n",
       "    </tr>\n",
       "    <tr>\n",
       "      <th>Funway Academic Resort</th>\n",
       "      <td>2020-11-03 18:03:22</td>\n",
       "      <td>2021-05-19 20:20:32</td>\n",
       "    </tr>\n",
       "    <tr>\n",
       "      <th>Hoy es Mañana</th>\n",
       "      <td>2021-11-17 22:11:55</td>\n",
       "      <td>2021-12-09 21:29:00</td>\n",
       "    </tr>\n",
       "    <tr>\n",
       "      <th>Levaduramadre</th>\n",
       "      <td>2020-11-17 21:56:03</td>\n",
       "      <td>2022-03-07 21:24:00</td>\n",
       "    </tr>\n",
       "    <tr>\n",
       "      <th>LomiRock</th>\n",
       "      <td>2020-11-12 21:53:50</td>\n",
       "      <td>2020-12-15 21:24:25</td>\n",
       "    </tr>\n",
       "    <tr>\n",
       "      <th>Otros</th>\n",
       "      <td>2021-01-26 21:52:29</td>\n",
       "      <td>2021-04-05 20:07:01</td>\n",
       "    </tr>\n",
       "    <tr>\n",
       "      <th>Pastelería Ludavi</th>\n",
       "      <td>2021-12-16 21:29:47</td>\n",
       "      <td>2022-03-08 21:08:00</td>\n",
       "    </tr>\n",
       "    <tr>\n",
       "      <th>Q Pastelitos</th>\n",
       "      <td>2020-11-04 18:39:43</td>\n",
       "      <td>2021-06-30 21:29:16</td>\n",
       "    </tr>\n",
       "    <tr>\n",
       "      <th>Shurma Huerta</th>\n",
       "      <td>2021-05-11 21:33:25</td>\n",
       "      <td>2022-02-16 21:25:50</td>\n",
       "    </tr>\n",
       "    <tr>\n",
       "      <th>Tercer Tiempo Bar</th>\n",
       "      <td>2020-11-23 20:28:47</td>\n",
       "      <td>2021-06-24 21:15:49</td>\n",
       "    </tr>\n",
       "    <tr>\n",
       "      <th>Vedruna</th>\n",
       "      <td>2020-11-04 18:30:37</td>\n",
       "      <td>2022-03-07 21:33:00</td>\n",
       "    </tr>\n",
       "    <tr>\n",
       "      <th>Zara frutas y verdura</th>\n",
       "      <td>2021-03-22 21:53:55</td>\n",
       "      <td>2022-03-01 21:54:00</td>\n",
       "    </tr>\n",
       "  </tbody>\n",
       "</table>\n",
       "</div>"
      ],
      "text/plain": [
       "                                     first                last\n",
       "Nombres                                                       \n",
       "Bonjour                2020-11-04 18:39:00 2022-02-22 21:27:10\n",
       "CHIPA                  2020-11-30 22:37:13 2021-07-05 21:25:00\n",
       "CM Loyola              2021-02-18 21:47:31 2022-03-03 21:05:00\n",
       "Colegio Mayor Aquinas  2020-11-03 17:27:16 2022-03-07 21:33:00\n",
       "El Cebón               2020-11-10 21:48:13 2022-02-23 21:36:15\n",
       "Eñe + que una letra    2020-11-05 21:33:49 2022-03-08 21:08:00\n",
       "Fruteria El Moreno     2020-11-10 21:54:14 2021-05-12 21:21:02\n",
       "Fruteria Valencia      2020-11-05 21:37:00 2022-03-07 21:03:00\n",
       "Fruterias Andrés       2021-05-21 22:33:51 2022-03-01 21:35:00\n",
       "Fruterias Ignacio      2021-02-03 21:28:29 2022-02-14 21:23:58\n",
       "Frutería Las Gemelas   2020-11-03 17:28:47 2022-03-07 21:33:00\n",
       "Funway Academic Resort 2020-11-03 18:03:22 2021-05-19 20:20:32\n",
       "Hoy es Mañana          2021-11-17 22:11:55 2021-12-09 21:29:00\n",
       "Levaduramadre          2020-11-17 21:56:03 2022-03-07 21:24:00\n",
       "LomiRock               2020-11-12 21:53:50 2020-12-15 21:24:25\n",
       "Otros                  2021-01-26 21:52:29 2021-04-05 20:07:01\n",
       "Pastelería Ludavi      2021-12-16 21:29:47 2022-03-08 21:08:00\n",
       "Q Pastelitos           2020-11-04 18:39:43 2021-06-30 21:29:16\n",
       "Shurma Huerta          2021-05-11 21:33:25 2022-02-16 21:25:50\n",
       "Tercer Tiempo Bar      2020-11-23 20:28:47 2021-06-24 21:15:49\n",
       "Vedruna                2020-11-04 18:30:37 2022-03-07 21:33:00\n",
       "Zara frutas y verdura  2021-03-22 21:53:55 2022-03-01 21:54:00"
      ]
     },
     "execution_count": 15,
     "metadata": {},
     "output_type": "execute_result"
    }
   ],
   "source": [
    "print(\"Primera y ultima fecha de cada donantes\")\n",
    "df2.groupby('Nombres')['Fecha Hora'].agg(['min','max']).rename(columns={'min':'first','max':'last'})"
   ]
  },
  {
   "cell_type": "code",
   "execution_count": 16,
   "id": "8e33a0de",
   "metadata": {},
   "outputs": [
    {
     "data": {
      "text/html": [
       "<div>\n",
       "<style scoped>\n",
       "    .dataframe tbody tr th:only-of-type {\n",
       "        vertical-align: middle;\n",
       "    }\n",
       "\n",
       "    .dataframe tbody tr th {\n",
       "        vertical-align: top;\n",
       "    }\n",
       "\n",
       "    .dataframe thead th {\n",
       "        text-align: right;\n",
       "    }\n",
       "</style>\n",
       "<table border=\"1\" class=\"dataframe\">\n",
       "  <thead>\n",
       "    <tr style=\"text-align: right;\">\n",
       "      <th></th>\n",
       "      <th>sum</th>\n",
       "    </tr>\n",
       "    <tr>\n",
       "      <th>Dia</th>\n",
       "      <th></th>\n",
       "    </tr>\n",
       "  </thead>\n",
       "  <tbody>\n",
       "    <tr>\n",
       "      <th>2020-11-03</th>\n",
       "      <td>25.5</td>\n",
       "    </tr>\n",
       "    <tr>\n",
       "      <th>2020-11-04</th>\n",
       "      <td>13.6</td>\n",
       "    </tr>\n",
       "    <tr>\n",
       "      <th>2020-11-05</th>\n",
       "      <td>11.1</td>\n",
       "    </tr>\n",
       "    <tr>\n",
       "      <th>2020-11-10</th>\n",
       "      <td>26.6</td>\n",
       "    </tr>\n",
       "    <tr>\n",
       "      <th>2020-11-11</th>\n",
       "      <td>12.8</td>\n",
       "    </tr>\n",
       "  </tbody>\n",
       "</table>\n",
       "</div>"
      ],
      "text/plain": [
       "             sum\n",
       "Dia             \n",
       "2020-11-03  25.5\n",
       "2020-11-04  13.6\n",
       "2020-11-05  11.1\n",
       "2020-11-10  26.6\n",
       "2020-11-11  12.8"
      ]
     },
     "execution_count": 16,
     "metadata": {},
     "output_type": "execute_result"
    }
   ],
   "source": [
    "\n",
    "suma_dias = df2.groupby('Dia')['Kilos rescatados'].agg(['sum'])\n",
    "suma_dias.head()"
   ]
  },
  {
   "cell_type": "code",
   "execution_count": 17,
   "id": "d3b923d1",
   "metadata": {},
   "outputs": [
    {
     "data": {
      "application/vnd.plotly.v1+json": {
       "config": {
        "plotlyServerURL": "https://plot.ly"
       },
       "data": [
        {
         "hovertemplate": "Dia=%{x}<br>sum=%{y}<extra></extra>",
         "legendgroup": "",
         "line": {
          "color": "#636efa",
          "dash": "solid"
         },
         "marker": {
          "symbol": "circle"
         },
         "mode": "lines",
         "name": "",
         "orientation": "v",
         "showlegend": false,
         "type": "scatter",
         "x": [
          "2020-11-03T00:00:00",
          "2020-11-04T00:00:00",
          "2020-11-05T00:00:00",
          "2020-11-10T00:00:00",
          "2020-11-11T00:00:00",
          "2020-11-12T00:00:00",
          "2020-11-17T00:00:00",
          "2020-11-18T00:00:00",
          "2020-11-19T00:00:00",
          "2020-11-23T00:00:00",
          "2020-11-24T00:00:00",
          "2020-11-25T00:00:00",
          "2020-11-26T00:00:00",
          "2020-11-30T00:00:00",
          "2020-12-01T00:00:00",
          "2020-12-02T00:00:00",
          "2020-12-03T00:00:00",
          "2020-12-09T00:00:00",
          "2020-12-10T00:00:00",
          "2020-12-14T00:00:00",
          "2020-12-15T00:00:00",
          "2020-12-16T00:00:00",
          "2020-12-17T00:00:00",
          "2021-01-18T00:00:00",
          "2021-01-19T00:00:00",
          "2021-01-20T00:00:00",
          "2021-01-21T00:00:00",
          "2021-01-25T00:00:00",
          "2021-01-26T00:00:00",
          "2021-01-27T00:00:00",
          "2021-01-28T00:00:00",
          "2021-02-01T00:00:00",
          "2021-02-02T00:00:00",
          "2021-02-03T00:00:00",
          "2021-02-04T00:00:00",
          "2021-02-08T00:00:00",
          "2021-02-09T00:00:00",
          "2021-02-10T00:00:00",
          "2021-02-11T00:00:00",
          "2021-02-15T00:00:00",
          "2021-02-16T00:00:00",
          "2021-02-17T00:00:00",
          "2021-02-18T00:00:00",
          "2021-02-22T00:00:00",
          "2021-02-23T00:00:00",
          "2021-02-24T00:00:00",
          "2021-02-25T00:00:00",
          "2021-03-01T00:00:00",
          "2021-03-02T00:00:00",
          "2021-03-03T00:00:00",
          "2021-03-04T00:00:00",
          "2021-03-08T00:00:00",
          "2021-03-09T00:00:00",
          "2021-03-10T00:00:00",
          "2021-03-11T00:00:00",
          "2021-03-12T00:00:00",
          "2021-03-15T00:00:00",
          "2021-03-16T00:00:00",
          "2021-03-17T00:00:00",
          "2021-03-18T00:00:00",
          "2021-03-22T00:00:00",
          "2021-03-23T00:00:00",
          "2021-03-24T00:00:00",
          "2021-03-25T00:00:00",
          "2021-03-26T00:00:00",
          "2021-04-05T00:00:00",
          "2021-04-06T00:00:00",
          "2021-04-07T00:00:00",
          "2021-04-08T00:00:00",
          "2021-04-09T00:00:00",
          "2021-04-12T00:00:00",
          "2021-04-13T00:00:00",
          "2021-04-14T00:00:00",
          "2021-04-15T00:00:00",
          "2021-04-16T00:00:00",
          "2021-04-19T00:00:00",
          "2021-04-20T00:00:00",
          "2021-04-21T00:00:00",
          "2021-04-22T00:00:00",
          "2021-04-23T00:00:00",
          "2021-04-28T00:00:00",
          "2021-05-05T00:00:00",
          "2021-05-06T00:00:00",
          "2021-05-07T00:00:00",
          "2021-05-10T00:00:00",
          "2021-05-11T00:00:00",
          "2021-05-12T00:00:00",
          "2021-05-13T00:00:00",
          "2021-05-14T00:00:00",
          "2021-05-17T00:00:00",
          "2021-05-18T00:00:00",
          "2021-05-19T00:00:00",
          "2021-05-20T00:00:00",
          "2021-05-21T00:00:00",
          "2021-06-22T00:00:00",
          "2021-06-23T00:00:00",
          "2021-06-24T00:00:00",
          "2021-06-25T00:00:00",
          "2021-06-28T00:00:00",
          "2021-06-29T00:00:00",
          "2021-06-30T00:00:00",
          "2021-07-05T00:00:00",
          "2021-07-07T00:00:00",
          "2021-07-12T00:00:00",
          "2021-09-15T00:00:00",
          "2021-09-16T00:00:00",
          "2021-09-22T00:00:00",
          "2021-09-23T00:00:00",
          "2021-09-29T00:00:00",
          "2021-09-30T00:00:00",
          "2021-10-06T00:00:00",
          "2021-10-07T00:00:00",
          "2021-10-08T00:00:00",
          "2021-10-13T00:00:00",
          "2021-10-14T00:00:00",
          "2021-10-19T00:00:00",
          "2021-10-20T00:00:00",
          "2021-10-21T00:00:00",
          "2021-10-26T00:00:00",
          "2021-10-27T00:00:00",
          "2021-10-28T00:00:00",
          "2021-11-02T00:00:00",
          "2021-11-03T00:00:00",
          "2021-11-04T00:00:00",
          "2021-11-10T00:00:00",
          "2021-11-11T00:00:00",
          "2021-11-16T00:00:00",
          "2021-11-17T00:00:00",
          "2021-11-18T00:00:00",
          "2021-11-23T00:00:00",
          "2021-11-24T00:00:00",
          "2021-11-25T00:00:00",
          "2021-11-30T00:00:00",
          "2021-12-01T00:00:00",
          "2021-12-02T00:00:00",
          "2021-12-09T00:00:00",
          "2021-12-14T00:00:00",
          "2021-12-15T00:00:00",
          "2021-12-16T00:00:00",
          "2022-01-11T00:00:00",
          "2022-01-12T00:00:00",
          "2022-01-13T00:00:00",
          "2022-01-18T00:00:00",
          "2022-01-19T00:00:00",
          "2022-01-20T00:00:00",
          "2022-01-26T00:00:00",
          "2022-01-27T00:00:00",
          "2022-02-01T00:00:00",
          "2022-02-02T00:00:00",
          "2022-02-03T00:00:00",
          "2022-02-07T00:00:00",
          "2022-02-08T00:00:00",
          "2022-02-09T00:00:00",
          "2022-02-10T00:00:00",
          "2022-02-14T00:00:00",
          "2022-02-15T00:00:00",
          "2022-02-16T00:00:00",
          "2022-02-17T00:00:00",
          "2022-02-21T00:00:00",
          "2022-02-22T00:00:00",
          "2022-02-23T00:00:00",
          "2022-02-24T00:00:00",
          "2022-02-28T00:00:00",
          "2022-03-01T00:00:00",
          "2022-03-02T00:00:00",
          "2022-03-03T00:00:00",
          "2022-03-07T00:00:00",
          "2022-03-08T00:00:00"
         ],
         "xaxis": "x",
         "y": [
          25.5,
          13.600000381469727,
          11.100000381469727,
          26.600000381469727,
          12.800000190734863,
          23.100000381469727,
          16.200000762939453,
          14.5,
          58.900001525878906,
          48,
          33.099998474121094,
          27.899999618530273,
          49.400001525878906,
          52.599998474121094,
          29.399999618530273,
          14.600000381469727,
          117.30000305175781,
          43.29999923706055,
          87.5999984741211,
          26,
          32.099998474121094,
          39.70000076293945,
          73.5,
          17,
          11,
          44.20000076293945,
          156.60000610351562,
          26.799999237060547,
          15.600000381469727,
          30.600000381469727,
          67.9000015258789,
          51.79999923706055,
          24.5,
          54.20000076293945,
          76.5,
          47.099998474121094,
          31.399999618530273,
          22.399999618530273,
          13.199999809265137,
          49.70000076293945,
          5.400000095367432,
          31.399999618530273,
          89,
          25,
          71.9000015258789,
          41.20000076293945,
          119.30000305175781,
          72,
          21.80000114440918,
          33.5,
          145,
          43.79999923706055,
          35.20000076293945,
          9.600000381469727,
          16.80000114440918,
          12.800000190734863,
          47.20000076293945,
          22.600000381469727,
          87.80000305175781,
          0.800000011920929,
          55.400001525878906,
          50.10000228881836,
          40.5,
          29.5,
          98.70000457763672,
          74.19999694824219,
          85.4000015258789,
          54.79999923706055,
          42.5,
          11.40000057220459,
          85.80000305175781,
          118.4000015258789,
          98.9000015258789,
          57.099998474121094,
          64,
          55,
          57.900001525878906,
          27.299999237060547,
          164.1999969482422,
          74.9000015258789,
          11.5,
          60.900001525878906,
          120,
          132.60000610351562,
          50.29999923706055,
          79,
          74.19999694824219,
          81.9000015258789,
          19.80000114440918,
          105.30000305175781,
          55.29999923706055,
          46.79999923706055,
          110.19999694824219,
          91.0999984741211,
          55.60000228881836,
          40.5,
          47.20000076293945,
          155.1999969482422,
          108.5,
          83.0999984741211,
          31.100000381469727,
          38.5,
          33,
          24.5,
          24.100000381469727,
          38.20000076293945,
          19.399999618530273,
          124.5999984741211,
          45.60000228881836,
          31.5,
          106.20000457763672,
          75.5,
          30,
          114.4000015258789,
          69.80000305175781,
          25,
          106,
          91.9000015258789,
          30.399999618530273,
          74.4000015258789,
          21.80000114440918,
          59.70000076293945,
          46.79999923706055,
          85.4000015258789,
          52.099998474121094,
          110,
          20,
          55,
          86.30000305175781,
          49.60000228881836,
          90.9000015258789,
          47,
          39.29999923706055,
          39.5,
          53.5,
          125.0999984741211,
          46.70000076293945,
          156.3000030517578,
          63.20000076293945,
          32.5,
          42.599998474121094,
          57.10000228881836,
          38.400001525878906,
          59.400001525878906,
          145,
          34.60000228881836,
          38.20000076293945,
          113.9000015258789,
          29.200000762939453,
          122.30000305175781,
          15.600000381469727,
          132,
          19.600000381469727,
          45.400001525878906,
          120.5,
          48.5,
          50.900001525878906,
          174.5,
          31.899999618530273,
          135.10000610351562,
          40.900001525878906,
          50.70000076293945,
          131.39999389648438,
          38.400001525878906,
          47.20000076293945,
          46.400001525878906,
          58.70000076293945,
          15.40000057220459
         ],
         "yaxis": "y"
        }
       ],
       "layout": {
        "legend": {
         "tracegroupgap": 0
        },
        "margin": {
         "t": 60
        },
        "template": {
         "data": {
          "bar": [
           {
            "error_x": {
             "color": "#2a3f5f"
            },
            "error_y": {
             "color": "#2a3f5f"
            },
            "marker": {
             "line": {
              "color": "#E5ECF6",
              "width": 0.5
             },
             "pattern": {
              "fillmode": "overlay",
              "size": 10,
              "solidity": 0.2
             }
            },
            "type": "bar"
           }
          ],
          "barpolar": [
           {
            "marker": {
             "line": {
              "color": "#E5ECF6",
              "width": 0.5
             },
             "pattern": {
              "fillmode": "overlay",
              "size": 10,
              "solidity": 0.2
             }
            },
            "type": "barpolar"
           }
          ],
          "carpet": [
           {
            "aaxis": {
             "endlinecolor": "#2a3f5f",
             "gridcolor": "white",
             "linecolor": "white",
             "minorgridcolor": "white",
             "startlinecolor": "#2a3f5f"
            },
            "baxis": {
             "endlinecolor": "#2a3f5f",
             "gridcolor": "white",
             "linecolor": "white",
             "minorgridcolor": "white",
             "startlinecolor": "#2a3f5f"
            },
            "type": "carpet"
           }
          ],
          "choropleth": [
           {
            "colorbar": {
             "outlinewidth": 0,
             "ticks": ""
            },
            "type": "choropleth"
           }
          ],
          "contour": [
           {
            "colorbar": {
             "outlinewidth": 0,
             "ticks": ""
            },
            "colorscale": [
             [
              0,
              "#0d0887"
             ],
             [
              0.1111111111111111,
              "#46039f"
             ],
             [
              0.2222222222222222,
              "#7201a8"
             ],
             [
              0.3333333333333333,
              "#9c179e"
             ],
             [
              0.4444444444444444,
              "#bd3786"
             ],
             [
              0.5555555555555556,
              "#d8576b"
             ],
             [
              0.6666666666666666,
              "#ed7953"
             ],
             [
              0.7777777777777778,
              "#fb9f3a"
             ],
             [
              0.8888888888888888,
              "#fdca26"
             ],
             [
              1,
              "#f0f921"
             ]
            ],
            "type": "contour"
           }
          ],
          "contourcarpet": [
           {
            "colorbar": {
             "outlinewidth": 0,
             "ticks": ""
            },
            "type": "contourcarpet"
           }
          ],
          "heatmap": [
           {
            "colorbar": {
             "outlinewidth": 0,
             "ticks": ""
            },
            "colorscale": [
             [
              0,
              "#0d0887"
             ],
             [
              0.1111111111111111,
              "#46039f"
             ],
             [
              0.2222222222222222,
              "#7201a8"
             ],
             [
              0.3333333333333333,
              "#9c179e"
             ],
             [
              0.4444444444444444,
              "#bd3786"
             ],
             [
              0.5555555555555556,
              "#d8576b"
             ],
             [
              0.6666666666666666,
              "#ed7953"
             ],
             [
              0.7777777777777778,
              "#fb9f3a"
             ],
             [
              0.8888888888888888,
              "#fdca26"
             ],
             [
              1,
              "#f0f921"
             ]
            ],
            "type": "heatmap"
           }
          ],
          "heatmapgl": [
           {
            "colorbar": {
             "outlinewidth": 0,
             "ticks": ""
            },
            "colorscale": [
             [
              0,
              "#0d0887"
             ],
             [
              0.1111111111111111,
              "#46039f"
             ],
             [
              0.2222222222222222,
              "#7201a8"
             ],
             [
              0.3333333333333333,
              "#9c179e"
             ],
             [
              0.4444444444444444,
              "#bd3786"
             ],
             [
              0.5555555555555556,
              "#d8576b"
             ],
             [
              0.6666666666666666,
              "#ed7953"
             ],
             [
              0.7777777777777778,
              "#fb9f3a"
             ],
             [
              0.8888888888888888,
              "#fdca26"
             ],
             [
              1,
              "#f0f921"
             ]
            ],
            "type": "heatmapgl"
           }
          ],
          "histogram": [
           {
            "marker": {
             "pattern": {
              "fillmode": "overlay",
              "size": 10,
              "solidity": 0.2
             }
            },
            "type": "histogram"
           }
          ],
          "histogram2d": [
           {
            "colorbar": {
             "outlinewidth": 0,
             "ticks": ""
            },
            "colorscale": [
             [
              0,
              "#0d0887"
             ],
             [
              0.1111111111111111,
              "#46039f"
             ],
             [
              0.2222222222222222,
              "#7201a8"
             ],
             [
              0.3333333333333333,
              "#9c179e"
             ],
             [
              0.4444444444444444,
              "#bd3786"
             ],
             [
              0.5555555555555556,
              "#d8576b"
             ],
             [
              0.6666666666666666,
              "#ed7953"
             ],
             [
              0.7777777777777778,
              "#fb9f3a"
             ],
             [
              0.8888888888888888,
              "#fdca26"
             ],
             [
              1,
              "#f0f921"
             ]
            ],
            "type": "histogram2d"
           }
          ],
          "histogram2dcontour": [
           {
            "colorbar": {
             "outlinewidth": 0,
             "ticks": ""
            },
            "colorscale": [
             [
              0,
              "#0d0887"
             ],
             [
              0.1111111111111111,
              "#46039f"
             ],
             [
              0.2222222222222222,
              "#7201a8"
             ],
             [
              0.3333333333333333,
              "#9c179e"
             ],
             [
              0.4444444444444444,
              "#bd3786"
             ],
             [
              0.5555555555555556,
              "#d8576b"
             ],
             [
              0.6666666666666666,
              "#ed7953"
             ],
             [
              0.7777777777777778,
              "#fb9f3a"
             ],
             [
              0.8888888888888888,
              "#fdca26"
             ],
             [
              1,
              "#f0f921"
             ]
            ],
            "type": "histogram2dcontour"
           }
          ],
          "mesh3d": [
           {
            "colorbar": {
             "outlinewidth": 0,
             "ticks": ""
            },
            "type": "mesh3d"
           }
          ],
          "parcoords": [
           {
            "line": {
             "colorbar": {
              "outlinewidth": 0,
              "ticks": ""
             }
            },
            "type": "parcoords"
           }
          ],
          "pie": [
           {
            "automargin": true,
            "type": "pie"
           }
          ],
          "scatter": [
           {
            "marker": {
             "colorbar": {
              "outlinewidth": 0,
              "ticks": ""
             }
            },
            "type": "scatter"
           }
          ],
          "scatter3d": [
           {
            "line": {
             "colorbar": {
              "outlinewidth": 0,
              "ticks": ""
             }
            },
            "marker": {
             "colorbar": {
              "outlinewidth": 0,
              "ticks": ""
             }
            },
            "type": "scatter3d"
           }
          ],
          "scattercarpet": [
           {
            "marker": {
             "colorbar": {
              "outlinewidth": 0,
              "ticks": ""
             }
            },
            "type": "scattercarpet"
           }
          ],
          "scattergeo": [
           {
            "marker": {
             "colorbar": {
              "outlinewidth": 0,
              "ticks": ""
             }
            },
            "type": "scattergeo"
           }
          ],
          "scattergl": [
           {
            "marker": {
             "colorbar": {
              "outlinewidth": 0,
              "ticks": ""
             }
            },
            "type": "scattergl"
           }
          ],
          "scattermapbox": [
           {
            "marker": {
             "colorbar": {
              "outlinewidth": 0,
              "ticks": ""
             }
            },
            "type": "scattermapbox"
           }
          ],
          "scatterpolar": [
           {
            "marker": {
             "colorbar": {
              "outlinewidth": 0,
              "ticks": ""
             }
            },
            "type": "scatterpolar"
           }
          ],
          "scatterpolargl": [
           {
            "marker": {
             "colorbar": {
              "outlinewidth": 0,
              "ticks": ""
             }
            },
            "type": "scatterpolargl"
           }
          ],
          "scatterternary": [
           {
            "marker": {
             "colorbar": {
              "outlinewidth": 0,
              "ticks": ""
             }
            },
            "type": "scatterternary"
           }
          ],
          "surface": [
           {
            "colorbar": {
             "outlinewidth": 0,
             "ticks": ""
            },
            "colorscale": [
             [
              0,
              "#0d0887"
             ],
             [
              0.1111111111111111,
              "#46039f"
             ],
             [
              0.2222222222222222,
              "#7201a8"
             ],
             [
              0.3333333333333333,
              "#9c179e"
             ],
             [
              0.4444444444444444,
              "#bd3786"
             ],
             [
              0.5555555555555556,
              "#d8576b"
             ],
             [
              0.6666666666666666,
              "#ed7953"
             ],
             [
              0.7777777777777778,
              "#fb9f3a"
             ],
             [
              0.8888888888888888,
              "#fdca26"
             ],
             [
              1,
              "#f0f921"
             ]
            ],
            "type": "surface"
           }
          ],
          "table": [
           {
            "cells": {
             "fill": {
              "color": "#EBF0F8"
             },
             "line": {
              "color": "white"
             }
            },
            "header": {
             "fill": {
              "color": "#C8D4E3"
             },
             "line": {
              "color": "white"
             }
            },
            "type": "table"
           }
          ]
         },
         "layout": {
          "annotationdefaults": {
           "arrowcolor": "#2a3f5f",
           "arrowhead": 0,
           "arrowwidth": 1
          },
          "autotypenumbers": "strict",
          "coloraxis": {
           "colorbar": {
            "outlinewidth": 0,
            "ticks": ""
           }
          },
          "colorscale": {
           "diverging": [
            [
             0,
             "#8e0152"
            ],
            [
             0.1,
             "#c51b7d"
            ],
            [
             0.2,
             "#de77ae"
            ],
            [
             0.3,
             "#f1b6da"
            ],
            [
             0.4,
             "#fde0ef"
            ],
            [
             0.5,
             "#f7f7f7"
            ],
            [
             0.6,
             "#e6f5d0"
            ],
            [
             0.7,
             "#b8e186"
            ],
            [
             0.8,
             "#7fbc41"
            ],
            [
             0.9,
             "#4d9221"
            ],
            [
             1,
             "#276419"
            ]
           ],
           "sequential": [
            [
             0,
             "#0d0887"
            ],
            [
             0.1111111111111111,
             "#46039f"
            ],
            [
             0.2222222222222222,
             "#7201a8"
            ],
            [
             0.3333333333333333,
             "#9c179e"
            ],
            [
             0.4444444444444444,
             "#bd3786"
            ],
            [
             0.5555555555555556,
             "#d8576b"
            ],
            [
             0.6666666666666666,
             "#ed7953"
            ],
            [
             0.7777777777777778,
             "#fb9f3a"
            ],
            [
             0.8888888888888888,
             "#fdca26"
            ],
            [
             1,
             "#f0f921"
            ]
           ],
           "sequentialminus": [
            [
             0,
             "#0d0887"
            ],
            [
             0.1111111111111111,
             "#46039f"
            ],
            [
             0.2222222222222222,
             "#7201a8"
            ],
            [
             0.3333333333333333,
             "#9c179e"
            ],
            [
             0.4444444444444444,
             "#bd3786"
            ],
            [
             0.5555555555555556,
             "#d8576b"
            ],
            [
             0.6666666666666666,
             "#ed7953"
            ],
            [
             0.7777777777777778,
             "#fb9f3a"
            ],
            [
             0.8888888888888888,
             "#fdca26"
            ],
            [
             1,
             "#f0f921"
            ]
           ]
          },
          "colorway": [
           "#636efa",
           "#EF553B",
           "#00cc96",
           "#ab63fa",
           "#FFA15A",
           "#19d3f3",
           "#FF6692",
           "#B6E880",
           "#FF97FF",
           "#FECB52"
          ],
          "font": {
           "color": "#2a3f5f"
          },
          "geo": {
           "bgcolor": "white",
           "lakecolor": "white",
           "landcolor": "#E5ECF6",
           "showlakes": true,
           "showland": true,
           "subunitcolor": "white"
          },
          "hoverlabel": {
           "align": "left"
          },
          "hovermode": "closest",
          "mapbox": {
           "style": "light"
          },
          "paper_bgcolor": "white",
          "plot_bgcolor": "#E5ECF6",
          "polar": {
           "angularaxis": {
            "gridcolor": "white",
            "linecolor": "white",
            "ticks": ""
           },
           "bgcolor": "#E5ECF6",
           "radialaxis": {
            "gridcolor": "white",
            "linecolor": "white",
            "ticks": ""
           }
          },
          "scene": {
           "xaxis": {
            "backgroundcolor": "#E5ECF6",
            "gridcolor": "white",
            "gridwidth": 2,
            "linecolor": "white",
            "showbackground": true,
            "ticks": "",
            "zerolinecolor": "white"
           },
           "yaxis": {
            "backgroundcolor": "#E5ECF6",
            "gridcolor": "white",
            "gridwidth": 2,
            "linecolor": "white",
            "showbackground": true,
            "ticks": "",
            "zerolinecolor": "white"
           },
           "zaxis": {
            "backgroundcolor": "#E5ECF6",
            "gridcolor": "white",
            "gridwidth": 2,
            "linecolor": "white",
            "showbackground": true,
            "ticks": "",
            "zerolinecolor": "white"
           }
          },
          "shapedefaults": {
           "line": {
            "color": "#2a3f5f"
           }
          },
          "ternary": {
           "aaxis": {
            "gridcolor": "white",
            "linecolor": "white",
            "ticks": ""
           },
           "baxis": {
            "gridcolor": "white",
            "linecolor": "white",
            "ticks": ""
           },
           "bgcolor": "#E5ECF6",
           "caxis": {
            "gridcolor": "white",
            "linecolor": "white",
            "ticks": ""
           }
          },
          "title": {
           "x": 0.05
          },
          "xaxis": {
           "automargin": true,
           "gridcolor": "white",
           "linecolor": "white",
           "ticks": "",
           "title": {
            "standoff": 15
           },
           "zerolinecolor": "white",
           "zerolinewidth": 2
          },
          "yaxis": {
           "automargin": true,
           "gridcolor": "white",
           "linecolor": "white",
           "ticks": "",
           "title": {
            "standoff": 15
           },
           "zerolinecolor": "white",
           "zerolinewidth": 2
          }
         }
        },
        "xaxis": {
         "anchor": "y",
         "domain": [
          0,
          1
         ],
         "title": {
          "text": "Dia"
         }
        },
        "yaxis": {
         "anchor": "x",
         "domain": [
          0,
          1
         ],
         "title": {
          "text": "sum"
         }
        }
       }
      },
      "text/html": [
       "<div>                            <div id=\"163be096-2091-48c5-9189-289dfabd6424\" class=\"plotly-graph-div\" style=\"height:525px; width:100%;\"></div>            <script type=\"text/javascript\">                require([\"plotly\"], function(Plotly) {                    window.PLOTLYENV=window.PLOTLYENV || {};                                    if (document.getElementById(\"163be096-2091-48c5-9189-289dfabd6424\")) {                    Plotly.newPlot(                        \"163be096-2091-48c5-9189-289dfabd6424\",                        [{\"hovertemplate\":\"Dia=%{x}<br>sum=%{y}<extra></extra>\",\"legendgroup\":\"\",\"line\":{\"color\":\"#636efa\",\"dash\":\"solid\"},\"marker\":{\"symbol\":\"circle\"},\"mode\":\"lines\",\"name\":\"\",\"orientation\":\"v\",\"showlegend\":false,\"x\":[\"2020-11-03T00:00:00\",\"2020-11-04T00:00:00\",\"2020-11-05T00:00:00\",\"2020-11-10T00:00:00\",\"2020-11-11T00:00:00\",\"2020-11-12T00:00:00\",\"2020-11-17T00:00:00\",\"2020-11-18T00:00:00\",\"2020-11-19T00:00:00\",\"2020-11-23T00:00:00\",\"2020-11-24T00:00:00\",\"2020-11-25T00:00:00\",\"2020-11-26T00:00:00\",\"2020-11-30T00:00:00\",\"2020-12-01T00:00:00\",\"2020-12-02T00:00:00\",\"2020-12-03T00:00:00\",\"2020-12-09T00:00:00\",\"2020-12-10T00:00:00\",\"2020-12-14T00:00:00\",\"2020-12-15T00:00:00\",\"2020-12-16T00:00:00\",\"2020-12-17T00:00:00\",\"2021-01-18T00:00:00\",\"2021-01-19T00:00:00\",\"2021-01-20T00:00:00\",\"2021-01-21T00:00:00\",\"2021-01-25T00:00:00\",\"2021-01-26T00:00:00\",\"2021-01-27T00:00:00\",\"2021-01-28T00:00:00\",\"2021-02-01T00:00:00\",\"2021-02-02T00:00:00\",\"2021-02-03T00:00:00\",\"2021-02-04T00:00:00\",\"2021-02-08T00:00:00\",\"2021-02-09T00:00:00\",\"2021-02-10T00:00:00\",\"2021-02-11T00:00:00\",\"2021-02-15T00:00:00\",\"2021-02-16T00:00:00\",\"2021-02-17T00:00:00\",\"2021-02-18T00:00:00\",\"2021-02-22T00:00:00\",\"2021-02-23T00:00:00\",\"2021-02-24T00:00:00\",\"2021-02-25T00:00:00\",\"2021-03-01T00:00:00\",\"2021-03-02T00:00:00\",\"2021-03-03T00:00:00\",\"2021-03-04T00:00:00\",\"2021-03-08T00:00:00\",\"2021-03-09T00:00:00\",\"2021-03-10T00:00:00\",\"2021-03-11T00:00:00\",\"2021-03-12T00:00:00\",\"2021-03-15T00:00:00\",\"2021-03-16T00:00:00\",\"2021-03-17T00:00:00\",\"2021-03-18T00:00:00\",\"2021-03-22T00:00:00\",\"2021-03-23T00:00:00\",\"2021-03-24T00:00:00\",\"2021-03-25T00:00:00\",\"2021-03-26T00:00:00\",\"2021-04-05T00:00:00\",\"2021-04-06T00:00:00\",\"2021-04-07T00:00:00\",\"2021-04-08T00:00:00\",\"2021-04-09T00:00:00\",\"2021-04-12T00:00:00\",\"2021-04-13T00:00:00\",\"2021-04-14T00:00:00\",\"2021-04-15T00:00:00\",\"2021-04-16T00:00:00\",\"2021-04-19T00:00:00\",\"2021-04-20T00:00:00\",\"2021-04-21T00:00:00\",\"2021-04-22T00:00:00\",\"2021-04-23T00:00:00\",\"2021-04-28T00:00:00\",\"2021-05-05T00:00:00\",\"2021-05-06T00:00:00\",\"2021-05-07T00:00:00\",\"2021-05-10T00:00:00\",\"2021-05-11T00:00:00\",\"2021-05-12T00:00:00\",\"2021-05-13T00:00:00\",\"2021-05-14T00:00:00\",\"2021-05-17T00:00:00\",\"2021-05-18T00:00:00\",\"2021-05-19T00:00:00\",\"2021-05-20T00:00:00\",\"2021-05-21T00:00:00\",\"2021-06-22T00:00:00\",\"2021-06-23T00:00:00\",\"2021-06-24T00:00:00\",\"2021-06-25T00:00:00\",\"2021-06-28T00:00:00\",\"2021-06-29T00:00:00\",\"2021-06-30T00:00:00\",\"2021-07-05T00:00:00\",\"2021-07-07T00:00:00\",\"2021-07-12T00:00:00\",\"2021-09-15T00:00:00\",\"2021-09-16T00:00:00\",\"2021-09-22T00:00:00\",\"2021-09-23T00:00:00\",\"2021-09-29T00:00:00\",\"2021-09-30T00:00:00\",\"2021-10-06T00:00:00\",\"2021-10-07T00:00:00\",\"2021-10-08T00:00:00\",\"2021-10-13T00:00:00\",\"2021-10-14T00:00:00\",\"2021-10-19T00:00:00\",\"2021-10-20T00:00:00\",\"2021-10-21T00:00:00\",\"2021-10-26T00:00:00\",\"2021-10-27T00:00:00\",\"2021-10-28T00:00:00\",\"2021-11-02T00:00:00\",\"2021-11-03T00:00:00\",\"2021-11-04T00:00:00\",\"2021-11-10T00:00:00\",\"2021-11-11T00:00:00\",\"2021-11-16T00:00:00\",\"2021-11-17T00:00:00\",\"2021-11-18T00:00:00\",\"2021-11-23T00:00:00\",\"2021-11-24T00:00:00\",\"2021-11-25T00:00:00\",\"2021-11-30T00:00:00\",\"2021-12-01T00:00:00\",\"2021-12-02T00:00:00\",\"2021-12-09T00:00:00\",\"2021-12-14T00:00:00\",\"2021-12-15T00:00:00\",\"2021-12-16T00:00:00\",\"2022-01-11T00:00:00\",\"2022-01-12T00:00:00\",\"2022-01-13T00:00:00\",\"2022-01-18T00:00:00\",\"2022-01-19T00:00:00\",\"2022-01-20T00:00:00\",\"2022-01-26T00:00:00\",\"2022-01-27T00:00:00\",\"2022-02-01T00:00:00\",\"2022-02-02T00:00:00\",\"2022-02-03T00:00:00\",\"2022-02-07T00:00:00\",\"2022-02-08T00:00:00\",\"2022-02-09T00:00:00\",\"2022-02-10T00:00:00\",\"2022-02-14T00:00:00\",\"2022-02-15T00:00:00\",\"2022-02-16T00:00:00\",\"2022-02-17T00:00:00\",\"2022-02-21T00:00:00\",\"2022-02-22T00:00:00\",\"2022-02-23T00:00:00\",\"2022-02-24T00:00:00\",\"2022-02-28T00:00:00\",\"2022-03-01T00:00:00\",\"2022-03-02T00:00:00\",\"2022-03-03T00:00:00\",\"2022-03-07T00:00:00\",\"2022-03-08T00:00:00\"],\"xaxis\":\"x\",\"y\":[25.5,13.600000381469727,11.100000381469727,26.600000381469727,12.800000190734863,23.100000381469727,16.200000762939453,14.5,58.900001525878906,48.0,33.099998474121094,27.899999618530273,49.400001525878906,52.599998474121094,29.399999618530273,14.600000381469727,117.30000305175781,43.29999923706055,87.5999984741211,26.0,32.099998474121094,39.70000076293945,73.5,17.0,11.0,44.20000076293945,156.60000610351562,26.799999237060547,15.600000381469727,30.600000381469727,67.9000015258789,51.79999923706055,24.5,54.20000076293945,76.5,47.099998474121094,31.399999618530273,22.399999618530273,13.199999809265137,49.70000076293945,5.400000095367432,31.399999618530273,89.0,25.0,71.9000015258789,41.20000076293945,119.30000305175781,72.0,21.80000114440918,33.5,145.0,43.79999923706055,35.20000076293945,9.600000381469727,16.80000114440918,12.800000190734863,47.20000076293945,22.600000381469727,87.80000305175781,0.800000011920929,55.400001525878906,50.10000228881836,40.5,29.5,98.70000457763672,74.19999694824219,85.4000015258789,54.79999923706055,42.5,11.40000057220459,85.80000305175781,118.4000015258789,98.9000015258789,57.099998474121094,64.0,55.0,57.900001525878906,27.299999237060547,164.1999969482422,74.9000015258789,11.5,60.900001525878906,120.0,132.60000610351562,50.29999923706055,79.0,74.19999694824219,81.9000015258789,19.80000114440918,105.30000305175781,55.29999923706055,46.79999923706055,110.19999694824219,91.0999984741211,55.60000228881836,40.5,47.20000076293945,155.1999969482422,108.5,83.0999984741211,31.100000381469727,38.5,33.0,24.5,24.100000381469727,38.20000076293945,19.399999618530273,124.5999984741211,45.60000228881836,31.5,106.20000457763672,75.5,30.0,114.4000015258789,69.80000305175781,25.0,106.0,91.9000015258789,30.399999618530273,74.4000015258789,21.80000114440918,59.70000076293945,46.79999923706055,85.4000015258789,52.099998474121094,110.0,20.0,55.0,86.30000305175781,49.60000228881836,90.9000015258789,47.0,39.29999923706055,39.5,53.5,125.0999984741211,46.70000076293945,156.3000030517578,63.20000076293945,32.5,42.599998474121094,57.10000228881836,38.400001525878906,59.400001525878906,145.0,34.60000228881836,38.20000076293945,113.9000015258789,29.200000762939453,122.30000305175781,15.600000381469727,132.0,19.600000381469727,45.400001525878906,120.5,48.5,50.900001525878906,174.5,31.899999618530273,135.10000610351562,40.900001525878906,50.70000076293945,131.39999389648438,38.400001525878906,47.20000076293945,46.400001525878906,58.70000076293945,15.40000057220459],\"yaxis\":\"y\",\"type\":\"scatter\"}],                        {\"template\":{\"data\":{\"bar\":[{\"error_x\":{\"color\":\"#2a3f5f\"},\"error_y\":{\"color\":\"#2a3f5f\"},\"marker\":{\"line\":{\"color\":\"#E5ECF6\",\"width\":0.5},\"pattern\":{\"fillmode\":\"overlay\",\"size\":10,\"solidity\":0.2}},\"type\":\"bar\"}],\"barpolar\":[{\"marker\":{\"line\":{\"color\":\"#E5ECF6\",\"width\":0.5},\"pattern\":{\"fillmode\":\"overlay\",\"size\":10,\"solidity\":0.2}},\"type\":\"barpolar\"}],\"carpet\":[{\"aaxis\":{\"endlinecolor\":\"#2a3f5f\",\"gridcolor\":\"white\",\"linecolor\":\"white\",\"minorgridcolor\":\"white\",\"startlinecolor\":\"#2a3f5f\"},\"baxis\":{\"endlinecolor\":\"#2a3f5f\",\"gridcolor\":\"white\",\"linecolor\":\"white\",\"minorgridcolor\":\"white\",\"startlinecolor\":\"#2a3f5f\"},\"type\":\"carpet\"}],\"choropleth\":[{\"colorbar\":{\"outlinewidth\":0,\"ticks\":\"\"},\"type\":\"choropleth\"}],\"contour\":[{\"colorbar\":{\"outlinewidth\":0,\"ticks\":\"\"},\"colorscale\":[[0.0,\"#0d0887\"],[0.1111111111111111,\"#46039f\"],[0.2222222222222222,\"#7201a8\"],[0.3333333333333333,\"#9c179e\"],[0.4444444444444444,\"#bd3786\"],[0.5555555555555556,\"#d8576b\"],[0.6666666666666666,\"#ed7953\"],[0.7777777777777778,\"#fb9f3a\"],[0.8888888888888888,\"#fdca26\"],[1.0,\"#f0f921\"]],\"type\":\"contour\"}],\"contourcarpet\":[{\"colorbar\":{\"outlinewidth\":0,\"ticks\":\"\"},\"type\":\"contourcarpet\"}],\"heatmap\":[{\"colorbar\":{\"outlinewidth\":0,\"ticks\":\"\"},\"colorscale\":[[0.0,\"#0d0887\"],[0.1111111111111111,\"#46039f\"],[0.2222222222222222,\"#7201a8\"],[0.3333333333333333,\"#9c179e\"],[0.4444444444444444,\"#bd3786\"],[0.5555555555555556,\"#d8576b\"],[0.6666666666666666,\"#ed7953\"],[0.7777777777777778,\"#fb9f3a\"],[0.8888888888888888,\"#fdca26\"],[1.0,\"#f0f921\"]],\"type\":\"heatmap\"}],\"heatmapgl\":[{\"colorbar\":{\"outlinewidth\":0,\"ticks\":\"\"},\"colorscale\":[[0.0,\"#0d0887\"],[0.1111111111111111,\"#46039f\"],[0.2222222222222222,\"#7201a8\"],[0.3333333333333333,\"#9c179e\"],[0.4444444444444444,\"#bd3786\"],[0.5555555555555556,\"#d8576b\"],[0.6666666666666666,\"#ed7953\"],[0.7777777777777778,\"#fb9f3a\"],[0.8888888888888888,\"#fdca26\"],[1.0,\"#f0f921\"]],\"type\":\"heatmapgl\"}],\"histogram\":[{\"marker\":{\"pattern\":{\"fillmode\":\"overlay\",\"size\":10,\"solidity\":0.2}},\"type\":\"histogram\"}],\"histogram2d\":[{\"colorbar\":{\"outlinewidth\":0,\"ticks\":\"\"},\"colorscale\":[[0.0,\"#0d0887\"],[0.1111111111111111,\"#46039f\"],[0.2222222222222222,\"#7201a8\"],[0.3333333333333333,\"#9c179e\"],[0.4444444444444444,\"#bd3786\"],[0.5555555555555556,\"#d8576b\"],[0.6666666666666666,\"#ed7953\"],[0.7777777777777778,\"#fb9f3a\"],[0.8888888888888888,\"#fdca26\"],[1.0,\"#f0f921\"]],\"type\":\"histogram2d\"}],\"histogram2dcontour\":[{\"colorbar\":{\"outlinewidth\":0,\"ticks\":\"\"},\"colorscale\":[[0.0,\"#0d0887\"],[0.1111111111111111,\"#46039f\"],[0.2222222222222222,\"#7201a8\"],[0.3333333333333333,\"#9c179e\"],[0.4444444444444444,\"#bd3786\"],[0.5555555555555556,\"#d8576b\"],[0.6666666666666666,\"#ed7953\"],[0.7777777777777778,\"#fb9f3a\"],[0.8888888888888888,\"#fdca26\"],[1.0,\"#f0f921\"]],\"type\":\"histogram2dcontour\"}],\"mesh3d\":[{\"colorbar\":{\"outlinewidth\":0,\"ticks\":\"\"},\"type\":\"mesh3d\"}],\"parcoords\":[{\"line\":{\"colorbar\":{\"outlinewidth\":0,\"ticks\":\"\"}},\"type\":\"parcoords\"}],\"pie\":[{\"automargin\":true,\"type\":\"pie\"}],\"scatter\":[{\"marker\":{\"colorbar\":{\"outlinewidth\":0,\"ticks\":\"\"}},\"type\":\"scatter\"}],\"scatter3d\":[{\"line\":{\"colorbar\":{\"outlinewidth\":0,\"ticks\":\"\"}},\"marker\":{\"colorbar\":{\"outlinewidth\":0,\"ticks\":\"\"}},\"type\":\"scatter3d\"}],\"scattercarpet\":[{\"marker\":{\"colorbar\":{\"outlinewidth\":0,\"ticks\":\"\"}},\"type\":\"scattercarpet\"}],\"scattergeo\":[{\"marker\":{\"colorbar\":{\"outlinewidth\":0,\"ticks\":\"\"}},\"type\":\"scattergeo\"}],\"scattergl\":[{\"marker\":{\"colorbar\":{\"outlinewidth\":0,\"ticks\":\"\"}},\"type\":\"scattergl\"}],\"scattermapbox\":[{\"marker\":{\"colorbar\":{\"outlinewidth\":0,\"ticks\":\"\"}},\"type\":\"scattermapbox\"}],\"scatterpolar\":[{\"marker\":{\"colorbar\":{\"outlinewidth\":0,\"ticks\":\"\"}},\"type\":\"scatterpolar\"}],\"scatterpolargl\":[{\"marker\":{\"colorbar\":{\"outlinewidth\":0,\"ticks\":\"\"}},\"type\":\"scatterpolargl\"}],\"scatterternary\":[{\"marker\":{\"colorbar\":{\"outlinewidth\":0,\"ticks\":\"\"}},\"type\":\"scatterternary\"}],\"surface\":[{\"colorbar\":{\"outlinewidth\":0,\"ticks\":\"\"},\"colorscale\":[[0.0,\"#0d0887\"],[0.1111111111111111,\"#46039f\"],[0.2222222222222222,\"#7201a8\"],[0.3333333333333333,\"#9c179e\"],[0.4444444444444444,\"#bd3786\"],[0.5555555555555556,\"#d8576b\"],[0.6666666666666666,\"#ed7953\"],[0.7777777777777778,\"#fb9f3a\"],[0.8888888888888888,\"#fdca26\"],[1.0,\"#f0f921\"]],\"type\":\"surface\"}],\"table\":[{\"cells\":{\"fill\":{\"color\":\"#EBF0F8\"},\"line\":{\"color\":\"white\"}},\"header\":{\"fill\":{\"color\":\"#C8D4E3\"},\"line\":{\"color\":\"white\"}},\"type\":\"table\"}]},\"layout\":{\"annotationdefaults\":{\"arrowcolor\":\"#2a3f5f\",\"arrowhead\":0,\"arrowwidth\":1},\"autotypenumbers\":\"strict\",\"coloraxis\":{\"colorbar\":{\"outlinewidth\":0,\"ticks\":\"\"}},\"colorscale\":{\"diverging\":[[0,\"#8e0152\"],[0.1,\"#c51b7d\"],[0.2,\"#de77ae\"],[0.3,\"#f1b6da\"],[0.4,\"#fde0ef\"],[0.5,\"#f7f7f7\"],[0.6,\"#e6f5d0\"],[0.7,\"#b8e186\"],[0.8,\"#7fbc41\"],[0.9,\"#4d9221\"],[1,\"#276419\"]],\"sequential\":[[0.0,\"#0d0887\"],[0.1111111111111111,\"#46039f\"],[0.2222222222222222,\"#7201a8\"],[0.3333333333333333,\"#9c179e\"],[0.4444444444444444,\"#bd3786\"],[0.5555555555555556,\"#d8576b\"],[0.6666666666666666,\"#ed7953\"],[0.7777777777777778,\"#fb9f3a\"],[0.8888888888888888,\"#fdca26\"],[1.0,\"#f0f921\"]],\"sequentialminus\":[[0.0,\"#0d0887\"],[0.1111111111111111,\"#46039f\"],[0.2222222222222222,\"#7201a8\"],[0.3333333333333333,\"#9c179e\"],[0.4444444444444444,\"#bd3786\"],[0.5555555555555556,\"#d8576b\"],[0.6666666666666666,\"#ed7953\"],[0.7777777777777778,\"#fb9f3a\"],[0.8888888888888888,\"#fdca26\"],[1.0,\"#f0f921\"]]},\"colorway\":[\"#636efa\",\"#EF553B\",\"#00cc96\",\"#ab63fa\",\"#FFA15A\",\"#19d3f3\",\"#FF6692\",\"#B6E880\",\"#FF97FF\",\"#FECB52\"],\"font\":{\"color\":\"#2a3f5f\"},\"geo\":{\"bgcolor\":\"white\",\"lakecolor\":\"white\",\"landcolor\":\"#E5ECF6\",\"showlakes\":true,\"showland\":true,\"subunitcolor\":\"white\"},\"hoverlabel\":{\"align\":\"left\"},\"hovermode\":\"closest\",\"mapbox\":{\"style\":\"light\"},\"paper_bgcolor\":\"white\",\"plot_bgcolor\":\"#E5ECF6\",\"polar\":{\"angularaxis\":{\"gridcolor\":\"white\",\"linecolor\":\"white\",\"ticks\":\"\"},\"bgcolor\":\"#E5ECF6\",\"radialaxis\":{\"gridcolor\":\"white\",\"linecolor\":\"white\",\"ticks\":\"\"}},\"scene\":{\"xaxis\":{\"backgroundcolor\":\"#E5ECF6\",\"gridcolor\":\"white\",\"gridwidth\":2,\"linecolor\":\"white\",\"showbackground\":true,\"ticks\":\"\",\"zerolinecolor\":\"white\"},\"yaxis\":{\"backgroundcolor\":\"#E5ECF6\",\"gridcolor\":\"white\",\"gridwidth\":2,\"linecolor\":\"white\",\"showbackground\":true,\"ticks\":\"\",\"zerolinecolor\":\"white\"},\"zaxis\":{\"backgroundcolor\":\"#E5ECF6\",\"gridcolor\":\"white\",\"gridwidth\":2,\"linecolor\":\"white\",\"showbackground\":true,\"ticks\":\"\",\"zerolinecolor\":\"white\"}},\"shapedefaults\":{\"line\":{\"color\":\"#2a3f5f\"}},\"ternary\":{\"aaxis\":{\"gridcolor\":\"white\",\"linecolor\":\"white\",\"ticks\":\"\"},\"baxis\":{\"gridcolor\":\"white\",\"linecolor\":\"white\",\"ticks\":\"\"},\"bgcolor\":\"#E5ECF6\",\"caxis\":{\"gridcolor\":\"white\",\"linecolor\":\"white\",\"ticks\":\"\"}},\"title\":{\"x\":0.05},\"xaxis\":{\"automargin\":true,\"gridcolor\":\"white\",\"linecolor\":\"white\",\"ticks\":\"\",\"title\":{\"standoff\":15},\"zerolinecolor\":\"white\",\"zerolinewidth\":2},\"yaxis\":{\"automargin\":true,\"gridcolor\":\"white\",\"linecolor\":\"white\",\"ticks\":\"\",\"title\":{\"standoff\":15},\"zerolinecolor\":\"white\",\"zerolinewidth\":2}}},\"xaxis\":{\"anchor\":\"y\",\"domain\":[0.0,1.0],\"title\":{\"text\":\"Dia\"}},\"yaxis\":{\"anchor\":\"x\",\"domain\":[0.0,1.0],\"title\":{\"text\":\"sum\"}},\"legend\":{\"tracegroupgap\":0},\"margin\":{\"t\":60}},                        {\"responsive\": true}                    ).then(function(){\n",
       "                            \n",
       "var gd = document.getElementById('163be096-2091-48c5-9189-289dfabd6424');\n",
       "var x = new MutationObserver(function (mutations, observer) {{\n",
       "        var display = window.getComputedStyle(gd).display;\n",
       "        if (!display || display === 'none') {{\n",
       "            console.log([gd, 'removed!']);\n",
       "            Plotly.purge(gd);\n",
       "            observer.disconnect();\n",
       "        }}\n",
       "}});\n",
       "\n",
       "// Listen for the removal of the full notebook cells\n",
       "var notebookContainer = gd.closest('#notebook-container');\n",
       "if (notebookContainer) {{\n",
       "    x.observe(notebookContainer, {childList: true});\n",
       "}}\n",
       "\n",
       "// Listen for the clearing of the current output cell\n",
       "var outputEl = gd.closest('.output');\n",
       "if (outputEl) {{\n",
       "    x.observe(outputEl, {childList: true});\n",
       "}}\n",
       "\n",
       "                        })                };                });            </script>        </div>"
      ]
     },
     "metadata": {},
     "output_type": "display_data"
    }
   ],
   "source": [
    "fig = px.line(suma_dias, x=suma_dias.index, y=\"sum\")\n",
    "fig.show()"
   ]
  },
  {
   "cell_type": "code",
   "execution_count": 18,
   "id": "3edc9ccc",
   "metadata": {},
   "outputs": [
    {
     "name": "stderr",
     "output_type": "stream",
     "text": [
      "/tmp/ipykernel_34660/692831879.py:2: UserWarning:\n",
      "\n",
      "Boolean Series key will be reindexed to match DataFrame index.\n",
      "\n"
     ]
    },
    {
     "data": {
      "text/html": [
       "<div>\n",
       "<style scoped>\n",
       "    .dataframe tbody tr th:only-of-type {\n",
       "        vertical-align: middle;\n",
       "    }\n",
       "\n",
       "    .dataframe tbody tr th {\n",
       "        vertical-align: top;\n",
       "    }\n",
       "\n",
       "    .dataframe thead th {\n",
       "        text-align: right;\n",
       "    }\n",
       "</style>\n",
       "<table border=\"1\" class=\"dataframe\">\n",
       "  <thead>\n",
       "    <tr style=\"text-align: right;\">\n",
       "      <th></th>\n",
       "      <th>Fecha Hora</th>\n",
       "      <th>ID Donantes</th>\n",
       "      <th>Raciones rescatadas</th>\n",
       "      <th>Kilos rescatados</th>\n",
       "      <th>Dia</th>\n",
       "      <th>Mes</th>\n",
       "      <th>Nombres</th>\n",
       "    </tr>\n",
       "  </thead>\n",
       "  <tbody>\n",
       "  </tbody>\n",
       "</table>\n",
       "</div>"
      ],
      "text/plain": [
       "Empty DataFrame\n",
       "Columns: [Fecha Hora, ID Donantes, Raciones rescatadas, Kilos rescatados, Dia, Mes, Nombres]\n",
       "Index: []"
      ]
     },
     "execution_count": 18,
     "metadata": {},
     "output_type": "execute_result"
    }
   ],
   "source": [
    "df_erroneos = df2[df2['Dia'].dt.month >= 4]\n",
    "df_erroneos = df_erroneos[df2['Dia'].dt.year == 2022]\n",
    "df_erroneos"
   ]
  },
  {
   "cell_type": "code",
   "execution_count": 19,
   "id": "eff1f84e",
   "metadata": {},
   "outputs": [
    {
     "data": {
      "text/html": [
       "<div>\n",
       "<style scoped>\n",
       "    .dataframe tbody tr th:only-of-type {\n",
       "        vertical-align: middle;\n",
       "    }\n",
       "\n",
       "    .dataframe tbody tr th {\n",
       "        vertical-align: top;\n",
       "    }\n",
       "\n",
       "    .dataframe thead th {\n",
       "        text-align: right;\n",
       "    }\n",
       "</style>\n",
       "<table border=\"1\" class=\"dataframe\">\n",
       "  <thead>\n",
       "    <tr style=\"text-align: right;\">\n",
       "      <th></th>\n",
       "      <th>sum</th>\n",
       "    </tr>\n",
       "    <tr>\n",
       "      <th>Mes</th>\n",
       "      <th></th>\n",
       "    </tr>\n",
       "  </thead>\n",
       "  <tbody>\n",
       "    <tr>\n",
       "      <th>2020-11</th>\n",
       "      <td>1195.5</td>\n",
       "    </tr>\n",
       "    <tr>\n",
       "      <th>2020-12</th>\n",
       "      <td>1220.0</td>\n",
       "    </tr>\n",
       "    <tr>\n",
       "      <th>2021-01</th>\n",
       "      <td>978.5</td>\n",
       "    </tr>\n",
       "    <tr>\n",
       "      <th>2021-02</th>\n",
       "      <td>1953.0</td>\n",
       "    </tr>\n",
       "    <tr>\n",
       "      <th>2021-03</th>\n",
       "      <td>2469.5</td>\n",
       "    </tr>\n",
       "  </tbody>\n",
       "</table>\n",
       "</div>"
      ],
      "text/plain": [
       "            sum\n",
       "Mes            \n",
       "2020-11  1195.5\n",
       "2020-12  1220.0\n",
       "2021-01   978.5\n",
       "2021-02  1953.0\n",
       "2021-03  2469.5"
      ]
     },
     "execution_count": 19,
     "metadata": {},
     "output_type": "execute_result"
    }
   ],
   "source": [
    "suma_meses = df2.groupby('Mes')['Raciones rescatadas'].agg(['sum'])\n",
    "suma_meses.head()"
   ]
  },
  {
   "cell_type": "code",
   "execution_count": 20,
   "id": "035465a5",
   "metadata": {},
   "outputs": [
    {
     "data": {
      "text/html": [
       "<div>\n",
       "<style scoped>\n",
       "    .dataframe tbody tr th:only-of-type {\n",
       "        vertical-align: middle;\n",
       "    }\n",
       "\n",
       "    .dataframe tbody tr th {\n",
       "        vertical-align: top;\n",
       "    }\n",
       "\n",
       "    .dataframe thead th {\n",
       "        text-align: right;\n",
       "    }\n",
       "</style>\n",
       "<table border=\"1\" class=\"dataframe\">\n",
       "  <thead>\n",
       "    <tr style=\"text-align: right;\">\n",
       "      <th></th>\n",
       "      <th>sum</th>\n",
       "      <th>index_col</th>\n",
       "    </tr>\n",
       "    <tr>\n",
       "      <th>Mes</th>\n",
       "      <th></th>\n",
       "      <th></th>\n",
       "    </tr>\n",
       "  </thead>\n",
       "  <tbody>\n",
       "    <tr>\n",
       "      <th>2020-11</th>\n",
       "      <td>1195.5</td>\n",
       "      <td>2020-11</td>\n",
       "    </tr>\n",
       "    <tr>\n",
       "      <th>2020-12</th>\n",
       "      <td>1220.0</td>\n",
       "      <td>2020-12</td>\n",
       "    </tr>\n",
       "    <tr>\n",
       "      <th>2021-01</th>\n",
       "      <td>978.5</td>\n",
       "      <td>2021-01</td>\n",
       "    </tr>\n",
       "    <tr>\n",
       "      <th>2021-02</th>\n",
       "      <td>1953.0</td>\n",
       "      <td>2021-02</td>\n",
       "    </tr>\n",
       "    <tr>\n",
       "      <th>2021-03</th>\n",
       "      <td>2469.5</td>\n",
       "      <td>2021-03</td>\n",
       "    </tr>\n",
       "  </tbody>\n",
       "</table>\n",
       "</div>"
      ],
      "text/plain": [
       "            sum index_col\n",
       "Mes                      \n",
       "2020-11  1195.5   2020-11\n",
       "2020-12  1220.0   2020-12\n",
       "2021-01   978.5   2021-01\n",
       "2021-02  1953.0   2021-02\n",
       "2021-03  2469.5   2021-03"
      ]
     },
     "execution_count": 20,
     "metadata": {},
     "output_type": "execute_result"
    }
   ],
   "source": [
    "suma_meses['index_col'] = suma_meses.index.strftime(\"%Y-%m\")\n",
    "suma_meses.head()"
   ]
  },
  {
   "cell_type": "code",
   "execution_count": 21,
   "id": "f13c45d9",
   "metadata": {},
   "outputs": [
    {
     "data": {
      "application/vnd.plotly.v1+json": {
       "config": {
        "plotlyServerURL": "https://plot.ly"
       },
       "data": [
        {
         "hovertemplate": "index_col=%{x}<br>sum=%{y}<extra></extra>",
         "legendgroup": "",
         "line": {
          "color": "#636efa",
          "dash": "solid"
         },
         "marker": {
          "symbol": "circle"
         },
         "mode": "lines",
         "name": "",
         "orientation": "v",
         "showlegend": false,
         "type": "scatter",
         "x": [
          "2020-11",
          "2020-12",
          "2021-01",
          "2021-02",
          "2021-03",
          "2021-04",
          "2021-05",
          "2021-06",
          "2021-07",
          "2021-09",
          "2021-10",
          "2021-11",
          "2021-12",
          "2022-01",
          "2022-02",
          "2022-03"
         ],
         "xaxis": "x",
         "y": [
          1195.5,
          1220,
          978.5,
          1953,
          2469.5,
          3012.5,
          3025,
          1491,
          341,
          929.5,
          2371.5,
          2570,
          1298,
          1678.5,
          3586,
          686
         ],
         "yaxis": "y"
        }
       ],
       "layout": {
        "legend": {
         "tracegroupgap": 0
        },
        "margin": {
         "t": 60
        },
        "template": {
         "data": {
          "bar": [
           {
            "error_x": {
             "color": "#2a3f5f"
            },
            "error_y": {
             "color": "#2a3f5f"
            },
            "marker": {
             "line": {
              "color": "#E5ECF6",
              "width": 0.5
             },
             "pattern": {
              "fillmode": "overlay",
              "size": 10,
              "solidity": 0.2
             }
            },
            "type": "bar"
           }
          ],
          "barpolar": [
           {
            "marker": {
             "line": {
              "color": "#E5ECF6",
              "width": 0.5
             },
             "pattern": {
              "fillmode": "overlay",
              "size": 10,
              "solidity": 0.2
             }
            },
            "type": "barpolar"
           }
          ],
          "carpet": [
           {
            "aaxis": {
             "endlinecolor": "#2a3f5f",
             "gridcolor": "white",
             "linecolor": "white",
             "minorgridcolor": "white",
             "startlinecolor": "#2a3f5f"
            },
            "baxis": {
             "endlinecolor": "#2a3f5f",
             "gridcolor": "white",
             "linecolor": "white",
             "minorgridcolor": "white",
             "startlinecolor": "#2a3f5f"
            },
            "type": "carpet"
           }
          ],
          "choropleth": [
           {
            "colorbar": {
             "outlinewidth": 0,
             "ticks": ""
            },
            "type": "choropleth"
           }
          ],
          "contour": [
           {
            "colorbar": {
             "outlinewidth": 0,
             "ticks": ""
            },
            "colorscale": [
             [
              0,
              "#0d0887"
             ],
             [
              0.1111111111111111,
              "#46039f"
             ],
             [
              0.2222222222222222,
              "#7201a8"
             ],
             [
              0.3333333333333333,
              "#9c179e"
             ],
             [
              0.4444444444444444,
              "#bd3786"
             ],
             [
              0.5555555555555556,
              "#d8576b"
             ],
             [
              0.6666666666666666,
              "#ed7953"
             ],
             [
              0.7777777777777778,
              "#fb9f3a"
             ],
             [
              0.8888888888888888,
              "#fdca26"
             ],
             [
              1,
              "#f0f921"
             ]
            ],
            "type": "contour"
           }
          ],
          "contourcarpet": [
           {
            "colorbar": {
             "outlinewidth": 0,
             "ticks": ""
            },
            "type": "contourcarpet"
           }
          ],
          "heatmap": [
           {
            "colorbar": {
             "outlinewidth": 0,
             "ticks": ""
            },
            "colorscale": [
             [
              0,
              "#0d0887"
             ],
             [
              0.1111111111111111,
              "#46039f"
             ],
             [
              0.2222222222222222,
              "#7201a8"
             ],
             [
              0.3333333333333333,
              "#9c179e"
             ],
             [
              0.4444444444444444,
              "#bd3786"
             ],
             [
              0.5555555555555556,
              "#d8576b"
             ],
             [
              0.6666666666666666,
              "#ed7953"
             ],
             [
              0.7777777777777778,
              "#fb9f3a"
             ],
             [
              0.8888888888888888,
              "#fdca26"
             ],
             [
              1,
              "#f0f921"
             ]
            ],
            "type": "heatmap"
           }
          ],
          "heatmapgl": [
           {
            "colorbar": {
             "outlinewidth": 0,
             "ticks": ""
            },
            "colorscale": [
             [
              0,
              "#0d0887"
             ],
             [
              0.1111111111111111,
              "#46039f"
             ],
             [
              0.2222222222222222,
              "#7201a8"
             ],
             [
              0.3333333333333333,
              "#9c179e"
             ],
             [
              0.4444444444444444,
              "#bd3786"
             ],
             [
              0.5555555555555556,
              "#d8576b"
             ],
             [
              0.6666666666666666,
              "#ed7953"
             ],
             [
              0.7777777777777778,
              "#fb9f3a"
             ],
             [
              0.8888888888888888,
              "#fdca26"
             ],
             [
              1,
              "#f0f921"
             ]
            ],
            "type": "heatmapgl"
           }
          ],
          "histogram": [
           {
            "marker": {
             "pattern": {
              "fillmode": "overlay",
              "size": 10,
              "solidity": 0.2
             }
            },
            "type": "histogram"
           }
          ],
          "histogram2d": [
           {
            "colorbar": {
             "outlinewidth": 0,
             "ticks": ""
            },
            "colorscale": [
             [
              0,
              "#0d0887"
             ],
             [
              0.1111111111111111,
              "#46039f"
             ],
             [
              0.2222222222222222,
              "#7201a8"
             ],
             [
              0.3333333333333333,
              "#9c179e"
             ],
             [
              0.4444444444444444,
              "#bd3786"
             ],
             [
              0.5555555555555556,
              "#d8576b"
             ],
             [
              0.6666666666666666,
              "#ed7953"
             ],
             [
              0.7777777777777778,
              "#fb9f3a"
             ],
             [
              0.8888888888888888,
              "#fdca26"
             ],
             [
              1,
              "#f0f921"
             ]
            ],
            "type": "histogram2d"
           }
          ],
          "histogram2dcontour": [
           {
            "colorbar": {
             "outlinewidth": 0,
             "ticks": ""
            },
            "colorscale": [
             [
              0,
              "#0d0887"
             ],
             [
              0.1111111111111111,
              "#46039f"
             ],
             [
              0.2222222222222222,
              "#7201a8"
             ],
             [
              0.3333333333333333,
              "#9c179e"
             ],
             [
              0.4444444444444444,
              "#bd3786"
             ],
             [
              0.5555555555555556,
              "#d8576b"
             ],
             [
              0.6666666666666666,
              "#ed7953"
             ],
             [
              0.7777777777777778,
              "#fb9f3a"
             ],
             [
              0.8888888888888888,
              "#fdca26"
             ],
             [
              1,
              "#f0f921"
             ]
            ],
            "type": "histogram2dcontour"
           }
          ],
          "mesh3d": [
           {
            "colorbar": {
             "outlinewidth": 0,
             "ticks": ""
            },
            "type": "mesh3d"
           }
          ],
          "parcoords": [
           {
            "line": {
             "colorbar": {
              "outlinewidth": 0,
              "ticks": ""
             }
            },
            "type": "parcoords"
           }
          ],
          "pie": [
           {
            "automargin": true,
            "type": "pie"
           }
          ],
          "scatter": [
           {
            "marker": {
             "colorbar": {
              "outlinewidth": 0,
              "ticks": ""
             }
            },
            "type": "scatter"
           }
          ],
          "scatter3d": [
           {
            "line": {
             "colorbar": {
              "outlinewidth": 0,
              "ticks": ""
             }
            },
            "marker": {
             "colorbar": {
              "outlinewidth": 0,
              "ticks": ""
             }
            },
            "type": "scatter3d"
           }
          ],
          "scattercarpet": [
           {
            "marker": {
             "colorbar": {
              "outlinewidth": 0,
              "ticks": ""
             }
            },
            "type": "scattercarpet"
           }
          ],
          "scattergeo": [
           {
            "marker": {
             "colorbar": {
              "outlinewidth": 0,
              "ticks": ""
             }
            },
            "type": "scattergeo"
           }
          ],
          "scattergl": [
           {
            "marker": {
             "colorbar": {
              "outlinewidth": 0,
              "ticks": ""
             }
            },
            "type": "scattergl"
           }
          ],
          "scattermapbox": [
           {
            "marker": {
             "colorbar": {
              "outlinewidth": 0,
              "ticks": ""
             }
            },
            "type": "scattermapbox"
           }
          ],
          "scatterpolar": [
           {
            "marker": {
             "colorbar": {
              "outlinewidth": 0,
              "ticks": ""
             }
            },
            "type": "scatterpolar"
           }
          ],
          "scatterpolargl": [
           {
            "marker": {
             "colorbar": {
              "outlinewidth": 0,
              "ticks": ""
             }
            },
            "type": "scatterpolargl"
           }
          ],
          "scatterternary": [
           {
            "marker": {
             "colorbar": {
              "outlinewidth": 0,
              "ticks": ""
             }
            },
            "type": "scatterternary"
           }
          ],
          "surface": [
           {
            "colorbar": {
             "outlinewidth": 0,
             "ticks": ""
            },
            "colorscale": [
             [
              0,
              "#0d0887"
             ],
             [
              0.1111111111111111,
              "#46039f"
             ],
             [
              0.2222222222222222,
              "#7201a8"
             ],
             [
              0.3333333333333333,
              "#9c179e"
             ],
             [
              0.4444444444444444,
              "#bd3786"
             ],
             [
              0.5555555555555556,
              "#d8576b"
             ],
             [
              0.6666666666666666,
              "#ed7953"
             ],
             [
              0.7777777777777778,
              "#fb9f3a"
             ],
             [
              0.8888888888888888,
              "#fdca26"
             ],
             [
              1,
              "#f0f921"
             ]
            ],
            "type": "surface"
           }
          ],
          "table": [
           {
            "cells": {
             "fill": {
              "color": "#EBF0F8"
             },
             "line": {
              "color": "white"
             }
            },
            "header": {
             "fill": {
              "color": "#C8D4E3"
             },
             "line": {
              "color": "white"
             }
            },
            "type": "table"
           }
          ]
         },
         "layout": {
          "annotationdefaults": {
           "arrowcolor": "#2a3f5f",
           "arrowhead": 0,
           "arrowwidth": 1
          },
          "autotypenumbers": "strict",
          "coloraxis": {
           "colorbar": {
            "outlinewidth": 0,
            "ticks": ""
           }
          },
          "colorscale": {
           "diverging": [
            [
             0,
             "#8e0152"
            ],
            [
             0.1,
             "#c51b7d"
            ],
            [
             0.2,
             "#de77ae"
            ],
            [
             0.3,
             "#f1b6da"
            ],
            [
             0.4,
             "#fde0ef"
            ],
            [
             0.5,
             "#f7f7f7"
            ],
            [
             0.6,
             "#e6f5d0"
            ],
            [
             0.7,
             "#b8e186"
            ],
            [
             0.8,
             "#7fbc41"
            ],
            [
             0.9,
             "#4d9221"
            ],
            [
             1,
             "#276419"
            ]
           ],
           "sequential": [
            [
             0,
             "#0d0887"
            ],
            [
             0.1111111111111111,
             "#46039f"
            ],
            [
             0.2222222222222222,
             "#7201a8"
            ],
            [
             0.3333333333333333,
             "#9c179e"
            ],
            [
             0.4444444444444444,
             "#bd3786"
            ],
            [
             0.5555555555555556,
             "#d8576b"
            ],
            [
             0.6666666666666666,
             "#ed7953"
            ],
            [
             0.7777777777777778,
             "#fb9f3a"
            ],
            [
             0.8888888888888888,
             "#fdca26"
            ],
            [
             1,
             "#f0f921"
            ]
           ],
           "sequentialminus": [
            [
             0,
             "#0d0887"
            ],
            [
             0.1111111111111111,
             "#46039f"
            ],
            [
             0.2222222222222222,
             "#7201a8"
            ],
            [
             0.3333333333333333,
             "#9c179e"
            ],
            [
             0.4444444444444444,
             "#bd3786"
            ],
            [
             0.5555555555555556,
             "#d8576b"
            ],
            [
             0.6666666666666666,
             "#ed7953"
            ],
            [
             0.7777777777777778,
             "#fb9f3a"
            ],
            [
             0.8888888888888888,
             "#fdca26"
            ],
            [
             1,
             "#f0f921"
            ]
           ]
          },
          "colorway": [
           "#636efa",
           "#EF553B",
           "#00cc96",
           "#ab63fa",
           "#FFA15A",
           "#19d3f3",
           "#FF6692",
           "#B6E880",
           "#FF97FF",
           "#FECB52"
          ],
          "font": {
           "color": "#2a3f5f"
          },
          "geo": {
           "bgcolor": "white",
           "lakecolor": "white",
           "landcolor": "#E5ECF6",
           "showlakes": true,
           "showland": true,
           "subunitcolor": "white"
          },
          "hoverlabel": {
           "align": "left"
          },
          "hovermode": "closest",
          "mapbox": {
           "style": "light"
          },
          "paper_bgcolor": "white",
          "plot_bgcolor": "#E5ECF6",
          "polar": {
           "angularaxis": {
            "gridcolor": "white",
            "linecolor": "white",
            "ticks": ""
           },
           "bgcolor": "#E5ECF6",
           "radialaxis": {
            "gridcolor": "white",
            "linecolor": "white",
            "ticks": ""
           }
          },
          "scene": {
           "xaxis": {
            "backgroundcolor": "#E5ECF6",
            "gridcolor": "white",
            "gridwidth": 2,
            "linecolor": "white",
            "showbackground": true,
            "ticks": "",
            "zerolinecolor": "white"
           },
           "yaxis": {
            "backgroundcolor": "#E5ECF6",
            "gridcolor": "white",
            "gridwidth": 2,
            "linecolor": "white",
            "showbackground": true,
            "ticks": "",
            "zerolinecolor": "white"
           },
           "zaxis": {
            "backgroundcolor": "#E5ECF6",
            "gridcolor": "white",
            "gridwidth": 2,
            "linecolor": "white",
            "showbackground": true,
            "ticks": "",
            "zerolinecolor": "white"
           }
          },
          "shapedefaults": {
           "line": {
            "color": "#2a3f5f"
           }
          },
          "ternary": {
           "aaxis": {
            "gridcolor": "white",
            "linecolor": "white",
            "ticks": ""
           },
           "baxis": {
            "gridcolor": "white",
            "linecolor": "white",
            "ticks": ""
           },
           "bgcolor": "#E5ECF6",
           "caxis": {
            "gridcolor": "white",
            "linecolor": "white",
            "ticks": ""
           }
          },
          "title": {
           "x": 0.05
          },
          "xaxis": {
           "automargin": true,
           "gridcolor": "white",
           "linecolor": "white",
           "ticks": "",
           "title": {
            "standoff": 15
           },
           "zerolinecolor": "white",
           "zerolinewidth": 2
          },
          "yaxis": {
           "automargin": true,
           "gridcolor": "white",
           "linecolor": "white",
           "ticks": "",
           "title": {
            "standoff": 15
           },
           "zerolinecolor": "white",
           "zerolinewidth": 2
          }
         }
        },
        "xaxis": {
         "anchor": "y",
         "domain": [
          0,
          1
         ],
         "title": {
          "text": "index_col"
         }
        },
        "yaxis": {
         "anchor": "x",
         "domain": [
          0,
          1
         ],
         "title": {
          "text": "sum"
         }
        }
       }
      },
      "text/html": [
       "<div>                            <div id=\"361d11fe-748b-4f38-952c-7d6de607ca9e\" class=\"plotly-graph-div\" style=\"height:525px; width:100%;\"></div>            <script type=\"text/javascript\">                require([\"plotly\"], function(Plotly) {                    window.PLOTLYENV=window.PLOTLYENV || {};                                    if (document.getElementById(\"361d11fe-748b-4f38-952c-7d6de607ca9e\")) {                    Plotly.newPlot(                        \"361d11fe-748b-4f38-952c-7d6de607ca9e\",                        [{\"hovertemplate\":\"index_col=%{x}<br>sum=%{y}<extra></extra>\",\"legendgroup\":\"\",\"line\":{\"color\":\"#636efa\",\"dash\":\"solid\"},\"marker\":{\"symbol\":\"circle\"},\"mode\":\"lines\",\"name\":\"\",\"orientation\":\"v\",\"showlegend\":false,\"x\":[\"2020-11\",\"2020-12\",\"2021-01\",\"2021-02\",\"2021-03\",\"2021-04\",\"2021-05\",\"2021-06\",\"2021-07\",\"2021-09\",\"2021-10\",\"2021-11\",\"2021-12\",\"2022-01\",\"2022-02\",\"2022-03\"],\"xaxis\":\"x\",\"y\":[1195.5,1220.0,978.5,1953.0,2469.5,3012.5,3025.0,1491.0,341.0,929.5,2371.5,2570.0,1298.0,1678.5,3586.0,686.0],\"yaxis\":\"y\",\"type\":\"scatter\"}],                        {\"template\":{\"data\":{\"bar\":[{\"error_x\":{\"color\":\"#2a3f5f\"},\"error_y\":{\"color\":\"#2a3f5f\"},\"marker\":{\"line\":{\"color\":\"#E5ECF6\",\"width\":0.5},\"pattern\":{\"fillmode\":\"overlay\",\"size\":10,\"solidity\":0.2}},\"type\":\"bar\"}],\"barpolar\":[{\"marker\":{\"line\":{\"color\":\"#E5ECF6\",\"width\":0.5},\"pattern\":{\"fillmode\":\"overlay\",\"size\":10,\"solidity\":0.2}},\"type\":\"barpolar\"}],\"carpet\":[{\"aaxis\":{\"endlinecolor\":\"#2a3f5f\",\"gridcolor\":\"white\",\"linecolor\":\"white\",\"minorgridcolor\":\"white\",\"startlinecolor\":\"#2a3f5f\"},\"baxis\":{\"endlinecolor\":\"#2a3f5f\",\"gridcolor\":\"white\",\"linecolor\":\"white\",\"minorgridcolor\":\"white\",\"startlinecolor\":\"#2a3f5f\"},\"type\":\"carpet\"}],\"choropleth\":[{\"colorbar\":{\"outlinewidth\":0,\"ticks\":\"\"},\"type\":\"choropleth\"}],\"contour\":[{\"colorbar\":{\"outlinewidth\":0,\"ticks\":\"\"},\"colorscale\":[[0.0,\"#0d0887\"],[0.1111111111111111,\"#46039f\"],[0.2222222222222222,\"#7201a8\"],[0.3333333333333333,\"#9c179e\"],[0.4444444444444444,\"#bd3786\"],[0.5555555555555556,\"#d8576b\"],[0.6666666666666666,\"#ed7953\"],[0.7777777777777778,\"#fb9f3a\"],[0.8888888888888888,\"#fdca26\"],[1.0,\"#f0f921\"]],\"type\":\"contour\"}],\"contourcarpet\":[{\"colorbar\":{\"outlinewidth\":0,\"ticks\":\"\"},\"type\":\"contourcarpet\"}],\"heatmap\":[{\"colorbar\":{\"outlinewidth\":0,\"ticks\":\"\"},\"colorscale\":[[0.0,\"#0d0887\"],[0.1111111111111111,\"#46039f\"],[0.2222222222222222,\"#7201a8\"],[0.3333333333333333,\"#9c179e\"],[0.4444444444444444,\"#bd3786\"],[0.5555555555555556,\"#d8576b\"],[0.6666666666666666,\"#ed7953\"],[0.7777777777777778,\"#fb9f3a\"],[0.8888888888888888,\"#fdca26\"],[1.0,\"#f0f921\"]],\"type\":\"heatmap\"}],\"heatmapgl\":[{\"colorbar\":{\"outlinewidth\":0,\"ticks\":\"\"},\"colorscale\":[[0.0,\"#0d0887\"],[0.1111111111111111,\"#46039f\"],[0.2222222222222222,\"#7201a8\"],[0.3333333333333333,\"#9c179e\"],[0.4444444444444444,\"#bd3786\"],[0.5555555555555556,\"#d8576b\"],[0.6666666666666666,\"#ed7953\"],[0.7777777777777778,\"#fb9f3a\"],[0.8888888888888888,\"#fdca26\"],[1.0,\"#f0f921\"]],\"type\":\"heatmapgl\"}],\"histogram\":[{\"marker\":{\"pattern\":{\"fillmode\":\"overlay\",\"size\":10,\"solidity\":0.2}},\"type\":\"histogram\"}],\"histogram2d\":[{\"colorbar\":{\"outlinewidth\":0,\"ticks\":\"\"},\"colorscale\":[[0.0,\"#0d0887\"],[0.1111111111111111,\"#46039f\"],[0.2222222222222222,\"#7201a8\"],[0.3333333333333333,\"#9c179e\"],[0.4444444444444444,\"#bd3786\"],[0.5555555555555556,\"#d8576b\"],[0.6666666666666666,\"#ed7953\"],[0.7777777777777778,\"#fb9f3a\"],[0.8888888888888888,\"#fdca26\"],[1.0,\"#f0f921\"]],\"type\":\"histogram2d\"}],\"histogram2dcontour\":[{\"colorbar\":{\"outlinewidth\":0,\"ticks\":\"\"},\"colorscale\":[[0.0,\"#0d0887\"],[0.1111111111111111,\"#46039f\"],[0.2222222222222222,\"#7201a8\"],[0.3333333333333333,\"#9c179e\"],[0.4444444444444444,\"#bd3786\"],[0.5555555555555556,\"#d8576b\"],[0.6666666666666666,\"#ed7953\"],[0.7777777777777778,\"#fb9f3a\"],[0.8888888888888888,\"#fdca26\"],[1.0,\"#f0f921\"]],\"type\":\"histogram2dcontour\"}],\"mesh3d\":[{\"colorbar\":{\"outlinewidth\":0,\"ticks\":\"\"},\"type\":\"mesh3d\"}],\"parcoords\":[{\"line\":{\"colorbar\":{\"outlinewidth\":0,\"ticks\":\"\"}},\"type\":\"parcoords\"}],\"pie\":[{\"automargin\":true,\"type\":\"pie\"}],\"scatter\":[{\"marker\":{\"colorbar\":{\"outlinewidth\":0,\"ticks\":\"\"}},\"type\":\"scatter\"}],\"scatter3d\":[{\"line\":{\"colorbar\":{\"outlinewidth\":0,\"ticks\":\"\"}},\"marker\":{\"colorbar\":{\"outlinewidth\":0,\"ticks\":\"\"}},\"type\":\"scatter3d\"}],\"scattercarpet\":[{\"marker\":{\"colorbar\":{\"outlinewidth\":0,\"ticks\":\"\"}},\"type\":\"scattercarpet\"}],\"scattergeo\":[{\"marker\":{\"colorbar\":{\"outlinewidth\":0,\"ticks\":\"\"}},\"type\":\"scattergeo\"}],\"scattergl\":[{\"marker\":{\"colorbar\":{\"outlinewidth\":0,\"ticks\":\"\"}},\"type\":\"scattergl\"}],\"scattermapbox\":[{\"marker\":{\"colorbar\":{\"outlinewidth\":0,\"ticks\":\"\"}},\"type\":\"scattermapbox\"}],\"scatterpolar\":[{\"marker\":{\"colorbar\":{\"outlinewidth\":0,\"ticks\":\"\"}},\"type\":\"scatterpolar\"}],\"scatterpolargl\":[{\"marker\":{\"colorbar\":{\"outlinewidth\":0,\"ticks\":\"\"}},\"type\":\"scatterpolargl\"}],\"scatterternary\":[{\"marker\":{\"colorbar\":{\"outlinewidth\":0,\"ticks\":\"\"}},\"type\":\"scatterternary\"}],\"surface\":[{\"colorbar\":{\"outlinewidth\":0,\"ticks\":\"\"},\"colorscale\":[[0.0,\"#0d0887\"],[0.1111111111111111,\"#46039f\"],[0.2222222222222222,\"#7201a8\"],[0.3333333333333333,\"#9c179e\"],[0.4444444444444444,\"#bd3786\"],[0.5555555555555556,\"#d8576b\"],[0.6666666666666666,\"#ed7953\"],[0.7777777777777778,\"#fb9f3a\"],[0.8888888888888888,\"#fdca26\"],[1.0,\"#f0f921\"]],\"type\":\"surface\"}],\"table\":[{\"cells\":{\"fill\":{\"color\":\"#EBF0F8\"},\"line\":{\"color\":\"white\"}},\"header\":{\"fill\":{\"color\":\"#C8D4E3\"},\"line\":{\"color\":\"white\"}},\"type\":\"table\"}]},\"layout\":{\"annotationdefaults\":{\"arrowcolor\":\"#2a3f5f\",\"arrowhead\":0,\"arrowwidth\":1},\"autotypenumbers\":\"strict\",\"coloraxis\":{\"colorbar\":{\"outlinewidth\":0,\"ticks\":\"\"}},\"colorscale\":{\"diverging\":[[0,\"#8e0152\"],[0.1,\"#c51b7d\"],[0.2,\"#de77ae\"],[0.3,\"#f1b6da\"],[0.4,\"#fde0ef\"],[0.5,\"#f7f7f7\"],[0.6,\"#e6f5d0\"],[0.7,\"#b8e186\"],[0.8,\"#7fbc41\"],[0.9,\"#4d9221\"],[1,\"#276419\"]],\"sequential\":[[0.0,\"#0d0887\"],[0.1111111111111111,\"#46039f\"],[0.2222222222222222,\"#7201a8\"],[0.3333333333333333,\"#9c179e\"],[0.4444444444444444,\"#bd3786\"],[0.5555555555555556,\"#d8576b\"],[0.6666666666666666,\"#ed7953\"],[0.7777777777777778,\"#fb9f3a\"],[0.8888888888888888,\"#fdca26\"],[1.0,\"#f0f921\"]],\"sequentialminus\":[[0.0,\"#0d0887\"],[0.1111111111111111,\"#46039f\"],[0.2222222222222222,\"#7201a8\"],[0.3333333333333333,\"#9c179e\"],[0.4444444444444444,\"#bd3786\"],[0.5555555555555556,\"#d8576b\"],[0.6666666666666666,\"#ed7953\"],[0.7777777777777778,\"#fb9f3a\"],[0.8888888888888888,\"#fdca26\"],[1.0,\"#f0f921\"]]},\"colorway\":[\"#636efa\",\"#EF553B\",\"#00cc96\",\"#ab63fa\",\"#FFA15A\",\"#19d3f3\",\"#FF6692\",\"#B6E880\",\"#FF97FF\",\"#FECB52\"],\"font\":{\"color\":\"#2a3f5f\"},\"geo\":{\"bgcolor\":\"white\",\"lakecolor\":\"white\",\"landcolor\":\"#E5ECF6\",\"showlakes\":true,\"showland\":true,\"subunitcolor\":\"white\"},\"hoverlabel\":{\"align\":\"left\"},\"hovermode\":\"closest\",\"mapbox\":{\"style\":\"light\"},\"paper_bgcolor\":\"white\",\"plot_bgcolor\":\"#E5ECF6\",\"polar\":{\"angularaxis\":{\"gridcolor\":\"white\",\"linecolor\":\"white\",\"ticks\":\"\"},\"bgcolor\":\"#E5ECF6\",\"radialaxis\":{\"gridcolor\":\"white\",\"linecolor\":\"white\",\"ticks\":\"\"}},\"scene\":{\"xaxis\":{\"backgroundcolor\":\"#E5ECF6\",\"gridcolor\":\"white\",\"gridwidth\":2,\"linecolor\":\"white\",\"showbackground\":true,\"ticks\":\"\",\"zerolinecolor\":\"white\"},\"yaxis\":{\"backgroundcolor\":\"#E5ECF6\",\"gridcolor\":\"white\",\"gridwidth\":2,\"linecolor\":\"white\",\"showbackground\":true,\"ticks\":\"\",\"zerolinecolor\":\"white\"},\"zaxis\":{\"backgroundcolor\":\"#E5ECF6\",\"gridcolor\":\"white\",\"gridwidth\":2,\"linecolor\":\"white\",\"showbackground\":true,\"ticks\":\"\",\"zerolinecolor\":\"white\"}},\"shapedefaults\":{\"line\":{\"color\":\"#2a3f5f\"}},\"ternary\":{\"aaxis\":{\"gridcolor\":\"white\",\"linecolor\":\"white\",\"ticks\":\"\"},\"baxis\":{\"gridcolor\":\"white\",\"linecolor\":\"white\",\"ticks\":\"\"},\"bgcolor\":\"#E5ECF6\",\"caxis\":{\"gridcolor\":\"white\",\"linecolor\":\"white\",\"ticks\":\"\"}},\"title\":{\"x\":0.05},\"xaxis\":{\"automargin\":true,\"gridcolor\":\"white\",\"linecolor\":\"white\",\"ticks\":\"\",\"title\":{\"standoff\":15},\"zerolinecolor\":\"white\",\"zerolinewidth\":2},\"yaxis\":{\"automargin\":true,\"gridcolor\":\"white\",\"linecolor\":\"white\",\"ticks\":\"\",\"title\":{\"standoff\":15},\"zerolinecolor\":\"white\",\"zerolinewidth\":2}}},\"xaxis\":{\"anchor\":\"y\",\"domain\":[0.0,1.0],\"title\":{\"text\":\"index_col\"}},\"yaxis\":{\"anchor\":\"x\",\"domain\":[0.0,1.0],\"title\":{\"text\":\"sum\"}},\"legend\":{\"tracegroupgap\":0},\"margin\":{\"t\":60}},                        {\"responsive\": true}                    ).then(function(){\n",
       "                            \n",
       "var gd = document.getElementById('361d11fe-748b-4f38-952c-7d6de607ca9e');\n",
       "var x = new MutationObserver(function (mutations, observer) {{\n",
       "        var display = window.getComputedStyle(gd).display;\n",
       "        if (!display || display === 'none') {{\n",
       "            console.log([gd, 'removed!']);\n",
       "            Plotly.purge(gd);\n",
       "            observer.disconnect();\n",
       "        }}\n",
       "}});\n",
       "\n",
       "// Listen for the removal of the full notebook cells\n",
       "var notebookContainer = gd.closest('#notebook-container');\n",
       "if (notebookContainer) {{\n",
       "    x.observe(notebookContainer, {childList: true});\n",
       "}}\n",
       "\n",
       "// Listen for the clearing of the current output cell\n",
       "var outputEl = gd.closest('.output');\n",
       "if (outputEl) {{\n",
       "    x.observe(outputEl, {childList: true});\n",
       "}}\n",
       "\n",
       "                        })                };                });            </script>        </div>"
      ]
     },
     "metadata": {},
     "output_type": "display_data"
    }
   ],
   "source": [
    "fig = px.line(suma_meses, x='index_col', y=\"sum\")\n",
    "fig.show()"
   ]
  },
  {
   "cell_type": "code",
   "execution_count": 22,
   "id": "65a6ca9f",
   "metadata": {},
   "outputs": [
    {
     "data": {
      "text/plain": [
       "Index(['Bonjour', 'CM Loyola', 'Colegio Mayor Aquinas', 'El Cebón',\n",
       "       'Eñe + que una letra', 'Fruteria Valencia', 'Fruterias Andrés',\n",
       "       'Fruterias Ignacio', 'Frutería Las Gemelas', 'Levaduramadre',\n",
       "       'Pastelería Ludavi', 'Shurma Huerta', 'Vedruna',\n",
       "       'Zara frutas y verdura'],\n",
       "      dtype='object', name='Nombres')"
      ]
     },
     "execution_count": 22,
     "metadata": {},
     "output_type": "execute_result"
    }
   ],
   "source": [
    "df2_aux = df2[df2['Dia'].dt.year == 2022]\n",
    "df_aux = df2_aux.groupby('Nombres')['Kilos rescatados'].agg(['sum'])\n",
    "#df_aux.set_index('Nombres', inplace=True)\n",
    "df_aux.index"
   ]
  },
  {
   "cell_type": "code",
   "execution_count": 24,
   "id": "8c9e7d89",
   "metadata": {},
   "outputs": [
    {
     "data": {
      "application/vnd.plotly.v1+json": {
       "config": {
        "plotlyServerURL": "https://plot.ly"
       },
       "data": [
        {
         "type": "bar",
         "visible": true,
         "x": [
          "Bonjour",
          "CM Loyola",
          "Colegio Mayor Aquinas",
          "El Cebón",
          "Eñe + que una letra",
          "Fruteria Valencia",
          "Fruterias Andrés",
          "Fruterias Ignacio",
          "Frutería Las Gemelas",
          "Levaduramadre",
          "Pastelería Ludavi",
          "Shurma Huerta",
          "Vedruna",
          "Zara frutas y verdura"
         ],
         "y": [
          27,
          268.8000183105469,
          310,
          4,
          40.20000076293945,
          238.5,
          55.5,
          27,
          534,
          49.60000228881836,
          15,
          61.70000076293945,
          117.70000457763672,
          167.3000030517578
         ]
        }
       ],
       "layout": {
        "showlegend": false,
        "template": {
         "data": {
          "bar": [
           {
            "error_x": {
             "color": "#2a3f5f"
            },
            "error_y": {
             "color": "#2a3f5f"
            },
            "marker": {
             "line": {
              "color": "#E5ECF6",
              "width": 0.5
             },
             "pattern": {
              "fillmode": "overlay",
              "size": 10,
              "solidity": 0.2
             }
            },
            "type": "bar"
           }
          ],
          "barpolar": [
           {
            "marker": {
             "line": {
              "color": "#E5ECF6",
              "width": 0.5
             },
             "pattern": {
              "fillmode": "overlay",
              "size": 10,
              "solidity": 0.2
             }
            },
            "type": "barpolar"
           }
          ],
          "carpet": [
           {
            "aaxis": {
             "endlinecolor": "#2a3f5f",
             "gridcolor": "white",
             "linecolor": "white",
             "minorgridcolor": "white",
             "startlinecolor": "#2a3f5f"
            },
            "baxis": {
             "endlinecolor": "#2a3f5f",
             "gridcolor": "white",
             "linecolor": "white",
             "minorgridcolor": "white",
             "startlinecolor": "#2a3f5f"
            },
            "type": "carpet"
           }
          ],
          "choropleth": [
           {
            "colorbar": {
             "outlinewidth": 0,
             "ticks": ""
            },
            "type": "choropleth"
           }
          ],
          "contour": [
           {
            "colorbar": {
             "outlinewidth": 0,
             "ticks": ""
            },
            "colorscale": [
             [
              0,
              "#0d0887"
             ],
             [
              0.1111111111111111,
              "#46039f"
             ],
             [
              0.2222222222222222,
              "#7201a8"
             ],
             [
              0.3333333333333333,
              "#9c179e"
             ],
             [
              0.4444444444444444,
              "#bd3786"
             ],
             [
              0.5555555555555556,
              "#d8576b"
             ],
             [
              0.6666666666666666,
              "#ed7953"
             ],
             [
              0.7777777777777778,
              "#fb9f3a"
             ],
             [
              0.8888888888888888,
              "#fdca26"
             ],
             [
              1,
              "#f0f921"
             ]
            ],
            "type": "contour"
           }
          ],
          "contourcarpet": [
           {
            "colorbar": {
             "outlinewidth": 0,
             "ticks": ""
            },
            "type": "contourcarpet"
           }
          ],
          "heatmap": [
           {
            "colorbar": {
             "outlinewidth": 0,
             "ticks": ""
            },
            "colorscale": [
             [
              0,
              "#0d0887"
             ],
             [
              0.1111111111111111,
              "#46039f"
             ],
             [
              0.2222222222222222,
              "#7201a8"
             ],
             [
              0.3333333333333333,
              "#9c179e"
             ],
             [
              0.4444444444444444,
              "#bd3786"
             ],
             [
              0.5555555555555556,
              "#d8576b"
             ],
             [
              0.6666666666666666,
              "#ed7953"
             ],
             [
              0.7777777777777778,
              "#fb9f3a"
             ],
             [
              0.8888888888888888,
              "#fdca26"
             ],
             [
              1,
              "#f0f921"
             ]
            ],
            "type": "heatmap"
           }
          ],
          "heatmapgl": [
           {
            "colorbar": {
             "outlinewidth": 0,
             "ticks": ""
            },
            "colorscale": [
             [
              0,
              "#0d0887"
             ],
             [
              0.1111111111111111,
              "#46039f"
             ],
             [
              0.2222222222222222,
              "#7201a8"
             ],
             [
              0.3333333333333333,
              "#9c179e"
             ],
             [
              0.4444444444444444,
              "#bd3786"
             ],
             [
              0.5555555555555556,
              "#d8576b"
             ],
             [
              0.6666666666666666,
              "#ed7953"
             ],
             [
              0.7777777777777778,
              "#fb9f3a"
             ],
             [
              0.8888888888888888,
              "#fdca26"
             ],
             [
              1,
              "#f0f921"
             ]
            ],
            "type": "heatmapgl"
           }
          ],
          "histogram": [
           {
            "marker": {
             "pattern": {
              "fillmode": "overlay",
              "size": 10,
              "solidity": 0.2
             }
            },
            "type": "histogram"
           }
          ],
          "histogram2d": [
           {
            "colorbar": {
             "outlinewidth": 0,
             "ticks": ""
            },
            "colorscale": [
             [
              0,
              "#0d0887"
             ],
             [
              0.1111111111111111,
              "#46039f"
             ],
             [
              0.2222222222222222,
              "#7201a8"
             ],
             [
              0.3333333333333333,
              "#9c179e"
             ],
             [
              0.4444444444444444,
              "#bd3786"
             ],
             [
              0.5555555555555556,
              "#d8576b"
             ],
             [
              0.6666666666666666,
              "#ed7953"
             ],
             [
              0.7777777777777778,
              "#fb9f3a"
             ],
             [
              0.8888888888888888,
              "#fdca26"
             ],
             [
              1,
              "#f0f921"
             ]
            ],
            "type": "histogram2d"
           }
          ],
          "histogram2dcontour": [
           {
            "colorbar": {
             "outlinewidth": 0,
             "ticks": ""
            },
            "colorscale": [
             [
              0,
              "#0d0887"
             ],
             [
              0.1111111111111111,
              "#46039f"
             ],
             [
              0.2222222222222222,
              "#7201a8"
             ],
             [
              0.3333333333333333,
              "#9c179e"
             ],
             [
              0.4444444444444444,
              "#bd3786"
             ],
             [
              0.5555555555555556,
              "#d8576b"
             ],
             [
              0.6666666666666666,
              "#ed7953"
             ],
             [
              0.7777777777777778,
              "#fb9f3a"
             ],
             [
              0.8888888888888888,
              "#fdca26"
             ],
             [
              1,
              "#f0f921"
             ]
            ],
            "type": "histogram2dcontour"
           }
          ],
          "mesh3d": [
           {
            "colorbar": {
             "outlinewidth": 0,
             "ticks": ""
            },
            "type": "mesh3d"
           }
          ],
          "parcoords": [
           {
            "line": {
             "colorbar": {
              "outlinewidth": 0,
              "ticks": ""
             }
            },
            "type": "parcoords"
           }
          ],
          "pie": [
           {
            "automargin": true,
            "type": "pie"
           }
          ],
          "scatter": [
           {
            "marker": {
             "colorbar": {
              "outlinewidth": 0,
              "ticks": ""
             }
            },
            "type": "scatter"
           }
          ],
          "scatter3d": [
           {
            "line": {
             "colorbar": {
              "outlinewidth": 0,
              "ticks": ""
             }
            },
            "marker": {
             "colorbar": {
              "outlinewidth": 0,
              "ticks": ""
             }
            },
            "type": "scatter3d"
           }
          ],
          "scattercarpet": [
           {
            "marker": {
             "colorbar": {
              "outlinewidth": 0,
              "ticks": ""
             }
            },
            "type": "scattercarpet"
           }
          ],
          "scattergeo": [
           {
            "marker": {
             "colorbar": {
              "outlinewidth": 0,
              "ticks": ""
             }
            },
            "type": "scattergeo"
           }
          ],
          "scattergl": [
           {
            "marker": {
             "colorbar": {
              "outlinewidth": 0,
              "ticks": ""
             }
            },
            "type": "scattergl"
           }
          ],
          "scattermapbox": [
           {
            "marker": {
             "colorbar": {
              "outlinewidth": 0,
              "ticks": ""
             }
            },
            "type": "scattermapbox"
           }
          ],
          "scatterpolar": [
           {
            "marker": {
             "colorbar": {
              "outlinewidth": 0,
              "ticks": ""
             }
            },
            "type": "scatterpolar"
           }
          ],
          "scatterpolargl": [
           {
            "marker": {
             "colorbar": {
              "outlinewidth": 0,
              "ticks": ""
             }
            },
            "type": "scatterpolargl"
           }
          ],
          "scatterternary": [
           {
            "marker": {
             "colorbar": {
              "outlinewidth": 0,
              "ticks": ""
             }
            },
            "type": "scatterternary"
           }
          ],
          "surface": [
           {
            "colorbar": {
             "outlinewidth": 0,
             "ticks": ""
            },
            "colorscale": [
             [
              0,
              "#0d0887"
             ],
             [
              0.1111111111111111,
              "#46039f"
             ],
             [
              0.2222222222222222,
              "#7201a8"
             ],
             [
              0.3333333333333333,
              "#9c179e"
             ],
             [
              0.4444444444444444,
              "#bd3786"
             ],
             [
              0.5555555555555556,
              "#d8576b"
             ],
             [
              0.6666666666666666,
              "#ed7953"
             ],
             [
              0.7777777777777778,
              "#fb9f3a"
             ],
             [
              0.8888888888888888,
              "#fdca26"
             ],
             [
              1,
              "#f0f921"
             ]
            ],
            "type": "surface"
           }
          ],
          "table": [
           {
            "cells": {
             "fill": {
              "color": "#EBF0F8"
             },
             "line": {
              "color": "white"
             }
            },
            "header": {
             "fill": {
              "color": "#C8D4E3"
             },
             "line": {
              "color": "white"
             }
            },
            "type": "table"
           }
          ]
         },
         "layout": {
          "annotationdefaults": {
           "arrowcolor": "#2a3f5f",
           "arrowhead": 0,
           "arrowwidth": 1
          },
          "autotypenumbers": "strict",
          "coloraxis": {
           "colorbar": {
            "outlinewidth": 0,
            "ticks": ""
           }
          },
          "colorscale": {
           "diverging": [
            [
             0,
             "#8e0152"
            ],
            [
             0.1,
             "#c51b7d"
            ],
            [
             0.2,
             "#de77ae"
            ],
            [
             0.3,
             "#f1b6da"
            ],
            [
             0.4,
             "#fde0ef"
            ],
            [
             0.5,
             "#f7f7f7"
            ],
            [
             0.6,
             "#e6f5d0"
            ],
            [
             0.7,
             "#b8e186"
            ],
            [
             0.8,
             "#7fbc41"
            ],
            [
             0.9,
             "#4d9221"
            ],
            [
             1,
             "#276419"
            ]
           ],
           "sequential": [
            [
             0,
             "#0d0887"
            ],
            [
             0.1111111111111111,
             "#46039f"
            ],
            [
             0.2222222222222222,
             "#7201a8"
            ],
            [
             0.3333333333333333,
             "#9c179e"
            ],
            [
             0.4444444444444444,
             "#bd3786"
            ],
            [
             0.5555555555555556,
             "#d8576b"
            ],
            [
             0.6666666666666666,
             "#ed7953"
            ],
            [
             0.7777777777777778,
             "#fb9f3a"
            ],
            [
             0.8888888888888888,
             "#fdca26"
            ],
            [
             1,
             "#f0f921"
            ]
           ],
           "sequentialminus": [
            [
             0,
             "#0d0887"
            ],
            [
             0.1111111111111111,
             "#46039f"
            ],
            [
             0.2222222222222222,
             "#7201a8"
            ],
            [
             0.3333333333333333,
             "#9c179e"
            ],
            [
             0.4444444444444444,
             "#bd3786"
            ],
            [
             0.5555555555555556,
             "#d8576b"
            ],
            [
             0.6666666666666666,
             "#ed7953"
            ],
            [
             0.7777777777777778,
             "#fb9f3a"
            ],
            [
             0.8888888888888888,
             "#fdca26"
            ],
            [
             1,
             "#f0f921"
            ]
           ]
          },
          "colorway": [
           "#636efa",
           "#EF553B",
           "#00cc96",
           "#ab63fa",
           "#FFA15A",
           "#19d3f3",
           "#FF6692",
           "#B6E880",
           "#FF97FF",
           "#FECB52"
          ],
          "font": {
           "color": "#2a3f5f"
          },
          "geo": {
           "bgcolor": "white",
           "lakecolor": "white",
           "landcolor": "#E5ECF6",
           "showlakes": true,
           "showland": true,
           "subunitcolor": "white"
          },
          "hoverlabel": {
           "align": "left"
          },
          "hovermode": "closest",
          "mapbox": {
           "style": "light"
          },
          "paper_bgcolor": "white",
          "plot_bgcolor": "#E5ECF6",
          "polar": {
           "angularaxis": {
            "gridcolor": "white",
            "linecolor": "white",
            "ticks": ""
           },
           "bgcolor": "#E5ECF6",
           "radialaxis": {
            "gridcolor": "white",
            "linecolor": "white",
            "ticks": ""
           }
          },
          "scene": {
           "xaxis": {
            "backgroundcolor": "#E5ECF6",
            "gridcolor": "white",
            "gridwidth": 2,
            "linecolor": "white",
            "showbackground": true,
            "ticks": "",
            "zerolinecolor": "white"
           },
           "yaxis": {
            "backgroundcolor": "#E5ECF6",
            "gridcolor": "white",
            "gridwidth": 2,
            "linecolor": "white",
            "showbackground": true,
            "ticks": "",
            "zerolinecolor": "white"
           },
           "zaxis": {
            "backgroundcolor": "#E5ECF6",
            "gridcolor": "white",
            "gridwidth": 2,
            "linecolor": "white",
            "showbackground": true,
            "ticks": "",
            "zerolinecolor": "white"
           }
          },
          "shapedefaults": {
           "line": {
            "color": "#2a3f5f"
           }
          },
          "ternary": {
           "aaxis": {
            "gridcolor": "white",
            "linecolor": "white",
            "ticks": ""
           },
           "baxis": {
            "gridcolor": "white",
            "linecolor": "white",
            "ticks": ""
           },
           "bgcolor": "#E5ECF6",
           "caxis": {
            "gridcolor": "white",
            "linecolor": "white",
            "ticks": ""
           }
          },
          "title": {
           "x": 0.05
          },
          "xaxis": {
           "automargin": true,
           "gridcolor": "white",
           "linecolor": "white",
           "ticks": "",
           "title": {
            "standoff": 15
           },
           "zerolinecolor": "white",
           "zerolinewidth": 2
          },
          "yaxis": {
           "automargin": true,
           "gridcolor": "white",
           "linecolor": "white",
           "ticks": "",
           "title": {
            "standoff": 15
           },
           "zerolinecolor": "white",
           "zerolinewidth": 2
          }
         }
        },
        "updatemenus": [
         {
          "buttons": [
           {
            "args": [
             {
              "type": "bar",
              "x": [
               [
                "Bonjour",
                "CM Loyola",
                "Colegio Mayor Aquinas",
                "El Cebón",
                "Eñe + que una letra",
                "Fruteria Valencia",
                "Fruterias Andrés",
                "Fruterias Ignacio",
                "Frutería Las Gemelas",
                "Levaduramadre",
                "Pastelería Ludavi",
                "Shurma Huerta",
                "Vedruna",
                "Zara frutas y verdura"
               ]
              ],
              "y": [
               [
                27,
                268.8000183105469,
                310,
                4,
                40.20000076293945,
                238.5,
                55.5,
                27,
                534,
                49.60000228881836,
                15,
                61.70000076293945,
                117.70000457763672,
                167.3000030517578
               ]
              ]
             },
             [
              0
             ]
            ],
            "label": "Total",
            "method": "restyle",
            "visible": true
           },
           {
            "args": [
             {
              "type": "bar",
              "x": [
               [
                "Bonjour",
                "Colegio Mayor Aquinas",
                "Fruteria Valencia",
                "Fruterias Andrés",
                "Fruterias Ignacio",
                "Frutería Las Gemelas",
                "Levaduramadre",
                "Vedruna",
                "Zara frutas y verdura"
               ]
              ],
              "y": [
               [
                0.20000000298023224,
                48.20000076293945,
                45,
                15,
                19.5,
                93,
                21,
                26.200000762939453,
                90
               ]
              ]
             },
             [
              0
             ]
            ],
            "label": "Lunes",
            "method": "restyle",
            "visible": true
           },
           {
            "args": [
             {
              "type": "bar",
              "x": [
               [
                "Bonjour",
                "CM Loyola",
                "Colegio Mayor Aquinas",
                "El Cebón",
                "Eñe + que una letra",
                "Fruteria Valencia",
                "Fruterias Andrés",
                "Frutería Las Gemelas",
                "Levaduramadre",
                "Pastelería Ludavi",
                "Shurma Huerta",
                "Vedruna",
                "Zara frutas y verdura"
               ]
              ],
              "y": [
               [
                16.80000114440918,
                103.80000305175781,
                50.60000228881836,
                2.4000000953674316,
                19.200000762939453,
                73.5,
                3,
                150,
                5.800000190734863,
                15,
                48,
                28.600000381469727,
                37.5
               ]
              ]
             },
             [
              0
             ]
            ],
            "label": "Martes",
            "method": "restyle",
            "visible": true
           },
           {
            "args": [
             {
              "type": "bar",
              "x": [
               [
                "Bonjour",
                "CM Loyola",
                "Colegio Mayor Aquinas",
                "El Cebón",
                "Eñe + que una letra",
                "Fruterias Ignacio",
                "Frutería Las Gemelas",
                "Levaduramadre",
                "Shurma Huerta",
                "Vedruna",
                "Zara frutas y verdura"
               ]
              ],
              "y": [
               [
                6.800000190734863,
                72,
                79.4000015258789,
                1.600000023841858,
                13.800000190734863,
                7.5,
                90,
                9.800000190734863,
                13.699999809265137,
                29,
                0.800000011920929
               ]
              ]
             },
             [
              0
             ]
            ],
            "label": "Miercoles",
            "method": "restyle",
            "visible": true
           },
           {
            "args": [
             {
              "type": "bar",
              "x": [
               [
                "Bonjour",
                "CM Loyola",
                "Colegio Mayor Aquinas",
                "Eñe + que una letra",
                "Fruteria Valencia",
                "Fruterias Andrés",
                "Frutería Las Gemelas",
                "Levaduramadre",
                "Vedruna",
                "Zara frutas y verdura"
               ]
              ],
              "y": [
               [
                3.200000047683716,
                93,
                131.8000030517578,
                7.200000286102295,
                120,
                37.5,
                201,
                13,
                33.900001525878906,
                39
               ]
              ]
             },
             [
              0
             ]
            ],
            "label": "Jueves",
            "method": "restyle",
            "visible": true
           }
          ],
          "direction": "down",
          "showactive": true
         }
        ]
       }
      },
      "text/html": [
       "<div>                            <div id=\"0c9cc39c-6560-43c5-8bc3-7713b2081f3f\" class=\"plotly-graph-div\" style=\"height:525px; width:100%;\"></div>            <script type=\"text/javascript\">                require([\"plotly\"], function(Plotly) {                    window.PLOTLYENV=window.PLOTLYENV || {};                                    if (document.getElementById(\"0c9cc39c-6560-43c5-8bc3-7713b2081f3f\")) {                    Plotly.newPlot(                        \"0c9cc39c-6560-43c5-8bc3-7713b2081f3f\",                        [{\"visible\":true,\"x\":[\"Bonjour\",\"CM Loyola\",\"Colegio Mayor Aquinas\",\"El Ceb\\u00f3n\",\"E\\u00f1e + que una letra\",\"Fruteria Valencia\",\"Fruterias Andr\\u00e9s\",\"Fruterias Ignacio\",\"Fruter\\u00eda Las Gemelas\",\"Levaduramadre\",\"Pasteler\\u00eda Ludavi\",\"Shurma Huerta\",\"Vedruna\",\"Zara frutas y verdura\"],\"y\":[27.0,268.8000183105469,310.0,4.0,40.20000076293945,238.5,55.5,27.0,534.0,49.60000228881836,15.0,61.70000076293945,117.70000457763672,167.3000030517578],\"type\":\"bar\"}],                        {\"template\":{\"data\":{\"bar\":[{\"error_x\":{\"color\":\"#2a3f5f\"},\"error_y\":{\"color\":\"#2a3f5f\"},\"marker\":{\"line\":{\"color\":\"#E5ECF6\",\"width\":0.5},\"pattern\":{\"fillmode\":\"overlay\",\"size\":10,\"solidity\":0.2}},\"type\":\"bar\"}],\"barpolar\":[{\"marker\":{\"line\":{\"color\":\"#E5ECF6\",\"width\":0.5},\"pattern\":{\"fillmode\":\"overlay\",\"size\":10,\"solidity\":0.2}},\"type\":\"barpolar\"}],\"carpet\":[{\"aaxis\":{\"endlinecolor\":\"#2a3f5f\",\"gridcolor\":\"white\",\"linecolor\":\"white\",\"minorgridcolor\":\"white\",\"startlinecolor\":\"#2a3f5f\"},\"baxis\":{\"endlinecolor\":\"#2a3f5f\",\"gridcolor\":\"white\",\"linecolor\":\"white\",\"minorgridcolor\":\"white\",\"startlinecolor\":\"#2a3f5f\"},\"type\":\"carpet\"}],\"choropleth\":[{\"colorbar\":{\"outlinewidth\":0,\"ticks\":\"\"},\"type\":\"choropleth\"}],\"contour\":[{\"colorbar\":{\"outlinewidth\":0,\"ticks\":\"\"},\"colorscale\":[[0.0,\"#0d0887\"],[0.1111111111111111,\"#46039f\"],[0.2222222222222222,\"#7201a8\"],[0.3333333333333333,\"#9c179e\"],[0.4444444444444444,\"#bd3786\"],[0.5555555555555556,\"#d8576b\"],[0.6666666666666666,\"#ed7953\"],[0.7777777777777778,\"#fb9f3a\"],[0.8888888888888888,\"#fdca26\"],[1.0,\"#f0f921\"]],\"type\":\"contour\"}],\"contourcarpet\":[{\"colorbar\":{\"outlinewidth\":0,\"ticks\":\"\"},\"type\":\"contourcarpet\"}],\"heatmap\":[{\"colorbar\":{\"outlinewidth\":0,\"ticks\":\"\"},\"colorscale\":[[0.0,\"#0d0887\"],[0.1111111111111111,\"#46039f\"],[0.2222222222222222,\"#7201a8\"],[0.3333333333333333,\"#9c179e\"],[0.4444444444444444,\"#bd3786\"],[0.5555555555555556,\"#d8576b\"],[0.6666666666666666,\"#ed7953\"],[0.7777777777777778,\"#fb9f3a\"],[0.8888888888888888,\"#fdca26\"],[1.0,\"#f0f921\"]],\"type\":\"heatmap\"}],\"heatmapgl\":[{\"colorbar\":{\"outlinewidth\":0,\"ticks\":\"\"},\"colorscale\":[[0.0,\"#0d0887\"],[0.1111111111111111,\"#46039f\"],[0.2222222222222222,\"#7201a8\"],[0.3333333333333333,\"#9c179e\"],[0.4444444444444444,\"#bd3786\"],[0.5555555555555556,\"#d8576b\"],[0.6666666666666666,\"#ed7953\"],[0.7777777777777778,\"#fb9f3a\"],[0.8888888888888888,\"#fdca26\"],[1.0,\"#f0f921\"]],\"type\":\"heatmapgl\"}],\"histogram\":[{\"marker\":{\"pattern\":{\"fillmode\":\"overlay\",\"size\":10,\"solidity\":0.2}},\"type\":\"histogram\"}],\"histogram2d\":[{\"colorbar\":{\"outlinewidth\":0,\"ticks\":\"\"},\"colorscale\":[[0.0,\"#0d0887\"],[0.1111111111111111,\"#46039f\"],[0.2222222222222222,\"#7201a8\"],[0.3333333333333333,\"#9c179e\"],[0.4444444444444444,\"#bd3786\"],[0.5555555555555556,\"#d8576b\"],[0.6666666666666666,\"#ed7953\"],[0.7777777777777778,\"#fb9f3a\"],[0.8888888888888888,\"#fdca26\"],[1.0,\"#f0f921\"]],\"type\":\"histogram2d\"}],\"histogram2dcontour\":[{\"colorbar\":{\"outlinewidth\":0,\"ticks\":\"\"},\"colorscale\":[[0.0,\"#0d0887\"],[0.1111111111111111,\"#46039f\"],[0.2222222222222222,\"#7201a8\"],[0.3333333333333333,\"#9c179e\"],[0.4444444444444444,\"#bd3786\"],[0.5555555555555556,\"#d8576b\"],[0.6666666666666666,\"#ed7953\"],[0.7777777777777778,\"#fb9f3a\"],[0.8888888888888888,\"#fdca26\"],[1.0,\"#f0f921\"]],\"type\":\"histogram2dcontour\"}],\"mesh3d\":[{\"colorbar\":{\"outlinewidth\":0,\"ticks\":\"\"},\"type\":\"mesh3d\"}],\"parcoords\":[{\"line\":{\"colorbar\":{\"outlinewidth\":0,\"ticks\":\"\"}},\"type\":\"parcoords\"}],\"pie\":[{\"automargin\":true,\"type\":\"pie\"}],\"scatter\":[{\"marker\":{\"colorbar\":{\"outlinewidth\":0,\"ticks\":\"\"}},\"type\":\"scatter\"}],\"scatter3d\":[{\"line\":{\"colorbar\":{\"outlinewidth\":0,\"ticks\":\"\"}},\"marker\":{\"colorbar\":{\"outlinewidth\":0,\"ticks\":\"\"}},\"type\":\"scatter3d\"}],\"scattercarpet\":[{\"marker\":{\"colorbar\":{\"outlinewidth\":0,\"ticks\":\"\"}},\"type\":\"scattercarpet\"}],\"scattergeo\":[{\"marker\":{\"colorbar\":{\"outlinewidth\":0,\"ticks\":\"\"}},\"type\":\"scattergeo\"}],\"scattergl\":[{\"marker\":{\"colorbar\":{\"outlinewidth\":0,\"ticks\":\"\"}},\"type\":\"scattergl\"}],\"scattermapbox\":[{\"marker\":{\"colorbar\":{\"outlinewidth\":0,\"ticks\":\"\"}},\"type\":\"scattermapbox\"}],\"scatterpolar\":[{\"marker\":{\"colorbar\":{\"outlinewidth\":0,\"ticks\":\"\"}},\"type\":\"scatterpolar\"}],\"scatterpolargl\":[{\"marker\":{\"colorbar\":{\"outlinewidth\":0,\"ticks\":\"\"}},\"type\":\"scatterpolargl\"}],\"scatterternary\":[{\"marker\":{\"colorbar\":{\"outlinewidth\":0,\"ticks\":\"\"}},\"type\":\"scatterternary\"}],\"surface\":[{\"colorbar\":{\"outlinewidth\":0,\"ticks\":\"\"},\"colorscale\":[[0.0,\"#0d0887\"],[0.1111111111111111,\"#46039f\"],[0.2222222222222222,\"#7201a8\"],[0.3333333333333333,\"#9c179e\"],[0.4444444444444444,\"#bd3786\"],[0.5555555555555556,\"#d8576b\"],[0.6666666666666666,\"#ed7953\"],[0.7777777777777778,\"#fb9f3a\"],[0.8888888888888888,\"#fdca26\"],[1.0,\"#f0f921\"]],\"type\":\"surface\"}],\"table\":[{\"cells\":{\"fill\":{\"color\":\"#EBF0F8\"},\"line\":{\"color\":\"white\"}},\"header\":{\"fill\":{\"color\":\"#C8D4E3\"},\"line\":{\"color\":\"white\"}},\"type\":\"table\"}]},\"layout\":{\"annotationdefaults\":{\"arrowcolor\":\"#2a3f5f\",\"arrowhead\":0,\"arrowwidth\":1},\"autotypenumbers\":\"strict\",\"coloraxis\":{\"colorbar\":{\"outlinewidth\":0,\"ticks\":\"\"}},\"colorscale\":{\"diverging\":[[0,\"#8e0152\"],[0.1,\"#c51b7d\"],[0.2,\"#de77ae\"],[0.3,\"#f1b6da\"],[0.4,\"#fde0ef\"],[0.5,\"#f7f7f7\"],[0.6,\"#e6f5d0\"],[0.7,\"#b8e186\"],[0.8,\"#7fbc41\"],[0.9,\"#4d9221\"],[1,\"#276419\"]],\"sequential\":[[0.0,\"#0d0887\"],[0.1111111111111111,\"#46039f\"],[0.2222222222222222,\"#7201a8\"],[0.3333333333333333,\"#9c179e\"],[0.4444444444444444,\"#bd3786\"],[0.5555555555555556,\"#d8576b\"],[0.6666666666666666,\"#ed7953\"],[0.7777777777777778,\"#fb9f3a\"],[0.8888888888888888,\"#fdca26\"],[1.0,\"#f0f921\"]],\"sequentialminus\":[[0.0,\"#0d0887\"],[0.1111111111111111,\"#46039f\"],[0.2222222222222222,\"#7201a8\"],[0.3333333333333333,\"#9c179e\"],[0.4444444444444444,\"#bd3786\"],[0.5555555555555556,\"#d8576b\"],[0.6666666666666666,\"#ed7953\"],[0.7777777777777778,\"#fb9f3a\"],[0.8888888888888888,\"#fdca26\"],[1.0,\"#f0f921\"]]},\"colorway\":[\"#636efa\",\"#EF553B\",\"#00cc96\",\"#ab63fa\",\"#FFA15A\",\"#19d3f3\",\"#FF6692\",\"#B6E880\",\"#FF97FF\",\"#FECB52\"],\"font\":{\"color\":\"#2a3f5f\"},\"geo\":{\"bgcolor\":\"white\",\"lakecolor\":\"white\",\"landcolor\":\"#E5ECF6\",\"showlakes\":true,\"showland\":true,\"subunitcolor\":\"white\"},\"hoverlabel\":{\"align\":\"left\"},\"hovermode\":\"closest\",\"mapbox\":{\"style\":\"light\"},\"paper_bgcolor\":\"white\",\"plot_bgcolor\":\"#E5ECF6\",\"polar\":{\"angularaxis\":{\"gridcolor\":\"white\",\"linecolor\":\"white\",\"ticks\":\"\"},\"bgcolor\":\"#E5ECF6\",\"radialaxis\":{\"gridcolor\":\"white\",\"linecolor\":\"white\",\"ticks\":\"\"}},\"scene\":{\"xaxis\":{\"backgroundcolor\":\"#E5ECF6\",\"gridcolor\":\"white\",\"gridwidth\":2,\"linecolor\":\"white\",\"showbackground\":true,\"ticks\":\"\",\"zerolinecolor\":\"white\"},\"yaxis\":{\"backgroundcolor\":\"#E5ECF6\",\"gridcolor\":\"white\",\"gridwidth\":2,\"linecolor\":\"white\",\"showbackground\":true,\"ticks\":\"\",\"zerolinecolor\":\"white\"},\"zaxis\":{\"backgroundcolor\":\"#E5ECF6\",\"gridcolor\":\"white\",\"gridwidth\":2,\"linecolor\":\"white\",\"showbackground\":true,\"ticks\":\"\",\"zerolinecolor\":\"white\"}},\"shapedefaults\":{\"line\":{\"color\":\"#2a3f5f\"}},\"ternary\":{\"aaxis\":{\"gridcolor\":\"white\",\"linecolor\":\"white\",\"ticks\":\"\"},\"baxis\":{\"gridcolor\":\"white\",\"linecolor\":\"white\",\"ticks\":\"\"},\"bgcolor\":\"#E5ECF6\",\"caxis\":{\"gridcolor\":\"white\",\"linecolor\":\"white\",\"ticks\":\"\"}},\"title\":{\"x\":0.05},\"xaxis\":{\"automargin\":true,\"gridcolor\":\"white\",\"linecolor\":\"white\",\"ticks\":\"\",\"title\":{\"standoff\":15},\"zerolinecolor\":\"white\",\"zerolinewidth\":2},\"yaxis\":{\"automargin\":true,\"gridcolor\":\"white\",\"linecolor\":\"white\",\"ticks\":\"\",\"title\":{\"standoff\":15},\"zerolinecolor\":\"white\",\"zerolinewidth\":2}}},\"showlegend\":false,\"updatemenus\":[{\"buttons\":[{\"args\":[{\"y\":[[27.0,268.8000183105469,310.0,4.0,40.20000076293945,238.5,55.5,27.0,534.0,49.60000228881836,15.0,61.70000076293945,117.70000457763672,167.3000030517578]],\"x\":[[\"Bonjour\",\"CM Loyola\",\"Colegio Mayor Aquinas\",\"El Ceb\\u00f3n\",\"E\\u00f1e + que una letra\",\"Fruteria Valencia\",\"Fruterias Andr\\u00e9s\",\"Fruterias Ignacio\",\"Fruter\\u00eda Las Gemelas\",\"Levaduramadre\",\"Pasteler\\u00eda Ludavi\",\"Shurma Huerta\",\"Vedruna\",\"Zara frutas y verdura\"]],\"type\":\"bar\"},[0]],\"label\":\"Total\",\"method\":\"restyle\",\"visible\":true},{\"args\":[{\"y\":[[0.20000000298023224,48.20000076293945,45.0,15.0,19.5,93.0,21.0,26.200000762939453,90.0]],\"x\":[[\"Bonjour\",\"Colegio Mayor Aquinas\",\"Fruteria Valencia\",\"Fruterias Andr\\u00e9s\",\"Fruterias Ignacio\",\"Fruter\\u00eda Las Gemelas\",\"Levaduramadre\",\"Vedruna\",\"Zara frutas y verdura\"]],\"type\":\"bar\"},[0]],\"label\":\"Lunes\",\"method\":\"restyle\",\"visible\":true},{\"args\":[{\"y\":[[16.80000114440918,103.80000305175781,50.60000228881836,2.4000000953674316,19.200000762939453,73.5,3.0,150.0,5.800000190734863,15.0,48.0,28.600000381469727,37.5]],\"x\":[[\"Bonjour\",\"CM Loyola\",\"Colegio Mayor Aquinas\",\"El Ceb\\u00f3n\",\"E\\u00f1e + que una letra\",\"Fruteria Valencia\",\"Fruterias Andr\\u00e9s\",\"Fruter\\u00eda Las Gemelas\",\"Levaduramadre\",\"Pasteler\\u00eda Ludavi\",\"Shurma Huerta\",\"Vedruna\",\"Zara frutas y verdura\"]],\"type\":\"bar\"},[0]],\"label\":\"Martes\",\"method\":\"restyle\",\"visible\":true},{\"args\":[{\"y\":[[6.800000190734863,72.0,79.4000015258789,1.600000023841858,13.800000190734863,7.5,90.0,9.800000190734863,13.699999809265137,29.0,0.800000011920929]],\"x\":[[\"Bonjour\",\"CM Loyola\",\"Colegio Mayor Aquinas\",\"El Ceb\\u00f3n\",\"E\\u00f1e + que una letra\",\"Fruterias Ignacio\",\"Fruter\\u00eda Las Gemelas\",\"Levaduramadre\",\"Shurma Huerta\",\"Vedruna\",\"Zara frutas y verdura\"]],\"type\":\"bar\"},[0]],\"label\":\"Miercoles\",\"method\":\"restyle\",\"visible\":true},{\"args\":[{\"y\":[[3.200000047683716,93.0,131.8000030517578,7.200000286102295,120.0,37.5,201.0,13.0,33.900001525878906,39.0]],\"x\":[[\"Bonjour\",\"CM Loyola\",\"Colegio Mayor Aquinas\",\"E\\u00f1e + que una letra\",\"Fruteria Valencia\",\"Fruterias Andr\\u00e9s\",\"Fruter\\u00eda Las Gemelas\",\"Levaduramadre\",\"Vedruna\",\"Zara frutas y verdura\"]],\"type\":\"bar\"},[0]],\"label\":\"Jueves\",\"method\":\"restyle\",\"visible\":true}],\"direction\":\"down\",\"showactive\":true}]},                        {\"responsive\": true}                    ).then(function(){\n",
       "                            \n",
       "var gd = document.getElementById('0c9cc39c-6560-43c5-8bc3-7713b2081f3f');\n",
       "var x = new MutationObserver(function (mutations, observer) {{\n",
       "        var display = window.getComputedStyle(gd).display;\n",
       "        if (!display || display === 'none') {{\n",
       "            console.log([gd, 'removed!']);\n",
       "            Plotly.purge(gd);\n",
       "            observer.disconnect();\n",
       "        }}\n",
       "}});\n",
       "\n",
       "// Listen for the removal of the full notebook cells\n",
       "var notebookContainer = gd.closest('#notebook-container');\n",
       "if (notebookContainer) {{\n",
       "    x.observe(notebookContainer, {childList: true});\n",
       "}}\n",
       "\n",
       "// Listen for the clearing of the current output cell\n",
       "var outputEl = gd.closest('.output');\n",
       "if (outputEl) {{\n",
       "    x.observe(outputEl, {childList: true});\n",
       "}}\n",
       "\n",
       "                        })                };                });            </script>        </div>"
      ]
     },
     "metadata": {},
     "output_type": "display_data"
    }
   ],
   "source": [
    "import plotly.graph_objects as go\n",
    "# # plotly\n",
    "nombres = {0:'Lunes',1:'Martes',2:'Miercoles',3:'Jueves',4:'Viernes'}\n",
    "fig = go.Figure()\n",
    "\n",
    "df2_aux = df2[df2['Dia'].dt.year == 2022]\n",
    "df_aux = df2_aux.groupby('Nombres')['Kilos rescatados'].agg(['sum'])\n",
    "\n",
    "# set up ONE trace\n",
    "fig.add_trace(go.Bar(x=df_aux.index,\n",
    "                         y=df_aux['sum'],\n",
    "                         visible=True)\n",
    "             )\n",
    "\n",
    "updatemenu = []\n",
    "buttons = []\n",
    "                                                                      \n",
    "# button with one option for each dataframe\n",
    "buttons.append(dict(method='restyle',\n",
    "                        label='Total',\n",
    "                        visible=True,\n",
    "                        args=[{'y':[df_aux['sum']],\n",
    "                               'x':[df_aux.index],\n",
    "                               'type':'bar'}, [0]],\n",
    "                        )\n",
    "                  )\n",
    "\n",
    "for i in range(0,4):\n",
    "    df_aux = df2_aux[df2_aux['Dia'].dt.dayofweek == i]\n",
    "    df_aux = df_aux.groupby('Nombres')['Kilos rescatados'].agg(['sum'])\n",
    "    \n",
    "    buttons.append(dict(method='restyle',\n",
    "                        label=nombres[i],\n",
    "                        visible=True,\n",
    "                        args=[{'y':[df_aux['sum']],\n",
    "                               'x':[df_aux.index],\n",
    "                               'type':'bar'}, [0]],\n",
    "                        )\n",
    "                  )\n",
    "    \n",
    "df2_aux = df2[df2['Dia'].dt.year == 2022]\n",
    "df_aux = df2_aux.groupby('Nombres')['Kilos rescatados'].agg(['sum'])\n",
    "    \n",
    "\n",
    "# some adjustments to the updatemenus\n",
    "updatemenu = []\n",
    "your_menu = dict()\n",
    "updatemenu.append(your_menu)\n",
    "\n",
    "updatemenu[0]['buttons'] = buttons\n",
    "updatemenu[0]['direction'] = 'down'\n",
    "updatemenu[0]['showactive'] = True\n",
    "\n",
    "# add dropdown menus to the figure\n",
    "fig.update_layout(showlegend=False, updatemenus=updatemenu)\n",
    "fig.show()"
   ]
  },
  {
   "cell_type": "code",
   "execution_count": null,
   "id": "b1ef70a9",
   "metadata": {},
   "outputs": [],
   "source": []
  },
  {
   "cell_type": "code",
   "execution_count": 25,
   "id": "75c1e2b8",
   "metadata": {},
   "outputs": [
    {
     "name": "stdout",
     "output_type": "stream",
     "text": [
      "The required call result : Jesus\n"
     ]
    }
   ],
   "source": [
    "# call Gfg fnc \n",
    "def print_key1(hola):\n",
    "    return hola\n",
    "\n",
    "cliente = 'Jesus'\n",
    "  \n",
    "# initializing dictionary\n",
    "# check for function name as key\n",
    "test_dict = {\"OMIE\": print_key1, \"is\" : 5, \"best\" : 9}\n",
    "  \n",
    "# calling function using brackets \n",
    "res = test_dict['OMIE'](cliente)\n",
    "  \n",
    "# printing result \n",
    "print(\"The required call result : \" + str(res)) "
   ]
  },
  {
   "cell_type": "code",
   "execution_count": null,
   "id": "6b45ceac",
   "metadata": {},
   "outputs": [],
   "source": []
  }
 ],
 "metadata": {
  "kernelspec": {
   "display_name": "Python 3 (ipykernel)",
   "language": "python",
   "name": "python3"
  },
  "language_info": {
   "codemirror_mode": {
    "name": "ipython",
    "version": 3
   },
   "file_extension": ".py",
   "mimetype": "text/x-python",
   "name": "python",
   "nbconvert_exporter": "python",
   "pygments_lexer": "ipython3",
   "version": "3.8.10"
  }
 },
 "nbformat": 4,
 "nbformat_minor": 5
}
